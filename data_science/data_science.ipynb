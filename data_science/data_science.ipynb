{
 "cells": [
  {
   "cell_type": "code",
   "execution_count": 1,
   "metadata": {},
   "outputs": [],
   "source": [
    "import numpy as np\n",
    "import pandas as pd\n",
    "\n",
    "from collections import Counter\n",
    "from math import sqrt\n",
    "from sklearn.preprocessing import LabelEncoder\n",
    "\n",
    "from sklearn.decomposition import PCA\n",
    "\n",
    "from sklearn.model_selection import train_test_split\n",
    "from sklearn.model_selection import GridSearchCV\n",
    "\n",
    "from sklearn.neighbors import KNeighborsClassifier\n",
    "from sklearn.svm import LinearSVC\n",
    "from sklearn.ensemble import RandomForestClassifier\n",
    "from statsmodels.api import OLS\n",
    "from sklearn.linear_model import LinearRegression\n",
    "from sklearn.linear_model import RidgeClassifier\n",
    "from sklearn.linear_model import Ridge\n",
    "\n",
    "from sklearn.metrics import mean_absolute_error as mae\n",
    "from sklearn.metrics import mean_squared_error as mse\n",
    "from sklearn.metrics import accuracy_score \n",
    "from sklearn.metrics import confusion_matrix\n",
    "from sklearn.metrics import plot_confusion_matrix\n",
    "from sklearn.metrics import f1_score\n",
    "from sklearn.metrics import r2_score as r2\n",
    "\n",
    "import matplotlib.pyplot as plt\n",
    "import seaborn as sns\n",
    "from prettytable import PrettyTable"
   ]
  },
  {
   "cell_type": "markdown",
   "metadata": {},
   "source": [
    "### 1. Dataset Overview"
   ]
  },
  {
   "cell_type": "code",
   "execution_count": 2,
   "metadata": {},
   "outputs": [],
   "source": [
    "# import dataset and 2 other files that will help us preprocess the dataset\n",
    "dataset = pd.DataFrame(pd.read_csv(\"speeddating.csv\", low_memory=False))\n",
    "\n",
    "to_encode = np.array(pd.read_csv('to_encode.csv')).squeeze()\n",
    "to_interpolate = np.array(pd.read_csv('to_interpolate.csv')).squeeze()"
   ]
  },
  {
   "cell_type": "code",
   "execution_count": 3,
   "metadata": {},
   "outputs": [
    {
     "data": {
      "text/html": [
       "<div>\n",
       "<style scoped>\n",
       "    .dataframe tbody tr th:only-of-type {\n",
       "        vertical-align: middle;\n",
       "    }\n",
       "\n",
       "    .dataframe tbody tr th {\n",
       "        vertical-align: top;\n",
       "    }\n",
       "\n",
       "    .dataframe thead th {\n",
       "        text-align: right;\n",
       "    }\n",
       "</style>\n",
       "<table border=\"1\" class=\"dataframe\">\n",
       "  <thead>\n",
       "    <tr style=\"text-align: right;\">\n",
       "      <th></th>\n",
       "      <th>has_null</th>\n",
       "      <th>wave</th>\n",
       "      <th>gender</th>\n",
       "      <th>age</th>\n",
       "      <th>age_o</th>\n",
       "      <th>d_age</th>\n",
       "      <th>d_d_age</th>\n",
       "      <th>race</th>\n",
       "      <th>race_o</th>\n",
       "      <th>samerace</th>\n",
       "      <th>...</th>\n",
       "      <th>d_expected_num_interested_in_me</th>\n",
       "      <th>d_expected_num_matches</th>\n",
       "      <th>like</th>\n",
       "      <th>guess_prob_liked</th>\n",
       "      <th>d_like</th>\n",
       "      <th>d_guess_prob_liked</th>\n",
       "      <th>met</th>\n",
       "      <th>decision</th>\n",
       "      <th>decision_o</th>\n",
       "      <th>match</th>\n",
       "    </tr>\n",
       "  </thead>\n",
       "  <tbody>\n",
       "    <tr>\n",
       "      <th>0</th>\n",
       "      <td>0</td>\n",
       "      <td>1</td>\n",
       "      <td>female</td>\n",
       "      <td>21</td>\n",
       "      <td>27</td>\n",
       "      <td>6</td>\n",
       "      <td>[4-6]</td>\n",
       "      <td>'Asian/Pacific Islander/Asian-American'</td>\n",
       "      <td>European/Caucasian-American</td>\n",
       "      <td>0</td>\n",
       "      <td>...</td>\n",
       "      <td>[0-3]</td>\n",
       "      <td>[3-5]</td>\n",
       "      <td>7</td>\n",
       "      <td>6</td>\n",
       "      <td>[6-8]</td>\n",
       "      <td>[5-6]</td>\n",
       "      <td>0</td>\n",
       "      <td>1</td>\n",
       "      <td>0</td>\n",
       "      <td>0</td>\n",
       "    </tr>\n",
       "    <tr>\n",
       "      <th>1</th>\n",
       "      <td>0</td>\n",
       "      <td>1</td>\n",
       "      <td>female</td>\n",
       "      <td>21</td>\n",
       "      <td>22</td>\n",
       "      <td>1</td>\n",
       "      <td>[0-1]</td>\n",
       "      <td>'Asian/Pacific Islander/Asian-American'</td>\n",
       "      <td>European/Caucasian-American</td>\n",
       "      <td>0</td>\n",
       "      <td>...</td>\n",
       "      <td>[0-3]</td>\n",
       "      <td>[3-5]</td>\n",
       "      <td>7</td>\n",
       "      <td>5</td>\n",
       "      <td>[6-8]</td>\n",
       "      <td>[5-6]</td>\n",
       "      <td>1</td>\n",
       "      <td>1</td>\n",
       "      <td>0</td>\n",
       "      <td>0</td>\n",
       "    </tr>\n",
       "    <tr>\n",
       "      <th>2</th>\n",
       "      <td>1</td>\n",
       "      <td>1</td>\n",
       "      <td>female</td>\n",
       "      <td>21</td>\n",
       "      <td>22</td>\n",
       "      <td>1</td>\n",
       "      <td>[0-1]</td>\n",
       "      <td>'Asian/Pacific Islander/Asian-American'</td>\n",
       "      <td>'Asian/Pacific Islander/Asian-American'</td>\n",
       "      <td>1</td>\n",
       "      <td>...</td>\n",
       "      <td>[0-3]</td>\n",
       "      <td>[3-5]</td>\n",
       "      <td>7</td>\n",
       "      <td>?</td>\n",
       "      <td>[6-8]</td>\n",
       "      <td>[0-4]</td>\n",
       "      <td>1</td>\n",
       "      <td>1</td>\n",
       "      <td>1</td>\n",
       "      <td>1</td>\n",
       "    </tr>\n",
       "    <tr>\n",
       "      <th>3</th>\n",
       "      <td>0</td>\n",
       "      <td>1</td>\n",
       "      <td>female</td>\n",
       "      <td>21</td>\n",
       "      <td>23</td>\n",
       "      <td>2</td>\n",
       "      <td>[2-3]</td>\n",
       "      <td>'Asian/Pacific Islander/Asian-American'</td>\n",
       "      <td>European/Caucasian-American</td>\n",
       "      <td>0</td>\n",
       "      <td>...</td>\n",
       "      <td>[0-3]</td>\n",
       "      <td>[3-5]</td>\n",
       "      <td>7</td>\n",
       "      <td>6</td>\n",
       "      <td>[6-8]</td>\n",
       "      <td>[5-6]</td>\n",
       "      <td>0</td>\n",
       "      <td>1</td>\n",
       "      <td>1</td>\n",
       "      <td>1</td>\n",
       "    </tr>\n",
       "    <tr>\n",
       "      <th>4</th>\n",
       "      <td>0</td>\n",
       "      <td>1</td>\n",
       "      <td>female</td>\n",
       "      <td>21</td>\n",
       "      <td>24</td>\n",
       "      <td>3</td>\n",
       "      <td>[2-3]</td>\n",
       "      <td>'Asian/Pacific Islander/Asian-American'</td>\n",
       "      <td>'Latino/Hispanic American'</td>\n",
       "      <td>0</td>\n",
       "      <td>...</td>\n",
       "      <td>[0-3]</td>\n",
       "      <td>[3-5]</td>\n",
       "      <td>6</td>\n",
       "      <td>6</td>\n",
       "      <td>[6-8]</td>\n",
       "      <td>[5-6]</td>\n",
       "      <td>0</td>\n",
       "      <td>1</td>\n",
       "      <td>1</td>\n",
       "      <td>1</td>\n",
       "    </tr>\n",
       "  </tbody>\n",
       "</table>\n",
       "<p>5 rows × 123 columns</p>\n",
       "</div>"
      ],
      "text/plain": [
       "   has_null  wave  gender age age_o  d_age d_d_age  \\\n",
       "0         0     1  female  21    27      6   [4-6]   \n",
       "1         0     1  female  21    22      1   [0-1]   \n",
       "2         1     1  female  21    22      1   [0-1]   \n",
       "3         0     1  female  21    23      2   [2-3]   \n",
       "4         0     1  female  21    24      3   [2-3]   \n",
       "\n",
       "                                      race  \\\n",
       "0  'Asian/Pacific Islander/Asian-American'   \n",
       "1  'Asian/Pacific Islander/Asian-American'   \n",
       "2  'Asian/Pacific Islander/Asian-American'   \n",
       "3  'Asian/Pacific Islander/Asian-American'   \n",
       "4  'Asian/Pacific Islander/Asian-American'   \n",
       "\n",
       "                                    race_o  samerace  ...  \\\n",
       "0              European/Caucasian-American         0  ...   \n",
       "1              European/Caucasian-American         0  ...   \n",
       "2  'Asian/Pacific Islander/Asian-American'         1  ...   \n",
       "3              European/Caucasian-American         0  ...   \n",
       "4               'Latino/Hispanic American'         0  ...   \n",
       "\n",
       "  d_expected_num_interested_in_me d_expected_num_matches like  \\\n",
       "0                           [0-3]                  [3-5]    7   \n",
       "1                           [0-3]                  [3-5]    7   \n",
       "2                           [0-3]                  [3-5]    7   \n",
       "3                           [0-3]                  [3-5]    7   \n",
       "4                           [0-3]                  [3-5]    6   \n",
       "\n",
       "  guess_prob_liked d_like d_guess_prob_liked met decision decision_o match  \n",
       "0                6  [6-8]              [5-6]   0        1          0     0  \n",
       "1                5  [6-8]              [5-6]   1        1          0     0  \n",
       "2                ?  [6-8]              [0-4]   1        1          1     1  \n",
       "3                6  [6-8]              [5-6]   0        1          1     1  \n",
       "4                6  [6-8]              [5-6]   0        1          1     1  \n",
       "\n",
       "[5 rows x 123 columns]"
      ]
     },
     "execution_count": 3,
     "metadata": {},
     "output_type": "execute_result"
    }
   ],
   "source": [
    "dataset.head()"
   ]
  },
  {
   "cell_type": "code",
   "execution_count": 4,
   "metadata": {},
   "outputs": [
    {
     "name": "stdout",
     "output_type": "stream",
     "text": [
      "The dataset containes 8378 rows described by 123 attributes.\n"
     ]
    }
   ],
   "source": [
    "print('The dataset containes {} rows described by {} attributes.'.format(dataset.shape[0], dataset.shape[1]))"
   ]
  },
  {
   "cell_type": "code",
   "execution_count": 5,
   "metadata": {},
   "outputs": [
    {
     "name": "stdout",
     "output_type": "stream",
     "text": [
      "has_null     int64\n",
      "wave         int64\n",
      "gender      object\n",
      "age         object\n",
      "age_o       object\n",
      "d_age        int64\n",
      "d_d_age     object\n",
      "race        object\n",
      "race_o      object\n",
      "samerace     int64\n",
      "dtype: object\n"
     ]
    }
   ],
   "source": [
    "print(dataset.dtypes[:10])"
   ]
  },
  {
   "cell_type": "markdown",
   "metadata": {},
   "source": [
    "### Dataset Preprocessing"
   ]
  },
  {
   "cell_type": "code",
   "execution_count": 6,
   "metadata": {},
   "outputs": [],
   "source": [
    "# method to handle missing_values\n",
    "def interpolate_missing_values(df_col, method='pad'):\n",
    "        dataset[df_col].interpolate(method, inplace=True)\n",
    "        dataset[df_col] = dataset[df_col].astype(np.float)"
   ]
  },
  {
   "cell_type": "code",
   "execution_count": 7,
   "metadata": {},
   "outputs": [],
   "source": [
    "# method to encode the categorical features\n",
    "def simple_encoder(col_name):\n",
    "    simple_encoder = LabelEncoder()\n",
    "    \n",
    "    if dataset[col_name].isnull().values.any():\n",
    "        dataset[col_name][dataset[col_name].isnull() == False] = simple_encoder.fit_transform(dataset[col_name][dataset[col_name].isnull() == False])\n",
    "    else:\n",
    "        dataset[col_name] = simple_encoder.fit_transform(dataset[col_name])\n",
    "        \n",
    "    return simple_encoder.classes_"
   ]
  },
  {
   "cell_type": "code",
   "execution_count": 8,
   "metadata": {},
   "outputs": [],
   "source": [
    "# missing values are marked as '?' in this dataset so first we need to\n",
    "# convert them to NaN, to be more 'visible'\n",
    "dataset.replace('?', np.nan, inplace=True)"
   ]
  },
  {
   "cell_type": "code",
   "execution_count": 9,
   "metadata": {},
   "outputs": [
    {
     "name": "stdout",
     "output_type": "stream",
     "text": [
      "Missing Values in Target:  False\n",
      "Check Balance:\n",
      "Class 0 - 6998\n",
      "Class 1 - 1380\n"
     ]
    }
   ],
   "source": [
    "# extract the column named 'match' which is our target\n",
    "labels = dataset.match\n",
    "\n",
    "print(\"Missing Values in Target: \", labels.isnull().values.any())\n",
    "print(\"Check Balance:\\nClass 0 - {}\\nClass 1 - {}\".format(Counter(labels)[0], Counter(labels)[1]))"
   ]
  },
  {
   "cell_type": "code",
   "execution_count": 10,
   "metadata": {},
   "outputs": [],
   "source": [
    "# drop columns 'decision' and 'decision_o' (as said in the paper)\n",
    "dataset.drop(['match', 'decision', 'decision_o'], axis=1, inplace=True)"
   ]
  },
  {
   "cell_type": "code",
   "execution_count": 11,
   "metadata": {},
   "outputs": [
    {
     "name": "stderr",
     "output_type": "stream",
     "text": [
      "/home/marina/.local/lib/python3.7/site-packages/ipykernel_launcher.py:6: SettingWithCopyWarning: \n",
      "A value is trying to be set on a copy of a slice from a DataFrame\n",
      "\n",
      "See the caveats in the documentation: http://pandas.pydata.org/pandas-docs/stable/indexing.html#indexing-view-versus-copy\n",
      "  \n"
     ]
    }
   ],
   "source": [
    "# encode categorical features\n",
    "cls = []\n",
    "\n",
    "for el in to_encode:\n",
    "    if el in ['race', 'gender']:\n",
    "        cls.append(simple_encoder(el))\n",
    "    else:\n",
    "        simple_encoder(el)"
   ]
  },
  {
   "cell_type": "code",
   "execution_count": 12,
   "metadata": {},
   "outputs": [],
   "source": [
    "# interpolate missing values\n",
    "for el in to_interpolate:\n",
    "    interpolate_missing_values(el)"
   ]
  },
  {
   "cell_type": "code",
   "execution_count": 13,
   "metadata": {},
   "outputs": [
    {
     "name": "stdout",
     "output_type": "stream",
     "text": [
      "Shape: (8378, 120) - same number of rows\n",
      "Check dtypes of columns to make sure they are now numerical features:\n",
      " Counter({dtype('int64'): 60, dtype('float64'): 60})\n",
      "Missing values:  False\n"
     ]
    },
    {
     "data": {
      "text/html": [
       "<div>\n",
       "<style scoped>\n",
       "    .dataframe tbody tr th:only-of-type {\n",
       "        vertical-align: middle;\n",
       "    }\n",
       "\n",
       "    .dataframe tbody tr th {\n",
       "        vertical-align: top;\n",
       "    }\n",
       "\n",
       "    .dataframe thead th {\n",
       "        text-align: right;\n",
       "    }\n",
       "</style>\n",
       "<table border=\"1\" class=\"dataframe\">\n",
       "  <thead>\n",
       "    <tr style=\"text-align: right;\">\n",
       "      <th></th>\n",
       "      <th>has_null</th>\n",
       "      <th>wave</th>\n",
       "      <th>gender</th>\n",
       "      <th>age</th>\n",
       "      <th>age_o</th>\n",
       "      <th>d_age</th>\n",
       "      <th>d_d_age</th>\n",
       "      <th>race</th>\n",
       "      <th>race_o</th>\n",
       "      <th>samerace</th>\n",
       "      <th>...</th>\n",
       "      <th>expected_num_interested_in_me</th>\n",
       "      <th>expected_num_matches</th>\n",
       "      <th>d_expected_happy_with_sd_people</th>\n",
       "      <th>d_expected_num_interested_in_me</th>\n",
       "      <th>d_expected_num_matches</th>\n",
       "      <th>like</th>\n",
       "      <th>guess_prob_liked</th>\n",
       "      <th>d_like</th>\n",
       "      <th>d_guess_prob_liked</th>\n",
       "      <th>met</th>\n",
       "    </tr>\n",
       "  </thead>\n",
       "  <tbody>\n",
       "    <tr>\n",
       "      <th>0</th>\n",
       "      <td>0</td>\n",
       "      <td>1</td>\n",
       "      <td>0</td>\n",
       "      <td>21.0</td>\n",
       "      <td>27.0</td>\n",
       "      <td>6</td>\n",
       "      <td>2</td>\n",
       "      <td>0.0</td>\n",
       "      <td>3.0</td>\n",
       "      <td>0</td>\n",
       "      <td>...</td>\n",
       "      <td>2.0</td>\n",
       "      <td>4.0</td>\n",
       "      <td>0</td>\n",
       "      <td>0</td>\n",
       "      <td>1</td>\n",
       "      <td>7.0</td>\n",
       "      <td>6.0</td>\n",
       "      <td>1</td>\n",
       "      <td>1</td>\n",
       "      <td>0.0</td>\n",
       "    </tr>\n",
       "    <tr>\n",
       "      <th>1</th>\n",
       "      <td>0</td>\n",
       "      <td>1</td>\n",
       "      <td>0</td>\n",
       "      <td>21.0</td>\n",
       "      <td>22.0</td>\n",
       "      <td>1</td>\n",
       "      <td>0</td>\n",
       "      <td>0.0</td>\n",
       "      <td>3.0</td>\n",
       "      <td>0</td>\n",
       "      <td>...</td>\n",
       "      <td>2.0</td>\n",
       "      <td>4.0</td>\n",
       "      <td>0</td>\n",
       "      <td>0</td>\n",
       "      <td>1</td>\n",
       "      <td>7.0</td>\n",
       "      <td>5.0</td>\n",
       "      <td>1</td>\n",
       "      <td>1</td>\n",
       "      <td>1.0</td>\n",
       "    </tr>\n",
       "    <tr>\n",
       "      <th>2</th>\n",
       "      <td>1</td>\n",
       "      <td>1</td>\n",
       "      <td>0</td>\n",
       "      <td>21.0</td>\n",
       "      <td>22.0</td>\n",
       "      <td>1</td>\n",
       "      <td>0</td>\n",
       "      <td>0.0</td>\n",
       "      <td>0.0</td>\n",
       "      <td>1</td>\n",
       "      <td>...</td>\n",
       "      <td>2.0</td>\n",
       "      <td>4.0</td>\n",
       "      <td>0</td>\n",
       "      <td>0</td>\n",
       "      <td>1</td>\n",
       "      <td>7.0</td>\n",
       "      <td>5.0</td>\n",
       "      <td>1</td>\n",
       "      <td>0</td>\n",
       "      <td>1.0</td>\n",
       "    </tr>\n",
       "    <tr>\n",
       "      <th>3</th>\n",
       "      <td>0</td>\n",
       "      <td>1</td>\n",
       "      <td>0</td>\n",
       "      <td>21.0</td>\n",
       "      <td>23.0</td>\n",
       "      <td>2</td>\n",
       "      <td>1</td>\n",
       "      <td>0.0</td>\n",
       "      <td>3.0</td>\n",
       "      <td>0</td>\n",
       "      <td>...</td>\n",
       "      <td>2.0</td>\n",
       "      <td>4.0</td>\n",
       "      <td>0</td>\n",
       "      <td>0</td>\n",
       "      <td>1</td>\n",
       "      <td>7.0</td>\n",
       "      <td>6.0</td>\n",
       "      <td>1</td>\n",
       "      <td>1</td>\n",
       "      <td>0.0</td>\n",
       "    </tr>\n",
       "    <tr>\n",
       "      <th>4</th>\n",
       "      <td>0</td>\n",
       "      <td>1</td>\n",
       "      <td>0</td>\n",
       "      <td>21.0</td>\n",
       "      <td>24.0</td>\n",
       "      <td>3</td>\n",
       "      <td>1</td>\n",
       "      <td>0.0</td>\n",
       "      <td>2.0</td>\n",
       "      <td>0</td>\n",
       "      <td>...</td>\n",
       "      <td>2.0</td>\n",
       "      <td>4.0</td>\n",
       "      <td>0</td>\n",
       "      <td>0</td>\n",
       "      <td>1</td>\n",
       "      <td>6.0</td>\n",
       "      <td>6.0</td>\n",
       "      <td>1</td>\n",
       "      <td>1</td>\n",
       "      <td>0.0</td>\n",
       "    </tr>\n",
       "  </tbody>\n",
       "</table>\n",
       "<p>5 rows × 120 columns</p>\n",
       "</div>"
      ],
      "text/plain": [
       "   has_null  wave  gender   age  age_o  d_age  d_d_age  race  race_o  \\\n",
       "0         0     1       0  21.0   27.0      6        2   0.0     3.0   \n",
       "1         0     1       0  21.0   22.0      1        0   0.0     3.0   \n",
       "2         1     1       0  21.0   22.0      1        0   0.0     0.0   \n",
       "3         0     1       0  21.0   23.0      2        1   0.0     3.0   \n",
       "4         0     1       0  21.0   24.0      3        1   0.0     2.0   \n",
       "\n",
       "   samerace  ...  expected_num_interested_in_me  expected_num_matches  \\\n",
       "0         0  ...                            2.0                   4.0   \n",
       "1         0  ...                            2.0                   4.0   \n",
       "2         1  ...                            2.0                   4.0   \n",
       "3         0  ...                            2.0                   4.0   \n",
       "4         0  ...                            2.0                   4.0   \n",
       "\n",
       "   d_expected_happy_with_sd_people  d_expected_num_interested_in_me  \\\n",
       "0                                0                                0   \n",
       "1                                0                                0   \n",
       "2                                0                                0   \n",
       "3                                0                                0   \n",
       "4                                0                                0   \n",
       "\n",
       "   d_expected_num_matches  like  guess_prob_liked  d_like  d_guess_prob_liked  \\\n",
       "0                       1   7.0               6.0       1                   1   \n",
       "1                       1   7.0               5.0       1                   1   \n",
       "2                       1   7.0               5.0       1                   0   \n",
       "3                       1   7.0               6.0       1                   1   \n",
       "4                       1   6.0               6.0       1                   1   \n",
       "\n",
       "   met  \n",
       "0  0.0  \n",
       "1  1.0  \n",
       "2  1.0  \n",
       "3  0.0  \n",
       "4  0.0  \n",
       "\n",
       "[5 rows x 120 columns]"
      ]
     },
     "execution_count": 13,
     "metadata": {},
     "output_type": "execute_result"
    }
   ],
   "source": [
    "# overview after preprocessing\n",
    "print('Shape: {} - same number of rows'.format(dataset.shape))\n",
    "print('Check dtypes of columns to make sure they are now numerical features:\\n', Counter(dataset.dtypes))\n",
    "print('Missing values: ', dataset.isnull().values.any())\n",
    "dataset.head()"
   ]
  },
  {
   "cell_type": "markdown",
   "metadata": {},
   "source": [
    "### 3. Advanced Dataset Overview"
   ]
  },
  {
   "cell_type": "code",
   "execution_count": 14,
   "metadata": {},
   "outputs": [
    {
     "data": {
      "text/plain": [
       "array(['Asian', 'Black', 'Latino', 'European', 'Other'], dtype=object)"
      ]
     },
     "execution_count": 14,
     "metadata": {},
     "output_type": "execute_result"
    }
   ],
   "source": [
    "cls[1][0:3] = [cls[1][i].partition('/')[0][1:] for i in range(3)]\n",
    "cls[1][3:5] = [cls[1][i].partition('/')[0] for i in range(3, 5)]\n",
    "cls[1]"
   ]
  },
  {
   "cell_type": "code",
   "execution_count": 15,
   "metadata": {},
   "outputs": [
    {
     "data": {
      "image/png": "[encoded data removed]",
      "text/plain": [
       "<Figure size 432x288 with 1 Axes>"
      ]
     },
     "metadata": {
      "needs_background": "light"
     },
     "output_type": "display_data"
    }
   ],
   "source": [
    "# Race Distribution\n",
    "sns.distplot(dataset.race.append(dataset.race_o), bins=5, kde=False,\n",
    "            hist_kws={'edgecolor':'black'}, axlabel='Race')\n",
    "plt.ylabel('Number of persons')\n",
    "plt.xticks(ticks=[0, 1, 2, 3, 4], labels=cls[1], rotation=-20, size=15)\n",
    "\n",
    "plt.show()"
   ]
  },
  {
   "cell_type": "code",
   "execution_count": 16,
   "metadata": {},
   "outputs": [
    {
     "name": "stdout",
     "output_type": "stream",
     "text": [
      "[24. 28.]\n"
     ]
    },
    {
     "data": {
      "image/png": "[encoded data removed]",
      "text/plain": [
       "<Figure size 432x288 with 1 Axes>"
      ]
     },
     "metadata": {
      "needs_background": "light"
     },
     "output_type": "display_data"
    }
   ],
   "source": [
    "# Age Distribution\n",
    "sns.kdeplot(dataset.age.append(dataset.age_o), shade=True, color='lightcoral')\n",
    "\n",
    "plt.xlabel('Age')\n",
    "xposition = np.percentile(dataset.age.append(dataset.age_o), [25, 75])\n",
    "print(xposition)\n",
    "for idx, xc in enumerate(xposition):\n",
    "    plt.axvline(x=xc, color='r', linestyle='--', label='Q{}'.format(idx+1))\n",
    "    \n",
    "plt.legend()\n",
    "plt.show()\n"
   ]
  },
  {
   "cell_type": "code",
   "execution_count": 17,
   "metadata": {},
   "outputs": [
    {
     "data": {
      "text/plain": [
       "['female: 4184', 'male: 4194']"
      ]
     },
     "execution_count": 17,
     "metadata": {},
     "output_type": "execute_result"
    }
   ],
   "source": [
    "cls[0] = [cls[0][i] + ': ' + str(Counter(dataset.gender)[i]) for i in range(2)]\n",
    "cls[0]"
   ]
  },
  {
   "cell_type": "code",
   "execution_count": 18,
   "metadata": {},
   "outputs": [
    {
     "data": {
      "image/png": "[encoded data removed]",
      "text/plain": [
       "<Figure size 432x288 with 1 Axes>"
      ]
     },
     "metadata": {
      "needs_background": "light"
     },
     "output_type": "display_data"
    }
   ],
   "source": [
    "# Gender Distribution\n",
    "sns.distplot(dataset.gender, bins=2, kde=False, hist_kws={'edgecolor':'black'}, axlabel='Gender', color='seagreen')\n",
    "plt.xticks(ticks=[0, 1], labels=cls[0], size=15)\n",
    "plt.ylabel('Number of persons')\n",
    "\n",
    "plt.show()"
   ]
  },
  {
   "cell_type": "code",
   "execution_count": 19,
   "metadata": {},
   "outputs": [
    {
     "data": {
      "image/png": "[encoded data removed]",
      "text/plain": [
       "<Figure size 432x288 with 1 Axes>"
      ]
     },
     "metadata": {
      "needs_background": "light"
     },
     "output_type": "display_data"
    }
   ],
   "source": [
    "# Age Differance\n",
    "sns.distplot(dataset.d_age)\n",
    "\n",
    "plt.xlabel('Age')\n",
    "xposition = np.percentile(dataset.d_age, [25, 75])\n",
    "\n",
    "for idx, xc in enumerate(xposition):\n",
    "    plt.axvline(x=xc, color='r', linestyle='--', label='Q{}'.format(idx+1))\n",
    "\n",
    "plt.legend()\n",
    "plt.show()"
   ]
  },
  {
   "cell_type": "code",
   "execution_count": 20,
   "metadata": {
    "scrolled": true
   },
   "outputs": [
    {
     "data": {
      "image/png": "[encoded data removed]",
      "text/plain": [
       "<Figure size 432x288 with 2 Axes>"
      ]
     },
     "metadata": {
      "needs_background": "light"
     },
     "output_type": "display_data"
    }
   ],
   "source": [
    "# How much likeness influnce decision\n",
    "fig, ax =plt.subplots(2,1)\n",
    "sns.distplot(dataset.like[labels ==0 ], bins=10, kde=False,\n",
    "             hist_kws={'edgecolor':'black', 'color':'b'}, \n",
    "             axlabel='Like', label='Didn\\'t matched', ax=ax[0])\n",
    "sns.distplot(dataset.like[labels ==1 ], bins=10, kde=False,\n",
    "             hist_kws={'edgecolor':'black', 'color':'g'}, \n",
    "             axlabel='Like', label='Matched', ax=ax[0])\n",
    "\n",
    "sns.distplot(dataset.like[labels ==0 ], bins=10, hist=False,\n",
    "             kde_kws={ 'color':'b'}, axlabel='Like', label='Didn\\'t matched', ax=ax[1])\n",
    "sns.distplot(dataset.like[labels ==1 ], bins=10, hist=False,\n",
    "             kde_kws={'color':'g'}, axlabel='Like', label='Matched', ax=ax[1])\n",
    "plt.legend()\n",
    "plt.show()\n"
   ]
  },
  {
   "cell_type": "code",
   "execution_count": 21,
   "metadata": {},
   "outputs": [
    {
     "data": {
      "image/png": "[encoded data removed]",
      "text/plain": [
       "<Figure size 432x288 with 1 Axes>"
      ]
     },
     "metadata": {
      "needs_background": "light"
     },
     "output_type": "display_data"
    }
   ],
   "source": [
    "# How age differance influence decision\n",
    "sns.distplot(dataset.d_age[labels ==0 ],  kde=False,\n",
    "             hist_kws={'edgecolor':'black', 'color':'b'}, \n",
    "             axlabel='Like', label='Didn\\'t matched')\n",
    "sns.distplot(dataset.d_age[labels ==1 ],  kde=False,\n",
    "             hist_kws={'edgecolor':'black', 'color':'r'}, \n",
    "             axlabel='Age Differance', label='Matched')\n",
    "plt.legend()\n",
    "plt.show()"
   ]
  },
  {
   "cell_type": "code",
   "execution_count": 22,
   "metadata": {},
   "outputs": [
    {
     "data": {
      "image/png": "[encoded data removed]",
      "text/plain": [
       "<Figure size 432x288 with 1 Axes>"
      ]
     },
     "metadata": {
      "needs_background": "light"
     },
     "output_type": "display_data"
    }
   ],
   "source": [
    "# How the correlation between interest influences decision\n",
    "no_match = dataset.interests_correlate[labels ==0 ]\n",
    "match = dataset.interests_correlate[labels ==1 ]\n",
    "\n",
    "sns.kdeplot(no_match, shade=True, label='Didn\\'t matched')\n",
    "sns.kdeplot(match, shade=True, label='Matched')\n",
    "plt.xlabel(xlabel='Interestes Correlation')\n",
    "plt.legend()\n",
    "plt.show()"
   ]
  },
  {
   "cell_type": "markdown",
   "metadata": {},
   "source": [
    "### 4. Feature Selection Methods \n",
    "\n",
    "#### 4.1. Forward Stepwise Selection "
   ]
  },
  {
   "cell_type": "code",
   "execution_count": 23,
   "metadata": {},
   "outputs": [],
   "source": [
    "def train_subset(feature_set=None, ds=None, dataset_b=False):\n",
    "    # fit model on feature_set and compute RSS and MAE\n",
    "    if dataset_b:\n",
    "        data = ds\n",
    "    else:\n",
    "#         print(dataset)\n",
    "        data = dataset[list(feature_set)]\n",
    "        \n",
    "    model = OLS(labels, data).fit()\n",
    "    # OLS comes from Ordinary Least Squares\n",
    "    prediction = model.predict(data)\n",
    "    rss = np.sum((prediction - labels) ** 2)\n",
    "    mae_score = mae(labels, prediction)\n",
    "    \n",
    "    return {'model': model, 'RSS': rss, 'MAE': mae_score}"
   ]
  },
  {
   "cell_type": "code",
   "execution_count": 24,
   "metadata": {},
   "outputs": [],
   "source": [
    "def forward(predictors):\n",
    "    \n",
    "    remaining_predictors = [p for p in dataset.columns if p not in predictors]\n",
    "    results = []\n",
    "    \n",
    "    for predictor in remaining_predictors:\n",
    "        results.append(train_subset(feature_set=predictors+[predictor]))\n",
    "    \n",
    "    models = pd.DataFrame(results)\n",
    "    \n",
    "    # choose the model with the lowest RSS\n",
    "    best_model = models.loc[np.argmin(np.array(models.RSS))]\n",
    "    \n",
    "    print(\"Processed \", models.shape[0], \"models on\", len(predictors)+1, 'predictors')\n",
    "    \n",
    "    return best_model"
   ]
  },
  {
   "cell_type": "code",
   "execution_count": 25,
   "metadata": {},
   "outputs": [
    {
     "name": "stdout",
     "output_type": "stream",
     "text": [
      "Processed  120 models on 1 predictors\n",
      "Processed  119 models on 2 predictors\n",
      "Processed  118 models on 3 predictors\n",
      "Processed  117 models on 4 predictors\n",
      "Processed  116 models on 5 predictors\n",
      "Processed  115 models on 6 predictors\n",
      "Processed  114 models on 7 predictors\n",
      "Processed  113 models on 8 predictors\n",
      "Processed  112 models on 9 predictors\n",
      "Processed  111 models on 10 predictors\n",
      "Processed  110 models on 11 predictors\n",
      "Processed  109 models on 12 predictors\n",
      "Processed  108 models on 13 predictors\n",
      "Processed  107 models on 14 predictors\n",
      "Processed  106 models on 15 predictors\n",
      "Processed  105 models on 16 predictors\n",
      "Processed  104 models on 17 predictors\n",
      "Processed  103 models on 18 predictors\n",
      "Processed  102 models on 19 predictors\n",
      "Processed  101 models on 20 predictors\n",
      "Processed  100 models on 21 predictors\n",
      "Processed  99 models on 22 predictors\n",
      "Processed  98 models on 23 predictors\n",
      "Processed  97 models on 24 predictors\n",
      "Processed  96 models on 25 predictors\n",
      "Processed  95 models on 26 predictors\n",
      "Processed  94 models on 27 predictors\n",
      "Processed  93 models on 28 predictors\n",
      "Processed  92 models on 29 predictors\n",
      "Processed  91 models on 30 predictors\n",
      "Processed  90 models on 31 predictors\n",
      "Processed  89 models on 32 predictors\n",
      "Processed  88 models on 33 predictors\n",
      "Processed  87 models on 34 predictors\n",
      "Processed  86 models on 35 predictors\n",
      "Processed  85 models on 36 predictors\n",
      "Processed  84 models on 37 predictors\n",
      "Processed  83 models on 38 predictors\n",
      "Processed  82 models on 39 predictors\n",
      "Processed  81 models on 40 predictors\n",
      "Processed  80 models on 41 predictors\n",
      "Processed  79 models on 42 predictors\n",
      "Processed  78 models on 43 predictors\n",
      "Processed  77 models on 44 predictors\n",
      "Processed  76 models on 45 predictors\n",
      "Processed  75 models on 46 predictors\n",
      "Processed  74 models on 47 predictors\n",
      "Processed  73 models on 48 predictors\n",
      "Processed  72 models on 49 predictors\n",
      "Processed  71 models on 50 predictors\n",
      "Processed  70 models on 51 predictors\n",
      "Processed  69 models on 52 predictors\n",
      "Processed  68 models on 53 predictors\n",
      "Processed  67 models on 54 predictors\n",
      "Processed  66 models on 55 predictors\n",
      "Processed  65 models on 56 predictors\n",
      "Processed  64 models on 57 predictors\n",
      "Processed  63 models on 58 predictors\n",
      "Processed  62 models on 59 predictors\n",
      "Processed  61 models on 60 predictors\n",
      "Processed  60 models on 61 predictors\n",
      "Processed  59 models on 62 predictors\n",
      "Processed  58 models on 63 predictors\n",
      "Processed  57 models on 64 predictors\n",
      "Processed  56 models on 65 predictors\n",
      "Processed  55 models on 66 predictors\n",
      "Processed  54 models on 67 predictors\n",
      "Processed  53 models on 68 predictors\n",
      "Processed  52 models on 69 predictors\n",
      "Processed  51 models on 70 predictors\n",
      "Processed  50 models on 71 predictors\n",
      "Processed  49 models on 72 predictors\n",
      "Processed  48 models on 73 predictors\n",
      "Processed  47 models on 74 predictors\n",
      "Processed  46 models on 75 predictors\n",
      "Processed  45 models on 76 predictors\n",
      "Processed  44 models on 77 predictors\n",
      "Processed  43 models on 78 predictors\n",
      "Processed  42 models on 79 predictors\n",
      "Processed  41 models on 80 predictors\n",
      "Processed  40 models on 81 predictors\n",
      "Processed  39 models on 82 predictors\n",
      "Processed  38 models on 83 predictors\n",
      "Processed  37 models on 84 predictors\n",
      "Processed  36 models on 85 predictors\n",
      "Processed  35 models on 86 predictors\n",
      "Processed  34 models on 87 predictors\n",
      "Processed  33 models on 88 predictors\n",
      "Processed  32 models on 89 predictors\n",
      "Processed  31 models on 90 predictors\n",
      "Processed  30 models on 91 predictors\n",
      "Processed  29 models on 92 predictors\n",
      "Processed  28 models on 93 predictors\n",
      "Processed  27 models on 94 predictors\n",
      "Processed  26 models on 95 predictors\n",
      "Processed  25 models on 96 predictors\n",
      "Processed  24 models on 97 predictors\n",
      "Processed  23 models on 98 predictors\n",
      "Processed  22 models on 99 predictors\n",
      "Processed  21 models on 100 predictors\n",
      "Processed  20 models on 101 predictors\n",
      "Processed  19 models on 102 predictors\n",
      "Processed  18 models on 103 predictors\n",
      "Processed  17 models on 104 predictors\n",
      "Processed  16 models on 105 predictors\n",
      "Processed  15 models on 106 predictors\n",
      "Processed  14 models on 107 predictors\n",
      "Processed  13 models on 108 predictors\n",
      "Processed  12 models on 109 predictors\n",
      "Processed  11 models on 110 predictors\n",
      "Processed  10 models on 111 predictors\n",
      "Processed  9 models on 112 predictors\n",
      "Processed  8 models on 113 predictors\n",
      "Processed  7 models on 114 predictors\n",
      "Processed  6 models on 115 predictors\n",
      "Processed  5 models on 116 predictors\n",
      "Processed  4 models on 117 predictors\n",
      "Processed  3 models on 118 predictors\n",
      "Processed  2 models on 119 predictors\n",
      "Processed  1 models on 120 predictors\n"
     ]
    }
   ],
   "source": [
    "# start from 0 predictors\n",
    "predictors = []\n",
    "models_fwd = pd.DataFrame(columns=[\"RSS\", \"model\", 'MAE'])\n",
    "\n",
    "for i in range(1,len(dataset.columns)+1):\n",
    "    # choose best model with i predictors\n",
    "    models_fwd.loc[i] = forward(predictors)\n",
    "    # take the predictors from the previous model\n",
    "    predictors = models_fwd.loc[i][\"model\"].model.exog_names\n"
   ]
  },
  {
   "cell_type": "code",
   "execution_count": 26,
   "metadata": {},
   "outputs": [
    {
     "data": {
      "text/plain": [
       "[<matplotlib.lines.Line2D at 0x7f94461edb70>]"
      ]
     },
     "execution_count": 26,
     "metadata": {},
     "output_type": "execute_result"
    },
    {
     "data": {
      "image/png": "[encoded data removed]",
      "text/plain": [
       "<Figure size 432x288 with 1 Axes>"
      ]
     },
     "metadata": {
      "needs_background": "light"
     },
     "output_type": "display_data"
    }
   ],
   "source": [
    "# results for this method\n",
    "plt.plot(models_fwd.RSS)"
   ]
  },
  {
   "cell_type": "code",
   "execution_count": 27,
   "metadata": {
    "scrolled": true
   },
   "outputs": [
    {
     "data": {
      "text/plain": [
       "[<matplotlib.lines.Line2D at 0x7f944638d7f0>]"
      ]
     },
     "execution_count": 27,
     "metadata": {},
     "output_type": "execute_result"
    },
    {
     "data": {
      "image/png": "[encoded data removed]",
      "text/plain": [
       "<Figure size 432x288 with 1 Axes>"
      ]
     },
     "metadata": {
      "needs_background": "light"
     },
     "output_type": "display_data"
    }
   ],
   "source": [
    "plt.plot(models_fwd.MAE)"
   ]
  },
  {
   "cell_type": "code",
   "execution_count": 28,
   "metadata": {},
   "outputs": [
    {
     "name": "stdout",
     "output_type": "stream",
     "text": [
      "119\n",
      "0\n"
     ]
    }
   ],
   "source": [
    "print(np.argmin(np.array(models_fwd.RSS)))\n",
    "print(np.argmin(np.array(models_fwd.MAE)))"
   ]
  },
  {
   "cell_type": "markdown",
   "metadata": {},
   "source": [
    "#### 4.2. Backward Stepwise Selection"
   ]
  },
  {
   "cell_type": "code",
   "execution_count": 29,
   "metadata": {},
   "outputs": [],
   "source": [
    "def backward(predictors):\n",
    "    \n",
    "    results = []\n",
    "    \n",
    "    for predictor in predictors:\n",
    "        aux = list(predictors)\n",
    "        aux.remove(predictor)\n",
    "        results.append(train_subset(feature_set=aux))\n",
    "    \n",
    "    models = pd.DataFrame(results)\n",
    "    \n",
    "    # choose the model with the lowest RSS\n",
    "    best_model = models.loc[np.argmin(np.array(models['RSS']))]\n",
    "\n",
    "    print(\"Processed \", models.shape[0], \"models on\", len(predictors)-1, \"predictors\")\n",
    "    \n",
    "    return best_model"
   ]
  },
  {
   "cell_type": "code",
   "execution_count": 30,
   "metadata": {},
   "outputs": [
    {
     "name": "stdout",
     "output_type": "stream",
     "text": [
      "Processed  120 models on 119 predictors\n",
      "Processed  119 models on 118 predictors\n",
      "Processed  118 models on 117 predictors\n",
      "Processed  117 models on 116 predictors\n",
      "Processed  116 models on 115 predictors\n",
      "Processed  115 models on 114 predictors\n",
      "Processed  114 models on 113 predictors\n",
      "Processed  113 models on 112 predictors\n",
      "Processed  112 models on 111 predictors\n",
      "Processed  111 models on 110 predictors\n",
      "Processed  110 models on 109 predictors\n",
      "Processed  109 models on 108 predictors\n",
      "Processed  108 models on 107 predictors\n",
      "Processed  107 models on 106 predictors\n",
      "Processed  106 models on 105 predictors\n",
      "Processed  105 models on 104 predictors\n",
      "Processed  104 models on 103 predictors\n",
      "Processed  103 models on 102 predictors\n",
      "Processed  102 models on 101 predictors\n",
      "Processed  101 models on 100 predictors\n",
      "Processed  100 models on 99 predictors\n",
      "Processed  99 models on 98 predictors\n",
      "Processed  98 models on 97 predictors\n",
      "Processed  97 models on 96 predictors\n",
      "Processed  96 models on 95 predictors\n",
      "Processed  95 models on 94 predictors\n",
      "Processed  94 models on 93 predictors\n",
      "Processed  93 models on 92 predictors\n",
      "Processed  92 models on 91 predictors\n",
      "Processed  91 models on 90 predictors\n",
      "Processed  90 models on 89 predictors\n",
      "Processed  89 models on 88 predictors\n",
      "Processed  88 models on 87 predictors\n",
      "Processed  87 models on 86 predictors\n",
      "Processed  86 models on 85 predictors\n",
      "Processed  85 models on 84 predictors\n",
      "Processed  84 models on 83 predictors\n",
      "Processed  83 models on 82 predictors\n",
      "Processed  82 models on 81 predictors\n",
      "Processed  81 models on 80 predictors\n",
      "Processed  80 models on 79 predictors\n",
      "Processed  79 models on 78 predictors\n",
      "Processed  78 models on 77 predictors\n",
      "Processed  77 models on 76 predictors\n",
      "Processed  76 models on 75 predictors\n",
      "Processed  75 models on 74 predictors\n",
      "Processed  74 models on 73 predictors\n",
      "Processed  73 models on 72 predictors\n",
      "Processed  72 models on 71 predictors\n",
      "Processed  71 models on 70 predictors\n",
      "Processed  70 models on 69 predictors\n",
      "Processed  69 models on 68 predictors\n",
      "Processed  68 models on 67 predictors\n",
      "Processed  67 models on 66 predictors\n",
      "Processed  66 models on 65 predictors\n",
      "Processed  65 models on 64 predictors\n",
      "Processed  64 models on 63 predictors\n",
      "Processed  63 models on 62 predictors\n",
      "Processed  62 models on 61 predictors\n",
      "Processed  61 models on 60 predictors\n",
      "Processed  60 models on 59 predictors\n",
      "Processed  59 models on 58 predictors\n",
      "Processed  58 models on 57 predictors\n",
      "Processed  57 models on 56 predictors\n",
      "Processed  56 models on 55 predictors\n",
      "Processed  55 models on 54 predictors\n",
      "Processed  54 models on 53 predictors\n",
      "Processed  53 models on 52 predictors\n",
      "Processed  52 models on 51 predictors\n",
      "Processed  51 models on 50 predictors\n",
      "Processed  50 models on 49 predictors\n",
      "Processed  49 models on 48 predictors\n",
      "Processed  48 models on 47 predictors\n",
      "Processed  47 models on 46 predictors\n",
      "Processed  46 models on 45 predictors\n",
      "Processed  45 models on 44 predictors\n",
      "Processed  44 models on 43 predictors\n",
      "Processed  43 models on 42 predictors\n",
      "Processed  42 models on 41 predictors\n",
      "Processed  41 models on 40 predictors\n",
      "Processed  40 models on 39 predictors\n",
      "Processed  39 models on 38 predictors\n",
      "Processed  38 models on 37 predictors\n",
      "Processed  37 models on 36 predictors\n",
      "Processed  36 models on 35 predictors\n",
      "Processed  35 models on 34 predictors\n",
      "Processed  34 models on 33 predictors\n",
      "Processed  33 models on 32 predictors\n",
      "Processed  32 models on 31 predictors\n",
      "Processed  31 models on 30 predictors\n",
      "Processed  30 models on 29 predictors\n",
      "Processed  29 models on 28 predictors\n",
      "Processed  28 models on 27 predictors\n",
      "Processed  27 models on 26 predictors\n",
      "Processed  26 models on 25 predictors\n",
      "Processed  25 models on 24 predictors\n",
      "Processed  24 models on 23 predictors\n",
      "Processed  23 models on 22 predictors\n",
      "Processed  22 models on 21 predictors\n",
      "Processed  21 models on 20 predictors\n",
      "Processed  20 models on 19 predictors\n",
      "Processed  19 models on 18 predictors\n",
      "Processed  18 models on 17 predictors\n",
      "Processed  17 models on 16 predictors\n",
      "Processed  16 models on 15 predictors\n",
      "Processed  15 models on 14 predictors\n",
      "Processed  14 models on 13 predictors\n",
      "Processed  13 models on 12 predictors\n",
      "Processed  12 models on 11 predictors\n",
      "Processed  11 models on 10 predictors\n",
      "Processed  10 models on 9 predictors\n",
      "Processed  9 models on 8 predictors\n",
      "Processed  8 models on 7 predictors\n",
      "Processed  7 models on 6 predictors\n",
      "Processed  6 models on 5 predictors\n",
      "Processed  5 models on 4 predictors\n",
      "Processed  4 models on 3 predictors\n",
      "Processed  3 models on 2 predictors\n",
      "Processed  2 models on 1 predictors\n"
     ]
    }
   ],
   "source": [
    "models_bwd = pd.DataFrame(columns=[\"RSS\", \"model\", \"MAE\"], index = range(1,len(dataset.columns)))\n",
    "# start from all predictors\n",
    "predictors = dataset.columns\n",
    "\n",
    "while(len(predictors) > 1):  \n",
    "    models_bwd.loc[len(predictors)-1] = backward(predictors)\n",
    "    predictors = models_bwd.loc[len(predictors)-1][\"model\"].model.exog_names\n"
   ]
  },
  {
   "cell_type": "code",
   "execution_count": 31,
   "metadata": {},
   "outputs": [
    {
     "data": {
      "text/plain": [
       "[<matplotlib.lines.Line2D at 0x7f944660c470>]"
      ]
     },
     "execution_count": 31,
     "metadata": {},
     "output_type": "execute_result"
    },
    {
     "data": {
      "image/png": "[encoded data removed]",
      "text/plain": [
       "<Figure size 432x288 with 1 Axes>"
      ]
     },
     "metadata": {
      "needs_background": "light"
     },
     "output_type": "display_data"
    }
   ],
   "source": [
    "# results for this method\n",
    "plt.plot(models_bwd.MAE)"
   ]
  },
  {
   "cell_type": "code",
   "execution_count": 32,
   "metadata": {},
   "outputs": [
    {
     "data": {
      "text/plain": [
       "[<matplotlib.lines.Line2D at 0x7f9446ed5b38>]"
      ]
     },
     "execution_count": 32,
     "metadata": {},
     "output_type": "execute_result"
    },
    {
     "data": {
      "image/png": "[encoded data removed]",
      "text/plain": [
       "<Figure size 432x288 with 1 Axes>"
      ]
     },
     "metadata": {
      "needs_background": "light"
     },
     "output_type": "display_data"
    }
   ],
   "source": [
    "plt.plot(models_bwd.RSS)"
   ]
  },
  {
   "cell_type": "code",
   "execution_count": 33,
   "metadata": {},
   "outputs": [
    {
     "name": "stdout",
     "output_type": "stream",
     "text": [
      "118\n",
      "0\n"
     ]
    }
   ],
   "source": [
    "print(np.argmin(np.array(models_bwd.RSS)))\n",
    "print(np.argmin(np.array(models_bwd.MAE)))"
   ]
  },
  {
   "cell_type": "markdown",
   "metadata": {},
   "source": [
    "#### 4.3. PCA"
   ]
  },
  {
   "cell_type": "code",
   "execution_count": 34,
   "metadata": {},
   "outputs": [],
   "source": [
    "def apply_pca(num_comp, dataset):\n",
    "    \n",
    "    pca = PCA(n_components=num_comp)\n",
    "    data = pca.fit_transform(dataset)\n",
    "    \n",
    "    return data"
   ]
  },
  {
   "cell_type": "code",
   "execution_count": 35,
   "metadata": {},
   "outputs": [],
   "source": [
    "datasets_pca = [apply_pca(40, dataset), apply_pca(80, dataset), apply_pca(100, dataset), \n",
    "                apply_pca(110, dataset)]"
   ]
  },
  {
   "cell_type": "code",
   "execution_count": null,
   "metadata": {},
   "outputs": [],
   "source": []
  },
  {
   "cell_type": "code",
   "execution_count": 36,
   "metadata": {},
   "outputs": [],
   "source": [
    "models_pca = []\n",
    "for ds in datasets_pca:\n",
    "    models_pca.append(train_subset(ds=ds, dataset_b=True))\n",
    "models_pca = pd.DataFrame(models_pca)"
   ]
  },
  {
   "cell_type": "code",
   "execution_count": 37,
   "metadata": {},
   "outputs": [
    {
     "data": {
      "text/plain": [
       "[<matplotlib.lines.Line2D at 0x7f944653c710>]"
      ]
     },
     "execution_count": 37,
     "metadata": {},
     "output_type": "execute_result"
    },
    {
     "data": {
      "image/png": "[encoded data removed]",
      "text/plain": [
       "<Figure size 432x288 with 1 Axes>"
      ]
     },
     "metadata": {
      "needs_background": "light"
     },
     "output_type": "display_data"
    }
   ],
   "source": [
    "plt.plot(models_pca.MAE)"
   ]
  },
  {
   "cell_type": "code",
   "execution_count": 38,
   "metadata": {},
   "outputs": [
    {
     "data": {
      "text/plain": [
       "[<matplotlib.lines.Line2D at 0x7f9446230630>]"
      ]
     },
     "execution_count": 38,
     "metadata": {},
     "output_type": "execute_result"
    },
    {
     "data": {
      "image/png": "[encoded data removed]",
      "text/plain": [
       "<Figure size 432x288 with 1 Axes>"
      ]
     },
     "metadata": {
      "needs_background": "light"
     },
     "output_type": "display_data"
    }
   ],
   "source": [
    "plt.plot(models_pca.RSS)"
   ]
  },
  {
   "cell_type": "code",
   "execution_count": 39,
   "metadata": {},
   "outputs": [
    {
     "name": "stdout",
     "output_type": "stream",
     "text": [
      "3\n",
      "0\n"
     ]
    }
   ],
   "source": [
    "print(np.argmin(np.array(models_pca.RSS)))\n",
    "print(np.argmin(np.array(models_pca.MAE)))"
   ]
  },
  {
   "cell_type": "markdown",
   "metadata": {},
   "source": [
    "#### 4.4. Differances between methods\n"
   ]
  },
  {
   "cell_type": "code",
   "execution_count": 40,
   "metadata": {},
   "outputs": [],
   "source": [
    "best_fwd = models_fwd[models_fwd.RSS == min(models_fwd.RSS)]\n",
    "best_bwd = models_bwd[models_bwd.RSS == min(models_bwd.RSS)]\n",
    "best_pca = models_pca[models_pca.RSS == min(models_pca.RSS)]"
   ]
  },
  {
   "cell_type": "code",
   "execution_count": 41,
   "metadata": {},
   "outputs": [
    {
     "name": "stdout",
     "output_type": "stream",
     "text": [
      "+--------+-----------+--------+\n",
      "| Method |    RSS    |  MAE   |\n",
      "+--------+-----------+--------+\n",
      "|  Fwd   |  885.1488 | 0.2422 |\n",
      "|  Bwd   |  885.1488 | 0.2422 |\n",
      "|  PCA   | 1113.5297 | 0.2417 |\n",
      "+--------+-----------+--------+\n"
     ]
    }
   ],
   "source": [
    "# tabel with results\n",
    "x = PrettyTable([\"Method\", \"RSS\", \"MAE\"])\n",
    "x.add_row(['Fwd', round(best_fwd.RSS.iloc[0], 4), round(best_fwd.MAE.iloc[0], 4)])\n",
    "x.add_row(['Bwd', round(best_bwd.RSS.iloc[0], 4), round(best_bwd.MAE.iloc[0], 4)])\n",
    "x.add_row(['PCA', round(best_pca.RSS.iloc[0], 4), round(best_pca.MAE.iloc[0], 4)])\n",
    "print(x)"
   ]
  },
  {
   "cell_type": "markdown",
   "metadata": {},
   "source": [
    "### 5. Train models"
   ]
  },
  {
   "cell_type": "code",
   "execution_count": 42,
   "metadata": {},
   "outputs": [],
   "source": [
    "# print classification results\n",
    "def show_results_fun(name, model, test_data, true_labels, prediction):\n",
    "    acc = accuracy_score(true_labels, prediction)\n",
    "    f1 = f1_score(true_labels, prediction)\n",
    "    \n",
    "    print('For model {} dataset, we got the following results:\\nAccuracy: {}\\nF1-score: {}\\n'.format(name, acc, f1))\n",
    "    plot_confusion_matrix(model, test_data, true_labels, cmap=plt.cm.Blues)"
   ]
  },
  {
   "cell_type": "code",
   "execution_count": 43,
   "metadata": {},
   "outputs": [],
   "source": [
    "# function to train a classification model\n",
    "def train_cls_model(dataset, labels, model, show_results=False, name=None):\n",
    "    \n",
    "    X_train, X_test, y_train, y_test = train_test_split(dataset, labels, test_size=0.2, random_state=21)\n",
    "\n",
    "    model.fit(X_train, y_train)\n",
    "    prediction = model.predict(X_test)\n",
    "    \n",
    "    \n",
    "    if show_results:\n",
    "        show_results_fun(name, model, X_test, y_test, prediction)\n",
    "    \n",
    "    return (accuracy_score(y_test, prediction), f1_score(y_test, prediction))"
   ]
  },
  {
   "cell_type": "code",
   "execution_count": 44,
   "metadata": {},
   "outputs": [],
   "source": [
    "# print regression results\n",
    "def show_results_fun_reg(name, true_labels, prediction):\n",
    "    mae_score = mae(true_labels, prediction)\n",
    "    mse_score = mse(true_labels, prediction)\n",
    "    r2_score = r2(true_labels, prediction)\n",
    "    rmse = sqrt(mse(true_labels, prediction))\n",
    "    \n",
    "    print('For model {} dataset we got the following results:\\nMAE: {}\\nMSE: {}\\nR2-score: {}\\nRMSE: {}'.format(name, mae_score, mse_score, r2_score, rmse))\n"
   ]
  },
  {
   "cell_type": "code",
   "execution_count": 45,
   "metadata": {},
   "outputs": [],
   "source": [
    "# function to train a regression model\n",
    "def train_reg_model(dataset, labels, model, show_results=False, name=None):\n",
    "    \n",
    "    X_train, X_test, y_train, y_test = train_test_split(dataset, labels, test_size=0.2, random_state=21)\n",
    "\n",
    "    model.fit(X_train, y_train)\n",
    "    prediction = model.predict(X_test)\n",
    "    \n",
    "    if show_results:\n",
    "        show_results_fun_reg(name, y_test, prediction)\n",
    "    \n",
    "    return (mae(y_test, prediction), mse(y_test, prediction), r2(y_test, prediction),  sqrt(mse(y_test, prediction)))"
   ]
  },
  {
   "cell_type": "markdown",
   "metadata": {},
   "source": [
    "### 6. Best Models"
   ]
  },
  {
   "cell_type": "code",
   "execution_count": 46,
   "metadata": {},
   "outputs": [],
   "source": [
    "# selecting best datasets generated with each feature selection method\n",
    "dataset_fwd = dataset[best_fwd.model.iloc[0].model.exog_names]\n",
    "dataset_bwd = dataset[best_bwd.model.iloc[0].model.exog_names]\n",
    "dataset_pca = datasets_pca[best_pca.index[0]]"
   ]
  },
  {
   "cell_type": "code",
   "execution_count": 47,
   "metadata": {},
   "outputs": [],
   "source": [
    "# models \n",
    "models_cls = [LinearSVC(), RidgeClassifier(), KNeighborsClassifier(), RandomForestClassifier()]\n",
    "models_reg = [Ridge(), LinearRegression()]\n",
    "\n",
    "# parameters for gridsearch\n",
    "parameters_cls = [{'C': [1, 0.1, 0.01, 0.001, 0.0001, 10, 100], 'max_iter': [2000, 3000, 1000], 'tol': [0.0001, 0.001]}, \n",
    "                  {'normalize': [True, False], 'alpha': [1, 0.9, 0.8, 0.7, 0.6]},\n",
    "                  {'n_neighbors': [3, 5, 7, 9, 11, 21]},\n",
    "                  {'n_estimators': [100, 200, 150, 170, 250]}]\n",
    "\n",
    "parameters_reg = [{'normalize': [True, False], 'alpha': [1, 0.9, 0.8, 0.7, 0.6]}, \n",
    "                  {'normalize': [True, False]}]\n",
    "\n",
    "# datasets\n",
    "datasets = [dataset, dataset_fwd, dataset_bwd, dataset_pca]\n",
    "\n",
    "# models names\n",
    "models_names_cls = {0: 'Linear SVC', \n",
    "                    1: 'Ridge Classifier',\n",
    "                    2: 'KNN',\n",
    "                    3: 'Random Forest',}\n",
    "\n",
    "models_names_reg = {0: 'Ridge Regression',\n",
    "                    1: 'Linear Regression',}\n",
    "# datasets names\n",
    "datasets_names = {0: 'Initial', \n",
    "                  1: 'Forward Selection',\n",
    "                  2: 'Backward Selection',\n",
    "                  3: 'PCA',}"
   ]
  },
  {
   "cell_type": "code",
   "execution_count": 48,
   "metadata": {},
   "outputs": [],
   "source": [
    "# Gridsearch\n",
    "def best_models(datasets, labels, models, parameters):\n",
    "    idx = -1\n",
    "    best_models = []\n",
    "    for model in models:\n",
    "        idx += 1\n",
    "        for dataset in datasets:\n",
    "            clf = GridSearchCV(model, parameters[idx], verbose=2)\n",
    "            clf.fit(dataset, labels)\n",
    "            \n",
    "            best_models.append(clf.best_estimator_)\n",
    "    return best_models"
   ]
  },
  {
   "cell_type": "code",
   "execution_count": 49,
   "metadata": {},
   "outputs": [
    {
     "name": "stdout",
     "output_type": "stream",
     "text": [
      "Fitting 5 folds for each of 42 candidates, totalling 210 fits\n",
      "[CV] C=1, max_iter=2000, tol=0.0001 ..................................\n"
     ]
    },
    {
     "name": "stderr",
     "output_type": "stream",
     "text": [
      "[Parallel(n_jobs=1)]: Using backend SequentialBackend with 1 concurrent workers.\n",
      "/home/marina/anaconda3/lib/python3.7/site-packages/sklearn/svm/_base.py:947: ConvergenceWarning: Liblinear failed to converge, increase the number of iterations.\n",
      "  \"the number of iterations.\", ConvergenceWarning)\n",
      "[Parallel(n_jobs=1)]: Done   1 out of   1 | elapsed:    6.5s remaining:    0.0s\n"
     ]
    },
    {
     "name": "stdout",
     "output_type": "stream",
     "text": [
      "[CV] ................... C=1, max_iter=2000, tol=0.0001, total=   6.5s\n",
      "[CV] C=1, max_iter=2000, tol=0.0001 ..................................\n"
     ]
    },
    {
     "name": "stderr",
     "output_type": "stream",
     "text": [
      "/home/marina/anaconda3/lib/python3.7/site-packages/sklearn/svm/_base.py:947: ConvergenceWarning: Liblinear failed to converge, increase the number of iterations.\n",
      "  \"the number of iterations.\", ConvergenceWarning)\n"
     ]
    },
    {
     "name": "stdout",
     "output_type": "stream",
     "text": [
      "[CV] ................... C=1, max_iter=2000, tol=0.0001, total=   6.5s\n",
      "[CV] C=1, max_iter=2000, tol=0.0001 ..................................\n"
     ]
    },
    {
     "name": "stderr",
     "output_type": "stream",
     "text": [
      "/home/marina/anaconda3/lib/python3.7/site-packages/sklearn/svm/_base.py:947: ConvergenceWarning: Liblinear failed to converge, increase the number of iterations.\n",
      "  \"the number of iterations.\", ConvergenceWarning)\n"
     ]
    },
    {
     "name": "stdout",
     "output_type": "stream",
     "text": [
      "[CV] ................... C=1, max_iter=2000, tol=0.0001, total=   7.0s\n",
      "[CV] C=1, max_iter=2000, tol=0.0001 ..................................\n"
     ]
    },
    {
     "name": "stderr",
     "output_type": "stream",
     "text": [
      "/home/marina/anaconda3/lib/python3.7/site-packages/sklearn/svm/_base.py:947: ConvergenceWarning: Liblinear failed to converge, increase the number of iterations.\n",
      "  \"the number of iterations.\", ConvergenceWarning)\n"
     ]
    },
    {
     "name": "stdout",
     "output_type": "stream",
     "text": [
      "[CV] ................... C=1, max_iter=2000, tol=0.0001, total=   7.1s\n",
      "[CV] C=1, max_iter=2000, tol=0.0001 ..................................\n"
     ]
    },
    {
     "name": "stderr",
     "output_type": "stream",
     "text": [
      "/home/marina/anaconda3/lib/python3.7/site-packages/sklearn/svm/_base.py:947: ConvergenceWarning: Liblinear failed to converge, increase the number of iterations.\n",
      "  \"the number of iterations.\", ConvergenceWarning)\n"
     ]
    },
    {
     "name": "stdout",
     "output_type": "stream",
     "text": [
      "[CV] ................... C=1, max_iter=2000, tol=0.0001, total=   6.8s\n",
      "[CV] C=1, max_iter=2000, tol=0.001 ...................................\n"
     ]
    },
    {
     "name": "stderr",
     "output_type": "stream",
     "text": [
      "/home/marina/anaconda3/lib/python3.7/site-packages/sklearn/svm/_base.py:947: ConvergenceWarning: Liblinear failed to converge, increase the number of iterations.\n",
      "  \"the number of iterations.\", ConvergenceWarning)\n"
     ]
    },
    {
     "name": "stdout",
     "output_type": "stream",
     "text": [
      "[CV] .................... C=1, max_iter=2000, tol=0.001, total=   7.3s\n",
      "[CV] C=1, max_iter=2000, tol=0.001 ...................................\n"
     ]
    },
    {
     "name": "stderr",
     "output_type": "stream",
     "text": [
      "/home/marina/anaconda3/lib/python3.7/site-packages/sklearn/svm/_base.py:947: ConvergenceWarning: Liblinear failed to converge, increase the number of iterations.\n",
      "  \"the number of iterations.\", ConvergenceWarning)\n"
     ]
    },
    {
     "name": "stdout",
     "output_type": "stream",
     "text": [
      "[CV] .................... C=1, max_iter=2000, tol=0.001, total=   6.8s\n",
      "[CV] C=1, max_iter=2000, tol=0.001 ...................................\n"
     ]
    },
    {
     "name": "stderr",
     "output_type": "stream",
     "text": [
      "/home/marina/anaconda3/lib/python3.7/site-packages/sklearn/svm/_base.py:947: ConvergenceWarning: Liblinear failed to converge, increase the number of iterations.\n",
      "  \"the number of iterations.\", ConvergenceWarning)\n"
     ]
    },
    {
     "name": "stdout",
     "output_type": "stream",
     "text": [
      "[CV] .................... C=1, max_iter=2000, tol=0.001, total=   6.3s\n",
      "[CV] C=1, max_iter=2000, tol=0.001 ...................................\n"
     ]
    },
    {
     "name": "stderr",
     "output_type": "stream",
     "text": [
      "/home/marina/anaconda3/lib/python3.7/site-packages/sklearn/svm/_base.py:947: ConvergenceWarning: Liblinear failed to converge, increase the number of iterations.\n",
      "  \"the number of iterations.\", ConvergenceWarning)\n"
     ]
    },
    {
     "name": "stdout",
     "output_type": "stream",
     "text": [
      "[CV] .................... C=1, max_iter=2000, tol=0.001, total=   6.4s\n",
      "[CV] C=1, max_iter=2000, tol=0.001 ...................................\n"
     ]
    },
    {
     "name": "stderr",
     "output_type": "stream",
     "text": [
      "/home/marina/anaconda3/lib/python3.7/site-packages/sklearn/svm/_base.py:947: ConvergenceWarning: Liblinear failed to converge, increase the number of iterations.\n",
      "  \"the number of iterations.\", ConvergenceWarning)\n"
     ]
    },
    {
     "name": "stdout",
     "output_type": "stream",
     "text": [
      "[CV] .................... C=1, max_iter=2000, tol=0.001, total=   6.4s\n",
      "[CV] C=1, max_iter=3000, tol=0.0001 ..................................\n"
     ]
    },
    {
     "name": "stderr",
     "output_type": "stream",
     "text": [
      "/home/marina/anaconda3/lib/python3.7/site-packages/sklearn/svm/_base.py:947: ConvergenceWarning: Liblinear failed to converge, increase the number of iterations.\n",
      "  \"the number of iterations.\", ConvergenceWarning)\n"
     ]
    },
    {
     "name": "stdout",
     "output_type": "stream",
     "text": [
      "[CV] ................... C=1, max_iter=3000, tol=0.0001, total=   9.4s\n",
      "[CV] C=1, max_iter=3000, tol=0.0001 ..................................\n"
     ]
    },
    {
     "name": "stderr",
     "output_type": "stream",
     "text": [
      "/home/marina/anaconda3/lib/python3.7/site-packages/sklearn/svm/_base.py:947: ConvergenceWarning: Liblinear failed to converge, increase the number of iterations.\n",
      "  \"the number of iterations.\", ConvergenceWarning)\n"
     ]
    },
    {
     "name": "stdout",
     "output_type": "stream",
     "text": [
      "[CV] ................... C=1, max_iter=3000, tol=0.0001, total=   9.5s\n",
      "[CV] C=1, max_iter=3000, tol=0.0001 ..................................\n"
     ]
    },
    {
     "name": "stderr",
     "output_type": "stream",
     "text": [
      "/home/marina/anaconda3/lib/python3.7/site-packages/sklearn/svm/_base.py:947: ConvergenceWarning: Liblinear failed to converge, increase the number of iterations.\n",
      "  \"the number of iterations.\", ConvergenceWarning)\n"
     ]
    },
    {
     "name": "stdout",
     "output_type": "stream",
     "text": [
      "[CV] ................... C=1, max_iter=3000, tol=0.0001, total=   9.6s\n",
      "[CV] C=1, max_iter=3000, tol=0.0001 ..................................\n"
     ]
    },
    {
     "name": "stderr",
     "output_type": "stream",
     "text": [
      "/home/marina/anaconda3/lib/python3.7/site-packages/sklearn/svm/_base.py:947: ConvergenceWarning: Liblinear failed to converge, increase the number of iterations.\n",
      "  \"the number of iterations.\", ConvergenceWarning)\n"
     ]
    },
    {
     "name": "stdout",
     "output_type": "stream",
     "text": [
      "[CV] ................... C=1, max_iter=3000, tol=0.0001, total=   9.4s\n",
      "[CV] C=1, max_iter=3000, tol=0.0001 ..................................\n"
     ]
    },
    {
     "name": "stderr",
     "output_type": "stream",
     "text": [
      "/home/marina/anaconda3/lib/python3.7/site-packages/sklearn/svm/_base.py:947: ConvergenceWarning: Liblinear failed to converge, increase the number of iterations.\n",
      "  \"the number of iterations.\", ConvergenceWarning)\n"
     ]
    },
    {
     "name": "stdout",
     "output_type": "stream",
     "text": [
      "[CV] ................... C=1, max_iter=3000, tol=0.0001, total=   9.7s\n",
      "[CV] C=1, max_iter=3000, tol=0.001 ...................................\n"
     ]
    },
    {
     "name": "stderr",
     "output_type": "stream",
     "text": [
      "/home/marina/anaconda3/lib/python3.7/site-packages/sklearn/svm/_base.py:947: ConvergenceWarning: Liblinear failed to converge, increase the number of iterations.\n",
      "  \"the number of iterations.\", ConvergenceWarning)\n"
     ]
    },
    {
     "name": "stdout",
     "output_type": "stream",
     "text": [
      "[CV] .................... C=1, max_iter=3000, tol=0.001, total=   9.8s\n",
      "[CV] C=1, max_iter=3000, tol=0.001 ...................................\n"
     ]
    },
    {
     "name": "stderr",
     "output_type": "stream",
     "text": [
      "/home/marina/anaconda3/lib/python3.7/site-packages/sklearn/svm/_base.py:947: ConvergenceWarning: Liblinear failed to converge, increase the number of iterations.\n",
      "  \"the number of iterations.\", ConvergenceWarning)\n"
     ]
    },
    {
     "name": "stdout",
     "output_type": "stream",
     "text": [
      "[CV] .................... C=1, max_iter=3000, tol=0.001, total=  10.0s\n",
      "[CV] C=1, max_iter=3000, tol=0.001 ...................................\n"
     ]
    },
    {
     "name": "stderr",
     "output_type": "stream",
     "text": [
      "/home/marina/anaconda3/lib/python3.7/site-packages/sklearn/svm/_base.py:947: ConvergenceWarning: Liblinear failed to converge, increase the number of iterations.\n",
      "  \"the number of iterations.\", ConvergenceWarning)\n"
     ]
    },
    {
     "name": "stdout",
     "output_type": "stream",
     "text": [
      "[CV] .................... C=1, max_iter=3000, tol=0.001, total=  10.4s\n",
      "[CV] C=1, max_iter=3000, tol=0.001 ...................................\n"
     ]
    },
    {
     "name": "stderr",
     "output_type": "stream",
     "text": [
      "/home/marina/anaconda3/lib/python3.7/site-packages/sklearn/svm/_base.py:947: ConvergenceWarning: Liblinear failed to converge, increase the number of iterations.\n",
      "  \"the number of iterations.\", ConvergenceWarning)\n"
     ]
    },
    {
     "name": "stdout",
     "output_type": "stream",
     "text": [
      "[CV] .................... C=1, max_iter=3000, tol=0.001, total=  10.0s\n",
      "[CV] C=1, max_iter=3000, tol=0.001 ...................................\n"
     ]
    },
    {
     "name": "stderr",
     "output_type": "stream",
     "text": [
      "/home/marina/anaconda3/lib/python3.7/site-packages/sklearn/svm/_base.py:947: ConvergenceWarning: Liblinear failed to converge, increase the number of iterations.\n",
      "  \"the number of iterations.\", ConvergenceWarning)\n"
     ]
    },
    {
     "name": "stdout",
     "output_type": "stream",
     "text": [
      "[CV] .................... C=1, max_iter=3000, tol=0.001, total=  10.5s\n",
      "[CV] C=1, max_iter=1000, tol=0.0001 ..................................\n"
     ]
    },
    {
     "name": "stderr",
     "output_type": "stream",
     "text": [
      "/home/marina/anaconda3/lib/python3.7/site-packages/sklearn/svm/_base.py:947: ConvergenceWarning: Liblinear failed to converge, increase the number of iterations.\n",
      "  \"the number of iterations.\", ConvergenceWarning)\n"
     ]
    },
    {
     "name": "stdout",
     "output_type": "stream",
     "text": [
      "[CV] ................... C=1, max_iter=1000, tol=0.0001, total=   3.9s\n",
      "[CV] C=1, max_iter=1000, tol=0.0001 ..................................\n"
     ]
    },
    {
     "name": "stderr",
     "output_type": "stream",
     "text": [
      "/home/marina/anaconda3/lib/python3.7/site-packages/sklearn/svm/_base.py:947: ConvergenceWarning: Liblinear failed to converge, increase the number of iterations.\n",
      "  \"the number of iterations.\", ConvergenceWarning)\n"
     ]
    },
    {
     "name": "stdout",
     "output_type": "stream",
     "text": [
      "[CV] ................... C=1, max_iter=1000, tol=0.0001, total=   3.6s\n",
      "[CV] C=1, max_iter=1000, tol=0.0001 ..................................\n"
     ]
    },
    {
     "name": "stderr",
     "output_type": "stream",
     "text": [
      "/home/marina/anaconda3/lib/python3.7/site-packages/sklearn/svm/_base.py:947: ConvergenceWarning: Liblinear failed to converge, increase the number of iterations.\n",
      "  \"the number of iterations.\", ConvergenceWarning)\n"
     ]
    },
    {
     "name": "stdout",
     "output_type": "stream",
     "text": [
      "[CV] ................... C=1, max_iter=1000, tol=0.0001, total=   3.6s\n",
      "[CV] C=1, max_iter=1000, tol=0.0001 ..................................\n"
     ]
    },
    {
     "name": "stderr",
     "output_type": "stream",
     "text": [
      "/home/marina/anaconda3/lib/python3.7/site-packages/sklearn/svm/_base.py:947: ConvergenceWarning: Liblinear failed to converge, increase the number of iterations.\n",
      "  \"the number of iterations.\", ConvergenceWarning)\n"
     ]
    },
    {
     "name": "stdout",
     "output_type": "stream",
     "text": [
      "[CV] ................... C=1, max_iter=1000, tol=0.0001, total=   3.7s\n",
      "[CV] C=1, max_iter=1000, tol=0.0001 ..................................\n"
     ]
    },
    {
     "name": "stderr",
     "output_type": "stream",
     "text": [
      "/home/marina/anaconda3/lib/python3.7/site-packages/sklearn/svm/_base.py:947: ConvergenceWarning: Liblinear failed to converge, increase the number of iterations.\n",
      "  \"the number of iterations.\", ConvergenceWarning)\n"
     ]
    },
    {
     "name": "stdout",
     "output_type": "stream",
     "text": [
      "[CV] ................... C=1, max_iter=1000, tol=0.0001, total=   3.4s\n",
      "[CV] C=1, max_iter=1000, tol=0.001 ...................................\n"
     ]
    },
    {
     "name": "stderr",
     "output_type": "stream",
     "text": [
      "/home/marina/anaconda3/lib/python3.7/site-packages/sklearn/svm/_base.py:947: ConvergenceWarning: Liblinear failed to converge, increase the number of iterations.\n",
      "  \"the number of iterations.\", ConvergenceWarning)\n"
     ]
    },
    {
     "name": "stdout",
     "output_type": "stream",
     "text": [
      "[CV] .................... C=1, max_iter=1000, tol=0.001, total=   3.4s\n",
      "[CV] C=1, max_iter=1000, tol=0.001 ...................................\n"
     ]
    },
    {
     "name": "stderr",
     "output_type": "stream",
     "text": [
      "/home/marina/anaconda3/lib/python3.7/site-packages/sklearn/svm/_base.py:947: ConvergenceWarning: Liblinear failed to converge, increase the number of iterations.\n",
      "  \"the number of iterations.\", ConvergenceWarning)\n"
     ]
    },
    {
     "name": "stdout",
     "output_type": "stream",
     "text": [
      "[CV] .................... C=1, max_iter=1000, tol=0.001, total=   3.3s\n",
      "[CV] C=1, max_iter=1000, tol=0.001 ...................................\n"
     ]
    },
    {
     "name": "stderr",
     "output_type": "stream",
     "text": [
      "/home/marina/anaconda3/lib/python3.7/site-packages/sklearn/svm/_base.py:947: ConvergenceWarning: Liblinear failed to converge, increase the number of iterations.\n",
      "  \"the number of iterations.\", ConvergenceWarning)\n"
     ]
    },
    {
     "name": "stdout",
     "output_type": "stream",
     "text": [
      "[CV] .................... C=1, max_iter=1000, tol=0.001, total=   3.4s\n",
      "[CV] C=1, max_iter=1000, tol=0.001 ...................................\n"
     ]
    },
    {
     "name": "stderr",
     "output_type": "stream",
     "text": [
      "/home/marina/anaconda3/lib/python3.7/site-packages/sklearn/svm/_base.py:947: ConvergenceWarning: Liblinear failed to converge, increase the number of iterations.\n",
      "  \"the number of iterations.\", ConvergenceWarning)\n"
     ]
    },
    {
     "name": "stdout",
     "output_type": "stream",
     "text": [
      "[CV] .................... C=1, max_iter=1000, tol=0.001, total=   3.7s\n",
      "[CV] C=1, max_iter=1000, tol=0.001 ...................................\n"
     ]
    },
    {
     "name": "stderr",
     "output_type": "stream",
     "text": [
      "/home/marina/anaconda3/lib/python3.7/site-packages/sklearn/svm/_base.py:947: ConvergenceWarning: Liblinear failed to converge, increase the number of iterations.\n",
      "  \"the number of iterations.\", ConvergenceWarning)\n"
     ]
    },
    {
     "name": "stdout",
     "output_type": "stream",
     "text": [
      "[CV] .................... C=1, max_iter=1000, tol=0.001, total=   3.6s\n",
      "[CV] C=0.1, max_iter=2000, tol=0.0001 ................................\n"
     ]
    },
    {
     "name": "stderr",
     "output_type": "stream",
     "text": [
      "/home/marina/anaconda3/lib/python3.7/site-packages/sklearn/svm/_base.py:947: ConvergenceWarning: Liblinear failed to converge, increase the number of iterations.\n",
      "  \"the number of iterations.\", ConvergenceWarning)\n"
     ]
    },
    {
     "name": "stdout",
     "output_type": "stream",
     "text": [
      "[CV] ................. C=0.1, max_iter=2000, tol=0.0001, total=   6.3s\n",
      "[CV] C=0.1, max_iter=2000, tol=0.0001 ................................\n"
     ]
    },
    {
     "name": "stderr",
     "output_type": "stream",
     "text": [
      "/home/marina/anaconda3/lib/python3.7/site-packages/sklearn/svm/_base.py:947: ConvergenceWarning: Liblinear failed to converge, increase the number of iterations.\n",
      "  \"the number of iterations.\", ConvergenceWarning)\n"
     ]
    },
    {
     "name": "stdout",
     "output_type": "stream",
     "text": [
      "[CV] ................. C=0.1, max_iter=2000, tol=0.0001, total=   6.3s\n",
      "[CV] C=0.1, max_iter=2000, tol=0.0001 ................................\n"
     ]
    },
    {
     "name": "stderr",
     "output_type": "stream",
     "text": [
      "/home/marina/anaconda3/lib/python3.7/site-packages/sklearn/svm/_base.py:947: ConvergenceWarning: Liblinear failed to converge, increase the number of iterations.\n",
      "  \"the number of iterations.\", ConvergenceWarning)\n"
     ]
    },
    {
     "name": "stdout",
     "output_type": "stream",
     "text": [
      "[CV] ................. C=0.1, max_iter=2000, tol=0.0001, total=   6.4s\n",
      "[CV] C=0.1, max_iter=2000, tol=0.0001 ................................\n"
     ]
    },
    {
     "name": "stderr",
     "output_type": "stream",
     "text": [
      "/home/marina/anaconda3/lib/python3.7/site-packages/sklearn/svm/_base.py:947: ConvergenceWarning: Liblinear failed to converge, increase the number of iterations.\n",
      "  \"the number of iterations.\", ConvergenceWarning)\n"
     ]
    },
    {
     "name": "stdout",
     "output_type": "stream",
     "text": [
      "[CV] ................. C=0.1, max_iter=2000, tol=0.0001, total=   6.6s\n",
      "[CV] C=0.1, max_iter=2000, tol=0.0001 ................................\n"
     ]
    },
    {
     "name": "stderr",
     "output_type": "stream",
     "text": [
      "/home/marina/anaconda3/lib/python3.7/site-packages/sklearn/svm/_base.py:947: ConvergenceWarning: Liblinear failed to converge, increase the number of iterations.\n",
      "  \"the number of iterations.\", ConvergenceWarning)\n"
     ]
    },
    {
     "name": "stdout",
     "output_type": "stream",
     "text": [
      "[CV] ................. C=0.1, max_iter=2000, tol=0.0001, total=   6.8s\n",
      "[CV] C=0.1, max_iter=2000, tol=0.001 .................................\n"
     ]
    },
    {
     "name": "stderr",
     "output_type": "stream",
     "text": [
      "/home/marina/anaconda3/lib/python3.7/site-packages/sklearn/svm/_base.py:947: ConvergenceWarning: Liblinear failed to converge, increase the number of iterations.\n",
      "  \"the number of iterations.\", ConvergenceWarning)\n"
     ]
    },
    {
     "name": "stdout",
     "output_type": "stream",
     "text": [
      "[CV] .................. C=0.1, max_iter=2000, tol=0.001, total=   6.5s\n",
      "[CV] C=0.1, max_iter=2000, tol=0.001 .................................\n"
     ]
    },
    {
     "name": "stderr",
     "output_type": "stream",
     "text": [
      "/home/marina/anaconda3/lib/python3.7/site-packages/sklearn/svm/_base.py:947: ConvergenceWarning: Liblinear failed to converge, increase the number of iterations.\n",
      "  \"the number of iterations.\", ConvergenceWarning)\n"
     ]
    },
    {
     "name": "stdout",
     "output_type": "stream",
     "text": [
      "[CV] .................. C=0.1, max_iter=2000, tol=0.001, total=   6.2s\n",
      "[CV] C=0.1, max_iter=2000, tol=0.001 .................................\n"
     ]
    },
    {
     "name": "stderr",
     "output_type": "stream",
     "text": [
      "/home/marina/anaconda3/lib/python3.7/site-packages/sklearn/svm/_base.py:947: ConvergenceWarning: Liblinear failed to converge, increase the number of iterations.\n",
      "  \"the number of iterations.\", ConvergenceWarning)\n"
     ]
    },
    {
     "name": "stdout",
     "output_type": "stream",
     "text": [
      "[CV] .................. C=0.1, max_iter=2000, tol=0.001, total=   6.3s\n",
      "[CV] C=0.1, max_iter=2000, tol=0.001 .................................\n"
     ]
    },
    {
     "name": "stderr",
     "output_type": "stream",
     "text": [
      "/home/marina/anaconda3/lib/python3.7/site-packages/sklearn/svm/_base.py:947: ConvergenceWarning: Liblinear failed to converge, increase the number of iterations.\n",
      "  \"the number of iterations.\", ConvergenceWarning)\n"
     ]
    },
    {
     "name": "stdout",
     "output_type": "stream",
     "text": [
      "[CV] .................. C=0.1, max_iter=2000, tol=0.001, total=   6.3s\n",
      "[CV] C=0.1, max_iter=2000, tol=0.001 .................................\n"
     ]
    },
    {
     "name": "stderr",
     "output_type": "stream",
     "text": [
      "/home/marina/anaconda3/lib/python3.7/site-packages/sklearn/svm/_base.py:947: ConvergenceWarning: Liblinear failed to converge, increase the number of iterations.\n",
      "  \"the number of iterations.\", ConvergenceWarning)\n"
     ]
    },
    {
     "name": "stdout",
     "output_type": "stream",
     "text": [
      "[CV] .................. C=0.1, max_iter=2000, tol=0.001, total=   6.8s\n",
      "[CV] C=0.1, max_iter=3000, tol=0.0001 ................................\n"
     ]
    },
    {
     "name": "stderr",
     "output_type": "stream",
     "text": [
      "/home/marina/anaconda3/lib/python3.7/site-packages/sklearn/svm/_base.py:947: ConvergenceWarning: Liblinear failed to converge, increase the number of iterations.\n",
      "  \"the number of iterations.\", ConvergenceWarning)\n"
     ]
    },
    {
     "name": "stdout",
     "output_type": "stream",
     "text": [
      "[CV] ................. C=0.1, max_iter=3000, tol=0.0001, total=  10.0s\n",
      "[CV] C=0.1, max_iter=3000, tol=0.0001 ................................\n"
     ]
    },
    {
     "name": "stderr",
     "output_type": "stream",
     "text": [
      "/home/marina/anaconda3/lib/python3.7/site-packages/sklearn/svm/_base.py:947: ConvergenceWarning: Liblinear failed to converge, increase the number of iterations.\n",
      "  \"the number of iterations.\", ConvergenceWarning)\n"
     ]
    },
    {
     "name": "stdout",
     "output_type": "stream",
     "text": [
      "[CV] ................. C=0.1, max_iter=3000, tol=0.0001, total=   9.1s\n",
      "[CV] C=0.1, max_iter=3000, tol=0.0001 ................................\n"
     ]
    },
    {
     "name": "stderr",
     "output_type": "stream",
     "text": [
      "/home/marina/anaconda3/lib/python3.7/site-packages/sklearn/svm/_base.py:947: ConvergenceWarning: Liblinear failed to converge, increase the number of iterations.\n",
      "  \"the number of iterations.\", ConvergenceWarning)\n"
     ]
    },
    {
     "name": "stdout",
     "output_type": "stream",
     "text": [
      "[CV] ................. C=0.1, max_iter=3000, tol=0.0001, total=   9.7s\n",
      "[CV] C=0.1, max_iter=3000, tol=0.0001 ................................\n"
     ]
    },
    {
     "name": "stderr",
     "output_type": "stream",
     "text": [
      "/home/marina/anaconda3/lib/python3.7/site-packages/sklearn/svm/_base.py:947: ConvergenceWarning: Liblinear failed to converge, increase the number of iterations.\n",
      "  \"the number of iterations.\", ConvergenceWarning)\n"
     ]
    },
    {
     "name": "stdout",
     "output_type": "stream",
     "text": [
      "[CV] ................. C=0.1, max_iter=3000, tol=0.0001, total=   9.5s\n",
      "[CV] C=0.1, max_iter=3000, tol=0.0001 ................................\n"
     ]
    },
    {
     "name": "stderr",
     "output_type": "stream",
     "text": [
      "/home/marina/anaconda3/lib/python3.7/site-packages/sklearn/svm/_base.py:947: ConvergenceWarning: Liblinear failed to converge, increase the number of iterations.\n",
      "  \"the number of iterations.\", ConvergenceWarning)\n"
     ]
    },
    {
     "name": "stdout",
     "output_type": "stream",
     "text": [
      "[CV] ................. C=0.1, max_iter=3000, tol=0.0001, total=   9.2s\n",
      "[CV] C=0.1, max_iter=3000, tol=0.001 .................................\n"
     ]
    },
    {
     "name": "stderr",
     "output_type": "stream",
     "text": [
      "/home/marina/anaconda3/lib/python3.7/site-packages/sklearn/svm/_base.py:947: ConvergenceWarning: Liblinear failed to converge, increase the number of iterations.\n",
      "  \"the number of iterations.\", ConvergenceWarning)\n"
     ]
    },
    {
     "name": "stdout",
     "output_type": "stream",
     "text": [
      "[CV] .................. C=0.1, max_iter=3000, tol=0.001, total=   9.1s\n",
      "[CV] C=0.1, max_iter=3000, tol=0.001 .................................\n"
     ]
    },
    {
     "name": "stderr",
     "output_type": "stream",
     "text": [
      "/home/marina/anaconda3/lib/python3.7/site-packages/sklearn/svm/_base.py:947: ConvergenceWarning: Liblinear failed to converge, increase the number of iterations.\n",
      "  \"the number of iterations.\", ConvergenceWarning)\n"
     ]
    },
    {
     "name": "stdout",
     "output_type": "stream",
     "text": [
      "[CV] .................. C=0.1, max_iter=3000, tol=0.001, total=   9.3s\n",
      "[CV] C=0.1, max_iter=3000, tol=0.001 .................................\n"
     ]
    },
    {
     "name": "stderr",
     "output_type": "stream",
     "text": [
      "/home/marina/anaconda3/lib/python3.7/site-packages/sklearn/svm/_base.py:947: ConvergenceWarning: Liblinear failed to converge, increase the number of iterations.\n",
      "  \"the number of iterations.\", ConvergenceWarning)\n"
     ]
    },
    {
     "name": "stdout",
     "output_type": "stream",
     "text": [
      "[CV] .................. C=0.1, max_iter=3000, tol=0.001, total=   9.1s\n",
      "[CV] C=0.1, max_iter=3000, tol=0.001 .................................\n"
     ]
    },
    {
     "name": "stderr",
     "output_type": "stream",
     "text": [
      "/home/marina/anaconda3/lib/python3.7/site-packages/sklearn/svm/_base.py:947: ConvergenceWarning: Liblinear failed to converge, increase the number of iterations.\n",
      "  \"the number of iterations.\", ConvergenceWarning)\n"
     ]
    },
    {
     "name": "stdout",
     "output_type": "stream",
     "text": [
      "[CV] .................. C=0.1, max_iter=3000, tol=0.001, total=   9.7s\n",
      "[CV] C=0.1, max_iter=3000, tol=0.001 .................................\n"
     ]
    },
    {
     "name": "stderr",
     "output_type": "stream",
     "text": [
      "/home/marina/anaconda3/lib/python3.7/site-packages/sklearn/svm/_base.py:947: ConvergenceWarning: Liblinear failed to converge, increase the number of iterations.\n",
      "  \"the number of iterations.\", ConvergenceWarning)\n"
     ]
    },
    {
     "name": "stdout",
     "output_type": "stream",
     "text": [
      "[CV] .................. C=0.1, max_iter=3000, tol=0.001, total=   9.2s\n",
      "[CV] C=0.1, max_iter=1000, tol=0.0001 ................................\n"
     ]
    },
    {
     "name": "stderr",
     "output_type": "stream",
     "text": [
      "/home/marina/anaconda3/lib/python3.7/site-packages/sklearn/svm/_base.py:947: ConvergenceWarning: Liblinear failed to converge, increase the number of iterations.\n",
      "  \"the number of iterations.\", ConvergenceWarning)\n"
     ]
    },
    {
     "name": "stdout",
     "output_type": "stream",
     "text": [
      "[CV] ................. C=0.1, max_iter=1000, tol=0.0001, total=   3.4s\n",
      "[CV] C=0.1, max_iter=1000, tol=0.0001 ................................\n"
     ]
    },
    {
     "name": "stderr",
     "output_type": "stream",
     "text": [
      "/home/marina/anaconda3/lib/python3.7/site-packages/sklearn/svm/_base.py:947: ConvergenceWarning: Liblinear failed to converge, increase the number of iterations.\n",
      "  \"the number of iterations.\", ConvergenceWarning)\n"
     ]
    },
    {
     "name": "stdout",
     "output_type": "stream",
     "text": [
      "[CV] ................. C=0.1, max_iter=1000, tol=0.0001, total=   3.2s\n",
      "[CV] C=0.1, max_iter=1000, tol=0.0001 ................................\n"
     ]
    },
    {
     "name": "stderr",
     "output_type": "stream",
     "text": [
      "/home/marina/anaconda3/lib/python3.7/site-packages/sklearn/svm/_base.py:947: ConvergenceWarning: Liblinear failed to converge, increase the number of iterations.\n",
      "  \"the number of iterations.\", ConvergenceWarning)\n"
     ]
    },
    {
     "name": "stdout",
     "output_type": "stream",
     "text": [
      "[CV] ................. C=0.1, max_iter=1000, tol=0.0001, total=   3.4s\n",
      "[CV] C=0.1, max_iter=1000, tol=0.0001 ................................\n"
     ]
    },
    {
     "name": "stderr",
     "output_type": "stream",
     "text": [
      "/home/marina/anaconda3/lib/python3.7/site-packages/sklearn/svm/_base.py:947: ConvergenceWarning: Liblinear failed to converge, increase the number of iterations.\n",
      "  \"the number of iterations.\", ConvergenceWarning)\n"
     ]
    },
    {
     "name": "stdout",
     "output_type": "stream",
     "text": [
      "[CV] ................. C=0.1, max_iter=1000, tol=0.0001, total=   3.5s\n",
      "[CV] C=0.1, max_iter=1000, tol=0.0001 ................................\n"
     ]
    },
    {
     "name": "stderr",
     "output_type": "stream",
     "text": [
      "/home/marina/anaconda3/lib/python3.7/site-packages/sklearn/svm/_base.py:947: ConvergenceWarning: Liblinear failed to converge, increase the number of iterations.\n",
      "  \"the number of iterations.\", ConvergenceWarning)\n"
     ]
    },
    {
     "name": "stdout",
     "output_type": "stream",
     "text": [
      "[CV] ................. C=0.1, max_iter=1000, tol=0.0001, total=   3.6s\n",
      "[CV] C=0.1, max_iter=1000, tol=0.001 .................................\n"
     ]
    },
    {
     "name": "stderr",
     "output_type": "stream",
     "text": [
      "/home/marina/anaconda3/lib/python3.7/site-packages/sklearn/svm/_base.py:947: ConvergenceWarning: Liblinear failed to converge, increase the number of iterations.\n",
      "  \"the number of iterations.\", ConvergenceWarning)\n"
     ]
    },
    {
     "name": "stdout",
     "output_type": "stream",
     "text": [
      "[CV] .................. C=0.1, max_iter=1000, tol=0.001, total=   3.7s\n",
      "[CV] C=0.1, max_iter=1000, tol=0.001 .................................\n"
     ]
    },
    {
     "name": "stderr",
     "output_type": "stream",
     "text": [
      "/home/marina/anaconda3/lib/python3.7/site-packages/sklearn/svm/_base.py:947: ConvergenceWarning: Liblinear failed to converge, increase the number of iterations.\n",
      "  \"the number of iterations.\", ConvergenceWarning)\n"
     ]
    },
    {
     "name": "stdout",
     "output_type": "stream",
     "text": [
      "[CV] .................. C=0.1, max_iter=1000, tol=0.001, total=   3.4s\n",
      "[CV] C=0.1, max_iter=1000, tol=0.001 .................................\n"
     ]
    },
    {
     "name": "stderr",
     "output_type": "stream",
     "text": [
      "/home/marina/anaconda3/lib/python3.7/site-packages/sklearn/svm/_base.py:947: ConvergenceWarning: Liblinear failed to converge, increase the number of iterations.\n",
      "  \"the number of iterations.\", ConvergenceWarning)\n"
     ]
    },
    {
     "name": "stdout",
     "output_type": "stream",
     "text": [
      "[CV] .................. C=0.1, max_iter=1000, tol=0.001, total=   3.5s\n",
      "[CV] C=0.1, max_iter=1000, tol=0.001 .................................\n"
     ]
    },
    {
     "name": "stderr",
     "output_type": "stream",
     "text": [
      "/home/marina/anaconda3/lib/python3.7/site-packages/sklearn/svm/_base.py:947: ConvergenceWarning: Liblinear failed to converge, increase the number of iterations.\n",
      "  \"the number of iterations.\", ConvergenceWarning)\n"
     ]
    },
    {
     "name": "stdout",
     "output_type": "stream",
     "text": [
      "[CV] .................. C=0.1, max_iter=1000, tol=0.001, total=   3.7s\n",
      "[CV] C=0.1, max_iter=1000, tol=0.001 .................................\n"
     ]
    },
    {
     "name": "stderr",
     "output_type": "stream",
     "text": [
      "/home/marina/anaconda3/lib/python3.7/site-packages/sklearn/svm/_base.py:947: ConvergenceWarning: Liblinear failed to converge, increase the number of iterations.\n",
      "  \"the number of iterations.\", ConvergenceWarning)\n"
     ]
    },
    {
     "name": "stdout",
     "output_type": "stream",
     "text": [
      "[CV] .................. C=0.1, max_iter=1000, tol=0.001, total=   3.6s\n",
      "[CV] C=0.01, max_iter=2000, tol=0.0001 ...............................\n"
     ]
    },
    {
     "name": "stderr",
     "output_type": "stream",
     "text": [
      "/home/marina/anaconda3/lib/python3.7/site-packages/sklearn/svm/_base.py:947: ConvergenceWarning: Liblinear failed to converge, increase the number of iterations.\n",
      "  \"the number of iterations.\", ConvergenceWarning)\n"
     ]
    },
    {
     "name": "stdout",
     "output_type": "stream",
     "text": [
      "[CV] ................ C=0.01, max_iter=2000, tol=0.0001, total=   5.7s\n",
      "[CV] C=0.01, max_iter=2000, tol=0.0001 ...............................\n"
     ]
    },
    {
     "name": "stderr",
     "output_type": "stream",
     "text": [
      "/home/marina/anaconda3/lib/python3.7/site-packages/sklearn/svm/_base.py:947: ConvergenceWarning: Liblinear failed to converge, increase the number of iterations.\n",
      "  \"the number of iterations.\", ConvergenceWarning)\n"
     ]
    },
    {
     "name": "stdout",
     "output_type": "stream",
     "text": [
      "[CV] ................ C=0.01, max_iter=2000, tol=0.0001, total=   5.8s\n",
      "[CV] C=0.01, max_iter=2000, tol=0.0001 ...............................\n"
     ]
    },
    {
     "name": "stderr",
     "output_type": "stream",
     "text": [
      "/home/marina/anaconda3/lib/python3.7/site-packages/sklearn/svm/_base.py:947: ConvergenceWarning: Liblinear failed to converge, increase the number of iterations.\n",
      "  \"the number of iterations.\", ConvergenceWarning)\n"
     ]
    },
    {
     "name": "stdout",
     "output_type": "stream",
     "text": [
      "[CV] ................ C=0.01, max_iter=2000, tol=0.0001, total=   5.5s\n",
      "[CV] C=0.01, max_iter=2000, tol=0.0001 ...............................\n"
     ]
    },
    {
     "name": "stderr",
     "output_type": "stream",
     "text": [
      "/home/marina/anaconda3/lib/python3.7/site-packages/sklearn/svm/_base.py:947: ConvergenceWarning: Liblinear failed to converge, increase the number of iterations.\n",
      "  \"the number of iterations.\", ConvergenceWarning)\n"
     ]
    },
    {
     "name": "stdout",
     "output_type": "stream",
     "text": [
      "[CV] ................ C=0.01, max_iter=2000, tol=0.0001, total=   5.8s\n",
      "[CV] C=0.01, max_iter=2000, tol=0.0001 ...............................\n"
     ]
    },
    {
     "name": "stderr",
     "output_type": "stream",
     "text": [
      "/home/marina/anaconda3/lib/python3.7/site-packages/sklearn/svm/_base.py:947: ConvergenceWarning: Liblinear failed to converge, increase the number of iterations.\n",
      "  \"the number of iterations.\", ConvergenceWarning)\n"
     ]
    },
    {
     "name": "stdout",
     "output_type": "stream",
     "text": [
      "[CV] ................ C=0.01, max_iter=2000, tol=0.0001, total=   5.8s\n",
      "[CV] C=0.01, max_iter=2000, tol=0.001 ................................\n"
     ]
    },
    {
     "name": "stderr",
     "output_type": "stream",
     "text": [
      "/home/marina/anaconda3/lib/python3.7/site-packages/sklearn/svm/_base.py:947: ConvergenceWarning: Liblinear failed to converge, increase the number of iterations.\n",
      "  \"the number of iterations.\", ConvergenceWarning)\n"
     ]
    },
    {
     "name": "stdout",
     "output_type": "stream",
     "text": [
      "[CV] ................. C=0.01, max_iter=2000, tol=0.001, total=   5.6s\n",
      "[CV] C=0.01, max_iter=2000, tol=0.001 ................................\n"
     ]
    },
    {
     "name": "stderr",
     "output_type": "stream",
     "text": [
      "/home/marina/anaconda3/lib/python3.7/site-packages/sklearn/svm/_base.py:947: ConvergenceWarning: Liblinear failed to converge, increase the number of iterations.\n",
      "  \"the number of iterations.\", ConvergenceWarning)\n"
     ]
    },
    {
     "name": "stdout",
     "output_type": "stream",
     "text": [
      "[CV] ................. C=0.01, max_iter=2000, tol=0.001, total=   5.7s\n",
      "[CV] C=0.01, max_iter=2000, tol=0.001 ................................\n"
     ]
    },
    {
     "name": "stderr",
     "output_type": "stream",
     "text": [
      "/home/marina/anaconda3/lib/python3.7/site-packages/sklearn/svm/_base.py:947: ConvergenceWarning: Liblinear failed to converge, increase the number of iterations.\n",
      "  \"the number of iterations.\", ConvergenceWarning)\n"
     ]
    },
    {
     "name": "stdout",
     "output_type": "stream",
     "text": [
      "[CV] ................. C=0.01, max_iter=2000, tol=0.001, total=   5.6s\n",
      "[CV] C=0.01, max_iter=2000, tol=0.001 ................................\n"
     ]
    },
    {
     "name": "stderr",
     "output_type": "stream",
     "text": [
      "/home/marina/anaconda3/lib/python3.7/site-packages/sklearn/svm/_base.py:947: ConvergenceWarning: Liblinear failed to converge, increase the number of iterations.\n",
      "  \"the number of iterations.\", ConvergenceWarning)\n"
     ]
    },
    {
     "name": "stdout",
     "output_type": "stream",
     "text": [
      "[CV] ................. C=0.01, max_iter=2000, tol=0.001, total=   5.8s\n",
      "[CV] C=0.01, max_iter=2000, tol=0.001 ................................\n"
     ]
    },
    {
     "name": "stderr",
     "output_type": "stream",
     "text": [
      "/home/marina/anaconda3/lib/python3.7/site-packages/sklearn/svm/_base.py:947: ConvergenceWarning: Liblinear failed to converge, increase the number of iterations.\n",
      "  \"the number of iterations.\", ConvergenceWarning)\n"
     ]
    },
    {
     "name": "stdout",
     "output_type": "stream",
     "text": [
      "[CV] ................. C=0.01, max_iter=2000, tol=0.001, total=   5.5s\n",
      "[CV] C=0.01, max_iter=3000, tol=0.0001 ...............................\n"
     ]
    },
    {
     "name": "stderr",
     "output_type": "stream",
     "text": [
      "/home/marina/anaconda3/lib/python3.7/site-packages/sklearn/svm/_base.py:947: ConvergenceWarning: Liblinear failed to converge, increase the number of iterations.\n",
      "  \"the number of iterations.\", ConvergenceWarning)\n"
     ]
    },
    {
     "name": "stdout",
     "output_type": "stream",
     "text": [
      "[CV] ................ C=0.01, max_iter=3000, tol=0.0001, total=   8.2s\n",
      "[CV] C=0.01, max_iter=3000, tol=0.0001 ...............................\n"
     ]
    },
    {
     "name": "stderr",
     "output_type": "stream",
     "text": [
      "/home/marina/anaconda3/lib/python3.7/site-packages/sklearn/svm/_base.py:947: ConvergenceWarning: Liblinear failed to converge, increase the number of iterations.\n",
      "  \"the number of iterations.\", ConvergenceWarning)\n"
     ]
    },
    {
     "name": "stdout",
     "output_type": "stream",
     "text": [
      "[CV] ................ C=0.01, max_iter=3000, tol=0.0001, total=   8.7s\n",
      "[CV] C=0.01, max_iter=3000, tol=0.0001 ...............................\n"
     ]
    },
    {
     "name": "stderr",
     "output_type": "stream",
     "text": [
      "/home/marina/anaconda3/lib/python3.7/site-packages/sklearn/svm/_base.py:947: ConvergenceWarning: Liblinear failed to converge, increase the number of iterations.\n",
      "  \"the number of iterations.\", ConvergenceWarning)\n"
     ]
    },
    {
     "name": "stdout",
     "output_type": "stream",
     "text": [
      "[CV] ................ C=0.01, max_iter=3000, tol=0.0001, total=   9.0s\n",
      "[CV] C=0.01, max_iter=3000, tol=0.0001 ...............................\n"
     ]
    },
    {
     "name": "stderr",
     "output_type": "stream",
     "text": [
      "/home/marina/anaconda3/lib/python3.7/site-packages/sklearn/svm/_base.py:947: ConvergenceWarning: Liblinear failed to converge, increase the number of iterations.\n",
      "  \"the number of iterations.\", ConvergenceWarning)\n"
     ]
    },
    {
     "name": "stdout",
     "output_type": "stream",
     "text": [
      "[CV] ................ C=0.01, max_iter=3000, tol=0.0001, total=   9.3s\n",
      "[CV] C=0.01, max_iter=3000, tol=0.0001 ...............................\n"
     ]
    },
    {
     "name": "stderr",
     "output_type": "stream",
     "text": [
      "/home/marina/anaconda3/lib/python3.7/site-packages/sklearn/svm/_base.py:947: ConvergenceWarning: Liblinear failed to converge, increase the number of iterations.\n",
      "  \"the number of iterations.\", ConvergenceWarning)\n"
     ]
    },
    {
     "name": "stdout",
     "output_type": "stream",
     "text": [
      "[CV] ................ C=0.01, max_iter=3000, tol=0.0001, total=   8.4s\n",
      "[CV] C=0.01, max_iter=3000, tol=0.001 ................................\n"
     ]
    },
    {
     "name": "stderr",
     "output_type": "stream",
     "text": [
      "/home/marina/anaconda3/lib/python3.7/site-packages/sklearn/svm/_base.py:947: ConvergenceWarning: Liblinear failed to converge, increase the number of iterations.\n",
      "  \"the number of iterations.\", ConvergenceWarning)\n"
     ]
    },
    {
     "name": "stdout",
     "output_type": "stream",
     "text": [
      "[CV] ................. C=0.01, max_iter=3000, tol=0.001, total=   9.3s\n",
      "[CV] C=0.01, max_iter=3000, tol=0.001 ................................\n"
     ]
    },
    {
     "name": "stderr",
     "output_type": "stream",
     "text": [
      "/home/marina/anaconda3/lib/python3.7/site-packages/sklearn/svm/_base.py:947: ConvergenceWarning: Liblinear failed to converge, increase the number of iterations.\n",
      "  \"the number of iterations.\", ConvergenceWarning)\n"
     ]
    },
    {
     "name": "stdout",
     "output_type": "stream",
     "text": [
      "[CV] ................. C=0.01, max_iter=3000, tol=0.001, total=   8.5s\n",
      "[CV] C=0.01, max_iter=3000, tol=0.001 ................................\n"
     ]
    },
    {
     "name": "stderr",
     "output_type": "stream",
     "text": [
      "/home/marina/anaconda3/lib/python3.7/site-packages/sklearn/svm/_base.py:947: ConvergenceWarning: Liblinear failed to converge, increase the number of iterations.\n",
      "  \"the number of iterations.\", ConvergenceWarning)\n"
     ]
    },
    {
     "name": "stdout",
     "output_type": "stream",
     "text": [
      "[CV] ................. C=0.01, max_iter=3000, tol=0.001, total=   7.9s\n",
      "[CV] C=0.01, max_iter=3000, tol=0.001 ................................\n"
     ]
    },
    {
     "name": "stderr",
     "output_type": "stream",
     "text": [
      "/home/marina/anaconda3/lib/python3.7/site-packages/sklearn/svm/_base.py:947: ConvergenceWarning: Liblinear failed to converge, increase the number of iterations.\n",
      "  \"the number of iterations.\", ConvergenceWarning)\n"
     ]
    },
    {
     "name": "stdout",
     "output_type": "stream",
     "text": [
      "[CV] ................. C=0.01, max_iter=3000, tol=0.001, total=   8.4s\n",
      "[CV] C=0.01, max_iter=3000, tol=0.001 ................................\n"
     ]
    },
    {
     "name": "stderr",
     "output_type": "stream",
     "text": [
      "/home/marina/anaconda3/lib/python3.7/site-packages/sklearn/svm/_base.py:947: ConvergenceWarning: Liblinear failed to converge, increase the number of iterations.\n",
      "  \"the number of iterations.\", ConvergenceWarning)\n"
     ]
    },
    {
     "name": "stdout",
     "output_type": "stream",
     "text": [
      "[CV] ................. C=0.01, max_iter=3000, tol=0.001, total=   7.9s\n",
      "[CV] C=0.01, max_iter=1000, tol=0.0001 ...............................\n"
     ]
    },
    {
     "name": "stderr",
     "output_type": "stream",
     "text": [
      "/home/marina/anaconda3/lib/python3.7/site-packages/sklearn/svm/_base.py:947: ConvergenceWarning: Liblinear failed to converge, increase the number of iterations.\n",
      "  \"the number of iterations.\", ConvergenceWarning)\n"
     ]
    },
    {
     "name": "stdout",
     "output_type": "stream",
     "text": [
      "[CV] ................ C=0.01, max_iter=1000, tol=0.0001, total=   3.1s\n",
      "[CV] C=0.01, max_iter=1000, tol=0.0001 ...............................\n"
     ]
    },
    {
     "name": "stderr",
     "output_type": "stream",
     "text": [
      "/home/marina/anaconda3/lib/python3.7/site-packages/sklearn/svm/_base.py:947: ConvergenceWarning: Liblinear failed to converge, increase the number of iterations.\n",
      "  \"the number of iterations.\", ConvergenceWarning)\n"
     ]
    },
    {
     "name": "stdout",
     "output_type": "stream",
     "text": [
      "[CV] ................ C=0.01, max_iter=1000, tol=0.0001, total=   3.2s\n",
      "[CV] C=0.01, max_iter=1000, tol=0.0001 ...............................\n"
     ]
    },
    {
     "name": "stderr",
     "output_type": "stream",
     "text": [
      "/home/marina/anaconda3/lib/python3.7/site-packages/sklearn/svm/_base.py:947: ConvergenceWarning: Liblinear failed to converge, increase the number of iterations.\n",
      "  \"the number of iterations.\", ConvergenceWarning)\n"
     ]
    },
    {
     "name": "stdout",
     "output_type": "stream",
     "text": [
      "[CV] ................ C=0.01, max_iter=1000, tol=0.0001, total=   3.3s\n",
      "[CV] C=0.01, max_iter=1000, tol=0.0001 ...............................\n"
     ]
    },
    {
     "name": "stderr",
     "output_type": "stream",
     "text": [
      "/home/marina/anaconda3/lib/python3.7/site-packages/sklearn/svm/_base.py:947: ConvergenceWarning: Liblinear failed to converge, increase the number of iterations.\n",
      "  \"the number of iterations.\", ConvergenceWarning)\n"
     ]
    },
    {
     "name": "stdout",
     "output_type": "stream",
     "text": [
      "[CV] ................ C=0.01, max_iter=1000, tol=0.0001, total=   3.4s\n",
      "[CV] C=0.01, max_iter=1000, tol=0.0001 ...............................\n"
     ]
    },
    {
     "name": "stderr",
     "output_type": "stream",
     "text": [
      "/home/marina/anaconda3/lib/python3.7/site-packages/sklearn/svm/_base.py:947: ConvergenceWarning: Liblinear failed to converge, increase the number of iterations.\n",
      "  \"the number of iterations.\", ConvergenceWarning)\n"
     ]
    },
    {
     "name": "stdout",
     "output_type": "stream",
     "text": [
      "[CV] ................ C=0.01, max_iter=1000, tol=0.0001, total=   3.3s\n",
      "[CV] C=0.01, max_iter=1000, tol=0.001 ................................\n"
     ]
    },
    {
     "name": "stderr",
     "output_type": "stream",
     "text": [
      "/home/marina/anaconda3/lib/python3.7/site-packages/sklearn/svm/_base.py:947: ConvergenceWarning: Liblinear failed to converge, increase the number of iterations.\n",
      "  \"the number of iterations.\", ConvergenceWarning)\n"
     ]
    },
    {
     "name": "stdout",
     "output_type": "stream",
     "text": [
      "[CV] ................. C=0.01, max_iter=1000, tol=0.001, total=   3.2s\n",
      "[CV] C=0.01, max_iter=1000, tol=0.001 ................................\n"
     ]
    },
    {
     "name": "stderr",
     "output_type": "stream",
     "text": [
      "/home/marina/anaconda3/lib/python3.7/site-packages/sklearn/svm/_base.py:947: ConvergenceWarning: Liblinear failed to converge, increase the number of iterations.\n",
      "  \"the number of iterations.\", ConvergenceWarning)\n"
     ]
    },
    {
     "name": "stdout",
     "output_type": "stream",
     "text": [
      "[CV] ................. C=0.01, max_iter=1000, tol=0.001, total=   3.0s\n",
      "[CV] C=0.01, max_iter=1000, tol=0.001 ................................\n"
     ]
    },
    {
     "name": "stderr",
     "output_type": "stream",
     "text": [
      "/home/marina/anaconda3/lib/python3.7/site-packages/sklearn/svm/_base.py:947: ConvergenceWarning: Liblinear failed to converge, increase the number of iterations.\n",
      "  \"the number of iterations.\", ConvergenceWarning)\n"
     ]
    },
    {
     "name": "stdout",
     "output_type": "stream",
     "text": [
      "[CV] ................. C=0.01, max_iter=1000, tol=0.001, total=   3.0s\n",
      "[CV] C=0.01, max_iter=1000, tol=0.001 ................................\n"
     ]
    },
    {
     "name": "stderr",
     "output_type": "stream",
     "text": [
      "/home/marina/anaconda3/lib/python3.7/site-packages/sklearn/svm/_base.py:947: ConvergenceWarning: Liblinear failed to converge, increase the number of iterations.\n",
      "  \"the number of iterations.\", ConvergenceWarning)\n"
     ]
    },
    {
     "name": "stdout",
     "output_type": "stream",
     "text": [
      "[CV] ................. C=0.01, max_iter=1000, tol=0.001, total=   3.1s\n",
      "[CV] C=0.01, max_iter=1000, tol=0.001 ................................\n"
     ]
    },
    {
     "name": "stderr",
     "output_type": "stream",
     "text": [
      "/home/marina/anaconda3/lib/python3.7/site-packages/sklearn/svm/_base.py:947: ConvergenceWarning: Liblinear failed to converge, increase the number of iterations.\n",
      "  \"the number of iterations.\", ConvergenceWarning)\n"
     ]
    },
    {
     "name": "stdout",
     "output_type": "stream",
     "text": [
      "[CV] ................. C=0.01, max_iter=1000, tol=0.001, total=   3.1s\n",
      "[CV] C=0.001, max_iter=2000, tol=0.0001 ..............................\n"
     ]
    },
    {
     "name": "stderr",
     "output_type": "stream",
     "text": [
      "/home/marina/anaconda3/lib/python3.7/site-packages/sklearn/svm/_base.py:947: ConvergenceWarning: Liblinear failed to converge, increase the number of iterations.\n",
      "  \"the number of iterations.\", ConvergenceWarning)\n"
     ]
    },
    {
     "name": "stdout",
     "output_type": "stream",
     "text": [
      "[CV] ............... C=0.001, max_iter=2000, tol=0.0001, total=   5.1s\n",
      "[CV] C=0.001, max_iter=2000, tol=0.0001 ..............................\n"
     ]
    },
    {
     "name": "stderr",
     "output_type": "stream",
     "text": [
      "/home/marina/anaconda3/lib/python3.7/site-packages/sklearn/svm/_base.py:947: ConvergenceWarning: Liblinear failed to converge, increase the number of iterations.\n",
      "  \"the number of iterations.\", ConvergenceWarning)\n"
     ]
    },
    {
     "name": "stdout",
     "output_type": "stream",
     "text": [
      "[CV] ............... C=0.001, max_iter=2000, tol=0.0001, total=   4.8s\n",
      "[CV] C=0.001, max_iter=2000, tol=0.0001 ..............................\n"
     ]
    },
    {
     "name": "stderr",
     "output_type": "stream",
     "text": [
      "/home/marina/anaconda3/lib/python3.7/site-packages/sklearn/svm/_base.py:947: ConvergenceWarning: Liblinear failed to converge, increase the number of iterations.\n",
      "  \"the number of iterations.\", ConvergenceWarning)\n"
     ]
    },
    {
     "name": "stdout",
     "output_type": "stream",
     "text": [
      "[CV] ............... C=0.001, max_iter=2000, tol=0.0001, total=   4.9s\n",
      "[CV] C=0.001, max_iter=2000, tol=0.0001 ..............................\n"
     ]
    },
    {
     "name": "stderr",
     "output_type": "stream",
     "text": [
      "/home/marina/anaconda3/lib/python3.7/site-packages/sklearn/svm/_base.py:947: ConvergenceWarning: Liblinear failed to converge, increase the number of iterations.\n",
      "  \"the number of iterations.\", ConvergenceWarning)\n"
     ]
    },
    {
     "name": "stdout",
     "output_type": "stream",
     "text": [
      "[CV] ............... C=0.001, max_iter=2000, tol=0.0001, total=   5.8s\n",
      "[CV] C=0.001, max_iter=2000, tol=0.0001 ..............................\n"
     ]
    },
    {
     "name": "stderr",
     "output_type": "stream",
     "text": [
      "/home/marina/anaconda3/lib/python3.7/site-packages/sklearn/svm/_base.py:947: ConvergenceWarning: Liblinear failed to converge, increase the number of iterations.\n",
      "  \"the number of iterations.\", ConvergenceWarning)\n"
     ]
    },
    {
     "name": "stdout",
     "output_type": "stream",
     "text": [
      "[CV] ............... C=0.001, max_iter=2000, tol=0.0001, total=   5.2s\n",
      "[CV] C=0.001, max_iter=2000, tol=0.001 ...............................\n",
      "[CV] ................ C=0.001, max_iter=2000, tol=0.001, total=   4.2s\n",
      "[CV] C=0.001, max_iter=2000, tol=0.001 ...............................\n",
      "[CV] ................ C=0.001, max_iter=2000, tol=0.001, total=   2.9s\n",
      "[CV] C=0.001, max_iter=2000, tol=0.001 ...............................\n",
      "[CV] ................ C=0.001, max_iter=2000, tol=0.001, total=   4.5s\n",
      "[CV] C=0.001, max_iter=2000, tol=0.001 ...............................\n",
      "[CV] ................ C=0.001, max_iter=2000, tol=0.001, total=   3.1s\n",
      "[CV] C=0.001, max_iter=2000, tol=0.001 ...............................\n",
      "[CV] ................ C=0.001, max_iter=2000, tol=0.001, total=   3.1s\n",
      "[CV] C=0.001, max_iter=3000, tol=0.0001 ..............................\n",
      "[CV] ............... C=0.001, max_iter=3000, tol=0.0001, total=   4.2s\n",
      "[CV] C=0.001, max_iter=3000, tol=0.0001 ..............................\n",
      "[CV] ............... C=0.001, max_iter=3000, tol=0.0001, total=   4.0s\n",
      "[CV] C=0.001, max_iter=3000, tol=0.0001 ..............................\n",
      "[CV] ............... C=0.001, max_iter=3000, tol=0.0001, total=   4.0s\n",
      "[CV] C=0.001, max_iter=3000, tol=0.0001 ..............................\n",
      "[CV] ............... C=0.001, max_iter=3000, tol=0.0001, total=   3.9s\n",
      "[CV] C=0.001, max_iter=3000, tol=0.0001 ..............................\n",
      "[CV] ............... C=0.001, max_iter=3000, tol=0.0001, total=   3.9s\n",
      "[CV] C=0.001, max_iter=3000, tol=0.001 ...............................\n",
      "[CV] ................ C=0.001, max_iter=3000, tol=0.001, total=   3.0s\n",
      "[CV] C=0.001, max_iter=3000, tol=0.001 ...............................\n",
      "[CV] ................ C=0.001, max_iter=3000, tol=0.001, total=   3.1s\n",
      "[CV] C=0.001, max_iter=3000, tol=0.001 ...............................\n",
      "[CV] ................ C=0.001, max_iter=3000, tol=0.001, total=   3.7s\n",
      "[CV] C=0.001, max_iter=3000, tol=0.001 ...............................\n",
      "[CV] ................ C=0.001, max_iter=3000, tol=0.001, total=   3.4s\n",
      "[CV] C=0.001, max_iter=3000, tol=0.001 ...............................\n",
      "[CV] ................ C=0.001, max_iter=3000, tol=0.001, total=   5.1s\n",
      "[CV] C=0.001, max_iter=1000, tol=0.0001 ..............................\n"
     ]
    },
    {
     "name": "stderr",
     "output_type": "stream",
     "text": [
      "/home/marina/anaconda3/lib/python3.7/site-packages/sklearn/svm/_base.py:947: ConvergenceWarning: Liblinear failed to converge, increase the number of iterations.\n",
      "  \"the number of iterations.\", ConvergenceWarning)\n"
     ]
    },
    {
     "name": "stdout",
     "output_type": "stream",
     "text": [
      "[CV] ............... C=0.001, max_iter=1000, tol=0.0001, total=   2.6s\n",
      "[CV] C=0.001, max_iter=1000, tol=0.0001 ..............................\n"
     ]
    },
    {
     "name": "stderr",
     "output_type": "stream",
     "text": [
      "/home/marina/anaconda3/lib/python3.7/site-packages/sklearn/svm/_base.py:947: ConvergenceWarning: Liblinear failed to converge, increase the number of iterations.\n",
      "  \"the number of iterations.\", ConvergenceWarning)\n"
     ]
    },
    {
     "name": "stdout",
     "output_type": "stream",
     "text": [
      "[CV] ............... C=0.001, max_iter=1000, tol=0.0001, total=   2.6s\n",
      "[CV] C=0.001, max_iter=1000, tol=0.0001 ..............................\n"
     ]
    },
    {
     "name": "stderr",
     "output_type": "stream",
     "text": [
      "/home/marina/anaconda3/lib/python3.7/site-packages/sklearn/svm/_base.py:947: ConvergenceWarning: Liblinear failed to converge, increase the number of iterations.\n",
      "  \"the number of iterations.\", ConvergenceWarning)\n"
     ]
    },
    {
     "name": "stdout",
     "output_type": "stream",
     "text": [
      "[CV] ............... C=0.001, max_iter=1000, tol=0.0001, total=   2.6s\n",
      "[CV] C=0.001, max_iter=1000, tol=0.0001 ..............................\n"
     ]
    },
    {
     "name": "stderr",
     "output_type": "stream",
     "text": [
      "/home/marina/anaconda3/lib/python3.7/site-packages/sklearn/svm/_base.py:947: ConvergenceWarning: Liblinear failed to converge, increase the number of iterations.\n",
      "  \"the number of iterations.\", ConvergenceWarning)\n"
     ]
    },
    {
     "name": "stdout",
     "output_type": "stream",
     "text": [
      "[CV] ............... C=0.001, max_iter=1000, tol=0.0001, total=   2.7s\n",
      "[CV] C=0.001, max_iter=1000, tol=0.0001 ..............................\n"
     ]
    },
    {
     "name": "stderr",
     "output_type": "stream",
     "text": [
      "/home/marina/anaconda3/lib/python3.7/site-packages/sklearn/svm/_base.py:947: ConvergenceWarning: Liblinear failed to converge, increase the number of iterations.\n",
      "  \"the number of iterations.\", ConvergenceWarning)\n"
     ]
    },
    {
     "name": "stdout",
     "output_type": "stream",
     "text": [
      "[CV] ............... C=0.001, max_iter=1000, tol=0.0001, total=   2.5s\n",
      "[CV] C=0.001, max_iter=1000, tol=0.001 ...............................\n"
     ]
    },
    {
     "name": "stderr",
     "output_type": "stream",
     "text": [
      "/home/marina/anaconda3/lib/python3.7/site-packages/sklearn/svm/_base.py:947: ConvergenceWarning: Liblinear failed to converge, increase the number of iterations.\n",
      "  \"the number of iterations.\", ConvergenceWarning)\n"
     ]
    },
    {
     "name": "stdout",
     "output_type": "stream",
     "text": [
      "[CV] ................ C=0.001, max_iter=1000, tol=0.001, total=   2.5s\n",
      "[CV] C=0.001, max_iter=1000, tol=0.001 ...............................\n"
     ]
    },
    {
     "name": "stderr",
     "output_type": "stream",
     "text": [
      "/home/marina/anaconda3/lib/python3.7/site-packages/sklearn/svm/_base.py:947: ConvergenceWarning: Liblinear failed to converge, increase the number of iterations.\n",
      "  \"the number of iterations.\", ConvergenceWarning)\n"
     ]
    },
    {
     "name": "stdout",
     "output_type": "stream",
     "text": [
      "[CV] ................ C=0.001, max_iter=1000, tol=0.001, total=   2.5s\n",
      "[CV] C=0.001, max_iter=1000, tol=0.001 ...............................\n"
     ]
    },
    {
     "name": "stderr",
     "output_type": "stream",
     "text": [
      "/home/marina/anaconda3/lib/python3.7/site-packages/sklearn/svm/_base.py:947: ConvergenceWarning: Liblinear failed to converge, increase the number of iterations.\n",
      "  \"the number of iterations.\", ConvergenceWarning)\n"
     ]
    },
    {
     "name": "stdout",
     "output_type": "stream",
     "text": [
      "[CV] ................ C=0.001, max_iter=1000, tol=0.001, total=   2.5s\n",
      "[CV] C=0.001, max_iter=1000, tol=0.001 ...............................\n"
     ]
    },
    {
     "name": "stderr",
     "output_type": "stream",
     "text": [
      "/home/marina/anaconda3/lib/python3.7/site-packages/sklearn/svm/_base.py:947: ConvergenceWarning: Liblinear failed to converge, increase the number of iterations.\n",
      "  \"the number of iterations.\", ConvergenceWarning)\n"
     ]
    },
    {
     "name": "stdout",
     "output_type": "stream",
     "text": [
      "[CV] ................ C=0.001, max_iter=1000, tol=0.001, total=   2.6s\n",
      "[CV] C=0.001, max_iter=1000, tol=0.001 ...............................\n"
     ]
    },
    {
     "name": "stderr",
     "output_type": "stream",
     "text": [
      "/home/marina/anaconda3/lib/python3.7/site-packages/sklearn/svm/_base.py:947: ConvergenceWarning: Liblinear failed to converge, increase the number of iterations.\n",
      "  \"the number of iterations.\", ConvergenceWarning)\n"
     ]
    },
    {
     "name": "stdout",
     "output_type": "stream",
     "text": [
      "[CV] ................ C=0.001, max_iter=1000, tol=0.001, total=   2.6s\n",
      "[CV] C=0.0001, max_iter=2000, tol=0.0001 .............................\n",
      "[CV] .............. C=0.0001, max_iter=2000, tol=0.0001, total=   0.5s\n",
      "[CV] C=0.0001, max_iter=2000, tol=0.0001 .............................\n",
      "[CV] .............. C=0.0001, max_iter=2000, tol=0.0001, total=   0.5s\n",
      "[CV] C=0.0001, max_iter=2000, tol=0.0001 .............................\n",
      "[CV] .............. C=0.0001, max_iter=2000, tol=0.0001, total=   0.5s\n",
      "[CV] C=0.0001, max_iter=2000, tol=0.0001 .............................\n",
      "[CV] .............. C=0.0001, max_iter=2000, tol=0.0001, total=   0.5s\n",
      "[CV] C=0.0001, max_iter=2000, tol=0.0001 .............................\n",
      "[CV] .............. C=0.0001, max_iter=2000, tol=0.0001, total=   0.5s\n",
      "[CV] C=0.0001, max_iter=2000, tol=0.001 ..............................\n",
      "[CV] ............... C=0.0001, max_iter=2000, tol=0.001, total=   0.4s\n",
      "[CV] C=0.0001, max_iter=2000, tol=0.001 ..............................\n",
      "[CV] ............... C=0.0001, max_iter=2000, tol=0.001, total=   0.4s\n",
      "[CV] C=0.0001, max_iter=2000, tol=0.001 ..............................\n",
      "[CV] ............... C=0.0001, max_iter=2000, tol=0.001, total=   0.4s\n",
      "[CV] C=0.0001, max_iter=2000, tol=0.001 ..............................\n",
      "[CV] ............... C=0.0001, max_iter=2000, tol=0.001, total=   0.4s\n",
      "[CV] C=0.0001, max_iter=2000, tol=0.001 ..............................\n",
      "[CV] ............... C=0.0001, max_iter=2000, tol=0.001, total=   0.4s\n",
      "[CV] C=0.0001, max_iter=3000, tol=0.0001 .............................\n",
      "[CV] .............. C=0.0001, max_iter=3000, tol=0.0001, total=   0.5s\n",
      "[CV] C=0.0001, max_iter=3000, tol=0.0001 .............................\n",
      "[CV] .............. C=0.0001, max_iter=3000, tol=0.0001, total=   0.5s\n",
      "[CV] C=0.0001, max_iter=3000, tol=0.0001 .............................\n",
      "[CV] .............. C=0.0001, max_iter=3000, tol=0.0001, total=   0.5s\n",
      "[CV] C=0.0001, max_iter=3000, tol=0.0001 .............................\n",
      "[CV] .............. C=0.0001, max_iter=3000, tol=0.0001, total=   0.5s\n",
      "[CV] C=0.0001, max_iter=3000, tol=0.0001 .............................\n",
      "[CV] .............. C=0.0001, max_iter=3000, tol=0.0001, total=   0.5s\n",
      "[CV] C=0.0001, max_iter=3000, tol=0.001 ..............................\n",
      "[CV] ............... C=0.0001, max_iter=3000, tol=0.001, total=   0.4s\n",
      "[CV] C=0.0001, max_iter=3000, tol=0.001 ..............................\n",
      "[CV] ............... C=0.0001, max_iter=3000, tol=0.001, total=   0.4s\n",
      "[CV] C=0.0001, max_iter=3000, tol=0.001 ..............................\n",
      "[CV] ............... C=0.0001, max_iter=3000, tol=0.001, total=   0.4s\n",
      "[CV] C=0.0001, max_iter=3000, tol=0.001 ..............................\n",
      "[CV] ............... C=0.0001, max_iter=3000, tol=0.001, total=   0.4s\n",
      "[CV] C=0.0001, max_iter=3000, tol=0.001 ..............................\n",
      "[CV] ............... C=0.0001, max_iter=3000, tol=0.001, total=   0.4s\n",
      "[CV] C=0.0001, max_iter=1000, tol=0.0001 .............................\n",
      "[CV] .............. C=0.0001, max_iter=1000, tol=0.0001, total=   0.5s\n",
      "[CV] C=0.0001, max_iter=1000, tol=0.0001 .............................\n",
      "[CV] .............. C=0.0001, max_iter=1000, tol=0.0001, total=   0.5s\n",
      "[CV] C=0.0001, max_iter=1000, tol=0.0001 .............................\n",
      "[CV] .............. C=0.0001, max_iter=1000, tol=0.0001, total=   0.5s\n",
      "[CV] C=0.0001, max_iter=1000, tol=0.0001 .............................\n",
      "[CV] .............. C=0.0001, max_iter=1000, tol=0.0001, total=   0.4s\n",
      "[CV] C=0.0001, max_iter=1000, tol=0.0001 .............................\n",
      "[CV] .............. C=0.0001, max_iter=1000, tol=0.0001, total=   0.5s\n",
      "[CV] C=0.0001, max_iter=1000, tol=0.001 ..............................\n",
      "[CV] ............... C=0.0001, max_iter=1000, tol=0.001, total=   0.4s\n",
      "[CV] C=0.0001, max_iter=1000, tol=0.001 ..............................\n",
      "[CV] ............... C=0.0001, max_iter=1000, tol=0.001, total=   0.4s\n",
      "[CV] C=0.0001, max_iter=1000, tol=0.001 ..............................\n",
      "[CV] ............... C=0.0001, max_iter=1000, tol=0.001, total=   0.4s\n",
      "[CV] C=0.0001, max_iter=1000, tol=0.001 ..............................\n",
      "[CV] ............... C=0.0001, max_iter=1000, tol=0.001, total=   0.4s\n",
      "[CV] C=0.0001, max_iter=1000, tol=0.001 ..............................\n",
      "[CV] ............... C=0.0001, max_iter=1000, tol=0.001, total=   0.4s\n",
      "[CV] C=10, max_iter=2000, tol=0.0001 .................................\n"
     ]
    },
    {
     "name": "stderr",
     "output_type": "stream",
     "text": [
      "/home/marina/anaconda3/lib/python3.7/site-packages/sklearn/svm/_base.py:947: ConvergenceWarning: Liblinear failed to converge, increase the number of iterations.\n",
      "  \"the number of iterations.\", ConvergenceWarning)\n"
     ]
    },
    {
     "name": "stdout",
     "output_type": "stream",
     "text": [
      "[CV] .................. C=10, max_iter=2000, tol=0.0001, total=   6.3s\n",
      "[CV] C=10, max_iter=2000, tol=0.0001 .................................\n"
     ]
    },
    {
     "name": "stderr",
     "output_type": "stream",
     "text": [
      "/home/marina/anaconda3/lib/python3.7/site-packages/sklearn/svm/_base.py:947: ConvergenceWarning: Liblinear failed to converge, increase the number of iterations.\n",
      "  \"the number of iterations.\", ConvergenceWarning)\n"
     ]
    },
    {
     "name": "stdout",
     "output_type": "stream",
     "text": [
      "[CV] .................. C=10, max_iter=2000, tol=0.0001, total=   6.3s\n",
      "[CV] C=10, max_iter=2000, tol=0.0001 .................................\n"
     ]
    },
    {
     "name": "stderr",
     "output_type": "stream",
     "text": [
      "/home/marina/anaconda3/lib/python3.7/site-packages/sklearn/svm/_base.py:947: ConvergenceWarning: Liblinear failed to converge, increase the number of iterations.\n",
      "  \"the number of iterations.\", ConvergenceWarning)\n"
     ]
    },
    {
     "name": "stdout",
     "output_type": "stream",
     "text": [
      "[CV] .................. C=10, max_iter=2000, tol=0.0001, total=   6.6s\n",
      "[CV] C=10, max_iter=2000, tol=0.0001 .................................\n"
     ]
    },
    {
     "name": "stderr",
     "output_type": "stream",
     "text": [
      "/home/marina/anaconda3/lib/python3.7/site-packages/sklearn/svm/_base.py:947: ConvergenceWarning: Liblinear failed to converge, increase the number of iterations.\n",
      "  \"the number of iterations.\", ConvergenceWarning)\n"
     ]
    },
    {
     "name": "stdout",
     "output_type": "stream",
     "text": [
      "[CV] .................. C=10, max_iter=2000, tol=0.0001, total=   6.6s\n",
      "[CV] C=10, max_iter=2000, tol=0.0001 .................................\n"
     ]
    },
    {
     "name": "stderr",
     "output_type": "stream",
     "text": [
      "/home/marina/anaconda3/lib/python3.7/site-packages/sklearn/svm/_base.py:947: ConvergenceWarning: Liblinear failed to converge, increase the number of iterations.\n",
      "  \"the number of iterations.\", ConvergenceWarning)\n"
     ]
    },
    {
     "name": "stdout",
     "output_type": "stream",
     "text": [
      "[CV] .................. C=10, max_iter=2000, tol=0.0001, total=   6.3s\n",
      "[CV] C=10, max_iter=2000, tol=0.001 ..................................\n"
     ]
    },
    {
     "name": "stderr",
     "output_type": "stream",
     "text": [
      "/home/marina/anaconda3/lib/python3.7/site-packages/sklearn/svm/_base.py:947: ConvergenceWarning: Liblinear failed to converge, increase the number of iterations.\n",
      "  \"the number of iterations.\", ConvergenceWarning)\n"
     ]
    },
    {
     "name": "stdout",
     "output_type": "stream",
     "text": [
      "[CV] ................... C=10, max_iter=2000, tol=0.001, total=   6.5s\n",
      "[CV] C=10, max_iter=2000, tol=0.001 ..................................\n"
     ]
    },
    {
     "name": "stderr",
     "output_type": "stream",
     "text": [
      "/home/marina/anaconda3/lib/python3.7/site-packages/sklearn/svm/_base.py:947: ConvergenceWarning: Liblinear failed to converge, increase the number of iterations.\n",
      "  \"the number of iterations.\", ConvergenceWarning)\n"
     ]
    },
    {
     "name": "stdout",
     "output_type": "stream",
     "text": [
      "[CV] ................... C=10, max_iter=2000, tol=0.001, total=   6.4s\n",
      "[CV] C=10, max_iter=2000, tol=0.001 ..................................\n"
     ]
    },
    {
     "name": "stderr",
     "output_type": "stream",
     "text": [
      "/home/marina/anaconda3/lib/python3.7/site-packages/sklearn/svm/_base.py:947: ConvergenceWarning: Liblinear failed to converge, increase the number of iterations.\n",
      "  \"the number of iterations.\", ConvergenceWarning)\n"
     ]
    },
    {
     "name": "stdout",
     "output_type": "stream",
     "text": [
      "[CV] ................... C=10, max_iter=2000, tol=0.001, total=   6.3s\n",
      "[CV] C=10, max_iter=2000, tol=0.001 ..................................\n"
     ]
    },
    {
     "name": "stderr",
     "output_type": "stream",
     "text": [
      "/home/marina/anaconda3/lib/python3.7/site-packages/sklearn/svm/_base.py:947: ConvergenceWarning: Liblinear failed to converge, increase the number of iterations.\n",
      "  \"the number of iterations.\", ConvergenceWarning)\n"
     ]
    },
    {
     "name": "stdout",
     "output_type": "stream",
     "text": [
      "[CV] ................... C=10, max_iter=2000, tol=0.001, total=   6.3s\n",
      "[CV] C=10, max_iter=2000, tol=0.001 ..................................\n"
     ]
    },
    {
     "name": "stderr",
     "output_type": "stream",
     "text": [
      "/home/marina/anaconda3/lib/python3.7/site-packages/sklearn/svm/_base.py:947: ConvergenceWarning: Liblinear failed to converge, increase the number of iterations.\n",
      "  \"the number of iterations.\", ConvergenceWarning)\n"
     ]
    },
    {
     "name": "stdout",
     "output_type": "stream",
     "text": [
      "[CV] ................... C=10, max_iter=2000, tol=0.001, total=   6.5s\n",
      "[CV] C=10, max_iter=3000, tol=0.0001 .................................\n"
     ]
    },
    {
     "name": "stderr",
     "output_type": "stream",
     "text": [
      "/home/marina/anaconda3/lib/python3.7/site-packages/sklearn/svm/_base.py:947: ConvergenceWarning: Liblinear failed to converge, increase the number of iterations.\n",
      "  \"the number of iterations.\", ConvergenceWarning)\n"
     ]
    },
    {
     "name": "stdout",
     "output_type": "stream",
     "text": [
      "[CV] .................. C=10, max_iter=3000, tol=0.0001, total=   9.6s\n",
      "[CV] C=10, max_iter=3000, tol=0.0001 .................................\n"
     ]
    },
    {
     "name": "stderr",
     "output_type": "stream",
     "text": [
      "/home/marina/anaconda3/lib/python3.7/site-packages/sklearn/svm/_base.py:947: ConvergenceWarning: Liblinear failed to converge, increase the number of iterations.\n",
      "  \"the number of iterations.\", ConvergenceWarning)\n"
     ]
    },
    {
     "name": "stdout",
     "output_type": "stream",
     "text": [
      "[CV] .................. C=10, max_iter=3000, tol=0.0001, total=   9.5s\n",
      "[CV] C=10, max_iter=3000, tol=0.0001 .................................\n"
     ]
    },
    {
     "name": "stderr",
     "output_type": "stream",
     "text": [
      "/home/marina/anaconda3/lib/python3.7/site-packages/sklearn/svm/_base.py:947: ConvergenceWarning: Liblinear failed to converge, increase the number of iterations.\n",
      "  \"the number of iterations.\", ConvergenceWarning)\n"
     ]
    },
    {
     "name": "stdout",
     "output_type": "stream",
     "text": [
      "[CV] .................. C=10, max_iter=3000, tol=0.0001, total=   9.5s\n",
      "[CV] C=10, max_iter=3000, tol=0.0001 .................................\n"
     ]
    },
    {
     "name": "stderr",
     "output_type": "stream",
     "text": [
      "/home/marina/anaconda3/lib/python3.7/site-packages/sklearn/svm/_base.py:947: ConvergenceWarning: Liblinear failed to converge, increase the number of iterations.\n",
      "  \"the number of iterations.\", ConvergenceWarning)\n"
     ]
    },
    {
     "name": "stdout",
     "output_type": "stream",
     "text": [
      "[CV] .................. C=10, max_iter=3000, tol=0.0001, total=  10.6s\n",
      "[CV] C=10, max_iter=3000, tol=0.0001 .................................\n"
     ]
    },
    {
     "name": "stderr",
     "output_type": "stream",
     "text": [
      "/home/marina/anaconda3/lib/python3.7/site-packages/sklearn/svm/_base.py:947: ConvergenceWarning: Liblinear failed to converge, increase the number of iterations.\n",
      "  \"the number of iterations.\", ConvergenceWarning)\n"
     ]
    },
    {
     "name": "stdout",
     "output_type": "stream",
     "text": [
      "[CV] .................. C=10, max_iter=3000, tol=0.0001, total=   9.5s\n",
      "[CV] C=10, max_iter=3000, tol=0.001 ..................................\n"
     ]
    },
    {
     "name": "stderr",
     "output_type": "stream",
     "text": [
      "/home/marina/anaconda3/lib/python3.7/site-packages/sklearn/svm/_base.py:947: ConvergenceWarning: Liblinear failed to converge, increase the number of iterations.\n",
      "  \"the number of iterations.\", ConvergenceWarning)\n"
     ]
    },
    {
     "name": "stdout",
     "output_type": "stream",
     "text": [
      "[CV] ................... C=10, max_iter=3000, tol=0.001, total=   9.5s\n",
      "[CV] C=10, max_iter=3000, tol=0.001 ..................................\n"
     ]
    },
    {
     "name": "stderr",
     "output_type": "stream",
     "text": [
      "/home/marina/anaconda3/lib/python3.7/site-packages/sklearn/svm/_base.py:947: ConvergenceWarning: Liblinear failed to converge, increase the number of iterations.\n",
      "  \"the number of iterations.\", ConvergenceWarning)\n"
     ]
    },
    {
     "name": "stdout",
     "output_type": "stream",
     "text": [
      "[CV] ................... C=10, max_iter=3000, tol=0.001, total=   9.4s\n",
      "[CV] C=10, max_iter=3000, tol=0.001 ..................................\n"
     ]
    },
    {
     "name": "stderr",
     "output_type": "stream",
     "text": [
      "/home/marina/anaconda3/lib/python3.7/site-packages/sklearn/svm/_base.py:947: ConvergenceWarning: Liblinear failed to converge, increase the number of iterations.\n",
      "  \"the number of iterations.\", ConvergenceWarning)\n"
     ]
    },
    {
     "name": "stdout",
     "output_type": "stream",
     "text": [
      "[CV] ................... C=10, max_iter=3000, tol=0.001, total=  10.1s\n",
      "[CV] C=10, max_iter=3000, tol=0.001 ..................................\n"
     ]
    },
    {
     "name": "stderr",
     "output_type": "stream",
     "text": [
      "/home/marina/anaconda3/lib/python3.7/site-packages/sklearn/svm/_base.py:947: ConvergenceWarning: Liblinear failed to converge, increase the number of iterations.\n",
      "  \"the number of iterations.\", ConvergenceWarning)\n"
     ]
    },
    {
     "name": "stdout",
     "output_type": "stream",
     "text": [
      "[CV] ................... C=10, max_iter=3000, tol=0.001, total=  10.0s\n",
      "[CV] C=10, max_iter=3000, tol=0.001 ..................................\n"
     ]
    },
    {
     "name": "stderr",
     "output_type": "stream",
     "text": [
      "/home/marina/anaconda3/lib/python3.7/site-packages/sklearn/svm/_base.py:947: ConvergenceWarning: Liblinear failed to converge, increase the number of iterations.\n",
      "  \"the number of iterations.\", ConvergenceWarning)\n"
     ]
    },
    {
     "name": "stdout",
     "output_type": "stream",
     "text": [
      "[CV] ................... C=10, max_iter=3000, tol=0.001, total=  10.0s\n",
      "[CV] C=10, max_iter=1000, tol=0.0001 .................................\n"
     ]
    },
    {
     "name": "stderr",
     "output_type": "stream",
     "text": [
      "/home/marina/anaconda3/lib/python3.7/site-packages/sklearn/svm/_base.py:947: ConvergenceWarning: Liblinear failed to converge, increase the number of iterations.\n",
      "  \"the number of iterations.\", ConvergenceWarning)\n"
     ]
    },
    {
     "name": "stdout",
     "output_type": "stream",
     "text": [
      "[CV] .................. C=10, max_iter=1000, tol=0.0001, total=   3.3s\n",
      "[CV] C=10, max_iter=1000, tol=0.0001 .................................\n"
     ]
    },
    {
     "name": "stderr",
     "output_type": "stream",
     "text": [
      "/home/marina/anaconda3/lib/python3.7/site-packages/sklearn/svm/_base.py:947: ConvergenceWarning: Liblinear failed to converge, increase the number of iterations.\n",
      "  \"the number of iterations.\", ConvergenceWarning)\n"
     ]
    },
    {
     "name": "stdout",
     "output_type": "stream",
     "text": [
      "[CV] .................. C=10, max_iter=1000, tol=0.0001, total=   3.3s\n",
      "[CV] C=10, max_iter=1000, tol=0.0001 .................................\n"
     ]
    },
    {
     "name": "stderr",
     "output_type": "stream",
     "text": [
      "/home/marina/anaconda3/lib/python3.7/site-packages/sklearn/svm/_base.py:947: ConvergenceWarning: Liblinear failed to converge, increase the number of iterations.\n",
      "  \"the number of iterations.\", ConvergenceWarning)\n"
     ]
    },
    {
     "name": "stdout",
     "output_type": "stream",
     "text": [
      "[CV] .................. C=10, max_iter=1000, tol=0.0001, total=   3.3s\n",
      "[CV] C=10, max_iter=1000, tol=0.0001 .................................\n"
     ]
    },
    {
     "name": "stderr",
     "output_type": "stream",
     "text": [
      "/home/marina/anaconda3/lib/python3.7/site-packages/sklearn/svm/_base.py:947: ConvergenceWarning: Liblinear failed to converge, increase the number of iterations.\n",
      "  \"the number of iterations.\", ConvergenceWarning)\n"
     ]
    },
    {
     "name": "stdout",
     "output_type": "stream",
     "text": [
      "[CV] .................. C=10, max_iter=1000, tol=0.0001, total=   3.3s\n",
      "[CV] C=10, max_iter=1000, tol=0.0001 .................................\n"
     ]
    },
    {
     "name": "stderr",
     "output_type": "stream",
     "text": [
      "/home/marina/anaconda3/lib/python3.7/site-packages/sklearn/svm/_base.py:947: ConvergenceWarning: Liblinear failed to converge, increase the number of iterations.\n",
      "  \"the number of iterations.\", ConvergenceWarning)\n"
     ]
    },
    {
     "name": "stdout",
     "output_type": "stream",
     "text": [
      "[CV] .................. C=10, max_iter=1000, tol=0.0001, total=   3.2s\n",
      "[CV] C=10, max_iter=1000, tol=0.001 ..................................\n"
     ]
    },
    {
     "name": "stderr",
     "output_type": "stream",
     "text": [
      "/home/marina/anaconda3/lib/python3.7/site-packages/sklearn/svm/_base.py:947: ConvergenceWarning: Liblinear failed to converge, increase the number of iterations.\n",
      "  \"the number of iterations.\", ConvergenceWarning)\n"
     ]
    },
    {
     "name": "stdout",
     "output_type": "stream",
     "text": [
      "[CV] ................... C=10, max_iter=1000, tol=0.001, total=   3.2s\n",
      "[CV] C=10, max_iter=1000, tol=0.001 ..................................\n"
     ]
    },
    {
     "name": "stderr",
     "output_type": "stream",
     "text": [
      "/home/marina/anaconda3/lib/python3.7/site-packages/sklearn/svm/_base.py:947: ConvergenceWarning: Liblinear failed to converge, increase the number of iterations.\n",
      "  \"the number of iterations.\", ConvergenceWarning)\n"
     ]
    },
    {
     "name": "stdout",
     "output_type": "stream",
     "text": [
      "[CV] ................... C=10, max_iter=1000, tol=0.001, total=   3.2s\n",
      "[CV] C=10, max_iter=1000, tol=0.001 ..................................\n"
     ]
    },
    {
     "name": "stderr",
     "output_type": "stream",
     "text": [
      "/home/marina/anaconda3/lib/python3.7/site-packages/sklearn/svm/_base.py:947: ConvergenceWarning: Liblinear failed to converge, increase the number of iterations.\n",
      "  \"the number of iterations.\", ConvergenceWarning)\n"
     ]
    },
    {
     "name": "stdout",
     "output_type": "stream",
     "text": [
      "[CV] ................... C=10, max_iter=1000, tol=0.001, total=   3.4s\n",
      "[CV] C=10, max_iter=1000, tol=0.001 ..................................\n"
     ]
    },
    {
     "name": "stderr",
     "output_type": "stream",
     "text": [
      "/home/marina/anaconda3/lib/python3.7/site-packages/sklearn/svm/_base.py:947: ConvergenceWarning: Liblinear failed to converge, increase the number of iterations.\n",
      "  \"the number of iterations.\", ConvergenceWarning)\n"
     ]
    },
    {
     "name": "stdout",
     "output_type": "stream",
     "text": [
      "[CV] ................... C=10, max_iter=1000, tol=0.001, total=   3.3s\n",
      "[CV] C=10, max_iter=1000, tol=0.001 ..................................\n"
     ]
    },
    {
     "name": "stderr",
     "output_type": "stream",
     "text": [
      "/home/marina/anaconda3/lib/python3.7/site-packages/sklearn/svm/_base.py:947: ConvergenceWarning: Liblinear failed to converge, increase the number of iterations.\n",
      "  \"the number of iterations.\", ConvergenceWarning)\n"
     ]
    },
    {
     "name": "stdout",
     "output_type": "stream",
     "text": [
      "[CV] ................... C=10, max_iter=1000, tol=0.001, total=   3.3s\n",
      "[CV] C=100, max_iter=2000, tol=0.0001 ................................\n"
     ]
    },
    {
     "name": "stderr",
     "output_type": "stream",
     "text": [
      "/home/marina/anaconda3/lib/python3.7/site-packages/sklearn/svm/_base.py:947: ConvergenceWarning: Liblinear failed to converge, increase the number of iterations.\n",
      "  \"the number of iterations.\", ConvergenceWarning)\n"
     ]
    },
    {
     "name": "stdout",
     "output_type": "stream",
     "text": [
      "[CV] ................. C=100, max_iter=2000, tol=0.0001, total=   6.5s\n",
      "[CV] C=100, max_iter=2000, tol=0.0001 ................................\n"
     ]
    },
    {
     "name": "stderr",
     "output_type": "stream",
     "text": [
      "/home/marina/anaconda3/lib/python3.7/site-packages/sklearn/svm/_base.py:947: ConvergenceWarning: Liblinear failed to converge, increase the number of iterations.\n",
      "  \"the number of iterations.\", ConvergenceWarning)\n"
     ]
    },
    {
     "name": "stdout",
     "output_type": "stream",
     "text": [
      "[CV] ................. C=100, max_iter=2000, tol=0.0001, total=   6.4s\n",
      "[CV] C=100, max_iter=2000, tol=0.0001 ................................\n"
     ]
    },
    {
     "name": "stderr",
     "output_type": "stream",
     "text": [
      "/home/marina/anaconda3/lib/python3.7/site-packages/sklearn/svm/_base.py:947: ConvergenceWarning: Liblinear failed to converge, increase the number of iterations.\n",
      "  \"the number of iterations.\", ConvergenceWarning)\n"
     ]
    },
    {
     "name": "stdout",
     "output_type": "stream",
     "text": [
      "[CV] ................. C=100, max_iter=2000, tol=0.0001, total=   6.6s\n",
      "[CV] C=100, max_iter=2000, tol=0.0001 ................................\n"
     ]
    },
    {
     "name": "stderr",
     "output_type": "stream",
     "text": [
      "/home/marina/anaconda3/lib/python3.7/site-packages/sklearn/svm/_base.py:947: ConvergenceWarning: Liblinear failed to converge, increase the number of iterations.\n",
      "  \"the number of iterations.\", ConvergenceWarning)\n"
     ]
    },
    {
     "name": "stdout",
     "output_type": "stream",
     "text": [
      "[CV] ................. C=100, max_iter=2000, tol=0.0001, total=   6.5s\n",
      "[CV] C=100, max_iter=2000, tol=0.0001 ................................\n"
     ]
    },
    {
     "name": "stderr",
     "output_type": "stream",
     "text": [
      "/home/marina/anaconda3/lib/python3.7/site-packages/sklearn/svm/_base.py:947: ConvergenceWarning: Liblinear failed to converge, increase the number of iterations.\n",
      "  \"the number of iterations.\", ConvergenceWarning)\n"
     ]
    },
    {
     "name": "stdout",
     "output_type": "stream",
     "text": [
      "[CV] ................. C=100, max_iter=2000, tol=0.0001, total=   6.3s\n",
      "[CV] C=100, max_iter=2000, tol=0.001 .................................\n"
     ]
    },
    {
     "name": "stderr",
     "output_type": "stream",
     "text": [
      "/home/marina/anaconda3/lib/python3.7/site-packages/sklearn/svm/_base.py:947: ConvergenceWarning: Liblinear failed to converge, increase the number of iterations.\n",
      "  \"the number of iterations.\", ConvergenceWarning)\n"
     ]
    },
    {
     "name": "stdout",
     "output_type": "stream",
     "text": [
      "[CV] .................. C=100, max_iter=2000, tol=0.001, total=   6.3s\n",
      "[CV] C=100, max_iter=2000, tol=0.001 .................................\n"
     ]
    },
    {
     "name": "stderr",
     "output_type": "stream",
     "text": [
      "/home/marina/anaconda3/lib/python3.7/site-packages/sklearn/svm/_base.py:947: ConvergenceWarning: Liblinear failed to converge, increase the number of iterations.\n",
      "  \"the number of iterations.\", ConvergenceWarning)\n"
     ]
    },
    {
     "name": "stdout",
     "output_type": "stream",
     "text": [
      "[CV] .................. C=100, max_iter=2000, tol=0.001, total=   6.8s\n",
      "[CV] C=100, max_iter=2000, tol=0.001 .................................\n"
     ]
    },
    {
     "name": "stderr",
     "output_type": "stream",
     "text": [
      "/home/marina/anaconda3/lib/python3.7/site-packages/sklearn/svm/_base.py:947: ConvergenceWarning: Liblinear failed to converge, increase the number of iterations.\n",
      "  \"the number of iterations.\", ConvergenceWarning)\n"
     ]
    },
    {
     "name": "stdout",
     "output_type": "stream",
     "text": [
      "[CV] .................. C=100, max_iter=2000, tol=0.001, total=   6.4s\n",
      "[CV] C=100, max_iter=2000, tol=0.001 .................................\n"
     ]
    },
    {
     "name": "stderr",
     "output_type": "stream",
     "text": [
      "/home/marina/anaconda3/lib/python3.7/site-packages/sklearn/svm/_base.py:947: ConvergenceWarning: Liblinear failed to converge, increase the number of iterations.\n",
      "  \"the number of iterations.\", ConvergenceWarning)\n"
     ]
    },
    {
     "name": "stdout",
     "output_type": "stream",
     "text": [
      "[CV] .................. C=100, max_iter=2000, tol=0.001, total=   6.3s\n",
      "[CV] C=100, max_iter=2000, tol=0.001 .................................\n"
     ]
    },
    {
     "name": "stderr",
     "output_type": "stream",
     "text": [
      "/home/marina/anaconda3/lib/python3.7/site-packages/sklearn/svm/_base.py:947: ConvergenceWarning: Liblinear failed to converge, increase the number of iterations.\n",
      "  \"the number of iterations.\", ConvergenceWarning)\n"
     ]
    },
    {
     "name": "stdout",
     "output_type": "stream",
     "text": [
      "[CV] .................. C=100, max_iter=2000, tol=0.001, total=   6.9s\n",
      "[CV] C=100, max_iter=3000, tol=0.0001 ................................\n"
     ]
    },
    {
     "name": "stderr",
     "output_type": "stream",
     "text": [
      "/home/marina/anaconda3/lib/python3.7/site-packages/sklearn/svm/_base.py:947: ConvergenceWarning: Liblinear failed to converge, increase the number of iterations.\n",
      "  \"the number of iterations.\", ConvergenceWarning)\n"
     ]
    },
    {
     "name": "stdout",
     "output_type": "stream",
     "text": [
      "[CV] ................. C=100, max_iter=3000, tol=0.0001, total=   9.8s\n",
      "[CV] C=100, max_iter=3000, tol=0.0001 ................................\n"
     ]
    },
    {
     "name": "stderr",
     "output_type": "stream",
     "text": [
      "/home/marina/anaconda3/lib/python3.7/site-packages/sklearn/svm/_base.py:947: ConvergenceWarning: Liblinear failed to converge, increase the number of iterations.\n",
      "  \"the number of iterations.\", ConvergenceWarning)\n"
     ]
    },
    {
     "name": "stdout",
     "output_type": "stream",
     "text": [
      "[CV] ................. C=100, max_iter=3000, tol=0.0001, total=   9.4s\n",
      "[CV] C=100, max_iter=3000, tol=0.0001 ................................\n"
     ]
    },
    {
     "name": "stderr",
     "output_type": "stream",
     "text": [
      "/home/marina/anaconda3/lib/python3.7/site-packages/sklearn/svm/_base.py:947: ConvergenceWarning: Liblinear failed to converge, increase the number of iterations.\n",
      "  \"the number of iterations.\", ConvergenceWarning)\n"
     ]
    },
    {
     "name": "stdout",
     "output_type": "stream",
     "text": [
      "[CV] ................. C=100, max_iter=3000, tol=0.0001, total=   9.2s\n",
      "[CV] C=100, max_iter=3000, tol=0.0001 ................................\n"
     ]
    },
    {
     "name": "stderr",
     "output_type": "stream",
     "text": [
      "/home/marina/anaconda3/lib/python3.7/site-packages/sklearn/svm/_base.py:947: ConvergenceWarning: Liblinear failed to converge, increase the number of iterations.\n",
      "  \"the number of iterations.\", ConvergenceWarning)\n"
     ]
    },
    {
     "name": "stdout",
     "output_type": "stream",
     "text": [
      "[CV] ................. C=100, max_iter=3000, tol=0.0001, total=  10.0s\n",
      "[CV] C=100, max_iter=3000, tol=0.0001 ................................\n"
     ]
    },
    {
     "name": "stderr",
     "output_type": "stream",
     "text": [
      "/home/marina/anaconda3/lib/python3.7/site-packages/sklearn/svm/_base.py:947: ConvergenceWarning: Liblinear failed to converge, increase the number of iterations.\n",
      "  \"the number of iterations.\", ConvergenceWarning)\n"
     ]
    },
    {
     "name": "stdout",
     "output_type": "stream",
     "text": [
      "[CV] ................. C=100, max_iter=3000, tol=0.0001, total=   9.9s\n",
      "[CV] C=100, max_iter=3000, tol=0.001 .................................\n"
     ]
    },
    {
     "name": "stderr",
     "output_type": "stream",
     "text": [
      "/home/marina/anaconda3/lib/python3.7/site-packages/sklearn/svm/_base.py:947: ConvergenceWarning: Liblinear failed to converge, increase the number of iterations.\n",
      "  \"the number of iterations.\", ConvergenceWarning)\n"
     ]
    },
    {
     "name": "stdout",
     "output_type": "stream",
     "text": [
      "[CV] .................. C=100, max_iter=3000, tol=0.001, total=  10.7s\n",
      "[CV] C=100, max_iter=3000, tol=0.001 .................................\n"
     ]
    },
    {
     "name": "stderr",
     "output_type": "stream",
     "text": [
      "/home/marina/anaconda3/lib/python3.7/site-packages/sklearn/svm/_base.py:947: ConvergenceWarning: Liblinear failed to converge, increase the number of iterations.\n",
      "  \"the number of iterations.\", ConvergenceWarning)\n"
     ]
    },
    {
     "name": "stdout",
     "output_type": "stream",
     "text": [
      "[CV] .................. C=100, max_iter=3000, tol=0.001, total=  10.4s\n",
      "[CV] C=100, max_iter=3000, tol=0.001 .................................\n"
     ]
    },
    {
     "name": "stderr",
     "output_type": "stream",
     "text": [
      "/home/marina/anaconda3/lib/python3.7/site-packages/sklearn/svm/_base.py:947: ConvergenceWarning: Liblinear failed to converge, increase the number of iterations.\n",
      "  \"the number of iterations.\", ConvergenceWarning)\n"
     ]
    },
    {
     "name": "stdout",
     "output_type": "stream",
     "text": [
      "[CV] .................. C=100, max_iter=3000, tol=0.001, total=  10.3s\n",
      "[CV] C=100, max_iter=3000, tol=0.001 .................................\n"
     ]
    },
    {
     "name": "stderr",
     "output_type": "stream",
     "text": [
      "/home/marina/anaconda3/lib/python3.7/site-packages/sklearn/svm/_base.py:947: ConvergenceWarning: Liblinear failed to converge, increase the number of iterations.\n",
      "  \"the number of iterations.\", ConvergenceWarning)\n"
     ]
    },
    {
     "name": "stdout",
     "output_type": "stream",
     "text": [
      "[CV] .................. C=100, max_iter=3000, tol=0.001, total=   9.9s\n",
      "[CV] C=100, max_iter=3000, tol=0.001 .................................\n"
     ]
    },
    {
     "name": "stderr",
     "output_type": "stream",
     "text": [
      "/home/marina/anaconda3/lib/python3.7/site-packages/sklearn/svm/_base.py:947: ConvergenceWarning: Liblinear failed to converge, increase the number of iterations.\n",
      "  \"the number of iterations.\", ConvergenceWarning)\n"
     ]
    },
    {
     "name": "stdout",
     "output_type": "stream",
     "text": [
      "[CV] .................. C=100, max_iter=3000, tol=0.001, total=   9.5s\n",
      "[CV] C=100, max_iter=1000, tol=0.0001 ................................\n"
     ]
    },
    {
     "name": "stderr",
     "output_type": "stream",
     "text": [
      "/home/marina/anaconda3/lib/python3.7/site-packages/sklearn/svm/_base.py:947: ConvergenceWarning: Liblinear failed to converge, increase the number of iterations.\n",
      "  \"the number of iterations.\", ConvergenceWarning)\n"
     ]
    },
    {
     "name": "stdout",
     "output_type": "stream",
     "text": [
      "[CV] ................. C=100, max_iter=1000, tol=0.0001, total=   3.3s\n",
      "[CV] C=100, max_iter=1000, tol=0.0001 ................................\n"
     ]
    },
    {
     "name": "stderr",
     "output_type": "stream",
     "text": [
      "/home/marina/anaconda3/lib/python3.7/site-packages/sklearn/svm/_base.py:947: ConvergenceWarning: Liblinear failed to converge, increase the number of iterations.\n",
      "  \"the number of iterations.\", ConvergenceWarning)\n"
     ]
    },
    {
     "name": "stdout",
     "output_type": "stream",
     "text": [
      "[CV] ................. C=100, max_iter=1000, tol=0.0001, total=   3.2s\n",
      "[CV] C=100, max_iter=1000, tol=0.0001 ................................\n"
     ]
    },
    {
     "name": "stderr",
     "output_type": "stream",
     "text": [
      "/home/marina/anaconda3/lib/python3.7/site-packages/sklearn/svm/_base.py:947: ConvergenceWarning: Liblinear failed to converge, increase the number of iterations.\n",
      "  \"the number of iterations.\", ConvergenceWarning)\n"
     ]
    },
    {
     "name": "stdout",
     "output_type": "stream",
     "text": [
      "[CV] ................. C=100, max_iter=1000, tol=0.0001, total=   3.3s\n",
      "[CV] C=100, max_iter=1000, tol=0.0001 ................................\n"
     ]
    },
    {
     "name": "stderr",
     "output_type": "stream",
     "text": [
      "/home/marina/anaconda3/lib/python3.7/site-packages/sklearn/svm/_base.py:947: ConvergenceWarning: Liblinear failed to converge, increase the number of iterations.\n",
      "  \"the number of iterations.\", ConvergenceWarning)\n"
     ]
    },
    {
     "name": "stdout",
     "output_type": "stream",
     "text": [
      "[CV] ................. C=100, max_iter=1000, tol=0.0001, total=   3.3s\n",
      "[CV] C=100, max_iter=1000, tol=0.0001 ................................\n"
     ]
    },
    {
     "name": "stderr",
     "output_type": "stream",
     "text": [
      "/home/marina/anaconda3/lib/python3.7/site-packages/sklearn/svm/_base.py:947: ConvergenceWarning: Liblinear failed to converge, increase the number of iterations.\n",
      "  \"the number of iterations.\", ConvergenceWarning)\n"
     ]
    },
    {
     "name": "stdout",
     "output_type": "stream",
     "text": [
      "[CV] ................. C=100, max_iter=1000, tol=0.0001, total=   3.2s\n",
      "[CV] C=100, max_iter=1000, tol=0.001 .................................\n"
     ]
    },
    {
     "name": "stderr",
     "output_type": "stream",
     "text": [
      "/home/marina/anaconda3/lib/python3.7/site-packages/sklearn/svm/_base.py:947: ConvergenceWarning: Liblinear failed to converge, increase the number of iterations.\n",
      "  \"the number of iterations.\", ConvergenceWarning)\n"
     ]
    },
    {
     "name": "stdout",
     "output_type": "stream",
     "text": [
      "[CV] .................. C=100, max_iter=1000, tol=0.001, total=   3.4s\n",
      "[CV] C=100, max_iter=1000, tol=0.001 .................................\n"
     ]
    },
    {
     "name": "stderr",
     "output_type": "stream",
     "text": [
      "/home/marina/anaconda3/lib/python3.7/site-packages/sklearn/svm/_base.py:947: ConvergenceWarning: Liblinear failed to converge, increase the number of iterations.\n",
      "  \"the number of iterations.\", ConvergenceWarning)\n"
     ]
    },
    {
     "name": "stdout",
     "output_type": "stream",
     "text": [
      "[CV] .................. C=100, max_iter=1000, tol=0.001, total=   3.4s\n",
      "[CV] C=100, max_iter=1000, tol=0.001 .................................\n"
     ]
    },
    {
     "name": "stderr",
     "output_type": "stream",
     "text": [
      "/home/marina/anaconda3/lib/python3.7/site-packages/sklearn/svm/_base.py:947: ConvergenceWarning: Liblinear failed to converge, increase the number of iterations.\n",
      "  \"the number of iterations.\", ConvergenceWarning)\n"
     ]
    },
    {
     "name": "stdout",
     "output_type": "stream",
     "text": [
      "[CV] .................. C=100, max_iter=1000, tol=0.001, total=   3.3s\n",
      "[CV] C=100, max_iter=1000, tol=0.001 .................................\n"
     ]
    },
    {
     "name": "stderr",
     "output_type": "stream",
     "text": [
      "/home/marina/anaconda3/lib/python3.7/site-packages/sklearn/svm/_base.py:947: ConvergenceWarning: Liblinear failed to converge, increase the number of iterations.\n",
      "  \"the number of iterations.\", ConvergenceWarning)\n"
     ]
    },
    {
     "name": "stdout",
     "output_type": "stream",
     "text": [
      "[CV] .................. C=100, max_iter=1000, tol=0.001, total=   3.5s\n",
      "[CV] C=100, max_iter=1000, tol=0.001 .................................\n"
     ]
    },
    {
     "name": "stderr",
     "output_type": "stream",
     "text": [
      "/home/marina/anaconda3/lib/python3.7/site-packages/sklearn/svm/_base.py:947: ConvergenceWarning: Liblinear failed to converge, increase the number of iterations.\n",
      "  \"the number of iterations.\", ConvergenceWarning)\n",
      "[Parallel(n_jobs=1)]: Done 210 out of 210 | elapsed: 18.0min finished\n"
     ]
    },
    {
     "name": "stdout",
     "output_type": "stream",
     "text": [
      "[CV] .................. C=100, max_iter=1000, tol=0.001, total=   3.4s\n",
      "Fitting 5 folds for each of 42 candidates, totalling 210 fits\n",
      "[CV] C=1, max_iter=2000, tol=0.0001 ..................................\n"
     ]
    },
    {
     "name": "stderr",
     "output_type": "stream",
     "text": [
      "[Parallel(n_jobs=1)]: Using backend SequentialBackend with 1 concurrent workers.\n",
      "/home/marina/anaconda3/lib/python3.7/site-packages/sklearn/svm/_base.py:947: ConvergenceWarning: Liblinear failed to converge, increase the number of iterations.\n",
      "  \"the number of iterations.\", ConvergenceWarning)\n",
      "[Parallel(n_jobs=1)]: Done   1 out of   1 | elapsed:    6.4s remaining:    0.0s\n"
     ]
    },
    {
     "name": "stdout",
     "output_type": "stream",
     "text": [
      "[CV] ................... C=1, max_iter=2000, tol=0.0001, total=   6.4s\n",
      "[CV] C=1, max_iter=2000, tol=0.0001 ..................................\n"
     ]
    },
    {
     "name": "stderr",
     "output_type": "stream",
     "text": [
      "/home/marina/anaconda3/lib/python3.7/site-packages/sklearn/svm/_base.py:947: ConvergenceWarning: Liblinear failed to converge, increase the number of iterations.\n",
      "  \"the number of iterations.\", ConvergenceWarning)\n"
     ]
    },
    {
     "name": "stdout",
     "output_type": "stream",
     "text": [
      "[CV] ................... C=1, max_iter=2000, tol=0.0001, total=   6.2s\n",
      "[CV] C=1, max_iter=2000, tol=0.0001 ..................................\n"
     ]
    },
    {
     "name": "stderr",
     "output_type": "stream",
     "text": [
      "/home/marina/anaconda3/lib/python3.7/site-packages/sklearn/svm/_base.py:947: ConvergenceWarning: Liblinear failed to converge, increase the number of iterations.\n",
      "  \"the number of iterations.\", ConvergenceWarning)\n"
     ]
    },
    {
     "name": "stdout",
     "output_type": "stream",
     "text": [
      "[CV] ................... C=1, max_iter=2000, tol=0.0001, total=   6.1s\n",
      "[CV] C=1, max_iter=2000, tol=0.0001 ..................................\n"
     ]
    },
    {
     "name": "stderr",
     "output_type": "stream",
     "text": [
      "/home/marina/anaconda3/lib/python3.7/site-packages/sklearn/svm/_base.py:947: ConvergenceWarning: Liblinear failed to converge, increase the number of iterations.\n",
      "  \"the number of iterations.\", ConvergenceWarning)\n"
     ]
    },
    {
     "name": "stdout",
     "output_type": "stream",
     "text": [
      "[CV] ................... C=1, max_iter=2000, tol=0.0001, total=   6.2s\n",
      "[CV] C=1, max_iter=2000, tol=0.0001 ..................................\n"
     ]
    },
    {
     "name": "stderr",
     "output_type": "stream",
     "text": [
      "/home/marina/anaconda3/lib/python3.7/site-packages/sklearn/svm/_base.py:947: ConvergenceWarning: Liblinear failed to converge, increase the number of iterations.\n",
      "  \"the number of iterations.\", ConvergenceWarning)\n"
     ]
    },
    {
     "name": "stdout",
     "output_type": "stream",
     "text": [
      "[CV] ................... C=1, max_iter=2000, tol=0.0001, total=   6.3s\n",
      "[CV] C=1, max_iter=2000, tol=0.001 ...................................\n"
     ]
    },
    {
     "name": "stderr",
     "output_type": "stream",
     "text": [
      "/home/marina/anaconda3/lib/python3.7/site-packages/sklearn/svm/_base.py:947: ConvergenceWarning: Liblinear failed to converge, increase the number of iterations.\n",
      "  \"the number of iterations.\", ConvergenceWarning)\n"
     ]
    },
    {
     "name": "stdout",
     "output_type": "stream",
     "text": [
      "[CV] .................... C=1, max_iter=2000, tol=0.001, total=   6.2s\n",
      "[CV] C=1, max_iter=2000, tol=0.001 ...................................\n"
     ]
    },
    {
     "name": "stderr",
     "output_type": "stream",
     "text": [
      "/home/marina/anaconda3/lib/python3.7/site-packages/sklearn/svm/_base.py:947: ConvergenceWarning: Liblinear failed to converge, increase the number of iterations.\n",
      "  \"the number of iterations.\", ConvergenceWarning)\n"
     ]
    },
    {
     "name": "stdout",
     "output_type": "stream",
     "text": [
      "[CV] .................... C=1, max_iter=2000, tol=0.001, total=   7.1s\n",
      "[CV] C=1, max_iter=2000, tol=0.001 ...................................\n"
     ]
    },
    {
     "name": "stderr",
     "output_type": "stream",
     "text": [
      "/home/marina/anaconda3/lib/python3.7/site-packages/sklearn/svm/_base.py:947: ConvergenceWarning: Liblinear failed to converge, increase the number of iterations.\n",
      "  \"the number of iterations.\", ConvergenceWarning)\n"
     ]
    },
    {
     "name": "stdout",
     "output_type": "stream",
     "text": [
      "[CV] .................... C=1, max_iter=2000, tol=0.001, total=   6.6s\n",
      "[CV] C=1, max_iter=2000, tol=0.001 ...................................\n"
     ]
    },
    {
     "name": "stderr",
     "output_type": "stream",
     "text": [
      "/home/marina/anaconda3/lib/python3.7/site-packages/sklearn/svm/_base.py:947: ConvergenceWarning: Liblinear failed to converge, increase the number of iterations.\n",
      "  \"the number of iterations.\", ConvergenceWarning)\n"
     ]
    },
    {
     "name": "stdout",
     "output_type": "stream",
     "text": [
      "[CV] .................... C=1, max_iter=2000, tol=0.001, total=   6.7s\n",
      "[CV] C=1, max_iter=2000, tol=0.001 ...................................\n"
     ]
    },
    {
     "name": "stderr",
     "output_type": "stream",
     "text": [
      "/home/marina/anaconda3/lib/python3.7/site-packages/sklearn/svm/_base.py:947: ConvergenceWarning: Liblinear failed to converge, increase the number of iterations.\n",
      "  \"the number of iterations.\", ConvergenceWarning)\n"
     ]
    },
    {
     "name": "stdout",
     "output_type": "stream",
     "text": [
      "[CV] .................... C=1, max_iter=2000, tol=0.001, total=   7.2s\n",
      "[CV] C=1, max_iter=3000, tol=0.0001 ..................................\n"
     ]
    },
    {
     "name": "stderr",
     "output_type": "stream",
     "text": [
      "/home/marina/anaconda3/lib/python3.7/site-packages/sklearn/svm/_base.py:947: ConvergenceWarning: Liblinear failed to converge, increase the number of iterations.\n",
      "  \"the number of iterations.\", ConvergenceWarning)\n"
     ]
    },
    {
     "name": "stdout",
     "output_type": "stream",
     "text": [
      "[CV] ................... C=1, max_iter=3000, tol=0.0001, total=  10.8s\n",
      "[CV] C=1, max_iter=3000, tol=0.0001 ..................................\n"
     ]
    },
    {
     "name": "stderr",
     "output_type": "stream",
     "text": [
      "/home/marina/anaconda3/lib/python3.7/site-packages/sklearn/svm/_base.py:947: ConvergenceWarning: Liblinear failed to converge, increase the number of iterations.\n",
      "  \"the number of iterations.\", ConvergenceWarning)\n"
     ]
    },
    {
     "name": "stdout",
     "output_type": "stream",
     "text": [
      "[CV] ................... C=1, max_iter=3000, tol=0.0001, total=  10.4s\n",
      "[CV] C=1, max_iter=3000, tol=0.0001 ..................................\n"
     ]
    },
    {
     "name": "stderr",
     "output_type": "stream",
     "text": [
      "/home/marina/anaconda3/lib/python3.7/site-packages/sklearn/svm/_base.py:947: ConvergenceWarning: Liblinear failed to converge, increase the number of iterations.\n",
      "  \"the number of iterations.\", ConvergenceWarning)\n"
     ]
    },
    {
     "name": "stdout",
     "output_type": "stream",
     "text": [
      "[CV] ................... C=1, max_iter=3000, tol=0.0001, total=  10.2s\n",
      "[CV] C=1, max_iter=3000, tol=0.0001 ..................................\n"
     ]
    },
    {
     "name": "stderr",
     "output_type": "stream",
     "text": [
      "/home/marina/anaconda3/lib/python3.7/site-packages/sklearn/svm/_base.py:947: ConvergenceWarning: Liblinear failed to converge, increase the number of iterations.\n",
      "  \"the number of iterations.\", ConvergenceWarning)\n"
     ]
    },
    {
     "name": "stdout",
     "output_type": "stream",
     "text": [
      "[CV] ................... C=1, max_iter=3000, tol=0.0001, total=  10.3s\n",
      "[CV] C=1, max_iter=3000, tol=0.0001 ..................................\n"
     ]
    },
    {
     "name": "stderr",
     "output_type": "stream",
     "text": [
      "/home/marina/anaconda3/lib/python3.7/site-packages/sklearn/svm/_base.py:947: ConvergenceWarning: Liblinear failed to converge, increase the number of iterations.\n",
      "  \"the number of iterations.\", ConvergenceWarning)\n"
     ]
    },
    {
     "name": "stdout",
     "output_type": "stream",
     "text": [
      "[CV] ................... C=1, max_iter=3000, tol=0.0001, total=  11.9s\n",
      "[CV] C=1, max_iter=3000, tol=0.001 ...................................\n"
     ]
    },
    {
     "name": "stderr",
     "output_type": "stream",
     "text": [
      "/home/marina/anaconda3/lib/python3.7/site-packages/sklearn/svm/_base.py:947: ConvergenceWarning: Liblinear failed to converge, increase the number of iterations.\n",
      "  \"the number of iterations.\", ConvergenceWarning)\n"
     ]
    },
    {
     "name": "stdout",
     "output_type": "stream",
     "text": [
      "[CV] .................... C=1, max_iter=3000, tol=0.001, total=  11.0s\n",
      "[CV] C=1, max_iter=3000, tol=0.001 ...................................\n"
     ]
    },
    {
     "name": "stderr",
     "output_type": "stream",
     "text": [
      "/home/marina/anaconda3/lib/python3.7/site-packages/sklearn/svm/_base.py:947: ConvergenceWarning: Liblinear failed to converge, increase the number of iterations.\n",
      "  \"the number of iterations.\", ConvergenceWarning)\n"
     ]
    },
    {
     "name": "stdout",
     "output_type": "stream",
     "text": [
      "[CV] .................... C=1, max_iter=3000, tol=0.001, total=  10.2s\n",
      "[CV] C=1, max_iter=3000, tol=0.001 ...................................\n"
     ]
    },
    {
     "name": "stderr",
     "output_type": "stream",
     "text": [
      "/home/marina/anaconda3/lib/python3.7/site-packages/sklearn/svm/_base.py:947: ConvergenceWarning: Liblinear failed to converge, increase the number of iterations.\n",
      "  \"the number of iterations.\", ConvergenceWarning)\n"
     ]
    },
    {
     "name": "stdout",
     "output_type": "stream",
     "text": [
      "[CV] .................... C=1, max_iter=3000, tol=0.001, total=   9.8s\n",
      "[CV] C=1, max_iter=3000, tol=0.001 ...................................\n"
     ]
    },
    {
     "name": "stderr",
     "output_type": "stream",
     "text": [
      "/home/marina/anaconda3/lib/python3.7/site-packages/sklearn/svm/_base.py:947: ConvergenceWarning: Liblinear failed to converge, increase the number of iterations.\n",
      "  \"the number of iterations.\", ConvergenceWarning)\n"
     ]
    },
    {
     "name": "stdout",
     "output_type": "stream",
     "text": [
      "[CV] .................... C=1, max_iter=3000, tol=0.001, total=   9.5s\n",
      "[CV] C=1, max_iter=3000, tol=0.001 ...................................\n"
     ]
    },
    {
     "name": "stderr",
     "output_type": "stream",
     "text": [
      "/home/marina/anaconda3/lib/python3.7/site-packages/sklearn/svm/_base.py:947: ConvergenceWarning: Liblinear failed to converge, increase the number of iterations.\n",
      "  \"the number of iterations.\", ConvergenceWarning)\n"
     ]
    },
    {
     "name": "stdout",
     "output_type": "stream",
     "text": [
      "[CV] .................... C=1, max_iter=3000, tol=0.001, total=   9.4s\n",
      "[CV] C=1, max_iter=1000, tol=0.0001 ..................................\n"
     ]
    },
    {
     "name": "stderr",
     "output_type": "stream",
     "text": [
      "/home/marina/anaconda3/lib/python3.7/site-packages/sklearn/svm/_base.py:947: ConvergenceWarning: Liblinear failed to converge, increase the number of iterations.\n",
      "  \"the number of iterations.\", ConvergenceWarning)\n"
     ]
    },
    {
     "name": "stdout",
     "output_type": "stream",
     "text": [
      "[CV] ................... C=1, max_iter=1000, tol=0.0001, total=   3.3s\n",
      "[CV] C=1, max_iter=1000, tol=0.0001 ..................................\n"
     ]
    },
    {
     "name": "stderr",
     "output_type": "stream",
     "text": [
      "/home/marina/anaconda3/lib/python3.7/site-packages/sklearn/svm/_base.py:947: ConvergenceWarning: Liblinear failed to converge, increase the number of iterations.\n",
      "  \"the number of iterations.\", ConvergenceWarning)\n"
     ]
    },
    {
     "name": "stdout",
     "output_type": "stream",
     "text": [
      "[CV] ................... C=1, max_iter=1000, tol=0.0001, total=   3.2s\n",
      "[CV] C=1, max_iter=1000, tol=0.0001 ..................................\n"
     ]
    },
    {
     "name": "stderr",
     "output_type": "stream",
     "text": [
      "/home/marina/anaconda3/lib/python3.7/site-packages/sklearn/svm/_base.py:947: ConvergenceWarning: Liblinear failed to converge, increase the number of iterations.\n",
      "  \"the number of iterations.\", ConvergenceWarning)\n"
     ]
    },
    {
     "name": "stdout",
     "output_type": "stream",
     "text": [
      "[CV] ................... C=1, max_iter=1000, tol=0.0001, total=   3.3s\n",
      "[CV] C=1, max_iter=1000, tol=0.0001 ..................................\n"
     ]
    },
    {
     "name": "stderr",
     "output_type": "stream",
     "text": [
      "/home/marina/anaconda3/lib/python3.7/site-packages/sklearn/svm/_base.py:947: ConvergenceWarning: Liblinear failed to converge, increase the number of iterations.\n",
      "  \"the number of iterations.\", ConvergenceWarning)\n"
     ]
    },
    {
     "name": "stdout",
     "output_type": "stream",
     "text": [
      "[CV] ................... C=1, max_iter=1000, tol=0.0001, total=   3.4s\n",
      "[CV] C=1, max_iter=1000, tol=0.0001 ..................................\n"
     ]
    },
    {
     "name": "stderr",
     "output_type": "stream",
     "text": [
      "/home/marina/anaconda3/lib/python3.7/site-packages/sklearn/svm/_base.py:947: ConvergenceWarning: Liblinear failed to converge, increase the number of iterations.\n",
      "  \"the number of iterations.\", ConvergenceWarning)\n"
     ]
    },
    {
     "name": "stdout",
     "output_type": "stream",
     "text": [
      "[CV] ................... C=1, max_iter=1000, tol=0.0001, total=   3.3s\n",
      "[CV] C=1, max_iter=1000, tol=0.001 ...................................\n"
     ]
    },
    {
     "name": "stderr",
     "output_type": "stream",
     "text": [
      "/home/marina/anaconda3/lib/python3.7/site-packages/sklearn/svm/_base.py:947: ConvergenceWarning: Liblinear failed to converge, increase the number of iterations.\n",
      "  \"the number of iterations.\", ConvergenceWarning)\n"
     ]
    },
    {
     "name": "stdout",
     "output_type": "stream",
     "text": [
      "[CV] .................... C=1, max_iter=1000, tol=0.001, total=   3.4s\n",
      "[CV] C=1, max_iter=1000, tol=0.001 ...................................\n"
     ]
    },
    {
     "name": "stderr",
     "output_type": "stream",
     "text": [
      "/home/marina/anaconda3/lib/python3.7/site-packages/sklearn/svm/_base.py:947: ConvergenceWarning: Liblinear failed to converge, increase the number of iterations.\n",
      "  \"the number of iterations.\", ConvergenceWarning)\n"
     ]
    },
    {
     "name": "stdout",
     "output_type": "stream",
     "text": [
      "[CV] .................... C=1, max_iter=1000, tol=0.001, total=   3.5s\n",
      "[CV] C=1, max_iter=1000, tol=0.001 ...................................\n"
     ]
    },
    {
     "name": "stderr",
     "output_type": "stream",
     "text": [
      "/home/marina/anaconda3/lib/python3.7/site-packages/sklearn/svm/_base.py:947: ConvergenceWarning: Liblinear failed to converge, increase the number of iterations.\n",
      "  \"the number of iterations.\", ConvergenceWarning)\n"
     ]
    },
    {
     "name": "stdout",
     "output_type": "stream",
     "text": [
      "[CV] .................... C=1, max_iter=1000, tol=0.001, total=   3.8s\n",
      "[CV] C=1, max_iter=1000, tol=0.001 ...................................\n"
     ]
    },
    {
     "name": "stderr",
     "output_type": "stream",
     "text": [
      "/home/marina/anaconda3/lib/python3.7/site-packages/sklearn/svm/_base.py:947: ConvergenceWarning: Liblinear failed to converge, increase the number of iterations.\n",
      "  \"the number of iterations.\", ConvergenceWarning)\n"
     ]
    },
    {
     "name": "stdout",
     "output_type": "stream",
     "text": [
      "[CV] .................... C=1, max_iter=1000, tol=0.001, total=   3.7s\n",
      "[CV] C=1, max_iter=1000, tol=0.001 ...................................\n"
     ]
    },
    {
     "name": "stderr",
     "output_type": "stream",
     "text": [
      "/home/marina/anaconda3/lib/python3.7/site-packages/sklearn/svm/_base.py:947: ConvergenceWarning: Liblinear failed to converge, increase the number of iterations.\n",
      "  \"the number of iterations.\", ConvergenceWarning)\n"
     ]
    },
    {
     "name": "stdout",
     "output_type": "stream",
     "text": [
      "[CV] .................... C=1, max_iter=1000, tol=0.001, total=   3.6s\n",
      "[CV] C=0.1, max_iter=2000, tol=0.0001 ................................\n"
     ]
    },
    {
     "name": "stderr",
     "output_type": "stream",
     "text": [
      "/home/marina/anaconda3/lib/python3.7/site-packages/sklearn/svm/_base.py:947: ConvergenceWarning: Liblinear failed to converge, increase the number of iterations.\n",
      "  \"the number of iterations.\", ConvergenceWarning)\n"
     ]
    },
    {
     "name": "stdout",
     "output_type": "stream",
     "text": [
      "[CV] ................. C=0.1, max_iter=2000, tol=0.0001, total=   7.0s\n",
      "[CV] C=0.1, max_iter=2000, tol=0.0001 ................................\n"
     ]
    },
    {
     "name": "stderr",
     "output_type": "stream",
     "text": [
      "/home/marina/anaconda3/lib/python3.7/site-packages/sklearn/svm/_base.py:947: ConvergenceWarning: Liblinear failed to converge, increase the number of iterations.\n",
      "  \"the number of iterations.\", ConvergenceWarning)\n"
     ]
    },
    {
     "name": "stdout",
     "output_type": "stream",
     "text": [
      "[CV] ................. C=0.1, max_iter=2000, tol=0.0001, total=   6.9s\n",
      "[CV] C=0.1, max_iter=2000, tol=0.0001 ................................\n"
     ]
    },
    {
     "name": "stderr",
     "output_type": "stream",
     "text": [
      "/home/marina/anaconda3/lib/python3.7/site-packages/sklearn/svm/_base.py:947: ConvergenceWarning: Liblinear failed to converge, increase the number of iterations.\n",
      "  \"the number of iterations.\", ConvergenceWarning)\n"
     ]
    },
    {
     "name": "stdout",
     "output_type": "stream",
     "text": [
      "[CV] ................. C=0.1, max_iter=2000, tol=0.0001, total=   6.9s\n",
      "[CV] C=0.1, max_iter=2000, tol=0.0001 ................................\n"
     ]
    },
    {
     "name": "stderr",
     "output_type": "stream",
     "text": [
      "/home/marina/anaconda3/lib/python3.7/site-packages/sklearn/svm/_base.py:947: ConvergenceWarning: Liblinear failed to converge, increase the number of iterations.\n",
      "  \"the number of iterations.\", ConvergenceWarning)\n"
     ]
    },
    {
     "name": "stdout",
     "output_type": "stream",
     "text": [
      "[CV] ................. C=0.1, max_iter=2000, tol=0.0001, total=   7.6s\n",
      "[CV] C=0.1, max_iter=2000, tol=0.0001 ................................\n"
     ]
    },
    {
     "name": "stderr",
     "output_type": "stream",
     "text": [
      "/home/marina/anaconda3/lib/python3.7/site-packages/sklearn/svm/_base.py:947: ConvergenceWarning: Liblinear failed to converge, increase the number of iterations.\n",
      "  \"the number of iterations.\", ConvergenceWarning)\n"
     ]
    },
    {
     "name": "stdout",
     "output_type": "stream",
     "text": [
      "[CV] ................. C=0.1, max_iter=2000, tol=0.0001, total=   6.4s\n",
      "[CV] C=0.1, max_iter=2000, tol=0.001 .................................\n"
     ]
    },
    {
     "name": "stderr",
     "output_type": "stream",
     "text": [
      "/home/marina/anaconda3/lib/python3.7/site-packages/sklearn/svm/_base.py:947: ConvergenceWarning: Liblinear failed to converge, increase the number of iterations.\n",
      "  \"the number of iterations.\", ConvergenceWarning)\n"
     ]
    },
    {
     "name": "stdout",
     "output_type": "stream",
     "text": [
      "[CV] .................. C=0.1, max_iter=2000, tol=0.001, total=   6.4s\n",
      "[CV] C=0.1, max_iter=2000, tol=0.001 .................................\n"
     ]
    },
    {
     "name": "stderr",
     "output_type": "stream",
     "text": [
      "/home/marina/anaconda3/lib/python3.7/site-packages/sklearn/svm/_base.py:947: ConvergenceWarning: Liblinear failed to converge, increase the number of iterations.\n",
      "  \"the number of iterations.\", ConvergenceWarning)\n"
     ]
    },
    {
     "name": "stdout",
     "output_type": "stream",
     "text": [
      "[CV] .................. C=0.1, max_iter=2000, tol=0.001, total=   6.5s\n",
      "[CV] C=0.1, max_iter=2000, tol=0.001 .................................\n"
     ]
    },
    {
     "name": "stderr",
     "output_type": "stream",
     "text": [
      "/home/marina/anaconda3/lib/python3.7/site-packages/sklearn/svm/_base.py:947: ConvergenceWarning: Liblinear failed to converge, increase the number of iterations.\n",
      "  \"the number of iterations.\", ConvergenceWarning)\n"
     ]
    },
    {
     "name": "stdout",
     "output_type": "stream",
     "text": [
      "[CV] .................. C=0.1, max_iter=2000, tol=0.001, total=   7.1s\n",
      "[CV] C=0.1, max_iter=2000, tol=0.001 .................................\n"
     ]
    },
    {
     "name": "stderr",
     "output_type": "stream",
     "text": [
      "/home/marina/anaconda3/lib/python3.7/site-packages/sklearn/svm/_base.py:947: ConvergenceWarning: Liblinear failed to converge, increase the number of iterations.\n",
      "  \"the number of iterations.\", ConvergenceWarning)\n"
     ]
    },
    {
     "name": "stdout",
     "output_type": "stream",
     "text": [
      "[CV] .................. C=0.1, max_iter=2000, tol=0.001, total=   6.7s\n",
      "[CV] C=0.1, max_iter=2000, tol=0.001 .................................\n"
     ]
    },
    {
     "name": "stderr",
     "output_type": "stream",
     "text": [
      "/home/marina/anaconda3/lib/python3.7/site-packages/sklearn/svm/_base.py:947: ConvergenceWarning: Liblinear failed to converge, increase the number of iterations.\n",
      "  \"the number of iterations.\", ConvergenceWarning)\n"
     ]
    },
    {
     "name": "stdout",
     "output_type": "stream",
     "text": [
      "[CV] .................. C=0.1, max_iter=2000, tol=0.001, total=   6.9s\n",
      "[CV] C=0.1, max_iter=3000, tol=0.0001 ................................\n"
     ]
    },
    {
     "name": "stderr",
     "output_type": "stream",
     "text": [
      "/home/marina/anaconda3/lib/python3.7/site-packages/sklearn/svm/_base.py:947: ConvergenceWarning: Liblinear failed to converge, increase the number of iterations.\n",
      "  \"the number of iterations.\", ConvergenceWarning)\n"
     ]
    },
    {
     "name": "stdout",
     "output_type": "stream",
     "text": [
      "[CV] ................. C=0.1, max_iter=3000, tol=0.0001, total=   9.5s\n",
      "[CV] C=0.1, max_iter=3000, tol=0.0001 ................................\n"
     ]
    },
    {
     "name": "stderr",
     "output_type": "stream",
     "text": [
      "/home/marina/anaconda3/lib/python3.7/site-packages/sklearn/svm/_base.py:947: ConvergenceWarning: Liblinear failed to converge, increase the number of iterations.\n",
      "  \"the number of iterations.\", ConvergenceWarning)\n"
     ]
    },
    {
     "name": "stdout",
     "output_type": "stream",
     "text": [
      "[CV] ................. C=0.1, max_iter=3000, tol=0.0001, total=   9.0s\n",
      "[CV] C=0.1, max_iter=3000, tol=0.0001 ................................\n"
     ]
    },
    {
     "name": "stderr",
     "output_type": "stream",
     "text": [
      "/home/marina/anaconda3/lib/python3.7/site-packages/sklearn/svm/_base.py:947: ConvergenceWarning: Liblinear failed to converge, increase the number of iterations.\n",
      "  \"the number of iterations.\", ConvergenceWarning)\n"
     ]
    },
    {
     "name": "stdout",
     "output_type": "stream",
     "text": [
      "[CV] ................. C=0.1, max_iter=3000, tol=0.0001, total=   9.0s\n",
      "[CV] C=0.1, max_iter=3000, tol=0.0001 ................................\n"
     ]
    },
    {
     "name": "stderr",
     "output_type": "stream",
     "text": [
      "/home/marina/anaconda3/lib/python3.7/site-packages/sklearn/svm/_base.py:947: ConvergenceWarning: Liblinear failed to converge, increase the number of iterations.\n",
      "  \"the number of iterations.\", ConvergenceWarning)\n"
     ]
    },
    {
     "name": "stdout",
     "output_type": "stream",
     "text": [
      "[CV] ................. C=0.1, max_iter=3000, tol=0.0001, total=   8.7s\n",
      "[CV] C=0.1, max_iter=3000, tol=0.0001 ................................\n"
     ]
    },
    {
     "name": "stderr",
     "output_type": "stream",
     "text": [
      "/home/marina/anaconda3/lib/python3.7/site-packages/sklearn/svm/_base.py:947: ConvergenceWarning: Liblinear failed to converge, increase the number of iterations.\n",
      "  \"the number of iterations.\", ConvergenceWarning)\n"
     ]
    },
    {
     "name": "stdout",
     "output_type": "stream",
     "text": [
      "[CV] ................. C=0.1, max_iter=3000, tol=0.0001, total=   9.0s\n",
      "[CV] C=0.1, max_iter=3000, tol=0.001 .................................\n"
     ]
    },
    {
     "name": "stderr",
     "output_type": "stream",
     "text": [
      "/home/marina/anaconda3/lib/python3.7/site-packages/sklearn/svm/_base.py:947: ConvergenceWarning: Liblinear failed to converge, increase the number of iterations.\n",
      "  \"the number of iterations.\", ConvergenceWarning)\n"
     ]
    },
    {
     "name": "stdout",
     "output_type": "stream",
     "text": [
      "[CV] .................. C=0.1, max_iter=3000, tol=0.001, total=   9.0s\n",
      "[CV] C=0.1, max_iter=3000, tol=0.001 .................................\n"
     ]
    },
    {
     "name": "stderr",
     "output_type": "stream",
     "text": [
      "/home/marina/anaconda3/lib/python3.7/site-packages/sklearn/svm/_base.py:947: ConvergenceWarning: Liblinear failed to converge, increase the number of iterations.\n",
      "  \"the number of iterations.\", ConvergenceWarning)\n"
     ]
    },
    {
     "name": "stdout",
     "output_type": "stream",
     "text": [
      "[CV] .................. C=0.1, max_iter=3000, tol=0.001, total=   8.9s\n",
      "[CV] C=0.1, max_iter=3000, tol=0.001 .................................\n"
     ]
    },
    {
     "name": "stderr",
     "output_type": "stream",
     "text": [
      "/home/marina/anaconda3/lib/python3.7/site-packages/sklearn/svm/_base.py:947: ConvergenceWarning: Liblinear failed to converge, increase the number of iterations.\n",
      "  \"the number of iterations.\", ConvergenceWarning)\n"
     ]
    },
    {
     "name": "stdout",
     "output_type": "stream",
     "text": [
      "[CV] .................. C=0.1, max_iter=3000, tol=0.001, total=   8.8s\n",
      "[CV] C=0.1, max_iter=3000, tol=0.001 .................................\n"
     ]
    },
    {
     "name": "stderr",
     "output_type": "stream",
     "text": [
      "/home/marina/anaconda3/lib/python3.7/site-packages/sklearn/svm/_base.py:947: ConvergenceWarning: Liblinear failed to converge, increase the number of iterations.\n",
      "  \"the number of iterations.\", ConvergenceWarning)\n"
     ]
    },
    {
     "name": "stdout",
     "output_type": "stream",
     "text": [
      "[CV] .................. C=0.1, max_iter=3000, tol=0.001, total=   9.3s\n",
      "[CV] C=0.1, max_iter=3000, tol=0.001 .................................\n"
     ]
    },
    {
     "name": "stderr",
     "output_type": "stream",
     "text": [
      "/home/marina/anaconda3/lib/python3.7/site-packages/sklearn/svm/_base.py:947: ConvergenceWarning: Liblinear failed to converge, increase the number of iterations.\n",
      "  \"the number of iterations.\", ConvergenceWarning)\n"
     ]
    },
    {
     "name": "stdout",
     "output_type": "stream",
     "text": [
      "[CV] .................. C=0.1, max_iter=3000, tol=0.001, total=   8.7s\n",
      "[CV] C=0.1, max_iter=1000, tol=0.0001 ................................\n"
     ]
    },
    {
     "name": "stderr",
     "output_type": "stream",
     "text": [
      "/home/marina/anaconda3/lib/python3.7/site-packages/sklearn/svm/_base.py:947: ConvergenceWarning: Liblinear failed to converge, increase the number of iterations.\n",
      "  \"the number of iterations.\", ConvergenceWarning)\n"
     ]
    },
    {
     "name": "stdout",
     "output_type": "stream",
     "text": [
      "[CV] ................. C=0.1, max_iter=1000, tol=0.0001, total=   3.4s\n",
      "[CV] C=0.1, max_iter=1000, tol=0.0001 ................................\n"
     ]
    },
    {
     "name": "stderr",
     "output_type": "stream",
     "text": [
      "/home/marina/anaconda3/lib/python3.7/site-packages/sklearn/svm/_base.py:947: ConvergenceWarning: Liblinear failed to converge, increase the number of iterations.\n",
      "  \"the number of iterations.\", ConvergenceWarning)\n"
     ]
    },
    {
     "name": "stdout",
     "output_type": "stream",
     "text": [
      "[CV] ................. C=0.1, max_iter=1000, tol=0.0001, total=   3.3s\n",
      "[CV] C=0.1, max_iter=1000, tol=0.0001 ................................\n"
     ]
    },
    {
     "name": "stderr",
     "output_type": "stream",
     "text": [
      "/home/marina/anaconda3/lib/python3.7/site-packages/sklearn/svm/_base.py:947: ConvergenceWarning: Liblinear failed to converge, increase the number of iterations.\n",
      "  \"the number of iterations.\", ConvergenceWarning)\n"
     ]
    },
    {
     "name": "stdout",
     "output_type": "stream",
     "text": [
      "[CV] ................. C=0.1, max_iter=1000, tol=0.0001, total=   3.6s\n",
      "[CV] C=0.1, max_iter=1000, tol=0.0001 ................................\n"
     ]
    },
    {
     "name": "stderr",
     "output_type": "stream",
     "text": [
      "/home/marina/anaconda3/lib/python3.7/site-packages/sklearn/svm/_base.py:947: ConvergenceWarning: Liblinear failed to converge, increase the number of iterations.\n",
      "  \"the number of iterations.\", ConvergenceWarning)\n"
     ]
    },
    {
     "name": "stdout",
     "output_type": "stream",
     "text": [
      "[CV] ................. C=0.1, max_iter=1000, tol=0.0001, total=   3.5s\n",
      "[CV] C=0.1, max_iter=1000, tol=0.0001 ................................\n"
     ]
    },
    {
     "name": "stderr",
     "output_type": "stream",
     "text": [
      "/home/marina/anaconda3/lib/python3.7/site-packages/sklearn/svm/_base.py:947: ConvergenceWarning: Liblinear failed to converge, increase the number of iterations.\n",
      "  \"the number of iterations.\", ConvergenceWarning)\n"
     ]
    },
    {
     "name": "stdout",
     "output_type": "stream",
     "text": [
      "[CV] ................. C=0.1, max_iter=1000, tol=0.0001, total=   3.5s\n",
      "[CV] C=0.1, max_iter=1000, tol=0.001 .................................\n"
     ]
    },
    {
     "name": "stderr",
     "output_type": "stream",
     "text": [
      "/home/marina/anaconda3/lib/python3.7/site-packages/sklearn/svm/_base.py:947: ConvergenceWarning: Liblinear failed to converge, increase the number of iterations.\n",
      "  \"the number of iterations.\", ConvergenceWarning)\n"
     ]
    },
    {
     "name": "stdout",
     "output_type": "stream",
     "text": [
      "[CV] .................. C=0.1, max_iter=1000, tol=0.001, total=   3.5s\n",
      "[CV] C=0.1, max_iter=1000, tol=0.001 .................................\n"
     ]
    },
    {
     "name": "stderr",
     "output_type": "stream",
     "text": [
      "/home/marina/anaconda3/lib/python3.7/site-packages/sklearn/svm/_base.py:947: ConvergenceWarning: Liblinear failed to converge, increase the number of iterations.\n",
      "  \"the number of iterations.\", ConvergenceWarning)\n"
     ]
    },
    {
     "name": "stdout",
     "output_type": "stream",
     "text": [
      "[CV] .................. C=0.1, max_iter=1000, tol=0.001, total=   3.4s\n",
      "[CV] C=0.1, max_iter=1000, tol=0.001 .................................\n"
     ]
    },
    {
     "name": "stderr",
     "output_type": "stream",
     "text": [
      "/home/marina/anaconda3/lib/python3.7/site-packages/sklearn/svm/_base.py:947: ConvergenceWarning: Liblinear failed to converge, increase the number of iterations.\n",
      "  \"the number of iterations.\", ConvergenceWarning)\n"
     ]
    },
    {
     "name": "stdout",
     "output_type": "stream",
     "text": [
      "[CV] .................. C=0.1, max_iter=1000, tol=0.001, total=   3.5s\n",
      "[CV] C=0.1, max_iter=1000, tol=0.001 .................................\n"
     ]
    },
    {
     "name": "stderr",
     "output_type": "stream",
     "text": [
      "/home/marina/anaconda3/lib/python3.7/site-packages/sklearn/svm/_base.py:947: ConvergenceWarning: Liblinear failed to converge, increase the number of iterations.\n",
      "  \"the number of iterations.\", ConvergenceWarning)\n"
     ]
    },
    {
     "name": "stdout",
     "output_type": "stream",
     "text": [
      "[CV] .................. C=0.1, max_iter=1000, tol=0.001, total=   3.7s\n",
      "[CV] C=0.1, max_iter=1000, tol=0.001 .................................\n"
     ]
    },
    {
     "name": "stderr",
     "output_type": "stream",
     "text": [
      "/home/marina/anaconda3/lib/python3.7/site-packages/sklearn/svm/_base.py:947: ConvergenceWarning: Liblinear failed to converge, increase the number of iterations.\n",
      "  \"the number of iterations.\", ConvergenceWarning)\n"
     ]
    },
    {
     "name": "stdout",
     "output_type": "stream",
     "text": [
      "[CV] .................. C=0.1, max_iter=1000, tol=0.001, total=   3.3s\n",
      "[CV] C=0.01, max_iter=2000, tol=0.0001 ...............................\n"
     ]
    },
    {
     "name": "stderr",
     "output_type": "stream",
     "text": [
      "/home/marina/anaconda3/lib/python3.7/site-packages/sklearn/svm/_base.py:947: ConvergenceWarning: Liblinear failed to converge, increase the number of iterations.\n",
      "  \"the number of iterations.\", ConvergenceWarning)\n"
     ]
    },
    {
     "name": "stdout",
     "output_type": "stream",
     "text": [
      "[CV] ................ C=0.01, max_iter=2000, tol=0.0001, total=   6.1s\n",
      "[CV] C=0.01, max_iter=2000, tol=0.0001 ...............................\n"
     ]
    },
    {
     "name": "stderr",
     "output_type": "stream",
     "text": [
      "/home/marina/anaconda3/lib/python3.7/site-packages/sklearn/svm/_base.py:947: ConvergenceWarning: Liblinear failed to converge, increase the number of iterations.\n",
      "  \"the number of iterations.\", ConvergenceWarning)\n"
     ]
    },
    {
     "name": "stdout",
     "output_type": "stream",
     "text": [
      "[CV] ................ C=0.01, max_iter=2000, tol=0.0001, total=   6.0s\n",
      "[CV] C=0.01, max_iter=2000, tol=0.0001 ...............................\n"
     ]
    },
    {
     "name": "stderr",
     "output_type": "stream",
     "text": [
      "/home/marina/anaconda3/lib/python3.7/site-packages/sklearn/svm/_base.py:947: ConvergenceWarning: Liblinear failed to converge, increase the number of iterations.\n",
      "  \"the number of iterations.\", ConvergenceWarning)\n"
     ]
    },
    {
     "name": "stdout",
     "output_type": "stream",
     "text": [
      "[CV] ................ C=0.01, max_iter=2000, tol=0.0001, total=   5.3s\n",
      "[CV] C=0.01, max_iter=2000, tol=0.0001 ...............................\n"
     ]
    },
    {
     "name": "stderr",
     "output_type": "stream",
     "text": [
      "/home/marina/anaconda3/lib/python3.7/site-packages/sklearn/svm/_base.py:947: ConvergenceWarning: Liblinear failed to converge, increase the number of iterations.\n",
      "  \"the number of iterations.\", ConvergenceWarning)\n"
     ]
    },
    {
     "name": "stdout",
     "output_type": "stream",
     "text": [
      "[CV] ................ C=0.01, max_iter=2000, tol=0.0001, total=   5.7s\n",
      "[CV] C=0.01, max_iter=2000, tol=0.0001 ...............................\n"
     ]
    },
    {
     "name": "stderr",
     "output_type": "stream",
     "text": [
      "/home/marina/anaconda3/lib/python3.7/site-packages/sklearn/svm/_base.py:947: ConvergenceWarning: Liblinear failed to converge, increase the number of iterations.\n",
      "  \"the number of iterations.\", ConvergenceWarning)\n"
     ]
    },
    {
     "name": "stdout",
     "output_type": "stream",
     "text": [
      "[CV] ................ C=0.01, max_iter=2000, tol=0.0001, total=   5.9s\n",
      "[CV] C=0.01, max_iter=2000, tol=0.001 ................................\n"
     ]
    },
    {
     "name": "stderr",
     "output_type": "stream",
     "text": [
      "/home/marina/anaconda3/lib/python3.7/site-packages/sklearn/svm/_base.py:947: ConvergenceWarning: Liblinear failed to converge, increase the number of iterations.\n",
      "  \"the number of iterations.\", ConvergenceWarning)\n"
     ]
    },
    {
     "name": "stdout",
     "output_type": "stream",
     "text": [
      "[CV] ................. C=0.01, max_iter=2000, tol=0.001, total=   6.2s\n",
      "[CV] C=0.01, max_iter=2000, tol=0.001 ................................\n"
     ]
    },
    {
     "name": "stderr",
     "output_type": "stream",
     "text": [
      "/home/marina/anaconda3/lib/python3.7/site-packages/sklearn/svm/_base.py:947: ConvergenceWarning: Liblinear failed to converge, increase the number of iterations.\n",
      "  \"the number of iterations.\", ConvergenceWarning)\n"
     ]
    },
    {
     "name": "stdout",
     "output_type": "stream",
     "text": [
      "[CV] ................. C=0.01, max_iter=2000, tol=0.001, total=   6.1s\n",
      "[CV] C=0.01, max_iter=2000, tol=0.001 ................................\n"
     ]
    },
    {
     "name": "stderr",
     "output_type": "stream",
     "text": [
      "/home/marina/anaconda3/lib/python3.7/site-packages/sklearn/svm/_base.py:947: ConvergenceWarning: Liblinear failed to converge, increase the number of iterations.\n",
      "  \"the number of iterations.\", ConvergenceWarning)\n"
     ]
    },
    {
     "name": "stdout",
     "output_type": "stream",
     "text": [
      "[CV] ................. C=0.01, max_iter=2000, tol=0.001, total=   6.0s\n",
      "[CV] C=0.01, max_iter=2000, tol=0.001 ................................\n"
     ]
    },
    {
     "name": "stderr",
     "output_type": "stream",
     "text": [
      "/home/marina/anaconda3/lib/python3.7/site-packages/sklearn/svm/_base.py:947: ConvergenceWarning: Liblinear failed to converge, increase the number of iterations.\n",
      "  \"the number of iterations.\", ConvergenceWarning)\n"
     ]
    },
    {
     "name": "stdout",
     "output_type": "stream",
     "text": [
      "[CV] ................. C=0.01, max_iter=2000, tol=0.001, total=   6.2s\n",
      "[CV] C=0.01, max_iter=2000, tol=0.001 ................................\n"
     ]
    },
    {
     "name": "stderr",
     "output_type": "stream",
     "text": [
      "/home/marina/anaconda3/lib/python3.7/site-packages/sklearn/svm/_base.py:947: ConvergenceWarning: Liblinear failed to converge, increase the number of iterations.\n",
      "  \"the number of iterations.\", ConvergenceWarning)\n"
     ]
    },
    {
     "name": "stdout",
     "output_type": "stream",
     "text": [
      "[CV] ................. C=0.01, max_iter=2000, tol=0.001, total=   6.2s\n",
      "[CV] C=0.01, max_iter=3000, tol=0.0001 ...............................\n"
     ]
    },
    {
     "name": "stderr",
     "output_type": "stream",
     "text": [
      "/home/marina/anaconda3/lib/python3.7/site-packages/sklearn/svm/_base.py:947: ConvergenceWarning: Liblinear failed to converge, increase the number of iterations.\n",
      "  \"the number of iterations.\", ConvergenceWarning)\n"
     ]
    },
    {
     "name": "stdout",
     "output_type": "stream",
     "text": [
      "[CV] ................ C=0.01, max_iter=3000, tol=0.0001, total=   9.0s\n",
      "[CV] C=0.01, max_iter=3000, tol=0.0001 ...............................\n"
     ]
    },
    {
     "name": "stderr",
     "output_type": "stream",
     "text": [
      "/home/marina/anaconda3/lib/python3.7/site-packages/sklearn/svm/_base.py:947: ConvergenceWarning: Liblinear failed to converge, increase the number of iterations.\n",
      "  \"the number of iterations.\", ConvergenceWarning)\n"
     ]
    },
    {
     "name": "stdout",
     "output_type": "stream",
     "text": [
      "[CV] ................ C=0.01, max_iter=3000, tol=0.0001, total=   8.9s\n",
      "[CV] C=0.01, max_iter=3000, tol=0.0001 ...............................\n"
     ]
    },
    {
     "name": "stderr",
     "output_type": "stream",
     "text": [
      "/home/marina/anaconda3/lib/python3.7/site-packages/sklearn/svm/_base.py:947: ConvergenceWarning: Liblinear failed to converge, increase the number of iterations.\n",
      "  \"the number of iterations.\", ConvergenceWarning)\n"
     ]
    },
    {
     "name": "stdout",
     "output_type": "stream",
     "text": [
      "[CV] ................ C=0.01, max_iter=3000, tol=0.0001, total=   8.5s\n",
      "[CV] C=0.01, max_iter=3000, tol=0.0001 ...............................\n"
     ]
    },
    {
     "name": "stderr",
     "output_type": "stream",
     "text": [
      "/home/marina/anaconda3/lib/python3.7/site-packages/sklearn/svm/_base.py:947: ConvergenceWarning: Liblinear failed to converge, increase the number of iterations.\n",
      "  \"the number of iterations.\", ConvergenceWarning)\n"
     ]
    },
    {
     "name": "stdout",
     "output_type": "stream",
     "text": [
      "[CV] ................ C=0.01, max_iter=3000, tol=0.0001, total=   9.0s\n",
      "[CV] C=0.01, max_iter=3000, tol=0.0001 ...............................\n"
     ]
    },
    {
     "name": "stderr",
     "output_type": "stream",
     "text": [
      "/home/marina/anaconda3/lib/python3.7/site-packages/sklearn/svm/_base.py:947: ConvergenceWarning: Liblinear failed to converge, increase the number of iterations.\n",
      "  \"the number of iterations.\", ConvergenceWarning)\n"
     ]
    },
    {
     "name": "stdout",
     "output_type": "stream",
     "text": [
      "[CV] ................ C=0.01, max_iter=3000, tol=0.0001, total=   8.7s\n",
      "[CV] C=0.01, max_iter=3000, tol=0.001 ................................\n"
     ]
    },
    {
     "name": "stderr",
     "output_type": "stream",
     "text": [
      "/home/marina/anaconda3/lib/python3.7/site-packages/sklearn/svm/_base.py:947: ConvergenceWarning: Liblinear failed to converge, increase the number of iterations.\n",
      "  \"the number of iterations.\", ConvergenceWarning)\n"
     ]
    },
    {
     "name": "stdout",
     "output_type": "stream",
     "text": [
      "[CV] ................. C=0.01, max_iter=3000, tol=0.001, total=   8.5s\n",
      "[CV] C=0.01, max_iter=3000, tol=0.001 ................................\n"
     ]
    },
    {
     "name": "stderr",
     "output_type": "stream",
     "text": [
      "/home/marina/anaconda3/lib/python3.7/site-packages/sklearn/svm/_base.py:947: ConvergenceWarning: Liblinear failed to converge, increase the number of iterations.\n",
      "  \"the number of iterations.\", ConvergenceWarning)\n"
     ]
    },
    {
     "name": "stdout",
     "output_type": "stream",
     "text": [
      "[CV] ................. C=0.01, max_iter=3000, tol=0.001, total=   8.8s\n",
      "[CV] C=0.01, max_iter=3000, tol=0.001 ................................\n"
     ]
    },
    {
     "name": "stderr",
     "output_type": "stream",
     "text": [
      "/home/marina/anaconda3/lib/python3.7/site-packages/sklearn/svm/_base.py:947: ConvergenceWarning: Liblinear failed to converge, increase the number of iterations.\n",
      "  \"the number of iterations.\", ConvergenceWarning)\n"
     ]
    },
    {
     "name": "stdout",
     "output_type": "stream",
     "text": [
      "[CV] ................. C=0.01, max_iter=3000, tol=0.001, total=   8.7s\n",
      "[CV] C=0.01, max_iter=3000, tol=0.001 ................................\n"
     ]
    },
    {
     "name": "stderr",
     "output_type": "stream",
     "text": [
      "/home/marina/anaconda3/lib/python3.7/site-packages/sklearn/svm/_base.py:947: ConvergenceWarning: Liblinear failed to converge, increase the number of iterations.\n",
      "  \"the number of iterations.\", ConvergenceWarning)\n"
     ]
    },
    {
     "name": "stdout",
     "output_type": "stream",
     "text": [
      "[CV] ................. C=0.01, max_iter=3000, tol=0.001, total=   8.8s\n",
      "[CV] C=0.01, max_iter=3000, tol=0.001 ................................\n"
     ]
    },
    {
     "name": "stderr",
     "output_type": "stream",
     "text": [
      "/home/marina/anaconda3/lib/python3.7/site-packages/sklearn/svm/_base.py:947: ConvergenceWarning: Liblinear failed to converge, increase the number of iterations.\n",
      "  \"the number of iterations.\", ConvergenceWarning)\n"
     ]
    },
    {
     "name": "stdout",
     "output_type": "stream",
     "text": [
      "[CV] ................. C=0.01, max_iter=3000, tol=0.001, total=   8.8s\n",
      "[CV] C=0.01, max_iter=1000, tol=0.0001 ...............................\n"
     ]
    },
    {
     "name": "stderr",
     "output_type": "stream",
     "text": [
      "/home/marina/anaconda3/lib/python3.7/site-packages/sklearn/svm/_base.py:947: ConvergenceWarning: Liblinear failed to converge, increase the number of iterations.\n",
      "  \"the number of iterations.\", ConvergenceWarning)\n"
     ]
    },
    {
     "name": "stdout",
     "output_type": "stream",
     "text": [
      "[CV] ................ C=0.01, max_iter=1000, tol=0.0001, total=   3.3s\n",
      "[CV] C=0.01, max_iter=1000, tol=0.0001 ...............................\n"
     ]
    },
    {
     "name": "stderr",
     "output_type": "stream",
     "text": [
      "/home/marina/anaconda3/lib/python3.7/site-packages/sklearn/svm/_base.py:947: ConvergenceWarning: Liblinear failed to converge, increase the number of iterations.\n",
      "  \"the number of iterations.\", ConvergenceWarning)\n"
     ]
    },
    {
     "name": "stdout",
     "output_type": "stream",
     "text": [
      "[CV] ................ C=0.01, max_iter=1000, tol=0.0001, total=   3.2s\n",
      "[CV] C=0.01, max_iter=1000, tol=0.0001 ...............................\n"
     ]
    },
    {
     "name": "stderr",
     "output_type": "stream",
     "text": [
      "/home/marina/anaconda3/lib/python3.7/site-packages/sklearn/svm/_base.py:947: ConvergenceWarning: Liblinear failed to converge, increase the number of iterations.\n",
      "  \"the number of iterations.\", ConvergenceWarning)\n"
     ]
    },
    {
     "name": "stdout",
     "output_type": "stream",
     "text": [
      "[CV] ................ C=0.01, max_iter=1000, tol=0.0001, total=   3.4s\n",
      "[CV] C=0.01, max_iter=1000, tol=0.0001 ...............................\n"
     ]
    },
    {
     "name": "stderr",
     "output_type": "stream",
     "text": [
      "/home/marina/anaconda3/lib/python3.7/site-packages/sklearn/svm/_base.py:947: ConvergenceWarning: Liblinear failed to converge, increase the number of iterations.\n",
      "  \"the number of iterations.\", ConvergenceWarning)\n"
     ]
    },
    {
     "name": "stdout",
     "output_type": "stream",
     "text": [
      "[CV] ................ C=0.01, max_iter=1000, tol=0.0001, total=   3.4s\n",
      "[CV] C=0.01, max_iter=1000, tol=0.0001 ...............................\n"
     ]
    },
    {
     "name": "stderr",
     "output_type": "stream",
     "text": [
      "/home/marina/anaconda3/lib/python3.7/site-packages/sklearn/svm/_base.py:947: ConvergenceWarning: Liblinear failed to converge, increase the number of iterations.\n",
      "  \"the number of iterations.\", ConvergenceWarning)\n"
     ]
    },
    {
     "name": "stdout",
     "output_type": "stream",
     "text": [
      "[CV] ................ C=0.01, max_iter=1000, tol=0.0001, total=   3.4s\n",
      "[CV] C=0.01, max_iter=1000, tol=0.001 ................................\n"
     ]
    },
    {
     "name": "stderr",
     "output_type": "stream",
     "text": [
      "/home/marina/anaconda3/lib/python3.7/site-packages/sklearn/svm/_base.py:947: ConvergenceWarning: Liblinear failed to converge, increase the number of iterations.\n",
      "  \"the number of iterations.\", ConvergenceWarning)\n"
     ]
    },
    {
     "name": "stdout",
     "output_type": "stream",
     "text": [
      "[CV] ................. C=0.01, max_iter=1000, tol=0.001, total=   3.4s\n",
      "[CV] C=0.01, max_iter=1000, tol=0.001 ................................\n"
     ]
    },
    {
     "name": "stderr",
     "output_type": "stream",
     "text": [
      "/home/marina/anaconda3/lib/python3.7/site-packages/sklearn/svm/_base.py:947: ConvergenceWarning: Liblinear failed to converge, increase the number of iterations.\n",
      "  \"the number of iterations.\", ConvergenceWarning)\n"
     ]
    },
    {
     "name": "stdout",
     "output_type": "stream",
     "text": [
      "[CV] ................. C=0.01, max_iter=1000, tol=0.001, total=   3.3s\n",
      "[CV] C=0.01, max_iter=1000, tol=0.001 ................................\n"
     ]
    },
    {
     "name": "stderr",
     "output_type": "stream",
     "text": [
      "/home/marina/anaconda3/lib/python3.7/site-packages/sklearn/svm/_base.py:947: ConvergenceWarning: Liblinear failed to converge, increase the number of iterations.\n",
      "  \"the number of iterations.\", ConvergenceWarning)\n"
     ]
    },
    {
     "name": "stdout",
     "output_type": "stream",
     "text": [
      "[CV] ................. C=0.01, max_iter=1000, tol=0.001, total=   3.3s\n",
      "[CV] C=0.01, max_iter=1000, tol=0.001 ................................\n"
     ]
    },
    {
     "name": "stderr",
     "output_type": "stream",
     "text": [
      "/home/marina/anaconda3/lib/python3.7/site-packages/sklearn/svm/_base.py:947: ConvergenceWarning: Liblinear failed to converge, increase the number of iterations.\n",
      "  \"the number of iterations.\", ConvergenceWarning)\n"
     ]
    },
    {
     "name": "stdout",
     "output_type": "stream",
     "text": [
      "[CV] ................. C=0.01, max_iter=1000, tol=0.001, total=   3.3s\n",
      "[CV] C=0.01, max_iter=1000, tol=0.001 ................................\n"
     ]
    },
    {
     "name": "stderr",
     "output_type": "stream",
     "text": [
      "/home/marina/anaconda3/lib/python3.7/site-packages/sklearn/svm/_base.py:947: ConvergenceWarning: Liblinear failed to converge, increase the number of iterations.\n",
      "  \"the number of iterations.\", ConvergenceWarning)\n"
     ]
    },
    {
     "name": "stdout",
     "output_type": "stream",
     "text": [
      "[CV] ................. C=0.01, max_iter=1000, tol=0.001, total=   3.2s\n",
      "[CV] C=0.001, max_iter=2000, tol=0.0001 ..............................\n",
      "[CV] ............... C=0.001, max_iter=2000, tol=0.0001, total=   4.1s\n",
      "[CV] C=0.001, max_iter=2000, tol=0.0001 ..............................\n",
      "[CV] ............... C=0.001, max_iter=2000, tol=0.0001, total=   4.0s\n",
      "[CV] C=0.001, max_iter=2000, tol=0.0001 ..............................\n"
     ]
    },
    {
     "name": "stderr",
     "output_type": "stream",
     "text": [
      "/home/marina/anaconda3/lib/python3.7/site-packages/sklearn/svm/_base.py:947: ConvergenceWarning: Liblinear failed to converge, increase the number of iterations.\n",
      "  \"the number of iterations.\", ConvergenceWarning)\n"
     ]
    },
    {
     "name": "stdout",
     "output_type": "stream",
     "text": [
      "[CV] ............... C=0.001, max_iter=2000, tol=0.0001, total=   5.5s\n",
      "[CV] C=0.001, max_iter=2000, tol=0.0001 ..............................\n"
     ]
    },
    {
     "name": "stderr",
     "output_type": "stream",
     "text": [
      "/home/marina/anaconda3/lib/python3.7/site-packages/sklearn/svm/_base.py:947: ConvergenceWarning: Liblinear failed to converge, increase the number of iterations.\n",
      "  \"the number of iterations.\", ConvergenceWarning)\n"
     ]
    },
    {
     "name": "stdout",
     "output_type": "stream",
     "text": [
      "[CV] ............... C=0.001, max_iter=2000, tol=0.0001, total=   5.3s\n",
      "[CV] C=0.001, max_iter=2000, tol=0.0001 ..............................\n",
      "[CV] ............... C=0.001, max_iter=2000, tol=0.0001, total=   4.4s\n",
      "[CV] C=0.001, max_iter=2000, tol=0.001 ...............................\n",
      "[CV] ................ C=0.001, max_iter=2000, tol=0.001, total=   3.3s\n",
      "[CV] C=0.001, max_iter=2000, tol=0.001 ...............................\n",
      "[CV] ................ C=0.001, max_iter=2000, tol=0.001, total=   3.3s\n",
      "[CV] C=0.001, max_iter=2000, tol=0.001 ...............................\n",
      "[CV] ................ C=0.001, max_iter=2000, tol=0.001, total=   4.1s\n",
      "[CV] C=0.001, max_iter=2000, tol=0.001 ...............................\n",
      "[CV] ................ C=0.001, max_iter=2000, tol=0.001, total=   3.4s\n",
      "[CV] C=0.001, max_iter=2000, tol=0.001 ...............................\n",
      "[CV] ................ C=0.001, max_iter=2000, tol=0.001, total=   3.3s\n",
      "[CV] C=0.001, max_iter=3000, tol=0.0001 ..............................\n",
      "[CV] ............... C=0.001, max_iter=3000, tol=0.0001, total=   6.3s\n",
      "[CV] C=0.001, max_iter=3000, tol=0.0001 ..............................\n",
      "[CV] ............... C=0.001, max_iter=3000, tol=0.0001, total=   3.9s\n",
      "[CV] C=0.001, max_iter=3000, tol=0.0001 ..............................\n",
      "[CV] ............... C=0.001, max_iter=3000, tol=0.0001, total=   6.5s\n",
      "[CV] C=0.001, max_iter=3000, tol=0.0001 ..............................\n",
      "[CV] ............... C=0.001, max_iter=3000, tol=0.0001, total=   5.3s\n",
      "[CV] C=0.001, max_iter=3000, tol=0.0001 ..............................\n",
      "[CV] ............... C=0.001, max_iter=3000, tol=0.0001, total=   4.3s\n",
      "[CV] C=0.001, max_iter=3000, tol=0.001 ...............................\n",
      "[CV] ................ C=0.001, max_iter=3000, tol=0.001, total=   4.3s\n",
      "[CV] C=0.001, max_iter=3000, tol=0.001 ...............................\n",
      "[CV] ................ C=0.001, max_iter=3000, tol=0.001, total=   3.1s\n",
      "[CV] C=0.001, max_iter=3000, tol=0.001 ...............................\n",
      "[CV] ................ C=0.001, max_iter=3000, tol=0.001, total=   3.1s\n",
      "[CV] C=0.001, max_iter=3000, tol=0.001 ...............................\n",
      "[CV] ................ C=0.001, max_iter=3000, tol=0.001, total=   5.2s\n",
      "[CV] C=0.001, max_iter=3000, tol=0.001 ...............................\n",
      "[CV] ................ C=0.001, max_iter=3000, tol=0.001, total=   5.1s\n",
      "[CV] C=0.001, max_iter=1000, tol=0.0001 ..............................\n"
     ]
    },
    {
     "name": "stderr",
     "output_type": "stream",
     "text": [
      "/home/marina/anaconda3/lib/python3.7/site-packages/sklearn/svm/_base.py:947: ConvergenceWarning: Liblinear failed to converge, increase the number of iterations.\n",
      "  \"the number of iterations.\", ConvergenceWarning)\n"
     ]
    },
    {
     "name": "stdout",
     "output_type": "stream",
     "text": [
      "[CV] ............... C=0.001, max_iter=1000, tol=0.0001, total=   2.9s\n",
      "[CV] C=0.001, max_iter=1000, tol=0.0001 ..............................\n"
     ]
    },
    {
     "name": "stderr",
     "output_type": "stream",
     "text": [
      "/home/marina/anaconda3/lib/python3.7/site-packages/sklearn/svm/_base.py:947: ConvergenceWarning: Liblinear failed to converge, increase the number of iterations.\n",
      "  \"the number of iterations.\", ConvergenceWarning)\n"
     ]
    },
    {
     "name": "stdout",
     "output_type": "stream",
     "text": [
      "[CV] ............... C=0.001, max_iter=1000, tol=0.0001, total=   2.6s\n",
      "[CV] C=0.001, max_iter=1000, tol=0.0001 ..............................\n"
     ]
    },
    {
     "name": "stderr",
     "output_type": "stream",
     "text": [
      "/home/marina/anaconda3/lib/python3.7/site-packages/sklearn/svm/_base.py:947: ConvergenceWarning: Liblinear failed to converge, increase the number of iterations.\n",
      "  \"the number of iterations.\", ConvergenceWarning)\n"
     ]
    },
    {
     "name": "stdout",
     "output_type": "stream",
     "text": [
      "[CV] ............... C=0.001, max_iter=1000, tol=0.0001, total=   2.8s\n",
      "[CV] C=0.001, max_iter=1000, tol=0.0001 ..............................\n"
     ]
    },
    {
     "name": "stderr",
     "output_type": "stream",
     "text": [
      "/home/marina/anaconda3/lib/python3.7/site-packages/sklearn/svm/_base.py:947: ConvergenceWarning: Liblinear failed to converge, increase the number of iterations.\n",
      "  \"the number of iterations.\", ConvergenceWarning)\n"
     ]
    },
    {
     "name": "stdout",
     "output_type": "stream",
     "text": [
      "[CV] ............... C=0.001, max_iter=1000, tol=0.0001, total=   2.9s\n",
      "[CV] C=0.001, max_iter=1000, tol=0.0001 ..............................\n"
     ]
    },
    {
     "name": "stderr",
     "output_type": "stream",
     "text": [
      "/home/marina/anaconda3/lib/python3.7/site-packages/sklearn/svm/_base.py:947: ConvergenceWarning: Liblinear failed to converge, increase the number of iterations.\n",
      "  \"the number of iterations.\", ConvergenceWarning)\n"
     ]
    },
    {
     "name": "stdout",
     "output_type": "stream",
     "text": [
      "[CV] ............... C=0.001, max_iter=1000, tol=0.0001, total=   2.9s\n",
      "[CV] C=0.001, max_iter=1000, tol=0.001 ...............................\n"
     ]
    },
    {
     "name": "stderr",
     "output_type": "stream",
     "text": [
      "/home/marina/anaconda3/lib/python3.7/site-packages/sklearn/svm/_base.py:947: ConvergenceWarning: Liblinear failed to converge, increase the number of iterations.\n",
      "  \"the number of iterations.\", ConvergenceWarning)\n"
     ]
    },
    {
     "name": "stdout",
     "output_type": "stream",
     "text": [
      "[CV] ................ C=0.001, max_iter=1000, tol=0.001, total=   3.0s\n",
      "[CV] C=0.001, max_iter=1000, tol=0.001 ...............................\n"
     ]
    },
    {
     "name": "stderr",
     "output_type": "stream",
     "text": [
      "/home/marina/anaconda3/lib/python3.7/site-packages/sklearn/svm/_base.py:947: ConvergenceWarning: Liblinear failed to converge, increase the number of iterations.\n",
      "  \"the number of iterations.\", ConvergenceWarning)\n"
     ]
    },
    {
     "name": "stdout",
     "output_type": "stream",
     "text": [
      "[CV] ................ C=0.001, max_iter=1000, tol=0.001, total=   2.9s\n",
      "[CV] C=0.001, max_iter=1000, tol=0.001 ...............................\n"
     ]
    },
    {
     "name": "stderr",
     "output_type": "stream",
     "text": [
      "/home/marina/anaconda3/lib/python3.7/site-packages/sklearn/svm/_base.py:947: ConvergenceWarning: Liblinear failed to converge, increase the number of iterations.\n",
      "  \"the number of iterations.\", ConvergenceWarning)\n"
     ]
    },
    {
     "name": "stdout",
     "output_type": "stream",
     "text": [
      "[CV] ................ C=0.001, max_iter=1000, tol=0.001, total=   2.9s\n",
      "[CV] C=0.001, max_iter=1000, tol=0.001 ...............................\n"
     ]
    },
    {
     "name": "stderr",
     "output_type": "stream",
     "text": [
      "/home/marina/anaconda3/lib/python3.7/site-packages/sklearn/svm/_base.py:947: ConvergenceWarning: Liblinear failed to converge, increase the number of iterations.\n",
      "  \"the number of iterations.\", ConvergenceWarning)\n"
     ]
    },
    {
     "name": "stdout",
     "output_type": "stream",
     "text": [
      "[CV] ................ C=0.001, max_iter=1000, tol=0.001, total=   3.0s\n",
      "[CV] C=0.001, max_iter=1000, tol=0.001 ...............................\n"
     ]
    },
    {
     "name": "stderr",
     "output_type": "stream",
     "text": [
      "/home/marina/anaconda3/lib/python3.7/site-packages/sklearn/svm/_base.py:947: ConvergenceWarning: Liblinear failed to converge, increase the number of iterations.\n",
      "  \"the number of iterations.\", ConvergenceWarning)\n"
     ]
    },
    {
     "name": "stdout",
     "output_type": "stream",
     "text": [
      "[CV] ................ C=0.001, max_iter=1000, tol=0.001, total=   2.9s\n",
      "[CV] C=0.0001, max_iter=2000, tol=0.0001 .............................\n",
      "[CV] .............. C=0.0001, max_iter=2000, tol=0.0001, total=   0.5s\n",
      "[CV] C=0.0001, max_iter=2000, tol=0.0001 .............................\n",
      "[CV] .............. C=0.0001, max_iter=2000, tol=0.0001, total=   0.5s\n",
      "[CV] C=0.0001, max_iter=2000, tol=0.0001 .............................\n",
      "[CV] .............. C=0.0001, max_iter=2000, tol=0.0001, total=   0.5s\n",
      "[CV] C=0.0001, max_iter=2000, tol=0.0001 .............................\n",
      "[CV] .............. C=0.0001, max_iter=2000, tol=0.0001, total=   0.6s\n",
      "[CV] C=0.0001, max_iter=2000, tol=0.0001 .............................\n",
      "[CV] .............. C=0.0001, max_iter=2000, tol=0.0001, total=   0.6s\n",
      "[CV] C=0.0001, max_iter=2000, tol=0.001 ..............................\n",
      "[CV] ............... C=0.0001, max_iter=2000, tol=0.001, total=   0.4s\n",
      "[CV] C=0.0001, max_iter=2000, tol=0.001 ..............................\n",
      "[CV] ............... C=0.0001, max_iter=2000, tol=0.001, total=   0.5s\n",
      "[CV] C=0.0001, max_iter=2000, tol=0.001 ..............................\n",
      "[CV] ............... C=0.0001, max_iter=2000, tol=0.001, total=   0.4s\n",
      "[CV] C=0.0001, max_iter=2000, tol=0.001 ..............................\n",
      "[CV] ............... C=0.0001, max_iter=2000, tol=0.001, total=   0.5s\n",
      "[CV] C=0.0001, max_iter=2000, tol=0.001 ..............................\n",
      "[CV] ............... C=0.0001, max_iter=2000, tol=0.001, total=   0.5s\n",
      "[CV] C=0.0001, max_iter=3000, tol=0.0001 .............................\n",
      "[CV] .............. C=0.0001, max_iter=3000, tol=0.0001, total=   0.6s\n",
      "[CV] C=0.0001, max_iter=3000, tol=0.0001 .............................\n",
      "[CV] .............. C=0.0001, max_iter=3000, tol=0.0001, total=   0.6s\n",
      "[CV] C=0.0001, max_iter=3000, tol=0.0001 .............................\n",
      "[CV] .............. C=0.0001, max_iter=3000, tol=0.0001, total=   0.5s\n",
      "[CV] C=0.0001, max_iter=3000, tol=0.0001 .............................\n",
      "[CV] .............. C=0.0001, max_iter=3000, tol=0.0001, total=   0.5s\n",
      "[CV] C=0.0001, max_iter=3000, tol=0.0001 .............................\n",
      "[CV] .............. C=0.0001, max_iter=3000, tol=0.0001, total=   0.5s\n",
      "[CV] C=0.0001, max_iter=3000, tol=0.001 ..............................\n",
      "[CV] ............... C=0.0001, max_iter=3000, tol=0.001, total=   0.4s\n",
      "[CV] C=0.0001, max_iter=3000, tol=0.001 ..............................\n",
      "[CV] ............... C=0.0001, max_iter=3000, tol=0.001, total=   0.4s\n",
      "[CV] C=0.0001, max_iter=3000, tol=0.001 ..............................\n",
      "[CV] ............... C=0.0001, max_iter=3000, tol=0.001, total=   0.5s\n",
      "[CV] C=0.0001, max_iter=3000, tol=0.001 ..............................\n",
      "[CV] ............... C=0.0001, max_iter=3000, tol=0.001, total=   0.4s\n",
      "[CV] C=0.0001, max_iter=3000, tol=0.001 ..............................\n",
      "[CV] ............... C=0.0001, max_iter=3000, tol=0.001, total=   0.4s\n",
      "[CV] C=0.0001, max_iter=1000, tol=0.0001 .............................\n",
      "[CV] .............. C=0.0001, max_iter=1000, tol=0.0001, total=   0.5s\n",
      "[CV] C=0.0001, max_iter=1000, tol=0.0001 .............................\n",
      "[CV] .............. C=0.0001, max_iter=1000, tol=0.0001, total=   0.5s\n",
      "[CV] C=0.0001, max_iter=1000, tol=0.0001 .............................\n",
      "[CV] .............. C=0.0001, max_iter=1000, tol=0.0001, total=   0.6s\n",
      "[CV] C=0.0001, max_iter=1000, tol=0.0001 .............................\n",
      "[CV] .............. C=0.0001, max_iter=1000, tol=0.0001, total=   0.7s\n",
      "[CV] C=0.0001, max_iter=1000, tol=0.0001 .............................\n",
      "[CV] .............. C=0.0001, max_iter=1000, tol=0.0001, total=   0.7s\n",
      "[CV] C=0.0001, max_iter=1000, tol=0.001 ..............................\n",
      "[CV] ............... C=0.0001, max_iter=1000, tol=0.001, total=   0.5s\n",
      "[CV] C=0.0001, max_iter=1000, tol=0.001 ..............................\n",
      "[CV] ............... C=0.0001, max_iter=1000, tol=0.001, total=   0.4s\n",
      "[CV] C=0.0001, max_iter=1000, tol=0.001 ..............................\n",
      "[CV] ............... C=0.0001, max_iter=1000, tol=0.001, total=   0.5s\n",
      "[CV] C=0.0001, max_iter=1000, tol=0.001 ..............................\n",
      "[CV] ............... C=0.0001, max_iter=1000, tol=0.001, total=   0.5s\n",
      "[CV] C=0.0001, max_iter=1000, tol=0.001 ..............................\n",
      "[CV] ............... C=0.0001, max_iter=1000, tol=0.001, total=   0.5s\n",
      "[CV] C=10, max_iter=2000, tol=0.0001 .................................\n"
     ]
    },
    {
     "name": "stderr",
     "output_type": "stream",
     "text": [
      "/home/marina/anaconda3/lib/python3.7/site-packages/sklearn/svm/_base.py:947: ConvergenceWarning: Liblinear failed to converge, increase the number of iterations.\n",
      "  \"the number of iterations.\", ConvergenceWarning)\n"
     ]
    },
    {
     "name": "stdout",
     "output_type": "stream",
     "text": [
      "[CV] .................. C=10, max_iter=2000, tol=0.0001, total=   6.3s\n",
      "[CV] C=10, max_iter=2000, tol=0.0001 .................................\n"
     ]
    },
    {
     "name": "stderr",
     "output_type": "stream",
     "text": [
      "/home/marina/anaconda3/lib/python3.7/site-packages/sklearn/svm/_base.py:947: ConvergenceWarning: Liblinear failed to converge, increase the number of iterations.\n",
      "  \"the number of iterations.\", ConvergenceWarning)\n"
     ]
    },
    {
     "name": "stdout",
     "output_type": "stream",
     "text": [
      "[CV] .................. C=10, max_iter=2000, tol=0.0001, total=   6.3s\n",
      "[CV] C=10, max_iter=2000, tol=0.0001 .................................\n"
     ]
    },
    {
     "name": "stderr",
     "output_type": "stream",
     "text": [
      "/home/marina/anaconda3/lib/python3.7/site-packages/sklearn/svm/_base.py:947: ConvergenceWarning: Liblinear failed to converge, increase the number of iterations.\n",
      "  \"the number of iterations.\", ConvergenceWarning)\n"
     ]
    },
    {
     "name": "stdout",
     "output_type": "stream",
     "text": [
      "[CV] .................. C=10, max_iter=2000, tol=0.0001, total=   6.4s\n",
      "[CV] C=10, max_iter=2000, tol=0.0001 .................................\n"
     ]
    },
    {
     "name": "stderr",
     "output_type": "stream",
     "text": [
      "/home/marina/anaconda3/lib/python3.7/site-packages/sklearn/svm/_base.py:947: ConvergenceWarning: Liblinear failed to converge, increase the number of iterations.\n",
      "  \"the number of iterations.\", ConvergenceWarning)\n"
     ]
    },
    {
     "name": "stdout",
     "output_type": "stream",
     "text": [
      "[CV] .................. C=10, max_iter=2000, tol=0.0001, total=   6.4s\n",
      "[CV] C=10, max_iter=2000, tol=0.0001 .................................\n"
     ]
    },
    {
     "name": "stderr",
     "output_type": "stream",
     "text": [
      "/home/marina/anaconda3/lib/python3.7/site-packages/sklearn/svm/_base.py:947: ConvergenceWarning: Liblinear failed to converge, increase the number of iterations.\n",
      "  \"the number of iterations.\", ConvergenceWarning)\n"
     ]
    },
    {
     "name": "stdout",
     "output_type": "stream",
     "text": [
      "[CV] .................. C=10, max_iter=2000, tol=0.0001, total=   6.3s\n",
      "[CV] C=10, max_iter=2000, tol=0.001 ..................................\n"
     ]
    },
    {
     "name": "stderr",
     "output_type": "stream",
     "text": [
      "/home/marina/anaconda3/lib/python3.7/site-packages/sklearn/svm/_base.py:947: ConvergenceWarning: Liblinear failed to converge, increase the number of iterations.\n",
      "  \"the number of iterations.\", ConvergenceWarning)\n"
     ]
    },
    {
     "name": "stdout",
     "output_type": "stream",
     "text": [
      "[CV] ................... C=10, max_iter=2000, tol=0.001, total=   6.4s\n",
      "[CV] C=10, max_iter=2000, tol=0.001 ..................................\n"
     ]
    },
    {
     "name": "stderr",
     "output_type": "stream",
     "text": [
      "/home/marina/anaconda3/lib/python3.7/site-packages/sklearn/svm/_base.py:947: ConvergenceWarning: Liblinear failed to converge, increase the number of iterations.\n",
      "  \"the number of iterations.\", ConvergenceWarning)\n"
     ]
    },
    {
     "name": "stdout",
     "output_type": "stream",
     "text": [
      "[CV] ................... C=10, max_iter=2000, tol=0.001, total=   6.1s\n",
      "[CV] C=10, max_iter=2000, tol=0.001 ..................................\n"
     ]
    },
    {
     "name": "stderr",
     "output_type": "stream",
     "text": [
      "/home/marina/anaconda3/lib/python3.7/site-packages/sklearn/svm/_base.py:947: ConvergenceWarning: Liblinear failed to converge, increase the number of iterations.\n",
      "  \"the number of iterations.\", ConvergenceWarning)\n"
     ]
    },
    {
     "name": "stdout",
     "output_type": "stream",
     "text": [
      "[CV] ................... C=10, max_iter=2000, tol=0.001, total=   6.2s\n",
      "[CV] C=10, max_iter=2000, tol=0.001 ..................................\n"
     ]
    },
    {
     "name": "stderr",
     "output_type": "stream",
     "text": [
      "/home/marina/anaconda3/lib/python3.7/site-packages/sklearn/svm/_base.py:947: ConvergenceWarning: Liblinear failed to converge, increase the number of iterations.\n",
      "  \"the number of iterations.\", ConvergenceWarning)\n"
     ]
    },
    {
     "name": "stdout",
     "output_type": "stream",
     "text": [
      "[CV] ................... C=10, max_iter=2000, tol=0.001, total=   6.4s\n",
      "[CV] C=10, max_iter=2000, tol=0.001 ..................................\n"
     ]
    },
    {
     "name": "stderr",
     "output_type": "stream",
     "text": [
      "/home/marina/anaconda3/lib/python3.7/site-packages/sklearn/svm/_base.py:947: ConvergenceWarning: Liblinear failed to converge, increase the number of iterations.\n",
      "  \"the number of iterations.\", ConvergenceWarning)\n"
     ]
    },
    {
     "name": "stdout",
     "output_type": "stream",
     "text": [
      "[CV] ................... C=10, max_iter=2000, tol=0.001, total=   6.5s\n",
      "[CV] C=10, max_iter=3000, tol=0.0001 .................................\n"
     ]
    },
    {
     "name": "stderr",
     "output_type": "stream",
     "text": [
      "/home/marina/anaconda3/lib/python3.7/site-packages/sklearn/svm/_base.py:947: ConvergenceWarning: Liblinear failed to converge, increase the number of iterations.\n",
      "  \"the number of iterations.\", ConvergenceWarning)\n"
     ]
    },
    {
     "name": "stdout",
     "output_type": "stream",
     "text": [
      "[CV] .................. C=10, max_iter=3000, tol=0.0001, total=   9.3s\n",
      "[CV] C=10, max_iter=3000, tol=0.0001 .................................\n"
     ]
    },
    {
     "name": "stderr",
     "output_type": "stream",
     "text": [
      "/home/marina/anaconda3/lib/python3.7/site-packages/sklearn/svm/_base.py:947: ConvergenceWarning: Liblinear failed to converge, increase the number of iterations.\n",
      "  \"the number of iterations.\", ConvergenceWarning)\n"
     ]
    },
    {
     "name": "stdout",
     "output_type": "stream",
     "text": [
      "[CV] .................. C=10, max_iter=3000, tol=0.0001, total=   9.4s\n",
      "[CV] C=10, max_iter=3000, tol=0.0001 .................................\n"
     ]
    },
    {
     "name": "stderr",
     "output_type": "stream",
     "text": [
      "/home/marina/anaconda3/lib/python3.7/site-packages/sklearn/svm/_base.py:947: ConvergenceWarning: Liblinear failed to converge, increase the number of iterations.\n",
      "  \"the number of iterations.\", ConvergenceWarning)\n"
     ]
    },
    {
     "name": "stdout",
     "output_type": "stream",
     "text": [
      "[CV] .................. C=10, max_iter=3000, tol=0.0001, total=  10.1s\n",
      "[CV] C=10, max_iter=3000, tol=0.0001 .................................\n"
     ]
    },
    {
     "name": "stderr",
     "output_type": "stream",
     "text": [
      "/home/marina/anaconda3/lib/python3.7/site-packages/sklearn/svm/_base.py:947: ConvergenceWarning: Liblinear failed to converge, increase the number of iterations.\n",
      "  \"the number of iterations.\", ConvergenceWarning)\n"
     ]
    },
    {
     "name": "stdout",
     "output_type": "stream",
     "text": [
      "[CV] .................. C=10, max_iter=3000, tol=0.0001, total=   9.9s\n",
      "[CV] C=10, max_iter=3000, tol=0.0001 .................................\n"
     ]
    },
    {
     "name": "stderr",
     "output_type": "stream",
     "text": [
      "/home/marina/anaconda3/lib/python3.7/site-packages/sklearn/svm/_base.py:947: ConvergenceWarning: Liblinear failed to converge, increase the number of iterations.\n",
      "  \"the number of iterations.\", ConvergenceWarning)\n"
     ]
    },
    {
     "name": "stdout",
     "output_type": "stream",
     "text": [
      "[CV] .................. C=10, max_iter=3000, tol=0.0001, total=  10.1s\n",
      "[CV] C=10, max_iter=3000, tol=0.001 ..................................\n"
     ]
    },
    {
     "name": "stderr",
     "output_type": "stream",
     "text": [
      "/home/marina/anaconda3/lib/python3.7/site-packages/sklearn/svm/_base.py:947: ConvergenceWarning: Liblinear failed to converge, increase the number of iterations.\n",
      "  \"the number of iterations.\", ConvergenceWarning)\n"
     ]
    },
    {
     "name": "stdout",
     "output_type": "stream",
     "text": [
      "[CV] ................... C=10, max_iter=3000, tol=0.001, total=  10.7s\n",
      "[CV] C=10, max_iter=3000, tol=0.001 ..................................\n"
     ]
    },
    {
     "name": "stderr",
     "output_type": "stream",
     "text": [
      "/home/marina/anaconda3/lib/python3.7/site-packages/sklearn/svm/_base.py:947: ConvergenceWarning: Liblinear failed to converge, increase the number of iterations.\n",
      "  \"the number of iterations.\", ConvergenceWarning)\n"
     ]
    },
    {
     "name": "stdout",
     "output_type": "stream",
     "text": [
      "[CV] ................... C=10, max_iter=3000, tol=0.001, total=  10.1s\n",
      "[CV] C=10, max_iter=3000, tol=0.001 ..................................\n"
     ]
    },
    {
     "name": "stderr",
     "output_type": "stream",
     "text": [
      "/home/marina/anaconda3/lib/python3.7/site-packages/sklearn/svm/_base.py:947: ConvergenceWarning: Liblinear failed to converge, increase the number of iterations.\n",
      "  \"the number of iterations.\", ConvergenceWarning)\n"
     ]
    },
    {
     "name": "stdout",
     "output_type": "stream",
     "text": [
      "[CV] ................... C=10, max_iter=3000, tol=0.001, total=   9.8s\n",
      "[CV] C=10, max_iter=3000, tol=0.001 ..................................\n"
     ]
    },
    {
     "name": "stderr",
     "output_type": "stream",
     "text": [
      "/home/marina/anaconda3/lib/python3.7/site-packages/sklearn/svm/_base.py:947: ConvergenceWarning: Liblinear failed to converge, increase the number of iterations.\n",
      "  \"the number of iterations.\", ConvergenceWarning)\n"
     ]
    },
    {
     "name": "stdout",
     "output_type": "stream",
     "text": [
      "[CV] ................... C=10, max_iter=3000, tol=0.001, total=  10.4s\n",
      "[CV] C=10, max_iter=3000, tol=0.001 ..................................\n"
     ]
    },
    {
     "name": "stderr",
     "output_type": "stream",
     "text": [
      "/home/marina/anaconda3/lib/python3.7/site-packages/sklearn/svm/_base.py:947: ConvergenceWarning: Liblinear failed to converge, increase the number of iterations.\n",
      "  \"the number of iterations.\", ConvergenceWarning)\n"
     ]
    },
    {
     "name": "stdout",
     "output_type": "stream",
     "text": [
      "[CV] ................... C=10, max_iter=3000, tol=0.001, total=   9.3s\n",
      "[CV] C=10, max_iter=1000, tol=0.0001 .................................\n"
     ]
    },
    {
     "name": "stderr",
     "output_type": "stream",
     "text": [
      "/home/marina/anaconda3/lib/python3.7/site-packages/sklearn/svm/_base.py:947: ConvergenceWarning: Liblinear failed to converge, increase the number of iterations.\n",
      "  \"the number of iterations.\", ConvergenceWarning)\n"
     ]
    },
    {
     "name": "stdout",
     "output_type": "stream",
     "text": [
      "[CV] .................. C=10, max_iter=1000, tol=0.0001, total=   3.6s\n",
      "[CV] C=10, max_iter=1000, tol=0.0001 .................................\n"
     ]
    },
    {
     "name": "stderr",
     "output_type": "stream",
     "text": [
      "/home/marina/anaconda3/lib/python3.7/site-packages/sklearn/svm/_base.py:947: ConvergenceWarning: Liblinear failed to converge, increase the number of iterations.\n",
      "  \"the number of iterations.\", ConvergenceWarning)\n"
     ]
    },
    {
     "name": "stdout",
     "output_type": "stream",
     "text": [
      "[CV] .................. C=10, max_iter=1000, tol=0.0001, total=   3.6s\n",
      "[CV] C=10, max_iter=1000, tol=0.0001 .................................\n"
     ]
    },
    {
     "name": "stderr",
     "output_type": "stream",
     "text": [
      "/home/marina/anaconda3/lib/python3.7/site-packages/sklearn/svm/_base.py:947: ConvergenceWarning: Liblinear failed to converge, increase the number of iterations.\n",
      "  \"the number of iterations.\", ConvergenceWarning)\n"
     ]
    },
    {
     "name": "stdout",
     "output_type": "stream",
     "text": [
      "[CV] .................. C=10, max_iter=1000, tol=0.0001, total=   3.6s\n",
      "[CV] C=10, max_iter=1000, tol=0.0001 .................................\n"
     ]
    },
    {
     "name": "stderr",
     "output_type": "stream",
     "text": [
      "/home/marina/anaconda3/lib/python3.7/site-packages/sklearn/svm/_base.py:947: ConvergenceWarning: Liblinear failed to converge, increase the number of iterations.\n",
      "  \"the number of iterations.\", ConvergenceWarning)\n"
     ]
    },
    {
     "name": "stdout",
     "output_type": "stream",
     "text": [
      "[CV] .................. C=10, max_iter=1000, tol=0.0001, total=   3.8s\n",
      "[CV] C=10, max_iter=1000, tol=0.0001 .................................\n"
     ]
    },
    {
     "name": "stderr",
     "output_type": "stream",
     "text": [
      "/home/marina/anaconda3/lib/python3.7/site-packages/sklearn/svm/_base.py:947: ConvergenceWarning: Liblinear failed to converge, increase the number of iterations.\n",
      "  \"the number of iterations.\", ConvergenceWarning)\n"
     ]
    },
    {
     "name": "stdout",
     "output_type": "stream",
     "text": [
      "[CV] .................. C=10, max_iter=1000, tol=0.0001, total=   3.6s\n",
      "[CV] C=10, max_iter=1000, tol=0.001 ..................................\n"
     ]
    },
    {
     "name": "stderr",
     "output_type": "stream",
     "text": [
      "/home/marina/anaconda3/lib/python3.7/site-packages/sklearn/svm/_base.py:947: ConvergenceWarning: Liblinear failed to converge, increase the number of iterations.\n",
      "  \"the number of iterations.\", ConvergenceWarning)\n"
     ]
    },
    {
     "name": "stdout",
     "output_type": "stream",
     "text": [
      "[CV] ................... C=10, max_iter=1000, tol=0.001, total=   3.4s\n",
      "[CV] C=10, max_iter=1000, tol=0.001 ..................................\n"
     ]
    },
    {
     "name": "stderr",
     "output_type": "stream",
     "text": [
      "/home/marina/anaconda3/lib/python3.7/site-packages/sklearn/svm/_base.py:947: ConvergenceWarning: Liblinear failed to converge, increase the number of iterations.\n",
      "  \"the number of iterations.\", ConvergenceWarning)\n"
     ]
    },
    {
     "name": "stdout",
     "output_type": "stream",
     "text": [
      "[CV] ................... C=10, max_iter=1000, tol=0.001, total=   3.2s\n",
      "[CV] C=10, max_iter=1000, tol=0.001 ..................................\n"
     ]
    },
    {
     "name": "stderr",
     "output_type": "stream",
     "text": [
      "/home/marina/anaconda3/lib/python3.7/site-packages/sklearn/svm/_base.py:947: ConvergenceWarning: Liblinear failed to converge, increase the number of iterations.\n",
      "  \"the number of iterations.\", ConvergenceWarning)\n"
     ]
    },
    {
     "name": "stdout",
     "output_type": "stream",
     "text": [
      "[CV] ................... C=10, max_iter=1000, tol=0.001, total=   3.4s\n",
      "[CV] C=10, max_iter=1000, tol=0.001 ..................................\n"
     ]
    },
    {
     "name": "stderr",
     "output_type": "stream",
     "text": [
      "/home/marina/anaconda3/lib/python3.7/site-packages/sklearn/svm/_base.py:947: ConvergenceWarning: Liblinear failed to converge, increase the number of iterations.\n",
      "  \"the number of iterations.\", ConvergenceWarning)\n"
     ]
    },
    {
     "name": "stdout",
     "output_type": "stream",
     "text": [
      "[CV] ................... C=10, max_iter=1000, tol=0.001, total=   3.4s\n",
      "[CV] C=10, max_iter=1000, tol=0.001 ..................................\n"
     ]
    },
    {
     "name": "stderr",
     "output_type": "stream",
     "text": [
      "/home/marina/anaconda3/lib/python3.7/site-packages/sklearn/svm/_base.py:947: ConvergenceWarning: Liblinear failed to converge, increase the number of iterations.\n",
      "  \"the number of iterations.\", ConvergenceWarning)\n"
     ]
    },
    {
     "name": "stdout",
     "output_type": "stream",
     "text": [
      "[CV] ................... C=10, max_iter=1000, tol=0.001, total=   3.2s\n",
      "[CV] C=100, max_iter=2000, tol=0.0001 ................................\n"
     ]
    },
    {
     "name": "stderr",
     "output_type": "stream",
     "text": [
      "/home/marina/anaconda3/lib/python3.7/site-packages/sklearn/svm/_base.py:947: ConvergenceWarning: Liblinear failed to converge, increase the number of iterations.\n",
      "  \"the number of iterations.\", ConvergenceWarning)\n"
     ]
    },
    {
     "name": "stdout",
     "output_type": "stream",
     "text": [
      "[CV] ................. C=100, max_iter=2000, tol=0.0001, total=   6.8s\n",
      "[CV] C=100, max_iter=2000, tol=0.0001 ................................\n"
     ]
    },
    {
     "name": "stderr",
     "output_type": "stream",
     "text": [
      "/home/marina/anaconda3/lib/python3.7/site-packages/sklearn/svm/_base.py:947: ConvergenceWarning: Liblinear failed to converge, increase the number of iterations.\n",
      "  \"the number of iterations.\", ConvergenceWarning)\n"
     ]
    },
    {
     "name": "stdout",
     "output_type": "stream",
     "text": [
      "[CV] ................. C=100, max_iter=2000, tol=0.0001, total=   6.3s\n",
      "[CV] C=100, max_iter=2000, tol=0.0001 ................................\n"
     ]
    },
    {
     "name": "stderr",
     "output_type": "stream",
     "text": [
      "/home/marina/anaconda3/lib/python3.7/site-packages/sklearn/svm/_base.py:947: ConvergenceWarning: Liblinear failed to converge, increase the number of iterations.\n",
      "  \"the number of iterations.\", ConvergenceWarning)\n"
     ]
    },
    {
     "name": "stdout",
     "output_type": "stream",
     "text": [
      "[CV] ................. C=100, max_iter=2000, tol=0.0001, total=   6.2s\n",
      "[CV] C=100, max_iter=2000, tol=0.0001 ................................\n"
     ]
    },
    {
     "name": "stderr",
     "output_type": "stream",
     "text": [
      "/home/marina/anaconda3/lib/python3.7/site-packages/sklearn/svm/_base.py:947: ConvergenceWarning: Liblinear failed to converge, increase the number of iterations.\n",
      "  \"the number of iterations.\", ConvergenceWarning)\n"
     ]
    },
    {
     "name": "stdout",
     "output_type": "stream",
     "text": [
      "[CV] ................. C=100, max_iter=2000, tol=0.0001, total=   6.2s\n",
      "[CV] C=100, max_iter=2000, tol=0.0001 ................................\n"
     ]
    },
    {
     "name": "stderr",
     "output_type": "stream",
     "text": [
      "/home/marina/anaconda3/lib/python3.7/site-packages/sklearn/svm/_base.py:947: ConvergenceWarning: Liblinear failed to converge, increase the number of iterations.\n",
      "  \"the number of iterations.\", ConvergenceWarning)\n"
     ]
    },
    {
     "name": "stdout",
     "output_type": "stream",
     "text": [
      "[CV] ................. C=100, max_iter=2000, tol=0.0001, total=   6.3s\n",
      "[CV] C=100, max_iter=2000, tol=0.001 .................................\n"
     ]
    },
    {
     "name": "stderr",
     "output_type": "stream",
     "text": [
      "/home/marina/anaconda3/lib/python3.7/site-packages/sklearn/svm/_base.py:947: ConvergenceWarning: Liblinear failed to converge, increase the number of iterations.\n",
      "  \"the number of iterations.\", ConvergenceWarning)\n"
     ]
    },
    {
     "name": "stdout",
     "output_type": "stream",
     "text": [
      "[CV] .................. C=100, max_iter=2000, tol=0.001, total=   6.4s\n",
      "[CV] C=100, max_iter=2000, tol=0.001 .................................\n"
     ]
    },
    {
     "name": "stderr",
     "output_type": "stream",
     "text": [
      "/home/marina/anaconda3/lib/python3.7/site-packages/sklearn/svm/_base.py:947: ConvergenceWarning: Liblinear failed to converge, increase the number of iterations.\n",
      "  \"the number of iterations.\", ConvergenceWarning)\n"
     ]
    },
    {
     "name": "stdout",
     "output_type": "stream",
     "text": [
      "[CV] .................. C=100, max_iter=2000, tol=0.001, total=   7.4s\n",
      "[CV] C=100, max_iter=2000, tol=0.001 .................................\n"
     ]
    },
    {
     "name": "stderr",
     "output_type": "stream",
     "text": [
      "/home/marina/anaconda3/lib/python3.7/site-packages/sklearn/svm/_base.py:947: ConvergenceWarning: Liblinear failed to converge, increase the number of iterations.\n",
      "  \"the number of iterations.\", ConvergenceWarning)\n"
     ]
    },
    {
     "name": "stdout",
     "output_type": "stream",
     "text": [
      "[CV] .................. C=100, max_iter=2000, tol=0.001, total=   7.0s\n",
      "[CV] C=100, max_iter=2000, tol=0.001 .................................\n"
     ]
    },
    {
     "name": "stderr",
     "output_type": "stream",
     "text": [
      "/home/marina/anaconda3/lib/python3.7/site-packages/sklearn/svm/_base.py:947: ConvergenceWarning: Liblinear failed to converge, increase the number of iterations.\n",
      "  \"the number of iterations.\", ConvergenceWarning)\n"
     ]
    },
    {
     "name": "stdout",
     "output_type": "stream",
     "text": [
      "[CV] .................. C=100, max_iter=2000, tol=0.001, total=   6.8s\n",
      "[CV] C=100, max_iter=2000, tol=0.001 .................................\n"
     ]
    },
    {
     "name": "stderr",
     "output_type": "stream",
     "text": [
      "/home/marina/anaconda3/lib/python3.7/site-packages/sklearn/svm/_base.py:947: ConvergenceWarning: Liblinear failed to converge, increase the number of iterations.\n",
      "  \"the number of iterations.\", ConvergenceWarning)\n"
     ]
    },
    {
     "name": "stdout",
     "output_type": "stream",
     "text": [
      "[CV] .................. C=100, max_iter=2000, tol=0.001, total=   6.8s\n",
      "[CV] C=100, max_iter=3000, tol=0.0001 ................................\n"
     ]
    },
    {
     "name": "stderr",
     "output_type": "stream",
     "text": [
      "/home/marina/anaconda3/lib/python3.7/site-packages/sklearn/svm/_base.py:947: ConvergenceWarning: Liblinear failed to converge, increase the number of iterations.\n",
      "  \"the number of iterations.\", ConvergenceWarning)\n"
     ]
    },
    {
     "name": "stdout",
     "output_type": "stream",
     "text": [
      "[CV] ................. C=100, max_iter=3000, tol=0.0001, total=  10.0s\n",
      "[CV] C=100, max_iter=3000, tol=0.0001 ................................\n"
     ]
    },
    {
     "name": "stderr",
     "output_type": "stream",
     "text": [
      "/home/marina/anaconda3/lib/python3.7/site-packages/sklearn/svm/_base.py:947: ConvergenceWarning: Liblinear failed to converge, increase the number of iterations.\n",
      "  \"the number of iterations.\", ConvergenceWarning)\n"
     ]
    },
    {
     "name": "stdout",
     "output_type": "stream",
     "text": [
      "[CV] ................. C=100, max_iter=3000, tol=0.0001, total=  10.0s\n",
      "[CV] C=100, max_iter=3000, tol=0.0001 ................................\n"
     ]
    },
    {
     "name": "stderr",
     "output_type": "stream",
     "text": [
      "/home/marina/anaconda3/lib/python3.7/site-packages/sklearn/svm/_base.py:947: ConvergenceWarning: Liblinear failed to converge, increase the number of iterations.\n",
      "  \"the number of iterations.\", ConvergenceWarning)\n"
     ]
    },
    {
     "name": "stdout",
     "output_type": "stream",
     "text": [
      "[CV] ................. C=100, max_iter=3000, tol=0.0001, total=  10.3s\n",
      "[CV] C=100, max_iter=3000, tol=0.0001 ................................\n"
     ]
    },
    {
     "name": "stderr",
     "output_type": "stream",
     "text": [
      "/home/marina/anaconda3/lib/python3.7/site-packages/sklearn/svm/_base.py:947: ConvergenceWarning: Liblinear failed to converge, increase the number of iterations.\n",
      "  \"the number of iterations.\", ConvergenceWarning)\n"
     ]
    },
    {
     "name": "stdout",
     "output_type": "stream",
     "text": [
      "[CV] ................. C=100, max_iter=3000, tol=0.0001, total=  10.1s\n",
      "[CV] C=100, max_iter=3000, tol=0.0001 ................................\n"
     ]
    },
    {
     "name": "stderr",
     "output_type": "stream",
     "text": [
      "/home/marina/anaconda3/lib/python3.7/site-packages/sklearn/svm/_base.py:947: ConvergenceWarning: Liblinear failed to converge, increase the number of iterations.\n",
      "  \"the number of iterations.\", ConvergenceWarning)\n"
     ]
    },
    {
     "name": "stdout",
     "output_type": "stream",
     "text": [
      "[CV] ................. C=100, max_iter=3000, tol=0.0001, total=  10.4s\n",
      "[CV] C=100, max_iter=3000, tol=0.001 .................................\n"
     ]
    },
    {
     "name": "stderr",
     "output_type": "stream",
     "text": [
      "/home/marina/anaconda3/lib/python3.7/site-packages/sklearn/svm/_base.py:947: ConvergenceWarning: Liblinear failed to converge, increase the number of iterations.\n",
      "  \"the number of iterations.\", ConvergenceWarning)\n"
     ]
    },
    {
     "name": "stdout",
     "output_type": "stream",
     "text": [
      "[CV] .................. C=100, max_iter=3000, tol=0.001, total=  10.2s\n",
      "[CV] C=100, max_iter=3000, tol=0.001 .................................\n"
     ]
    },
    {
     "name": "stderr",
     "output_type": "stream",
     "text": [
      "/home/marina/anaconda3/lib/python3.7/site-packages/sklearn/svm/_base.py:947: ConvergenceWarning: Liblinear failed to converge, increase the number of iterations.\n",
      "  \"the number of iterations.\", ConvergenceWarning)\n"
     ]
    },
    {
     "name": "stdout",
     "output_type": "stream",
     "text": [
      "[CV] .................. C=100, max_iter=3000, tol=0.001, total=  10.0s\n",
      "[CV] C=100, max_iter=3000, tol=0.001 .................................\n"
     ]
    },
    {
     "name": "stderr",
     "output_type": "stream",
     "text": [
      "/home/marina/anaconda3/lib/python3.7/site-packages/sklearn/svm/_base.py:947: ConvergenceWarning: Liblinear failed to converge, increase the number of iterations.\n",
      "  \"the number of iterations.\", ConvergenceWarning)\n"
     ]
    },
    {
     "name": "stdout",
     "output_type": "stream",
     "text": [
      "[CV] .................. C=100, max_iter=3000, tol=0.001, total=  10.5s\n",
      "[CV] C=100, max_iter=3000, tol=0.001 .................................\n"
     ]
    },
    {
     "name": "stderr",
     "output_type": "stream",
     "text": [
      "/home/marina/anaconda3/lib/python3.7/site-packages/sklearn/svm/_base.py:947: ConvergenceWarning: Liblinear failed to converge, increase the number of iterations.\n",
      "  \"the number of iterations.\", ConvergenceWarning)\n"
     ]
    },
    {
     "name": "stdout",
     "output_type": "stream",
     "text": [
      "[CV] .................. C=100, max_iter=3000, tol=0.001, total=  10.1s\n",
      "[CV] C=100, max_iter=3000, tol=0.001 .................................\n"
     ]
    },
    {
     "name": "stderr",
     "output_type": "stream",
     "text": [
      "/home/marina/anaconda3/lib/python3.7/site-packages/sklearn/svm/_base.py:947: ConvergenceWarning: Liblinear failed to converge, increase the number of iterations.\n",
      "  \"the number of iterations.\", ConvergenceWarning)\n"
     ]
    },
    {
     "name": "stdout",
     "output_type": "stream",
     "text": [
      "[CV] .................. C=100, max_iter=3000, tol=0.001, total=  10.9s\n",
      "[CV] C=100, max_iter=1000, tol=0.0001 ................................\n"
     ]
    },
    {
     "name": "stderr",
     "output_type": "stream",
     "text": [
      "/home/marina/anaconda3/lib/python3.7/site-packages/sklearn/svm/_base.py:947: ConvergenceWarning: Liblinear failed to converge, increase the number of iterations.\n",
      "  \"the number of iterations.\", ConvergenceWarning)\n"
     ]
    },
    {
     "name": "stdout",
     "output_type": "stream",
     "text": [
      "[CV] ................. C=100, max_iter=1000, tol=0.0001, total=   3.6s\n",
      "[CV] C=100, max_iter=1000, tol=0.0001 ................................\n"
     ]
    },
    {
     "name": "stderr",
     "output_type": "stream",
     "text": [
      "/home/marina/anaconda3/lib/python3.7/site-packages/sklearn/svm/_base.py:947: ConvergenceWarning: Liblinear failed to converge, increase the number of iterations.\n",
      "  \"the number of iterations.\", ConvergenceWarning)\n"
     ]
    },
    {
     "name": "stdout",
     "output_type": "stream",
     "text": [
      "[CV] ................. C=100, max_iter=1000, tol=0.0001, total=   3.2s\n",
      "[CV] C=100, max_iter=1000, tol=0.0001 ................................\n"
     ]
    },
    {
     "name": "stderr",
     "output_type": "stream",
     "text": [
      "/home/marina/anaconda3/lib/python3.7/site-packages/sklearn/svm/_base.py:947: ConvergenceWarning: Liblinear failed to converge, increase the number of iterations.\n",
      "  \"the number of iterations.\", ConvergenceWarning)\n"
     ]
    },
    {
     "name": "stdout",
     "output_type": "stream",
     "text": [
      "[CV] ................. C=100, max_iter=1000, tol=0.0001, total=   3.3s\n",
      "[CV] C=100, max_iter=1000, tol=0.0001 ................................\n"
     ]
    },
    {
     "name": "stderr",
     "output_type": "stream",
     "text": [
      "/home/marina/anaconda3/lib/python3.7/site-packages/sklearn/svm/_base.py:947: ConvergenceWarning: Liblinear failed to converge, increase the number of iterations.\n",
      "  \"the number of iterations.\", ConvergenceWarning)\n"
     ]
    },
    {
     "name": "stdout",
     "output_type": "stream",
     "text": [
      "[CV] ................. C=100, max_iter=1000, tol=0.0001, total=   3.3s\n",
      "[CV] C=100, max_iter=1000, tol=0.0001 ................................\n"
     ]
    },
    {
     "name": "stderr",
     "output_type": "stream",
     "text": [
      "/home/marina/anaconda3/lib/python3.7/site-packages/sklearn/svm/_base.py:947: ConvergenceWarning: Liblinear failed to converge, increase the number of iterations.\n",
      "  \"the number of iterations.\", ConvergenceWarning)\n"
     ]
    },
    {
     "name": "stdout",
     "output_type": "stream",
     "text": [
      "[CV] ................. C=100, max_iter=1000, tol=0.0001, total=   3.5s\n",
      "[CV] C=100, max_iter=1000, tol=0.001 .................................\n"
     ]
    },
    {
     "name": "stderr",
     "output_type": "stream",
     "text": [
      "/home/marina/anaconda3/lib/python3.7/site-packages/sklearn/svm/_base.py:947: ConvergenceWarning: Liblinear failed to converge, increase the number of iterations.\n",
      "  \"the number of iterations.\", ConvergenceWarning)\n"
     ]
    },
    {
     "name": "stdout",
     "output_type": "stream",
     "text": [
      "[CV] .................. C=100, max_iter=1000, tol=0.001, total=   3.2s\n",
      "[CV] C=100, max_iter=1000, tol=0.001 .................................\n"
     ]
    },
    {
     "name": "stderr",
     "output_type": "stream",
     "text": [
      "/home/marina/anaconda3/lib/python3.7/site-packages/sklearn/svm/_base.py:947: ConvergenceWarning: Liblinear failed to converge, increase the number of iterations.\n",
      "  \"the number of iterations.\", ConvergenceWarning)\n"
     ]
    },
    {
     "name": "stdout",
     "output_type": "stream",
     "text": [
      "[CV] .................. C=100, max_iter=1000, tol=0.001, total=   3.2s\n",
      "[CV] C=100, max_iter=1000, tol=0.001 .................................\n"
     ]
    },
    {
     "name": "stderr",
     "output_type": "stream",
     "text": [
      "/home/marina/anaconda3/lib/python3.7/site-packages/sklearn/svm/_base.py:947: ConvergenceWarning: Liblinear failed to converge, increase the number of iterations.\n",
      "  \"the number of iterations.\", ConvergenceWarning)\n"
     ]
    },
    {
     "name": "stdout",
     "output_type": "stream",
     "text": [
      "[CV] .................. C=100, max_iter=1000, tol=0.001, total=   3.5s\n",
      "[CV] C=100, max_iter=1000, tol=0.001 .................................\n"
     ]
    },
    {
     "name": "stderr",
     "output_type": "stream",
     "text": [
      "/home/marina/anaconda3/lib/python3.7/site-packages/sklearn/svm/_base.py:947: ConvergenceWarning: Liblinear failed to converge, increase the number of iterations.\n",
      "  \"the number of iterations.\", ConvergenceWarning)\n"
     ]
    },
    {
     "name": "stdout",
     "output_type": "stream",
     "text": [
      "[CV] .................. C=100, max_iter=1000, tol=0.001, total=   3.8s\n",
      "[CV] C=100, max_iter=1000, tol=0.001 .................................\n"
     ]
    },
    {
     "name": "stderr",
     "output_type": "stream",
     "text": [
      "/home/marina/anaconda3/lib/python3.7/site-packages/sklearn/svm/_base.py:947: ConvergenceWarning: Liblinear failed to converge, increase the number of iterations.\n",
      "  \"the number of iterations.\", ConvergenceWarning)\n",
      "[Parallel(n_jobs=1)]: Done 210 out of 210 | elapsed: 18.5min finished\n"
     ]
    },
    {
     "name": "stdout",
     "output_type": "stream",
     "text": [
      "[CV] .................. C=100, max_iter=1000, tol=0.001, total=   3.9s\n",
      "Fitting 5 folds for each of 42 candidates, totalling 210 fits\n",
      "[CV] C=1, max_iter=2000, tol=0.0001 ..................................\n"
     ]
    },
    {
     "name": "stderr",
     "output_type": "stream",
     "text": [
      "[Parallel(n_jobs=1)]: Using backend SequentialBackend with 1 concurrent workers.\n",
      "/home/marina/anaconda3/lib/python3.7/site-packages/sklearn/svm/_base.py:947: ConvergenceWarning: Liblinear failed to converge, increase the number of iterations.\n",
      "  \"the number of iterations.\", ConvergenceWarning)\n",
      "[Parallel(n_jobs=1)]: Done   1 out of   1 | elapsed:    6.9s remaining:    0.0s\n"
     ]
    },
    {
     "name": "stdout",
     "output_type": "stream",
     "text": [
      "[CV] ................... C=1, max_iter=2000, tol=0.0001, total=   6.8s\n",
      "[CV] C=1, max_iter=2000, tol=0.0001 ..................................\n"
     ]
    },
    {
     "name": "stderr",
     "output_type": "stream",
     "text": [
      "/home/marina/anaconda3/lib/python3.7/site-packages/sklearn/svm/_base.py:947: ConvergenceWarning: Liblinear failed to converge, increase the number of iterations.\n",
      "  \"the number of iterations.\", ConvergenceWarning)\n"
     ]
    },
    {
     "name": "stdout",
     "output_type": "stream",
     "text": [
      "[CV] ................... C=1, max_iter=2000, tol=0.0001, total=   6.2s\n",
      "[CV] C=1, max_iter=2000, tol=0.0001 ..................................\n"
     ]
    },
    {
     "name": "stderr",
     "output_type": "stream",
     "text": [
      "/home/marina/anaconda3/lib/python3.7/site-packages/sklearn/svm/_base.py:947: ConvergenceWarning: Liblinear failed to converge, increase the number of iterations.\n",
      "  \"the number of iterations.\", ConvergenceWarning)\n"
     ]
    },
    {
     "name": "stdout",
     "output_type": "stream",
     "text": [
      "[CV] ................... C=1, max_iter=2000, tol=0.0001, total=   6.2s\n",
      "[CV] C=1, max_iter=2000, tol=0.0001 ..................................\n"
     ]
    },
    {
     "name": "stderr",
     "output_type": "stream",
     "text": [
      "/home/marina/anaconda3/lib/python3.7/site-packages/sklearn/svm/_base.py:947: ConvergenceWarning: Liblinear failed to converge, increase the number of iterations.\n",
      "  \"the number of iterations.\", ConvergenceWarning)\n"
     ]
    },
    {
     "name": "stdout",
     "output_type": "stream",
     "text": [
      "[CV] ................... C=1, max_iter=2000, tol=0.0001, total=   7.0s\n",
      "[CV] C=1, max_iter=2000, tol=0.0001 ..................................\n"
     ]
    },
    {
     "name": "stderr",
     "output_type": "stream",
     "text": [
      "/home/marina/anaconda3/lib/python3.7/site-packages/sklearn/svm/_base.py:947: ConvergenceWarning: Liblinear failed to converge, increase the number of iterations.\n",
      "  \"the number of iterations.\", ConvergenceWarning)\n"
     ]
    },
    {
     "name": "stdout",
     "output_type": "stream",
     "text": [
      "[CV] ................... C=1, max_iter=2000, tol=0.0001, total=   6.7s\n",
      "[CV] C=1, max_iter=2000, tol=0.001 ...................................\n"
     ]
    },
    {
     "name": "stderr",
     "output_type": "stream",
     "text": [
      "/home/marina/anaconda3/lib/python3.7/site-packages/sklearn/svm/_base.py:947: ConvergenceWarning: Liblinear failed to converge, increase the number of iterations.\n",
      "  \"the number of iterations.\", ConvergenceWarning)\n"
     ]
    },
    {
     "name": "stdout",
     "output_type": "stream",
     "text": [
      "[CV] .................... C=1, max_iter=2000, tol=0.001, total=   6.9s\n",
      "[CV] C=1, max_iter=2000, tol=0.001 ...................................\n"
     ]
    },
    {
     "name": "stderr",
     "output_type": "stream",
     "text": [
      "/home/marina/anaconda3/lib/python3.7/site-packages/sklearn/svm/_base.py:947: ConvergenceWarning: Liblinear failed to converge, increase the number of iterations.\n",
      "  \"the number of iterations.\", ConvergenceWarning)\n"
     ]
    },
    {
     "name": "stdout",
     "output_type": "stream",
     "text": [
      "[CV] .................... C=1, max_iter=2000, tol=0.001, total=   6.5s\n",
      "[CV] C=1, max_iter=2000, tol=0.001 ...................................\n"
     ]
    },
    {
     "name": "stderr",
     "output_type": "stream",
     "text": [
      "/home/marina/anaconda3/lib/python3.7/site-packages/sklearn/svm/_base.py:947: ConvergenceWarning: Liblinear failed to converge, increase the number of iterations.\n",
      "  \"the number of iterations.\", ConvergenceWarning)\n"
     ]
    },
    {
     "name": "stdout",
     "output_type": "stream",
     "text": [
      "[CV] .................... C=1, max_iter=2000, tol=0.001, total=   6.5s\n",
      "[CV] C=1, max_iter=2000, tol=0.001 ...................................\n"
     ]
    },
    {
     "name": "stderr",
     "output_type": "stream",
     "text": [
      "/home/marina/anaconda3/lib/python3.7/site-packages/sklearn/svm/_base.py:947: ConvergenceWarning: Liblinear failed to converge, increase the number of iterations.\n",
      "  \"the number of iterations.\", ConvergenceWarning)\n"
     ]
    },
    {
     "name": "stdout",
     "output_type": "stream",
     "text": [
      "[CV] .................... C=1, max_iter=2000, tol=0.001, total=   7.2s\n",
      "[CV] C=1, max_iter=2000, tol=0.001 ...................................\n"
     ]
    },
    {
     "name": "stderr",
     "output_type": "stream",
     "text": [
      "/home/marina/anaconda3/lib/python3.7/site-packages/sklearn/svm/_base.py:947: ConvergenceWarning: Liblinear failed to converge, increase the number of iterations.\n",
      "  \"the number of iterations.\", ConvergenceWarning)\n"
     ]
    },
    {
     "name": "stdout",
     "output_type": "stream",
     "text": [
      "[CV] .................... C=1, max_iter=2000, tol=0.001, total=   6.5s\n",
      "[CV] C=1, max_iter=3000, tol=0.0001 ..................................\n"
     ]
    },
    {
     "name": "stderr",
     "output_type": "stream",
     "text": [
      "/home/marina/anaconda3/lib/python3.7/site-packages/sklearn/svm/_base.py:947: ConvergenceWarning: Liblinear failed to converge, increase the number of iterations.\n",
      "  \"the number of iterations.\", ConvergenceWarning)\n"
     ]
    },
    {
     "name": "stdout",
     "output_type": "stream",
     "text": [
      "[CV] ................... C=1, max_iter=3000, tol=0.0001, total=   9.6s\n",
      "[CV] C=1, max_iter=3000, tol=0.0001 ..................................\n"
     ]
    },
    {
     "name": "stderr",
     "output_type": "stream",
     "text": [
      "/home/marina/anaconda3/lib/python3.7/site-packages/sklearn/svm/_base.py:947: ConvergenceWarning: Liblinear failed to converge, increase the number of iterations.\n",
      "  \"the number of iterations.\", ConvergenceWarning)\n"
     ]
    },
    {
     "name": "stdout",
     "output_type": "stream",
     "text": [
      "[CV] ................... C=1, max_iter=3000, tol=0.0001, total=   9.9s\n",
      "[CV] C=1, max_iter=3000, tol=0.0001 ..................................\n"
     ]
    },
    {
     "name": "stderr",
     "output_type": "stream",
     "text": [
      "/home/marina/anaconda3/lib/python3.7/site-packages/sklearn/svm/_base.py:947: ConvergenceWarning: Liblinear failed to converge, increase the number of iterations.\n",
      "  \"the number of iterations.\", ConvergenceWarning)\n"
     ]
    },
    {
     "name": "stdout",
     "output_type": "stream",
     "text": [
      "[CV] ................... C=1, max_iter=3000, tol=0.0001, total=   9.7s\n",
      "[CV] C=1, max_iter=3000, tol=0.0001 ..................................\n"
     ]
    },
    {
     "name": "stderr",
     "output_type": "stream",
     "text": [
      "/home/marina/anaconda3/lib/python3.7/site-packages/sklearn/svm/_base.py:947: ConvergenceWarning: Liblinear failed to converge, increase the number of iterations.\n",
      "  \"the number of iterations.\", ConvergenceWarning)\n"
     ]
    },
    {
     "name": "stdout",
     "output_type": "stream",
     "text": [
      "[CV] ................... C=1, max_iter=3000, tol=0.0001, total=   9.3s\n",
      "[CV] C=1, max_iter=3000, tol=0.0001 ..................................\n"
     ]
    },
    {
     "name": "stderr",
     "output_type": "stream",
     "text": [
      "/home/marina/anaconda3/lib/python3.7/site-packages/sklearn/svm/_base.py:947: ConvergenceWarning: Liblinear failed to converge, increase the number of iterations.\n",
      "  \"the number of iterations.\", ConvergenceWarning)\n"
     ]
    },
    {
     "name": "stdout",
     "output_type": "stream",
     "text": [
      "[CV] ................... C=1, max_iter=3000, tol=0.0001, total=   9.7s\n",
      "[CV] C=1, max_iter=3000, tol=0.001 ...................................\n"
     ]
    },
    {
     "name": "stderr",
     "output_type": "stream",
     "text": [
      "/home/marina/anaconda3/lib/python3.7/site-packages/sklearn/svm/_base.py:947: ConvergenceWarning: Liblinear failed to converge, increase the number of iterations.\n",
      "  \"the number of iterations.\", ConvergenceWarning)\n"
     ]
    },
    {
     "name": "stdout",
     "output_type": "stream",
     "text": [
      "[CV] .................... C=1, max_iter=3000, tol=0.001, total=  10.0s\n",
      "[CV] C=1, max_iter=3000, tol=0.001 ...................................\n"
     ]
    },
    {
     "name": "stderr",
     "output_type": "stream",
     "text": [
      "/home/marina/anaconda3/lib/python3.7/site-packages/sklearn/svm/_base.py:947: ConvergenceWarning: Liblinear failed to converge, increase the number of iterations.\n",
      "  \"the number of iterations.\", ConvergenceWarning)\n"
     ]
    },
    {
     "name": "stdout",
     "output_type": "stream",
     "text": [
      "[CV] .................... C=1, max_iter=3000, tol=0.001, total=  10.0s\n",
      "[CV] C=1, max_iter=3000, tol=0.001 ...................................\n"
     ]
    },
    {
     "name": "stderr",
     "output_type": "stream",
     "text": [
      "/home/marina/anaconda3/lib/python3.7/site-packages/sklearn/svm/_base.py:947: ConvergenceWarning: Liblinear failed to converge, increase the number of iterations.\n",
      "  \"the number of iterations.\", ConvergenceWarning)\n"
     ]
    },
    {
     "name": "stdout",
     "output_type": "stream",
     "text": [
      "[CV] .................... C=1, max_iter=3000, tol=0.001, total=  10.1s\n",
      "[CV] C=1, max_iter=3000, tol=0.001 ...................................\n"
     ]
    },
    {
     "name": "stderr",
     "output_type": "stream",
     "text": [
      "/home/marina/anaconda3/lib/python3.7/site-packages/sklearn/svm/_base.py:947: ConvergenceWarning: Liblinear failed to converge, increase the number of iterations.\n",
      "  \"the number of iterations.\", ConvergenceWarning)\n"
     ]
    },
    {
     "name": "stdout",
     "output_type": "stream",
     "text": [
      "[CV] .................... C=1, max_iter=3000, tol=0.001, total=   9.6s\n",
      "[CV] C=1, max_iter=3000, tol=0.001 ...................................\n"
     ]
    },
    {
     "name": "stderr",
     "output_type": "stream",
     "text": [
      "/home/marina/anaconda3/lib/python3.7/site-packages/sklearn/svm/_base.py:947: ConvergenceWarning: Liblinear failed to converge, increase the number of iterations.\n",
      "  \"the number of iterations.\", ConvergenceWarning)\n"
     ]
    },
    {
     "name": "stdout",
     "output_type": "stream",
     "text": [
      "[CV] .................... C=1, max_iter=3000, tol=0.001, total=   9.3s\n",
      "[CV] C=1, max_iter=1000, tol=0.0001 ..................................\n"
     ]
    },
    {
     "name": "stderr",
     "output_type": "stream",
     "text": [
      "/home/marina/anaconda3/lib/python3.7/site-packages/sklearn/svm/_base.py:947: ConvergenceWarning: Liblinear failed to converge, increase the number of iterations.\n",
      "  \"the number of iterations.\", ConvergenceWarning)\n"
     ]
    },
    {
     "name": "stdout",
     "output_type": "stream",
     "text": [
      "[CV] ................... C=1, max_iter=1000, tol=0.0001, total=   3.4s\n",
      "[CV] C=1, max_iter=1000, tol=0.0001 ..................................\n"
     ]
    },
    {
     "name": "stderr",
     "output_type": "stream",
     "text": [
      "/home/marina/anaconda3/lib/python3.7/site-packages/sklearn/svm/_base.py:947: ConvergenceWarning: Liblinear failed to converge, increase the number of iterations.\n",
      "  \"the number of iterations.\", ConvergenceWarning)\n"
     ]
    },
    {
     "name": "stdout",
     "output_type": "stream",
     "text": [
      "[CV] ................... C=1, max_iter=1000, tol=0.0001, total=   3.1s\n",
      "[CV] C=1, max_iter=1000, tol=0.0001 ..................................\n"
     ]
    },
    {
     "name": "stderr",
     "output_type": "stream",
     "text": [
      "/home/marina/anaconda3/lib/python3.7/site-packages/sklearn/svm/_base.py:947: ConvergenceWarning: Liblinear failed to converge, increase the number of iterations.\n",
      "  \"the number of iterations.\", ConvergenceWarning)\n"
     ]
    },
    {
     "name": "stdout",
     "output_type": "stream",
     "text": [
      "[CV] ................... C=1, max_iter=1000, tol=0.0001, total=   3.1s\n",
      "[CV] C=1, max_iter=1000, tol=0.0001 ..................................\n"
     ]
    },
    {
     "name": "stderr",
     "output_type": "stream",
     "text": [
      "/home/marina/anaconda3/lib/python3.7/site-packages/sklearn/svm/_base.py:947: ConvergenceWarning: Liblinear failed to converge, increase the number of iterations.\n",
      "  \"the number of iterations.\", ConvergenceWarning)\n"
     ]
    },
    {
     "name": "stdout",
     "output_type": "stream",
     "text": [
      "[CV] ................... C=1, max_iter=1000, tol=0.0001, total=   3.3s\n",
      "[CV] C=1, max_iter=1000, tol=0.0001 ..................................\n"
     ]
    },
    {
     "name": "stderr",
     "output_type": "stream",
     "text": [
      "/home/marina/anaconda3/lib/python3.7/site-packages/sklearn/svm/_base.py:947: ConvergenceWarning: Liblinear failed to converge, increase the number of iterations.\n",
      "  \"the number of iterations.\", ConvergenceWarning)\n"
     ]
    },
    {
     "name": "stdout",
     "output_type": "stream",
     "text": [
      "[CV] ................... C=1, max_iter=1000, tol=0.0001, total=   3.3s\n",
      "[CV] C=1, max_iter=1000, tol=0.001 ...................................\n"
     ]
    },
    {
     "name": "stderr",
     "output_type": "stream",
     "text": [
      "/home/marina/anaconda3/lib/python3.7/site-packages/sklearn/svm/_base.py:947: ConvergenceWarning: Liblinear failed to converge, increase the number of iterations.\n",
      "  \"the number of iterations.\", ConvergenceWarning)\n"
     ]
    },
    {
     "name": "stdout",
     "output_type": "stream",
     "text": [
      "[CV] .................... C=1, max_iter=1000, tol=0.001, total=   3.1s\n",
      "[CV] C=1, max_iter=1000, tol=0.001 ...................................\n"
     ]
    },
    {
     "name": "stderr",
     "output_type": "stream",
     "text": [
      "/home/marina/anaconda3/lib/python3.7/site-packages/sklearn/svm/_base.py:947: ConvergenceWarning: Liblinear failed to converge, increase the number of iterations.\n",
      "  \"the number of iterations.\", ConvergenceWarning)\n"
     ]
    },
    {
     "name": "stdout",
     "output_type": "stream",
     "text": [
      "[CV] .................... C=1, max_iter=1000, tol=0.001, total=   3.3s\n",
      "[CV] C=1, max_iter=1000, tol=0.001 ...................................\n"
     ]
    },
    {
     "name": "stderr",
     "output_type": "stream",
     "text": [
      "/home/marina/anaconda3/lib/python3.7/site-packages/sklearn/svm/_base.py:947: ConvergenceWarning: Liblinear failed to converge, increase the number of iterations.\n",
      "  \"the number of iterations.\", ConvergenceWarning)\n"
     ]
    },
    {
     "name": "stdout",
     "output_type": "stream",
     "text": [
      "[CV] .................... C=1, max_iter=1000, tol=0.001, total=   3.4s\n",
      "[CV] C=1, max_iter=1000, tol=0.001 ...................................\n"
     ]
    },
    {
     "name": "stderr",
     "output_type": "stream",
     "text": [
      "/home/marina/anaconda3/lib/python3.7/site-packages/sklearn/svm/_base.py:947: ConvergenceWarning: Liblinear failed to converge, increase the number of iterations.\n",
      "  \"the number of iterations.\", ConvergenceWarning)\n"
     ]
    },
    {
     "name": "stdout",
     "output_type": "stream",
     "text": [
      "[CV] .................... C=1, max_iter=1000, tol=0.001, total=   3.3s\n",
      "[CV] C=1, max_iter=1000, tol=0.001 ...................................\n"
     ]
    },
    {
     "name": "stderr",
     "output_type": "stream",
     "text": [
      "/home/marina/anaconda3/lib/python3.7/site-packages/sklearn/svm/_base.py:947: ConvergenceWarning: Liblinear failed to converge, increase the number of iterations.\n",
      "  \"the number of iterations.\", ConvergenceWarning)\n"
     ]
    },
    {
     "name": "stdout",
     "output_type": "stream",
     "text": [
      "[CV] .................... C=1, max_iter=1000, tol=0.001, total=   3.6s\n",
      "[CV] C=0.1, max_iter=2000, tol=0.0001 ................................\n"
     ]
    },
    {
     "name": "stderr",
     "output_type": "stream",
     "text": [
      "/home/marina/anaconda3/lib/python3.7/site-packages/sklearn/svm/_base.py:947: ConvergenceWarning: Liblinear failed to converge, increase the number of iterations.\n",
      "  \"the number of iterations.\", ConvergenceWarning)\n"
     ]
    },
    {
     "name": "stdout",
     "output_type": "stream",
     "text": [
      "[CV] ................. C=0.1, max_iter=2000, tol=0.0001, total=   7.1s\n",
      "[CV] C=0.1, max_iter=2000, tol=0.0001 ................................\n"
     ]
    },
    {
     "name": "stderr",
     "output_type": "stream",
     "text": [
      "/home/marina/anaconda3/lib/python3.7/site-packages/sklearn/svm/_base.py:947: ConvergenceWarning: Liblinear failed to converge, increase the number of iterations.\n",
      "  \"the number of iterations.\", ConvergenceWarning)\n"
     ]
    },
    {
     "name": "stdout",
     "output_type": "stream",
     "text": [
      "[CV] ................. C=0.1, max_iter=2000, tol=0.0001, total=   6.2s\n",
      "[CV] C=0.1, max_iter=2000, tol=0.0001 ................................\n"
     ]
    },
    {
     "name": "stderr",
     "output_type": "stream",
     "text": [
      "/home/marina/anaconda3/lib/python3.7/site-packages/sklearn/svm/_base.py:947: ConvergenceWarning: Liblinear failed to converge, increase the number of iterations.\n",
      "  \"the number of iterations.\", ConvergenceWarning)\n"
     ]
    },
    {
     "name": "stdout",
     "output_type": "stream",
     "text": [
      "[CV] ................. C=0.1, max_iter=2000, tol=0.0001, total=   6.0s\n",
      "[CV] C=0.1, max_iter=2000, tol=0.0001 ................................\n"
     ]
    },
    {
     "name": "stderr",
     "output_type": "stream",
     "text": [
      "/home/marina/anaconda3/lib/python3.7/site-packages/sklearn/svm/_base.py:947: ConvergenceWarning: Liblinear failed to converge, increase the number of iterations.\n",
      "  \"the number of iterations.\", ConvergenceWarning)\n"
     ]
    },
    {
     "name": "stdout",
     "output_type": "stream",
     "text": [
      "[CV] ................. C=0.1, max_iter=2000, tol=0.0001, total=   6.3s\n",
      "[CV] C=0.1, max_iter=2000, tol=0.0001 ................................\n"
     ]
    },
    {
     "name": "stderr",
     "output_type": "stream",
     "text": [
      "/home/marina/anaconda3/lib/python3.7/site-packages/sklearn/svm/_base.py:947: ConvergenceWarning: Liblinear failed to converge, increase the number of iterations.\n",
      "  \"the number of iterations.\", ConvergenceWarning)\n"
     ]
    },
    {
     "name": "stdout",
     "output_type": "stream",
     "text": [
      "[CV] ................. C=0.1, max_iter=2000, tol=0.0001, total=   6.0s\n",
      "[CV] C=0.1, max_iter=2000, tol=0.001 .................................\n"
     ]
    },
    {
     "name": "stderr",
     "output_type": "stream",
     "text": [
      "/home/marina/anaconda3/lib/python3.7/site-packages/sklearn/svm/_base.py:947: ConvergenceWarning: Liblinear failed to converge, increase the number of iterations.\n",
      "  \"the number of iterations.\", ConvergenceWarning)\n"
     ]
    },
    {
     "name": "stdout",
     "output_type": "stream",
     "text": [
      "[CV] .................. C=0.1, max_iter=2000, tol=0.001, total=   6.2s\n",
      "[CV] C=0.1, max_iter=2000, tol=0.001 .................................\n"
     ]
    },
    {
     "name": "stderr",
     "output_type": "stream",
     "text": [
      "/home/marina/anaconda3/lib/python3.7/site-packages/sklearn/svm/_base.py:947: ConvergenceWarning: Liblinear failed to converge, increase the number of iterations.\n",
      "  \"the number of iterations.\", ConvergenceWarning)\n"
     ]
    },
    {
     "name": "stdout",
     "output_type": "stream",
     "text": [
      "[CV] .................. C=0.1, max_iter=2000, tol=0.001, total=   6.5s\n",
      "[CV] C=0.1, max_iter=2000, tol=0.001 .................................\n"
     ]
    },
    {
     "name": "stderr",
     "output_type": "stream",
     "text": [
      "/home/marina/anaconda3/lib/python3.7/site-packages/sklearn/svm/_base.py:947: ConvergenceWarning: Liblinear failed to converge, increase the number of iterations.\n",
      "  \"the number of iterations.\", ConvergenceWarning)\n"
     ]
    },
    {
     "name": "stdout",
     "output_type": "stream",
     "text": [
      "[CV] .................. C=0.1, max_iter=2000, tol=0.001, total=   6.4s\n",
      "[CV] C=0.1, max_iter=2000, tol=0.001 .................................\n"
     ]
    },
    {
     "name": "stderr",
     "output_type": "stream",
     "text": [
      "/home/marina/anaconda3/lib/python3.7/site-packages/sklearn/svm/_base.py:947: ConvergenceWarning: Liblinear failed to converge, increase the number of iterations.\n",
      "  \"the number of iterations.\", ConvergenceWarning)\n"
     ]
    },
    {
     "name": "stdout",
     "output_type": "stream",
     "text": [
      "[CV] .................. C=0.1, max_iter=2000, tol=0.001, total=   6.6s\n",
      "[CV] C=0.1, max_iter=2000, tol=0.001 .................................\n"
     ]
    },
    {
     "name": "stderr",
     "output_type": "stream",
     "text": [
      "/home/marina/anaconda3/lib/python3.7/site-packages/sklearn/svm/_base.py:947: ConvergenceWarning: Liblinear failed to converge, increase the number of iterations.\n",
      "  \"the number of iterations.\", ConvergenceWarning)\n"
     ]
    },
    {
     "name": "stdout",
     "output_type": "stream",
     "text": [
      "[CV] .................. C=0.1, max_iter=2000, tol=0.001, total=   6.6s\n",
      "[CV] C=0.1, max_iter=3000, tol=0.0001 ................................\n"
     ]
    },
    {
     "name": "stderr",
     "output_type": "stream",
     "text": [
      "/home/marina/anaconda3/lib/python3.7/site-packages/sklearn/svm/_base.py:947: ConvergenceWarning: Liblinear failed to converge, increase the number of iterations.\n",
      "  \"the number of iterations.\", ConvergenceWarning)\n"
     ]
    },
    {
     "name": "stdout",
     "output_type": "stream",
     "text": [
      "[CV] ................. C=0.1, max_iter=3000, tol=0.0001, total=  10.1s\n",
      "[CV] C=0.1, max_iter=3000, tol=0.0001 ................................\n"
     ]
    },
    {
     "name": "stderr",
     "output_type": "stream",
     "text": [
      "/home/marina/anaconda3/lib/python3.7/site-packages/sklearn/svm/_base.py:947: ConvergenceWarning: Liblinear failed to converge, increase the number of iterations.\n",
      "  \"the number of iterations.\", ConvergenceWarning)\n"
     ]
    },
    {
     "name": "stdout",
     "output_type": "stream",
     "text": [
      "[CV] ................. C=0.1, max_iter=3000, tol=0.0001, total=   9.6s\n",
      "[CV] C=0.1, max_iter=3000, tol=0.0001 ................................\n"
     ]
    },
    {
     "name": "stderr",
     "output_type": "stream",
     "text": [
      "/home/marina/anaconda3/lib/python3.7/site-packages/sklearn/svm/_base.py:947: ConvergenceWarning: Liblinear failed to converge, increase the number of iterations.\n",
      "  \"the number of iterations.\", ConvergenceWarning)\n"
     ]
    },
    {
     "name": "stdout",
     "output_type": "stream",
     "text": [
      "[CV] ................. C=0.1, max_iter=3000, tol=0.0001, total=   9.8s\n",
      "[CV] C=0.1, max_iter=3000, tol=0.0001 ................................\n"
     ]
    },
    {
     "name": "stderr",
     "output_type": "stream",
     "text": [
      "/home/marina/anaconda3/lib/python3.7/site-packages/sklearn/svm/_base.py:947: ConvergenceWarning: Liblinear failed to converge, increase the number of iterations.\n",
      "  \"the number of iterations.\", ConvergenceWarning)\n"
     ]
    },
    {
     "name": "stdout",
     "output_type": "stream",
     "text": [
      "[CV] ................. C=0.1, max_iter=3000, tol=0.0001, total=  10.3s\n",
      "[CV] C=0.1, max_iter=3000, tol=0.0001 ................................\n"
     ]
    },
    {
     "name": "stderr",
     "output_type": "stream",
     "text": [
      "/home/marina/anaconda3/lib/python3.7/site-packages/sklearn/svm/_base.py:947: ConvergenceWarning: Liblinear failed to converge, increase the number of iterations.\n",
      "  \"the number of iterations.\", ConvergenceWarning)\n"
     ]
    },
    {
     "name": "stdout",
     "output_type": "stream",
     "text": [
      "[CV] ................. C=0.1, max_iter=3000, tol=0.0001, total=   9.8s\n",
      "[CV] C=0.1, max_iter=3000, tol=0.001 .................................\n"
     ]
    },
    {
     "name": "stderr",
     "output_type": "stream",
     "text": [
      "/home/marina/anaconda3/lib/python3.7/site-packages/sklearn/svm/_base.py:947: ConvergenceWarning: Liblinear failed to converge, increase the number of iterations.\n",
      "  \"the number of iterations.\", ConvergenceWarning)\n"
     ]
    },
    {
     "name": "stdout",
     "output_type": "stream",
     "text": [
      "[CV] .................. C=0.1, max_iter=3000, tol=0.001, total=  10.3s\n",
      "[CV] C=0.1, max_iter=3000, tol=0.001 .................................\n"
     ]
    },
    {
     "name": "stderr",
     "output_type": "stream",
     "text": [
      "/home/marina/anaconda3/lib/python3.7/site-packages/sklearn/svm/_base.py:947: ConvergenceWarning: Liblinear failed to converge, increase the number of iterations.\n",
      "  \"the number of iterations.\", ConvergenceWarning)\n"
     ]
    },
    {
     "name": "stdout",
     "output_type": "stream",
     "text": [
      "[CV] .................. C=0.1, max_iter=3000, tol=0.001, total=   9.8s\n",
      "[CV] C=0.1, max_iter=3000, tol=0.001 .................................\n"
     ]
    },
    {
     "name": "stderr",
     "output_type": "stream",
     "text": [
      "/home/marina/anaconda3/lib/python3.7/site-packages/sklearn/svm/_base.py:947: ConvergenceWarning: Liblinear failed to converge, increase the number of iterations.\n",
      "  \"the number of iterations.\", ConvergenceWarning)\n"
     ]
    },
    {
     "name": "stdout",
     "output_type": "stream",
     "text": [
      "[CV] .................. C=0.1, max_iter=3000, tol=0.001, total=   9.9s\n",
      "[CV] C=0.1, max_iter=3000, tol=0.001 .................................\n"
     ]
    },
    {
     "name": "stderr",
     "output_type": "stream",
     "text": [
      "/home/marina/anaconda3/lib/python3.7/site-packages/sklearn/svm/_base.py:947: ConvergenceWarning: Liblinear failed to converge, increase the number of iterations.\n",
      "  \"the number of iterations.\", ConvergenceWarning)\n"
     ]
    },
    {
     "name": "stdout",
     "output_type": "stream",
     "text": [
      "[CV] .................. C=0.1, max_iter=3000, tol=0.001, total=  10.2s\n",
      "[CV] C=0.1, max_iter=3000, tol=0.001 .................................\n"
     ]
    },
    {
     "name": "stderr",
     "output_type": "stream",
     "text": [
      "/home/marina/anaconda3/lib/python3.7/site-packages/sklearn/svm/_base.py:947: ConvergenceWarning: Liblinear failed to converge, increase the number of iterations.\n",
      "  \"the number of iterations.\", ConvergenceWarning)\n"
     ]
    },
    {
     "name": "stdout",
     "output_type": "stream",
     "text": [
      "[CV] .................. C=0.1, max_iter=3000, tol=0.001, total=   9.2s\n",
      "[CV] C=0.1, max_iter=1000, tol=0.0001 ................................\n"
     ]
    },
    {
     "name": "stderr",
     "output_type": "stream",
     "text": [
      "/home/marina/anaconda3/lib/python3.7/site-packages/sklearn/svm/_base.py:947: ConvergenceWarning: Liblinear failed to converge, increase the number of iterations.\n",
      "  \"the number of iterations.\", ConvergenceWarning)\n"
     ]
    },
    {
     "name": "stdout",
     "output_type": "stream",
     "text": [
      "[CV] ................. C=0.1, max_iter=1000, tol=0.0001, total=   3.3s\n",
      "[CV] C=0.1, max_iter=1000, tol=0.0001 ................................\n"
     ]
    },
    {
     "name": "stderr",
     "output_type": "stream",
     "text": [
      "/home/marina/anaconda3/lib/python3.7/site-packages/sklearn/svm/_base.py:947: ConvergenceWarning: Liblinear failed to converge, increase the number of iterations.\n",
      "  \"the number of iterations.\", ConvergenceWarning)\n"
     ]
    },
    {
     "name": "stdout",
     "output_type": "stream",
     "text": [
      "[CV] ................. C=0.1, max_iter=1000, tol=0.0001, total=   3.2s\n",
      "[CV] C=0.1, max_iter=1000, tol=0.0001 ................................\n"
     ]
    },
    {
     "name": "stderr",
     "output_type": "stream",
     "text": [
      "/home/marina/anaconda3/lib/python3.7/site-packages/sklearn/svm/_base.py:947: ConvergenceWarning: Liblinear failed to converge, increase the number of iterations.\n",
      "  \"the number of iterations.\", ConvergenceWarning)\n"
     ]
    },
    {
     "name": "stdout",
     "output_type": "stream",
     "text": [
      "[CV] ................. C=0.1, max_iter=1000, tol=0.0001, total=   3.1s\n",
      "[CV] C=0.1, max_iter=1000, tol=0.0001 ................................\n"
     ]
    },
    {
     "name": "stderr",
     "output_type": "stream",
     "text": [
      "/home/marina/anaconda3/lib/python3.7/site-packages/sklearn/svm/_base.py:947: ConvergenceWarning: Liblinear failed to converge, increase the number of iterations.\n",
      "  \"the number of iterations.\", ConvergenceWarning)\n"
     ]
    },
    {
     "name": "stdout",
     "output_type": "stream",
     "text": [
      "[CV] ................. C=0.1, max_iter=1000, tol=0.0001, total=   3.2s\n",
      "[CV] C=0.1, max_iter=1000, tol=0.0001 ................................\n"
     ]
    },
    {
     "name": "stderr",
     "output_type": "stream",
     "text": [
      "/home/marina/anaconda3/lib/python3.7/site-packages/sklearn/svm/_base.py:947: ConvergenceWarning: Liblinear failed to converge, increase the number of iterations.\n",
      "  \"the number of iterations.\", ConvergenceWarning)\n"
     ]
    },
    {
     "name": "stdout",
     "output_type": "stream",
     "text": [
      "[CV] ................. C=0.1, max_iter=1000, tol=0.0001, total=   3.3s\n",
      "[CV] C=0.1, max_iter=1000, tol=0.001 .................................\n"
     ]
    },
    {
     "name": "stderr",
     "output_type": "stream",
     "text": [
      "/home/marina/anaconda3/lib/python3.7/site-packages/sklearn/svm/_base.py:947: ConvergenceWarning: Liblinear failed to converge, increase the number of iterations.\n",
      "  \"the number of iterations.\", ConvergenceWarning)\n"
     ]
    },
    {
     "name": "stdout",
     "output_type": "stream",
     "text": [
      "[CV] .................. C=0.1, max_iter=1000, tol=0.001, total=   3.3s\n",
      "[CV] C=0.1, max_iter=1000, tol=0.001 .................................\n"
     ]
    },
    {
     "name": "stderr",
     "output_type": "stream",
     "text": [
      "/home/marina/anaconda3/lib/python3.7/site-packages/sklearn/svm/_base.py:947: ConvergenceWarning: Liblinear failed to converge, increase the number of iterations.\n",
      "  \"the number of iterations.\", ConvergenceWarning)\n"
     ]
    },
    {
     "name": "stdout",
     "output_type": "stream",
     "text": [
      "[CV] .................. C=0.1, max_iter=1000, tol=0.001, total=   3.3s\n",
      "[CV] C=0.1, max_iter=1000, tol=0.001 .................................\n"
     ]
    },
    {
     "name": "stderr",
     "output_type": "stream",
     "text": [
      "/home/marina/anaconda3/lib/python3.7/site-packages/sklearn/svm/_base.py:947: ConvergenceWarning: Liblinear failed to converge, increase the number of iterations.\n",
      "  \"the number of iterations.\", ConvergenceWarning)\n"
     ]
    },
    {
     "name": "stdout",
     "output_type": "stream",
     "text": [
      "[CV] .................. C=0.1, max_iter=1000, tol=0.001, total=   3.2s\n",
      "[CV] C=0.1, max_iter=1000, tol=0.001 .................................\n"
     ]
    },
    {
     "name": "stderr",
     "output_type": "stream",
     "text": [
      "/home/marina/anaconda3/lib/python3.7/site-packages/sklearn/svm/_base.py:947: ConvergenceWarning: Liblinear failed to converge, increase the number of iterations.\n",
      "  \"the number of iterations.\", ConvergenceWarning)\n"
     ]
    },
    {
     "name": "stdout",
     "output_type": "stream",
     "text": [
      "[CV] .................. C=0.1, max_iter=1000, tol=0.001, total=   3.3s\n",
      "[CV] C=0.1, max_iter=1000, tol=0.001 .................................\n"
     ]
    },
    {
     "name": "stderr",
     "output_type": "stream",
     "text": [
      "/home/marina/anaconda3/lib/python3.7/site-packages/sklearn/svm/_base.py:947: ConvergenceWarning: Liblinear failed to converge, increase the number of iterations.\n",
      "  \"the number of iterations.\", ConvergenceWarning)\n"
     ]
    },
    {
     "name": "stdout",
     "output_type": "stream",
     "text": [
      "[CV] .................. C=0.1, max_iter=1000, tol=0.001, total=   3.5s\n",
      "[CV] C=0.01, max_iter=2000, tol=0.0001 ...............................\n"
     ]
    },
    {
     "name": "stderr",
     "output_type": "stream",
     "text": [
      "/home/marina/anaconda3/lib/python3.7/site-packages/sklearn/svm/_base.py:947: ConvergenceWarning: Liblinear failed to converge, increase the number of iterations.\n",
      "  \"the number of iterations.\", ConvergenceWarning)\n"
     ]
    },
    {
     "name": "stdout",
     "output_type": "stream",
     "text": [
      "[CV] ................ C=0.01, max_iter=2000, tol=0.0001, total=   6.2s\n",
      "[CV] C=0.01, max_iter=2000, tol=0.0001 ...............................\n"
     ]
    },
    {
     "name": "stderr",
     "output_type": "stream",
     "text": [
      "/home/marina/anaconda3/lib/python3.7/site-packages/sklearn/svm/_base.py:947: ConvergenceWarning: Liblinear failed to converge, increase the number of iterations.\n",
      "  \"the number of iterations.\", ConvergenceWarning)\n"
     ]
    },
    {
     "name": "stdout",
     "output_type": "stream",
     "text": [
      "[CV] ................ C=0.01, max_iter=2000, tol=0.0001, total=   6.3s\n",
      "[CV] C=0.01, max_iter=2000, tol=0.0001 ...............................\n"
     ]
    },
    {
     "name": "stderr",
     "output_type": "stream",
     "text": [
      "/home/marina/anaconda3/lib/python3.7/site-packages/sklearn/svm/_base.py:947: ConvergenceWarning: Liblinear failed to converge, increase the number of iterations.\n",
      "  \"the number of iterations.\", ConvergenceWarning)\n"
     ]
    },
    {
     "name": "stdout",
     "output_type": "stream",
     "text": [
      "[CV] ................ C=0.01, max_iter=2000, tol=0.0001, total=   5.8s\n",
      "[CV] C=0.01, max_iter=2000, tol=0.0001 ...............................\n"
     ]
    },
    {
     "name": "stderr",
     "output_type": "stream",
     "text": [
      "/home/marina/anaconda3/lib/python3.7/site-packages/sklearn/svm/_base.py:947: ConvergenceWarning: Liblinear failed to converge, increase the number of iterations.\n",
      "  \"the number of iterations.\", ConvergenceWarning)\n"
     ]
    },
    {
     "name": "stdout",
     "output_type": "stream",
     "text": [
      "[CV] ................ C=0.01, max_iter=2000, tol=0.0001, total=   5.6s\n",
      "[CV] C=0.01, max_iter=2000, tol=0.0001 ...............................\n"
     ]
    },
    {
     "name": "stderr",
     "output_type": "stream",
     "text": [
      "/home/marina/anaconda3/lib/python3.7/site-packages/sklearn/svm/_base.py:947: ConvergenceWarning: Liblinear failed to converge, increase the number of iterations.\n",
      "  \"the number of iterations.\", ConvergenceWarning)\n"
     ]
    },
    {
     "name": "stdout",
     "output_type": "stream",
     "text": [
      "[CV] ................ C=0.01, max_iter=2000, tol=0.0001, total=   5.6s\n",
      "[CV] C=0.01, max_iter=2000, tol=0.001 ................................\n"
     ]
    },
    {
     "name": "stderr",
     "output_type": "stream",
     "text": [
      "/home/marina/anaconda3/lib/python3.7/site-packages/sklearn/svm/_base.py:947: ConvergenceWarning: Liblinear failed to converge, increase the number of iterations.\n",
      "  \"the number of iterations.\", ConvergenceWarning)\n"
     ]
    },
    {
     "name": "stdout",
     "output_type": "stream",
     "text": [
      "[CV] ................. C=0.01, max_iter=2000, tol=0.001, total=   5.7s\n",
      "[CV] C=0.01, max_iter=2000, tol=0.001 ................................\n"
     ]
    },
    {
     "name": "stderr",
     "output_type": "stream",
     "text": [
      "/home/marina/anaconda3/lib/python3.7/site-packages/sklearn/svm/_base.py:947: ConvergenceWarning: Liblinear failed to converge, increase the number of iterations.\n",
      "  \"the number of iterations.\", ConvergenceWarning)\n"
     ]
    },
    {
     "name": "stdout",
     "output_type": "stream",
     "text": [
      "[CV] ................. C=0.01, max_iter=2000, tol=0.001, total=   5.8s\n",
      "[CV] C=0.01, max_iter=2000, tol=0.001 ................................\n"
     ]
    },
    {
     "name": "stderr",
     "output_type": "stream",
     "text": [
      "/home/marina/anaconda3/lib/python3.7/site-packages/sklearn/svm/_base.py:947: ConvergenceWarning: Liblinear failed to converge, increase the number of iterations.\n",
      "  \"the number of iterations.\", ConvergenceWarning)\n"
     ]
    },
    {
     "name": "stdout",
     "output_type": "stream",
     "text": [
      "[CV] ................. C=0.01, max_iter=2000, tol=0.001, total=   6.2s\n",
      "[CV] C=0.01, max_iter=2000, tol=0.001 ................................\n"
     ]
    },
    {
     "name": "stderr",
     "output_type": "stream",
     "text": [
      "/home/marina/anaconda3/lib/python3.7/site-packages/sklearn/svm/_base.py:947: ConvergenceWarning: Liblinear failed to converge, increase the number of iterations.\n",
      "  \"the number of iterations.\", ConvergenceWarning)\n"
     ]
    },
    {
     "name": "stdout",
     "output_type": "stream",
     "text": [
      "[CV] ................. C=0.01, max_iter=2000, tol=0.001, total=   5.7s\n",
      "[CV] C=0.01, max_iter=2000, tol=0.001 ................................\n"
     ]
    },
    {
     "name": "stderr",
     "output_type": "stream",
     "text": [
      "/home/marina/anaconda3/lib/python3.7/site-packages/sklearn/svm/_base.py:947: ConvergenceWarning: Liblinear failed to converge, increase the number of iterations.\n",
      "  \"the number of iterations.\", ConvergenceWarning)\n"
     ]
    },
    {
     "name": "stdout",
     "output_type": "stream",
     "text": [
      "[CV] ................. C=0.01, max_iter=2000, tol=0.001, total=   5.4s\n",
      "[CV] C=0.01, max_iter=3000, tol=0.0001 ...............................\n"
     ]
    },
    {
     "name": "stderr",
     "output_type": "stream",
     "text": [
      "/home/marina/anaconda3/lib/python3.7/site-packages/sklearn/svm/_base.py:947: ConvergenceWarning: Liblinear failed to converge, increase the number of iterations.\n",
      "  \"the number of iterations.\", ConvergenceWarning)\n"
     ]
    },
    {
     "name": "stdout",
     "output_type": "stream",
     "text": [
      "[CV] ................ C=0.01, max_iter=3000, tol=0.0001, total=   7.9s\n",
      "[CV] C=0.01, max_iter=3000, tol=0.0001 ...............................\n"
     ]
    },
    {
     "name": "stderr",
     "output_type": "stream",
     "text": [
      "/home/marina/anaconda3/lib/python3.7/site-packages/sklearn/svm/_base.py:947: ConvergenceWarning: Liblinear failed to converge, increase the number of iterations.\n",
      "  \"the number of iterations.\", ConvergenceWarning)\n"
     ]
    },
    {
     "name": "stdout",
     "output_type": "stream",
     "text": [
      "[CV] ................ C=0.01, max_iter=3000, tol=0.0001, total=   7.9s\n",
      "[CV] C=0.01, max_iter=3000, tol=0.0001 ...............................\n"
     ]
    },
    {
     "name": "stderr",
     "output_type": "stream",
     "text": [
      "/home/marina/anaconda3/lib/python3.7/site-packages/sklearn/svm/_base.py:947: ConvergenceWarning: Liblinear failed to converge, increase the number of iterations.\n",
      "  \"the number of iterations.\", ConvergenceWarning)\n"
     ]
    },
    {
     "name": "stdout",
     "output_type": "stream",
     "text": [
      "[CV] ................ C=0.01, max_iter=3000, tol=0.0001, total=   8.1s\n",
      "[CV] C=0.01, max_iter=3000, tol=0.0001 ...............................\n"
     ]
    },
    {
     "name": "stderr",
     "output_type": "stream",
     "text": [
      "/home/marina/anaconda3/lib/python3.7/site-packages/sklearn/svm/_base.py:947: ConvergenceWarning: Liblinear failed to converge, increase the number of iterations.\n",
      "  \"the number of iterations.\", ConvergenceWarning)\n"
     ]
    },
    {
     "name": "stdout",
     "output_type": "stream",
     "text": [
      "[CV] ................ C=0.01, max_iter=3000, tol=0.0001, total=   8.1s\n",
      "[CV] C=0.01, max_iter=3000, tol=0.0001 ...............................\n"
     ]
    },
    {
     "name": "stderr",
     "output_type": "stream",
     "text": [
      "/home/marina/anaconda3/lib/python3.7/site-packages/sklearn/svm/_base.py:947: ConvergenceWarning: Liblinear failed to converge, increase the number of iterations.\n",
      "  \"the number of iterations.\", ConvergenceWarning)\n"
     ]
    },
    {
     "name": "stdout",
     "output_type": "stream",
     "text": [
      "[CV] ................ C=0.01, max_iter=3000, tol=0.0001, total=   7.8s\n",
      "[CV] C=0.01, max_iter=3000, tol=0.001 ................................\n"
     ]
    },
    {
     "name": "stderr",
     "output_type": "stream",
     "text": [
      "/home/marina/anaconda3/lib/python3.7/site-packages/sklearn/svm/_base.py:947: ConvergenceWarning: Liblinear failed to converge, increase the number of iterations.\n",
      "  \"the number of iterations.\", ConvergenceWarning)\n"
     ]
    },
    {
     "name": "stdout",
     "output_type": "stream",
     "text": [
      "[CV] ................. C=0.01, max_iter=3000, tol=0.001, total=   7.9s\n",
      "[CV] C=0.01, max_iter=3000, tol=0.001 ................................\n"
     ]
    },
    {
     "name": "stderr",
     "output_type": "stream",
     "text": [
      "/home/marina/anaconda3/lib/python3.7/site-packages/sklearn/svm/_base.py:947: ConvergenceWarning: Liblinear failed to converge, increase the number of iterations.\n",
      "  \"the number of iterations.\", ConvergenceWarning)\n"
     ]
    },
    {
     "name": "stdout",
     "output_type": "stream",
     "text": [
      "[CV] ................. C=0.01, max_iter=3000, tol=0.001, total=   7.7s\n",
      "[CV] C=0.01, max_iter=3000, tol=0.001 ................................\n"
     ]
    },
    {
     "name": "stderr",
     "output_type": "stream",
     "text": [
      "/home/marina/anaconda3/lib/python3.7/site-packages/sklearn/svm/_base.py:947: ConvergenceWarning: Liblinear failed to converge, increase the number of iterations.\n",
      "  \"the number of iterations.\", ConvergenceWarning)\n"
     ]
    },
    {
     "name": "stdout",
     "output_type": "stream",
     "text": [
      "[CV] ................. C=0.01, max_iter=3000, tol=0.001, total=   7.9s\n",
      "[CV] C=0.01, max_iter=3000, tol=0.001 ................................\n"
     ]
    },
    {
     "name": "stderr",
     "output_type": "stream",
     "text": [
      "/home/marina/anaconda3/lib/python3.7/site-packages/sklearn/svm/_base.py:947: ConvergenceWarning: Liblinear failed to converge, increase the number of iterations.\n",
      "  \"the number of iterations.\", ConvergenceWarning)\n"
     ]
    },
    {
     "name": "stdout",
     "output_type": "stream",
     "text": [
      "[CV] ................. C=0.01, max_iter=3000, tol=0.001, total=   8.7s\n",
      "[CV] C=0.01, max_iter=3000, tol=0.001 ................................\n"
     ]
    },
    {
     "name": "stderr",
     "output_type": "stream",
     "text": [
      "/home/marina/anaconda3/lib/python3.7/site-packages/sklearn/svm/_base.py:947: ConvergenceWarning: Liblinear failed to converge, increase the number of iterations.\n",
      "  \"the number of iterations.\", ConvergenceWarning)\n"
     ]
    },
    {
     "name": "stdout",
     "output_type": "stream",
     "text": [
      "[CV] ................. C=0.01, max_iter=3000, tol=0.001, total=   8.2s\n",
      "[CV] C=0.01, max_iter=1000, tol=0.0001 ...............................\n"
     ]
    },
    {
     "name": "stderr",
     "output_type": "stream",
     "text": [
      "/home/marina/anaconda3/lib/python3.7/site-packages/sklearn/svm/_base.py:947: ConvergenceWarning: Liblinear failed to converge, increase the number of iterations.\n",
      "  \"the number of iterations.\", ConvergenceWarning)\n"
     ]
    },
    {
     "name": "stdout",
     "output_type": "stream",
     "text": [
      "[CV] ................ C=0.01, max_iter=1000, tol=0.0001, total=   2.9s\n",
      "[CV] C=0.01, max_iter=1000, tol=0.0001 ...............................\n"
     ]
    },
    {
     "name": "stderr",
     "output_type": "stream",
     "text": [
      "/home/marina/anaconda3/lib/python3.7/site-packages/sklearn/svm/_base.py:947: ConvergenceWarning: Liblinear failed to converge, increase the number of iterations.\n",
      "  \"the number of iterations.\", ConvergenceWarning)\n"
     ]
    },
    {
     "name": "stdout",
     "output_type": "stream",
     "text": [
      "[CV] ................ C=0.01, max_iter=1000, tol=0.0001, total=   3.0s\n",
      "[CV] C=0.01, max_iter=1000, tol=0.0001 ...............................\n"
     ]
    },
    {
     "name": "stderr",
     "output_type": "stream",
     "text": [
      "/home/marina/anaconda3/lib/python3.7/site-packages/sklearn/svm/_base.py:947: ConvergenceWarning: Liblinear failed to converge, increase the number of iterations.\n",
      "  \"the number of iterations.\", ConvergenceWarning)\n"
     ]
    },
    {
     "name": "stdout",
     "output_type": "stream",
     "text": [
      "[CV] ................ C=0.01, max_iter=1000, tol=0.0001, total=   3.1s\n",
      "[CV] C=0.01, max_iter=1000, tol=0.0001 ...............................\n"
     ]
    },
    {
     "name": "stderr",
     "output_type": "stream",
     "text": [
      "/home/marina/anaconda3/lib/python3.7/site-packages/sklearn/svm/_base.py:947: ConvergenceWarning: Liblinear failed to converge, increase the number of iterations.\n",
      "  \"the number of iterations.\", ConvergenceWarning)\n"
     ]
    },
    {
     "name": "stdout",
     "output_type": "stream",
     "text": [
      "[CV] ................ C=0.01, max_iter=1000, tol=0.0001, total=   3.0s\n",
      "[CV] C=0.01, max_iter=1000, tol=0.0001 ...............................\n"
     ]
    },
    {
     "name": "stderr",
     "output_type": "stream",
     "text": [
      "/home/marina/anaconda3/lib/python3.7/site-packages/sklearn/svm/_base.py:947: ConvergenceWarning: Liblinear failed to converge, increase the number of iterations.\n",
      "  \"the number of iterations.\", ConvergenceWarning)\n"
     ]
    },
    {
     "name": "stdout",
     "output_type": "stream",
     "text": [
      "[CV] ................ C=0.01, max_iter=1000, tol=0.0001, total=   2.9s\n",
      "[CV] C=0.01, max_iter=1000, tol=0.001 ................................\n"
     ]
    },
    {
     "name": "stderr",
     "output_type": "stream",
     "text": [
      "/home/marina/anaconda3/lib/python3.7/site-packages/sklearn/svm/_base.py:947: ConvergenceWarning: Liblinear failed to converge, increase the number of iterations.\n",
      "  \"the number of iterations.\", ConvergenceWarning)\n"
     ]
    },
    {
     "name": "stdout",
     "output_type": "stream",
     "text": [
      "[CV] ................. C=0.01, max_iter=1000, tol=0.001, total=   3.1s\n",
      "[CV] C=0.01, max_iter=1000, tol=0.001 ................................\n"
     ]
    },
    {
     "name": "stderr",
     "output_type": "stream",
     "text": [
      "/home/marina/anaconda3/lib/python3.7/site-packages/sklearn/svm/_base.py:947: ConvergenceWarning: Liblinear failed to converge, increase the number of iterations.\n",
      "  \"the number of iterations.\", ConvergenceWarning)\n"
     ]
    },
    {
     "name": "stdout",
     "output_type": "stream",
     "text": [
      "[CV] ................. C=0.01, max_iter=1000, tol=0.001, total=   3.3s\n",
      "[CV] C=0.01, max_iter=1000, tol=0.001 ................................\n"
     ]
    },
    {
     "name": "stderr",
     "output_type": "stream",
     "text": [
      "/home/marina/anaconda3/lib/python3.7/site-packages/sklearn/svm/_base.py:947: ConvergenceWarning: Liblinear failed to converge, increase the number of iterations.\n",
      "  \"the number of iterations.\", ConvergenceWarning)\n"
     ]
    },
    {
     "name": "stdout",
     "output_type": "stream",
     "text": [
      "[CV] ................. C=0.01, max_iter=1000, tol=0.001, total=   3.5s\n",
      "[CV] C=0.01, max_iter=1000, tol=0.001 ................................\n"
     ]
    },
    {
     "name": "stderr",
     "output_type": "stream",
     "text": [
      "/home/marina/anaconda3/lib/python3.7/site-packages/sklearn/svm/_base.py:947: ConvergenceWarning: Liblinear failed to converge, increase the number of iterations.\n",
      "  \"the number of iterations.\", ConvergenceWarning)\n"
     ]
    },
    {
     "name": "stdout",
     "output_type": "stream",
     "text": [
      "[CV] ................. C=0.01, max_iter=1000, tol=0.001, total=   3.7s\n",
      "[CV] C=0.01, max_iter=1000, tol=0.001 ................................\n"
     ]
    },
    {
     "name": "stderr",
     "output_type": "stream",
     "text": [
      "/home/marina/anaconda3/lib/python3.7/site-packages/sklearn/svm/_base.py:947: ConvergenceWarning: Liblinear failed to converge, increase the number of iterations.\n",
      "  \"the number of iterations.\", ConvergenceWarning)\n"
     ]
    },
    {
     "name": "stdout",
     "output_type": "stream",
     "text": [
      "[CV] ................. C=0.01, max_iter=1000, tol=0.001, total=   3.2s\n",
      "[CV] C=0.001, max_iter=2000, tol=0.0001 ..............................\n",
      "[CV] ............... C=0.001, max_iter=2000, tol=0.0001, total=   4.1s\n",
      "[CV] C=0.001, max_iter=2000, tol=0.0001 ..............................\n"
     ]
    },
    {
     "name": "stderr",
     "output_type": "stream",
     "text": [
      "/home/marina/anaconda3/lib/python3.7/site-packages/sklearn/svm/_base.py:947: ConvergenceWarning: Liblinear failed to converge, increase the number of iterations.\n",
      "  \"the number of iterations.\", ConvergenceWarning)\n"
     ]
    },
    {
     "name": "stdout",
     "output_type": "stream",
     "text": [
      "[CV] ............... C=0.001, max_iter=2000, tol=0.0001, total=   5.6s\n",
      "[CV] C=0.001, max_iter=2000, tol=0.0001 ..............................\n"
     ]
    },
    {
     "name": "stderr",
     "output_type": "stream",
     "text": [
      "/home/marina/anaconda3/lib/python3.7/site-packages/sklearn/svm/_base.py:947: ConvergenceWarning: Liblinear failed to converge, increase the number of iterations.\n",
      "  \"the number of iterations.\", ConvergenceWarning)\n"
     ]
    },
    {
     "name": "stdout",
     "output_type": "stream",
     "text": [
      "[CV] ............... C=0.001, max_iter=2000, tol=0.0001, total=   5.1s\n",
      "[CV] C=0.001, max_iter=2000, tol=0.0001 ..............................\n",
      "[CV] ............... C=0.001, max_iter=2000, tol=0.0001, total=   4.3s\n",
      "[CV] C=0.001, max_iter=2000, tol=0.0001 ..............................\n",
      "[CV] ............... C=0.001, max_iter=2000, tol=0.0001, total=   4.2s\n",
      "[CV] C=0.001, max_iter=2000, tol=0.001 ...............................\n",
      "[CV] ................ C=0.001, max_iter=2000, tol=0.001, total=   4.5s\n",
      "[CV] C=0.001, max_iter=2000, tol=0.001 ...............................\n",
      "[CV] ................ C=0.001, max_iter=2000, tol=0.001, total=   3.2s\n",
      "[CV] C=0.001, max_iter=2000, tol=0.001 ...............................\n",
      "[CV] ................ C=0.001, max_iter=2000, tol=0.001, total=   3.2s\n",
      "[CV] C=0.001, max_iter=2000, tol=0.001 ...............................\n",
      "[CV] ................ C=0.001, max_iter=2000, tol=0.001, total=   4.9s\n",
      "[CV] C=0.001, max_iter=2000, tol=0.001 ...............................\n",
      "[CV] ................ C=0.001, max_iter=2000, tol=0.001, total=   3.4s\n",
      "[CV] C=0.001, max_iter=3000, tol=0.0001 ..............................\n",
      "[CV] ............... C=0.001, max_iter=3000, tol=0.0001, total=   6.5s\n",
      "[CV] C=0.001, max_iter=3000, tol=0.0001 ..............................\n",
      "[CV] ............... C=0.001, max_iter=3000, tol=0.0001, total=   4.2s\n",
      "[CV] C=0.001, max_iter=3000, tol=0.0001 ..............................\n",
      "[CV] ............... C=0.001, max_iter=3000, tol=0.0001, total=   5.0s\n",
      "[CV] C=0.001, max_iter=3000, tol=0.0001 ..............................\n",
      "[CV] ............... C=0.001, max_iter=3000, tol=0.0001, total=   4.0s\n",
      "[CV] C=0.001, max_iter=3000, tol=0.0001 ..............................\n",
      "[CV] ............... C=0.001, max_iter=3000, tol=0.0001, total=   6.1s\n",
      "[CV] C=0.001, max_iter=3000, tol=0.001 ...............................\n",
      "[CV] ................ C=0.001, max_iter=3000, tol=0.001, total=   3.0s\n",
      "[CV] C=0.001, max_iter=3000, tol=0.001 ...............................\n",
      "[CV] ................ C=0.001, max_iter=3000, tol=0.001, total=   4.5s\n",
      "[CV] C=0.001, max_iter=3000, tol=0.001 ...............................\n",
      "[CV] ................ C=0.001, max_iter=3000, tol=0.001, total=   3.9s\n",
      "[CV] C=0.001, max_iter=3000, tol=0.001 ...............................\n",
      "[CV] ................ C=0.001, max_iter=3000, tol=0.001, total=   4.1s\n",
      "[CV] C=0.001, max_iter=3000, tol=0.001 ...............................\n",
      "[CV] ................ C=0.001, max_iter=3000, tol=0.001, total=   4.4s\n",
      "[CV] C=0.001, max_iter=1000, tol=0.0001 ..............................\n"
     ]
    },
    {
     "name": "stderr",
     "output_type": "stream",
     "text": [
      "/home/marina/anaconda3/lib/python3.7/site-packages/sklearn/svm/_base.py:947: ConvergenceWarning: Liblinear failed to converge, increase the number of iterations.\n",
      "  \"the number of iterations.\", ConvergenceWarning)\n"
     ]
    },
    {
     "name": "stdout",
     "output_type": "stream",
     "text": [
      "[CV] ............... C=0.001, max_iter=1000, tol=0.0001, total=   2.6s\n",
      "[CV] C=0.001, max_iter=1000, tol=0.0001 ..............................\n"
     ]
    },
    {
     "name": "stderr",
     "output_type": "stream",
     "text": [
      "/home/marina/anaconda3/lib/python3.7/site-packages/sklearn/svm/_base.py:947: ConvergenceWarning: Liblinear failed to converge, increase the number of iterations.\n",
      "  \"the number of iterations.\", ConvergenceWarning)\n"
     ]
    },
    {
     "name": "stdout",
     "output_type": "stream",
     "text": [
      "[CV] ............... C=0.001, max_iter=1000, tol=0.0001, total=   2.5s\n",
      "[CV] C=0.001, max_iter=1000, tol=0.0001 ..............................\n"
     ]
    },
    {
     "name": "stderr",
     "output_type": "stream",
     "text": [
      "/home/marina/anaconda3/lib/python3.7/site-packages/sklearn/svm/_base.py:947: ConvergenceWarning: Liblinear failed to converge, increase the number of iterations.\n",
      "  \"the number of iterations.\", ConvergenceWarning)\n"
     ]
    },
    {
     "name": "stdout",
     "output_type": "stream",
     "text": [
      "[CV] ............... C=0.001, max_iter=1000, tol=0.0001, total=   2.8s\n",
      "[CV] C=0.001, max_iter=1000, tol=0.0001 ..............................\n"
     ]
    },
    {
     "name": "stderr",
     "output_type": "stream",
     "text": [
      "/home/marina/anaconda3/lib/python3.7/site-packages/sklearn/svm/_base.py:947: ConvergenceWarning: Liblinear failed to converge, increase the number of iterations.\n",
      "  \"the number of iterations.\", ConvergenceWarning)\n"
     ]
    },
    {
     "name": "stdout",
     "output_type": "stream",
     "text": [
      "[CV] ............... C=0.001, max_iter=1000, tol=0.0001, total=   2.7s\n",
      "[CV] C=0.001, max_iter=1000, tol=0.0001 ..............................\n"
     ]
    },
    {
     "name": "stderr",
     "output_type": "stream",
     "text": [
      "/home/marina/anaconda3/lib/python3.7/site-packages/sklearn/svm/_base.py:947: ConvergenceWarning: Liblinear failed to converge, increase the number of iterations.\n",
      "  \"the number of iterations.\", ConvergenceWarning)\n"
     ]
    },
    {
     "name": "stdout",
     "output_type": "stream",
     "text": [
      "[CV] ............... C=0.001, max_iter=1000, tol=0.0001, total=   2.5s\n",
      "[CV] C=0.001, max_iter=1000, tol=0.001 ...............................\n"
     ]
    },
    {
     "name": "stderr",
     "output_type": "stream",
     "text": [
      "/home/marina/anaconda3/lib/python3.7/site-packages/sklearn/svm/_base.py:947: ConvergenceWarning: Liblinear failed to converge, increase the number of iterations.\n",
      "  \"the number of iterations.\", ConvergenceWarning)\n"
     ]
    },
    {
     "name": "stdout",
     "output_type": "stream",
     "text": [
      "[CV] ................ C=0.001, max_iter=1000, tol=0.001, total=   2.6s\n",
      "[CV] C=0.001, max_iter=1000, tol=0.001 ...............................\n"
     ]
    },
    {
     "name": "stderr",
     "output_type": "stream",
     "text": [
      "/home/marina/anaconda3/lib/python3.7/site-packages/sklearn/svm/_base.py:947: ConvergenceWarning: Liblinear failed to converge, increase the number of iterations.\n",
      "  \"the number of iterations.\", ConvergenceWarning)\n"
     ]
    },
    {
     "name": "stdout",
     "output_type": "stream",
     "text": [
      "[CV] ................ C=0.001, max_iter=1000, tol=0.001, total=   2.6s\n",
      "[CV] C=0.001, max_iter=1000, tol=0.001 ...............................\n"
     ]
    },
    {
     "name": "stderr",
     "output_type": "stream",
     "text": [
      "/home/marina/anaconda3/lib/python3.7/site-packages/sklearn/svm/_base.py:947: ConvergenceWarning: Liblinear failed to converge, increase the number of iterations.\n",
      "  \"the number of iterations.\", ConvergenceWarning)\n"
     ]
    },
    {
     "name": "stdout",
     "output_type": "stream",
     "text": [
      "[CV] ................ C=0.001, max_iter=1000, tol=0.001, total=   2.5s\n",
      "[CV] C=0.001, max_iter=1000, tol=0.001 ...............................\n"
     ]
    },
    {
     "name": "stderr",
     "output_type": "stream",
     "text": [
      "/home/marina/anaconda3/lib/python3.7/site-packages/sklearn/svm/_base.py:947: ConvergenceWarning: Liblinear failed to converge, increase the number of iterations.\n",
      "  \"the number of iterations.\", ConvergenceWarning)\n"
     ]
    },
    {
     "name": "stdout",
     "output_type": "stream",
     "text": [
      "[CV] ................ C=0.001, max_iter=1000, tol=0.001, total=   2.6s\n",
      "[CV] C=0.001, max_iter=1000, tol=0.001 ...............................\n"
     ]
    },
    {
     "name": "stderr",
     "output_type": "stream",
     "text": [
      "/home/marina/anaconda3/lib/python3.7/site-packages/sklearn/svm/_base.py:947: ConvergenceWarning: Liblinear failed to converge, increase the number of iterations.\n",
      "  \"the number of iterations.\", ConvergenceWarning)\n"
     ]
    },
    {
     "name": "stdout",
     "output_type": "stream",
     "text": [
      "[CV] ................ C=0.001, max_iter=1000, tol=0.001, total=   2.9s\n",
      "[CV] C=0.0001, max_iter=2000, tol=0.0001 .............................\n",
      "[CV] .............. C=0.0001, max_iter=2000, tol=0.0001, total=   0.5s\n",
      "[CV] C=0.0001, max_iter=2000, tol=0.0001 .............................\n",
      "[CV] .............. C=0.0001, max_iter=2000, tol=0.0001, total=   0.6s\n",
      "[CV] C=0.0001, max_iter=2000, tol=0.0001 .............................\n",
      "[CV] .............. C=0.0001, max_iter=2000, tol=0.0001, total=   0.6s\n",
      "[CV] C=0.0001, max_iter=2000, tol=0.0001 .............................\n",
      "[CV] .............. C=0.0001, max_iter=2000, tol=0.0001, total=   0.6s\n",
      "[CV] C=0.0001, max_iter=2000, tol=0.0001 .............................\n",
      "[CV] .............. C=0.0001, max_iter=2000, tol=0.0001, total=   0.5s\n",
      "[CV] C=0.0001, max_iter=2000, tol=0.001 ..............................\n",
      "[CV] ............... C=0.0001, max_iter=2000, tol=0.001, total=   0.4s\n",
      "[CV] C=0.0001, max_iter=2000, tol=0.001 ..............................\n",
      "[CV] ............... C=0.0001, max_iter=2000, tol=0.001, total=   0.4s\n",
      "[CV] C=0.0001, max_iter=2000, tol=0.001 ..............................\n",
      "[CV] ............... C=0.0001, max_iter=2000, tol=0.001, total=   0.4s\n",
      "[CV] C=0.0001, max_iter=2000, tol=0.001 ..............................\n",
      "[CV] ............... C=0.0001, max_iter=2000, tol=0.001, total=   0.4s\n",
      "[CV] C=0.0001, max_iter=2000, tol=0.001 ..............................\n",
      "[CV] ............... C=0.0001, max_iter=2000, tol=0.001, total=   0.4s\n",
      "[CV] C=0.0001, max_iter=3000, tol=0.0001 .............................\n",
      "[CV] .............. C=0.0001, max_iter=3000, tol=0.0001, total=   0.5s\n",
      "[CV] C=0.0001, max_iter=3000, tol=0.0001 .............................\n",
      "[CV] .............. C=0.0001, max_iter=3000, tol=0.0001, total=   0.5s\n",
      "[CV] C=0.0001, max_iter=3000, tol=0.0001 .............................\n",
      "[CV] .............. C=0.0001, max_iter=3000, tol=0.0001, total=   0.5s\n",
      "[CV] C=0.0001, max_iter=3000, tol=0.0001 .............................\n",
      "[CV] .............. C=0.0001, max_iter=3000, tol=0.0001, total=   0.5s\n",
      "[CV] C=0.0001, max_iter=3000, tol=0.0001 .............................\n",
      "[CV] .............. C=0.0001, max_iter=3000, tol=0.0001, total=   0.6s\n",
      "[CV] C=0.0001, max_iter=3000, tol=0.001 ..............................\n",
      "[CV] ............... C=0.0001, max_iter=3000, tol=0.001, total=   0.4s\n",
      "[CV] C=0.0001, max_iter=3000, tol=0.001 ..............................\n",
      "[CV] ............... C=0.0001, max_iter=3000, tol=0.001, total=   0.4s\n",
      "[CV] C=0.0001, max_iter=3000, tol=0.001 ..............................\n",
      "[CV] ............... C=0.0001, max_iter=3000, tol=0.001, total=   0.4s\n",
      "[CV] C=0.0001, max_iter=3000, tol=0.001 ..............................\n",
      "[CV] ............... C=0.0001, max_iter=3000, tol=0.001, total=   0.4s\n",
      "[CV] C=0.0001, max_iter=3000, tol=0.001 ..............................\n",
      "[CV] ............... C=0.0001, max_iter=3000, tol=0.001, total=   0.4s\n",
      "[CV] C=0.0001, max_iter=1000, tol=0.0001 .............................\n",
      "[CV] .............. C=0.0001, max_iter=1000, tol=0.0001, total=   0.5s\n",
      "[CV] C=0.0001, max_iter=1000, tol=0.0001 .............................\n",
      "[CV] .............. C=0.0001, max_iter=1000, tol=0.0001, total=   0.5s\n",
      "[CV] C=0.0001, max_iter=1000, tol=0.0001 .............................\n",
      "[CV] .............. C=0.0001, max_iter=1000, tol=0.0001, total=   0.5s\n",
      "[CV] C=0.0001, max_iter=1000, tol=0.0001 .............................\n",
      "[CV] .............. C=0.0001, max_iter=1000, tol=0.0001, total=   0.5s\n",
      "[CV] C=0.0001, max_iter=1000, tol=0.0001 .............................\n",
      "[CV] .............. C=0.0001, max_iter=1000, tol=0.0001, total=   0.5s\n",
      "[CV] C=0.0001, max_iter=1000, tol=0.001 ..............................\n",
      "[CV] ............... C=0.0001, max_iter=1000, tol=0.001, total=   0.4s\n",
      "[CV] C=0.0001, max_iter=1000, tol=0.001 ..............................\n",
      "[CV] ............... C=0.0001, max_iter=1000, tol=0.001, total=   0.4s\n",
      "[CV] C=0.0001, max_iter=1000, tol=0.001 ..............................\n",
      "[CV] ............... C=0.0001, max_iter=1000, tol=0.001, total=   0.4s\n",
      "[CV] C=0.0001, max_iter=1000, tol=0.001 ..............................\n",
      "[CV] ............... C=0.0001, max_iter=1000, tol=0.001, total=   0.4s\n",
      "[CV] C=0.0001, max_iter=1000, tol=0.001 ..............................\n",
      "[CV] ............... C=0.0001, max_iter=1000, tol=0.001, total=   0.4s\n",
      "[CV] C=10, max_iter=2000, tol=0.0001 .................................\n"
     ]
    },
    {
     "name": "stderr",
     "output_type": "stream",
     "text": [
      "/home/marina/anaconda3/lib/python3.7/site-packages/sklearn/svm/_base.py:947: ConvergenceWarning: Liblinear failed to converge, increase the number of iterations.\n",
      "  \"the number of iterations.\", ConvergenceWarning)\n"
     ]
    },
    {
     "name": "stdout",
     "output_type": "stream",
     "text": [
      "[CV] .................. C=10, max_iter=2000, tol=0.0001, total=   6.8s\n",
      "[CV] C=10, max_iter=2000, tol=0.0001 .................................\n"
     ]
    },
    {
     "name": "stderr",
     "output_type": "stream",
     "text": [
      "/home/marina/anaconda3/lib/python3.7/site-packages/sklearn/svm/_base.py:947: ConvergenceWarning: Liblinear failed to converge, increase the number of iterations.\n",
      "  \"the number of iterations.\", ConvergenceWarning)\n"
     ]
    },
    {
     "name": "stdout",
     "output_type": "stream",
     "text": [
      "[CV] .................. C=10, max_iter=2000, tol=0.0001, total=   6.8s\n",
      "[CV] C=10, max_iter=2000, tol=0.0001 .................................\n"
     ]
    },
    {
     "name": "stderr",
     "output_type": "stream",
     "text": [
      "/home/marina/anaconda3/lib/python3.7/site-packages/sklearn/svm/_base.py:947: ConvergenceWarning: Liblinear failed to converge, increase the number of iterations.\n",
      "  \"the number of iterations.\", ConvergenceWarning)\n"
     ]
    },
    {
     "name": "stdout",
     "output_type": "stream",
     "text": [
      "[CV] .................. C=10, max_iter=2000, tol=0.0001, total=   6.8s\n",
      "[CV] C=10, max_iter=2000, tol=0.0001 .................................\n"
     ]
    },
    {
     "name": "stderr",
     "output_type": "stream",
     "text": [
      "/home/marina/anaconda3/lib/python3.7/site-packages/sklearn/svm/_base.py:947: ConvergenceWarning: Liblinear failed to converge, increase the number of iterations.\n",
      "  \"the number of iterations.\", ConvergenceWarning)\n"
     ]
    },
    {
     "name": "stdout",
     "output_type": "stream",
     "text": [
      "[CV] .................. C=10, max_iter=2000, tol=0.0001, total=   7.0s\n",
      "[CV] C=10, max_iter=2000, tol=0.0001 .................................\n"
     ]
    },
    {
     "name": "stderr",
     "output_type": "stream",
     "text": [
      "/home/marina/anaconda3/lib/python3.7/site-packages/sklearn/svm/_base.py:947: ConvergenceWarning: Liblinear failed to converge, increase the number of iterations.\n",
      "  \"the number of iterations.\", ConvergenceWarning)\n"
     ]
    },
    {
     "name": "stdout",
     "output_type": "stream",
     "text": [
      "[CV] .................. C=10, max_iter=2000, tol=0.0001, total=   6.4s\n",
      "[CV] C=10, max_iter=2000, tol=0.001 ..................................\n"
     ]
    },
    {
     "name": "stderr",
     "output_type": "stream",
     "text": [
      "/home/marina/anaconda3/lib/python3.7/site-packages/sklearn/svm/_base.py:947: ConvergenceWarning: Liblinear failed to converge, increase the number of iterations.\n",
      "  \"the number of iterations.\", ConvergenceWarning)\n"
     ]
    },
    {
     "name": "stdout",
     "output_type": "stream",
     "text": [
      "[CV] ................... C=10, max_iter=2000, tol=0.001, total=   6.7s\n",
      "[CV] C=10, max_iter=2000, tol=0.001 ..................................\n"
     ]
    },
    {
     "name": "stderr",
     "output_type": "stream",
     "text": [
      "/home/marina/anaconda3/lib/python3.7/site-packages/sklearn/svm/_base.py:947: ConvergenceWarning: Liblinear failed to converge, increase the number of iterations.\n",
      "  \"the number of iterations.\", ConvergenceWarning)\n"
     ]
    },
    {
     "name": "stdout",
     "output_type": "stream",
     "text": [
      "[CV] ................... C=10, max_iter=2000, tol=0.001, total=   6.9s\n",
      "[CV] C=10, max_iter=2000, tol=0.001 ..................................\n"
     ]
    },
    {
     "name": "stderr",
     "output_type": "stream",
     "text": [
      "/home/marina/anaconda3/lib/python3.7/site-packages/sklearn/svm/_base.py:947: ConvergenceWarning: Liblinear failed to converge, increase the number of iterations.\n",
      "  \"the number of iterations.\", ConvergenceWarning)\n"
     ]
    },
    {
     "name": "stdout",
     "output_type": "stream",
     "text": [
      "[CV] ................... C=10, max_iter=2000, tol=0.001, total=   7.0s\n",
      "[CV] C=10, max_iter=2000, tol=0.001 ..................................\n"
     ]
    },
    {
     "name": "stderr",
     "output_type": "stream",
     "text": [
      "/home/marina/anaconda3/lib/python3.7/site-packages/sklearn/svm/_base.py:947: ConvergenceWarning: Liblinear failed to converge, increase the number of iterations.\n",
      "  \"the number of iterations.\", ConvergenceWarning)\n"
     ]
    },
    {
     "name": "stdout",
     "output_type": "stream",
     "text": [
      "[CV] ................... C=10, max_iter=2000, tol=0.001, total=   6.8s\n",
      "[CV] C=10, max_iter=2000, tol=0.001 ..................................\n"
     ]
    },
    {
     "name": "stderr",
     "output_type": "stream",
     "text": [
      "/home/marina/anaconda3/lib/python3.7/site-packages/sklearn/svm/_base.py:947: ConvergenceWarning: Liblinear failed to converge, increase the number of iterations.\n",
      "  \"the number of iterations.\", ConvergenceWarning)\n"
     ]
    },
    {
     "name": "stdout",
     "output_type": "stream",
     "text": [
      "[CV] ................... C=10, max_iter=2000, tol=0.001, total=   6.9s\n",
      "[CV] C=10, max_iter=3000, tol=0.0001 .................................\n"
     ]
    },
    {
     "name": "stderr",
     "output_type": "stream",
     "text": [
      "/home/marina/anaconda3/lib/python3.7/site-packages/sklearn/svm/_base.py:947: ConvergenceWarning: Liblinear failed to converge, increase the number of iterations.\n",
      "  \"the number of iterations.\", ConvergenceWarning)\n"
     ]
    },
    {
     "name": "stdout",
     "output_type": "stream",
     "text": [
      "[CV] .................. C=10, max_iter=3000, tol=0.0001, total=  10.2s\n",
      "[CV] C=10, max_iter=3000, tol=0.0001 .................................\n"
     ]
    },
    {
     "name": "stderr",
     "output_type": "stream",
     "text": [
      "/home/marina/anaconda3/lib/python3.7/site-packages/sklearn/svm/_base.py:947: ConvergenceWarning: Liblinear failed to converge, increase the number of iterations.\n",
      "  \"the number of iterations.\", ConvergenceWarning)\n"
     ]
    },
    {
     "name": "stdout",
     "output_type": "stream",
     "text": [
      "[CV] .................. C=10, max_iter=3000, tol=0.0001, total=   8.9s\n",
      "[CV] C=10, max_iter=3000, tol=0.0001 .................................\n"
     ]
    },
    {
     "name": "stderr",
     "output_type": "stream",
     "text": [
      "/home/marina/anaconda3/lib/python3.7/site-packages/sklearn/svm/_base.py:947: ConvergenceWarning: Liblinear failed to converge, increase the number of iterations.\n",
      "  \"the number of iterations.\", ConvergenceWarning)\n"
     ]
    },
    {
     "name": "stdout",
     "output_type": "stream",
     "text": [
      "[CV] .................. C=10, max_iter=3000, tol=0.0001, total=   9.0s\n",
      "[CV] C=10, max_iter=3000, tol=0.0001 .................................\n"
     ]
    },
    {
     "name": "stderr",
     "output_type": "stream",
     "text": [
      "/home/marina/anaconda3/lib/python3.7/site-packages/sklearn/svm/_base.py:947: ConvergenceWarning: Liblinear failed to converge, increase the number of iterations.\n",
      "  \"the number of iterations.\", ConvergenceWarning)\n"
     ]
    },
    {
     "name": "stdout",
     "output_type": "stream",
     "text": [
      "[CV] .................. C=10, max_iter=3000, tol=0.0001, total=   9.6s\n",
      "[CV] C=10, max_iter=3000, tol=0.0001 .................................\n"
     ]
    },
    {
     "name": "stderr",
     "output_type": "stream",
     "text": [
      "/home/marina/anaconda3/lib/python3.7/site-packages/sklearn/svm/_base.py:947: ConvergenceWarning: Liblinear failed to converge, increase the number of iterations.\n",
      "  \"the number of iterations.\", ConvergenceWarning)\n"
     ]
    },
    {
     "name": "stdout",
     "output_type": "stream",
     "text": [
      "[CV] .................. C=10, max_iter=3000, tol=0.0001, total=   9.8s\n",
      "[CV] C=10, max_iter=3000, tol=0.001 ..................................\n"
     ]
    },
    {
     "name": "stderr",
     "output_type": "stream",
     "text": [
      "/home/marina/anaconda3/lib/python3.7/site-packages/sklearn/svm/_base.py:947: ConvergenceWarning: Liblinear failed to converge, increase the number of iterations.\n",
      "  \"the number of iterations.\", ConvergenceWarning)\n"
     ]
    },
    {
     "name": "stdout",
     "output_type": "stream",
     "text": [
      "[CV] ................... C=10, max_iter=3000, tol=0.001, total=  10.4s\n",
      "[CV] C=10, max_iter=3000, tol=0.001 ..................................\n"
     ]
    },
    {
     "name": "stderr",
     "output_type": "stream",
     "text": [
      "/home/marina/anaconda3/lib/python3.7/site-packages/sklearn/svm/_base.py:947: ConvergenceWarning: Liblinear failed to converge, increase the number of iterations.\n",
      "  \"the number of iterations.\", ConvergenceWarning)\n"
     ]
    },
    {
     "name": "stdout",
     "output_type": "stream",
     "text": [
      "[CV] ................... C=10, max_iter=3000, tol=0.001, total=  10.2s\n",
      "[CV] C=10, max_iter=3000, tol=0.001 ..................................\n"
     ]
    },
    {
     "name": "stderr",
     "output_type": "stream",
     "text": [
      "/home/marina/anaconda3/lib/python3.7/site-packages/sklearn/svm/_base.py:947: ConvergenceWarning: Liblinear failed to converge, increase the number of iterations.\n",
      "  \"the number of iterations.\", ConvergenceWarning)\n"
     ]
    },
    {
     "name": "stdout",
     "output_type": "stream",
     "text": [
      "[CV] ................... C=10, max_iter=3000, tol=0.001, total=  10.4s\n",
      "[CV] C=10, max_iter=3000, tol=0.001 ..................................\n"
     ]
    },
    {
     "name": "stderr",
     "output_type": "stream",
     "text": [
      "/home/marina/anaconda3/lib/python3.7/site-packages/sklearn/svm/_base.py:947: ConvergenceWarning: Liblinear failed to converge, increase the number of iterations.\n",
      "  \"the number of iterations.\", ConvergenceWarning)\n"
     ]
    },
    {
     "name": "stdout",
     "output_type": "stream",
     "text": [
      "[CV] ................... C=10, max_iter=3000, tol=0.001, total=  10.4s\n",
      "[CV] C=10, max_iter=3000, tol=0.001 ..................................\n"
     ]
    },
    {
     "name": "stderr",
     "output_type": "stream",
     "text": [
      "/home/marina/anaconda3/lib/python3.7/site-packages/sklearn/svm/_base.py:947: ConvergenceWarning: Liblinear failed to converge, increase the number of iterations.\n",
      "  \"the number of iterations.\", ConvergenceWarning)\n"
     ]
    },
    {
     "name": "stdout",
     "output_type": "stream",
     "text": [
      "[CV] ................... C=10, max_iter=3000, tol=0.001, total=   9.7s\n",
      "[CV] C=10, max_iter=1000, tol=0.0001 .................................\n"
     ]
    },
    {
     "name": "stderr",
     "output_type": "stream",
     "text": [
      "/home/marina/anaconda3/lib/python3.7/site-packages/sklearn/svm/_base.py:947: ConvergenceWarning: Liblinear failed to converge, increase the number of iterations.\n",
      "  \"the number of iterations.\", ConvergenceWarning)\n"
     ]
    },
    {
     "name": "stdout",
     "output_type": "stream",
     "text": [
      "[CV] .................. C=10, max_iter=1000, tol=0.0001, total=   3.4s\n",
      "[CV] C=10, max_iter=1000, tol=0.0001 .................................\n"
     ]
    },
    {
     "name": "stderr",
     "output_type": "stream",
     "text": [
      "/home/marina/anaconda3/lib/python3.7/site-packages/sklearn/svm/_base.py:947: ConvergenceWarning: Liblinear failed to converge, increase the number of iterations.\n",
      "  \"the number of iterations.\", ConvergenceWarning)\n"
     ]
    },
    {
     "name": "stdout",
     "output_type": "stream",
     "text": [
      "[CV] .................. C=10, max_iter=1000, tol=0.0001, total=   3.1s\n",
      "[CV] C=10, max_iter=1000, tol=0.0001 .................................\n"
     ]
    },
    {
     "name": "stderr",
     "output_type": "stream",
     "text": [
      "/home/marina/anaconda3/lib/python3.7/site-packages/sklearn/svm/_base.py:947: ConvergenceWarning: Liblinear failed to converge, increase the number of iterations.\n",
      "  \"the number of iterations.\", ConvergenceWarning)\n"
     ]
    },
    {
     "name": "stdout",
     "output_type": "stream",
     "text": [
      "[CV] .................. C=10, max_iter=1000, tol=0.0001, total=   3.2s\n",
      "[CV] C=10, max_iter=1000, tol=0.0001 .................................\n"
     ]
    },
    {
     "name": "stderr",
     "output_type": "stream",
     "text": [
      "/home/marina/anaconda3/lib/python3.7/site-packages/sklearn/svm/_base.py:947: ConvergenceWarning: Liblinear failed to converge, increase the number of iterations.\n",
      "  \"the number of iterations.\", ConvergenceWarning)\n"
     ]
    },
    {
     "name": "stdout",
     "output_type": "stream",
     "text": [
      "[CV] .................. C=10, max_iter=1000, tol=0.0001, total=   3.2s\n",
      "[CV] C=10, max_iter=1000, tol=0.0001 .................................\n"
     ]
    },
    {
     "name": "stderr",
     "output_type": "stream",
     "text": [
      "/home/marina/anaconda3/lib/python3.7/site-packages/sklearn/svm/_base.py:947: ConvergenceWarning: Liblinear failed to converge, increase the number of iterations.\n",
      "  \"the number of iterations.\", ConvergenceWarning)\n"
     ]
    },
    {
     "name": "stdout",
     "output_type": "stream",
     "text": [
      "[CV] .................. C=10, max_iter=1000, tol=0.0001, total=   3.3s\n",
      "[CV] C=10, max_iter=1000, tol=0.001 ..................................\n"
     ]
    },
    {
     "name": "stderr",
     "output_type": "stream",
     "text": [
      "/home/marina/anaconda3/lib/python3.7/site-packages/sklearn/svm/_base.py:947: ConvergenceWarning: Liblinear failed to converge, increase the number of iterations.\n",
      "  \"the number of iterations.\", ConvergenceWarning)\n"
     ]
    },
    {
     "name": "stdout",
     "output_type": "stream",
     "text": [
      "[CV] ................... C=10, max_iter=1000, tol=0.001, total=   3.2s\n",
      "[CV] C=10, max_iter=1000, tol=0.001 ..................................\n"
     ]
    },
    {
     "name": "stderr",
     "output_type": "stream",
     "text": [
      "/home/marina/anaconda3/lib/python3.7/site-packages/sklearn/svm/_base.py:947: ConvergenceWarning: Liblinear failed to converge, increase the number of iterations.\n",
      "  \"the number of iterations.\", ConvergenceWarning)\n"
     ]
    },
    {
     "name": "stdout",
     "output_type": "stream",
     "text": [
      "[CV] ................... C=10, max_iter=1000, tol=0.001, total=   3.2s\n",
      "[CV] C=10, max_iter=1000, tol=0.001 ..................................\n"
     ]
    },
    {
     "name": "stderr",
     "output_type": "stream",
     "text": [
      "/home/marina/anaconda3/lib/python3.7/site-packages/sklearn/svm/_base.py:947: ConvergenceWarning: Liblinear failed to converge, increase the number of iterations.\n",
      "  \"the number of iterations.\", ConvergenceWarning)\n"
     ]
    },
    {
     "name": "stdout",
     "output_type": "stream",
     "text": [
      "[CV] ................... C=10, max_iter=1000, tol=0.001, total=   3.2s\n",
      "[CV] C=10, max_iter=1000, tol=0.001 ..................................\n"
     ]
    },
    {
     "name": "stderr",
     "output_type": "stream",
     "text": [
      "/home/marina/anaconda3/lib/python3.7/site-packages/sklearn/svm/_base.py:947: ConvergenceWarning: Liblinear failed to converge, increase the number of iterations.\n",
      "  \"the number of iterations.\", ConvergenceWarning)\n"
     ]
    },
    {
     "name": "stdout",
     "output_type": "stream",
     "text": [
      "[CV] ................... C=10, max_iter=1000, tol=0.001, total=   3.2s\n",
      "[CV] C=10, max_iter=1000, tol=0.001 ..................................\n"
     ]
    },
    {
     "name": "stderr",
     "output_type": "stream",
     "text": [
      "/home/marina/anaconda3/lib/python3.7/site-packages/sklearn/svm/_base.py:947: ConvergenceWarning: Liblinear failed to converge, increase the number of iterations.\n",
      "  \"the number of iterations.\", ConvergenceWarning)\n"
     ]
    },
    {
     "name": "stdout",
     "output_type": "stream",
     "text": [
      "[CV] ................... C=10, max_iter=1000, tol=0.001, total=   3.2s\n",
      "[CV] C=100, max_iter=2000, tol=0.0001 ................................\n"
     ]
    },
    {
     "name": "stderr",
     "output_type": "stream",
     "text": [
      "/home/marina/anaconda3/lib/python3.7/site-packages/sklearn/svm/_base.py:947: ConvergenceWarning: Liblinear failed to converge, increase the number of iterations.\n",
      "  \"the number of iterations.\", ConvergenceWarning)\n"
     ]
    },
    {
     "name": "stdout",
     "output_type": "stream",
     "text": [
      "[CV] ................. C=100, max_iter=2000, tol=0.0001, total=   6.8s\n",
      "[CV] C=100, max_iter=2000, tol=0.0001 ................................\n"
     ]
    },
    {
     "name": "stderr",
     "output_type": "stream",
     "text": [
      "/home/marina/anaconda3/lib/python3.7/site-packages/sklearn/svm/_base.py:947: ConvergenceWarning: Liblinear failed to converge, increase the number of iterations.\n",
      "  \"the number of iterations.\", ConvergenceWarning)\n"
     ]
    },
    {
     "name": "stdout",
     "output_type": "stream",
     "text": [
      "[CV] ................. C=100, max_iter=2000, tol=0.0001, total=   7.1s\n",
      "[CV] C=100, max_iter=2000, tol=0.0001 ................................\n"
     ]
    },
    {
     "name": "stderr",
     "output_type": "stream",
     "text": [
      "/home/marina/anaconda3/lib/python3.7/site-packages/sklearn/svm/_base.py:947: ConvergenceWarning: Liblinear failed to converge, increase the number of iterations.\n",
      "  \"the number of iterations.\", ConvergenceWarning)\n"
     ]
    },
    {
     "name": "stdout",
     "output_type": "stream",
     "text": [
      "[CV] ................. C=100, max_iter=2000, tol=0.0001, total=   7.0s\n",
      "[CV] C=100, max_iter=2000, tol=0.0001 ................................\n"
     ]
    },
    {
     "name": "stderr",
     "output_type": "stream",
     "text": [
      "/home/marina/anaconda3/lib/python3.7/site-packages/sklearn/svm/_base.py:947: ConvergenceWarning: Liblinear failed to converge, increase the number of iterations.\n",
      "  \"the number of iterations.\", ConvergenceWarning)\n"
     ]
    },
    {
     "name": "stdout",
     "output_type": "stream",
     "text": [
      "[CV] ................. C=100, max_iter=2000, tol=0.0001, total=   7.6s\n",
      "[CV] C=100, max_iter=2000, tol=0.0001 ................................\n"
     ]
    },
    {
     "name": "stderr",
     "output_type": "stream",
     "text": [
      "/home/marina/anaconda3/lib/python3.7/site-packages/sklearn/svm/_base.py:947: ConvergenceWarning: Liblinear failed to converge, increase the number of iterations.\n",
      "  \"the number of iterations.\", ConvergenceWarning)\n"
     ]
    },
    {
     "name": "stdout",
     "output_type": "stream",
     "text": [
      "[CV] ................. C=100, max_iter=2000, tol=0.0001, total=   7.0s\n",
      "[CV] C=100, max_iter=2000, tol=0.001 .................................\n"
     ]
    },
    {
     "name": "stderr",
     "output_type": "stream",
     "text": [
      "/home/marina/anaconda3/lib/python3.7/site-packages/sklearn/svm/_base.py:947: ConvergenceWarning: Liblinear failed to converge, increase the number of iterations.\n",
      "  \"the number of iterations.\", ConvergenceWarning)\n"
     ]
    },
    {
     "name": "stdout",
     "output_type": "stream",
     "text": [
      "[CV] .................. C=100, max_iter=2000, tol=0.001, total=   6.9s\n",
      "[CV] C=100, max_iter=2000, tol=0.001 .................................\n"
     ]
    },
    {
     "name": "stderr",
     "output_type": "stream",
     "text": [
      "/home/marina/anaconda3/lib/python3.7/site-packages/sklearn/svm/_base.py:947: ConvergenceWarning: Liblinear failed to converge, increase the number of iterations.\n",
      "  \"the number of iterations.\", ConvergenceWarning)\n"
     ]
    },
    {
     "name": "stdout",
     "output_type": "stream",
     "text": [
      "[CV] .................. C=100, max_iter=2000, tol=0.001, total=   6.8s\n",
      "[CV] C=100, max_iter=2000, tol=0.001 .................................\n"
     ]
    },
    {
     "name": "stderr",
     "output_type": "stream",
     "text": [
      "/home/marina/anaconda3/lib/python3.7/site-packages/sklearn/svm/_base.py:947: ConvergenceWarning: Liblinear failed to converge, increase the number of iterations.\n",
      "  \"the number of iterations.\", ConvergenceWarning)\n"
     ]
    },
    {
     "name": "stdout",
     "output_type": "stream",
     "text": [
      "[CV] .................. C=100, max_iter=2000, tol=0.001, total=   6.8s\n",
      "[CV] C=100, max_iter=2000, tol=0.001 .................................\n"
     ]
    },
    {
     "name": "stderr",
     "output_type": "stream",
     "text": [
      "/home/marina/anaconda3/lib/python3.7/site-packages/sklearn/svm/_base.py:947: ConvergenceWarning: Liblinear failed to converge, increase the number of iterations.\n",
      "  \"the number of iterations.\", ConvergenceWarning)\n"
     ]
    },
    {
     "name": "stdout",
     "output_type": "stream",
     "text": [
      "[CV] .................. C=100, max_iter=2000, tol=0.001, total=   7.1s\n",
      "[CV] C=100, max_iter=2000, tol=0.001 .................................\n"
     ]
    },
    {
     "name": "stderr",
     "output_type": "stream",
     "text": [
      "/home/marina/anaconda3/lib/python3.7/site-packages/sklearn/svm/_base.py:947: ConvergenceWarning: Liblinear failed to converge, increase the number of iterations.\n",
      "  \"the number of iterations.\", ConvergenceWarning)\n"
     ]
    },
    {
     "name": "stdout",
     "output_type": "stream",
     "text": [
      "[CV] .................. C=100, max_iter=2000, tol=0.001, total=   6.7s\n",
      "[CV] C=100, max_iter=3000, tol=0.0001 ................................\n"
     ]
    },
    {
     "name": "stderr",
     "output_type": "stream",
     "text": [
      "/home/marina/anaconda3/lib/python3.7/site-packages/sklearn/svm/_base.py:947: ConvergenceWarning: Liblinear failed to converge, increase the number of iterations.\n",
      "  \"the number of iterations.\", ConvergenceWarning)\n"
     ]
    },
    {
     "name": "stdout",
     "output_type": "stream",
     "text": [
      "[CV] ................. C=100, max_iter=3000, tol=0.0001, total=   9.6s\n",
      "[CV] C=100, max_iter=3000, tol=0.0001 ................................\n"
     ]
    },
    {
     "name": "stderr",
     "output_type": "stream",
     "text": [
      "/home/marina/anaconda3/lib/python3.7/site-packages/sklearn/svm/_base.py:947: ConvergenceWarning: Liblinear failed to converge, increase the number of iterations.\n",
      "  \"the number of iterations.\", ConvergenceWarning)\n"
     ]
    },
    {
     "name": "stdout",
     "output_type": "stream",
     "text": [
      "[CV] ................. C=100, max_iter=3000, tol=0.0001, total=   9.7s\n",
      "[CV] C=100, max_iter=3000, tol=0.0001 ................................\n"
     ]
    },
    {
     "name": "stderr",
     "output_type": "stream",
     "text": [
      "/home/marina/anaconda3/lib/python3.7/site-packages/sklearn/svm/_base.py:947: ConvergenceWarning: Liblinear failed to converge, increase the number of iterations.\n",
      "  \"the number of iterations.\", ConvergenceWarning)\n"
     ]
    },
    {
     "name": "stdout",
     "output_type": "stream",
     "text": [
      "[CV] ................. C=100, max_iter=3000, tol=0.0001, total=   9.8s\n",
      "[CV] C=100, max_iter=3000, tol=0.0001 ................................\n"
     ]
    },
    {
     "name": "stderr",
     "output_type": "stream",
     "text": [
      "/home/marina/anaconda3/lib/python3.7/site-packages/sklearn/svm/_base.py:947: ConvergenceWarning: Liblinear failed to converge, increase the number of iterations.\n",
      "  \"the number of iterations.\", ConvergenceWarning)\n"
     ]
    },
    {
     "name": "stdout",
     "output_type": "stream",
     "text": [
      "[CV] ................. C=100, max_iter=3000, tol=0.0001, total=  10.4s\n",
      "[CV] C=100, max_iter=3000, tol=0.0001 ................................\n"
     ]
    },
    {
     "name": "stderr",
     "output_type": "stream",
     "text": [
      "/home/marina/anaconda3/lib/python3.7/site-packages/sklearn/svm/_base.py:947: ConvergenceWarning: Liblinear failed to converge, increase the number of iterations.\n",
      "  \"the number of iterations.\", ConvergenceWarning)\n"
     ]
    },
    {
     "name": "stdout",
     "output_type": "stream",
     "text": [
      "[CV] ................. C=100, max_iter=3000, tol=0.0001, total=  10.1s\n",
      "[CV] C=100, max_iter=3000, tol=0.001 .................................\n"
     ]
    },
    {
     "name": "stderr",
     "output_type": "stream",
     "text": [
      "/home/marina/anaconda3/lib/python3.7/site-packages/sklearn/svm/_base.py:947: ConvergenceWarning: Liblinear failed to converge, increase the number of iterations.\n",
      "  \"the number of iterations.\", ConvergenceWarning)\n"
     ]
    },
    {
     "name": "stdout",
     "output_type": "stream",
     "text": [
      "[CV] .................. C=100, max_iter=3000, tol=0.001, total=  10.0s\n",
      "[CV] C=100, max_iter=3000, tol=0.001 .................................\n"
     ]
    },
    {
     "name": "stderr",
     "output_type": "stream",
     "text": [
      "/home/marina/anaconda3/lib/python3.7/site-packages/sklearn/svm/_base.py:947: ConvergenceWarning: Liblinear failed to converge, increase the number of iterations.\n",
      "  \"the number of iterations.\", ConvergenceWarning)\n"
     ]
    },
    {
     "name": "stdout",
     "output_type": "stream",
     "text": [
      "[CV] .................. C=100, max_iter=3000, tol=0.001, total=  10.1s\n",
      "[CV] C=100, max_iter=3000, tol=0.001 .................................\n"
     ]
    },
    {
     "name": "stderr",
     "output_type": "stream",
     "text": [
      "/home/marina/anaconda3/lib/python3.7/site-packages/sklearn/svm/_base.py:947: ConvergenceWarning: Liblinear failed to converge, increase the number of iterations.\n",
      "  \"the number of iterations.\", ConvergenceWarning)\n"
     ]
    },
    {
     "name": "stdout",
     "output_type": "stream",
     "text": [
      "[CV] .................. C=100, max_iter=3000, tol=0.001, total=  10.3s\n",
      "[CV] C=100, max_iter=3000, tol=0.001 .................................\n"
     ]
    },
    {
     "name": "stderr",
     "output_type": "stream",
     "text": [
      "/home/marina/anaconda3/lib/python3.7/site-packages/sklearn/svm/_base.py:947: ConvergenceWarning: Liblinear failed to converge, increase the number of iterations.\n",
      "  \"the number of iterations.\", ConvergenceWarning)\n"
     ]
    },
    {
     "name": "stdout",
     "output_type": "stream",
     "text": [
      "[CV] .................. C=100, max_iter=3000, tol=0.001, total=  10.1s\n",
      "[CV] C=100, max_iter=3000, tol=0.001 .................................\n"
     ]
    },
    {
     "name": "stderr",
     "output_type": "stream",
     "text": [
      "/home/marina/anaconda3/lib/python3.7/site-packages/sklearn/svm/_base.py:947: ConvergenceWarning: Liblinear failed to converge, increase the number of iterations.\n",
      "  \"the number of iterations.\", ConvergenceWarning)\n"
     ]
    },
    {
     "name": "stdout",
     "output_type": "stream",
     "text": [
      "[CV] .................. C=100, max_iter=3000, tol=0.001, total=  10.1s\n",
      "[CV] C=100, max_iter=1000, tol=0.0001 ................................\n"
     ]
    },
    {
     "name": "stderr",
     "output_type": "stream",
     "text": [
      "/home/marina/anaconda3/lib/python3.7/site-packages/sklearn/svm/_base.py:947: ConvergenceWarning: Liblinear failed to converge, increase the number of iterations.\n",
      "  \"the number of iterations.\", ConvergenceWarning)\n"
     ]
    },
    {
     "name": "stdout",
     "output_type": "stream",
     "text": [
      "[CV] ................. C=100, max_iter=1000, tol=0.0001, total=   3.5s\n",
      "[CV] C=100, max_iter=1000, tol=0.0001 ................................\n"
     ]
    },
    {
     "name": "stderr",
     "output_type": "stream",
     "text": [
      "/home/marina/anaconda3/lib/python3.7/site-packages/sklearn/svm/_base.py:947: ConvergenceWarning: Liblinear failed to converge, increase the number of iterations.\n",
      "  \"the number of iterations.\", ConvergenceWarning)\n"
     ]
    },
    {
     "name": "stdout",
     "output_type": "stream",
     "text": [
      "[CV] ................. C=100, max_iter=1000, tol=0.0001, total=   3.7s\n",
      "[CV] C=100, max_iter=1000, tol=0.0001 ................................\n"
     ]
    },
    {
     "name": "stderr",
     "output_type": "stream",
     "text": [
      "/home/marina/anaconda3/lib/python3.7/site-packages/sklearn/svm/_base.py:947: ConvergenceWarning: Liblinear failed to converge, increase the number of iterations.\n",
      "  \"the number of iterations.\", ConvergenceWarning)\n"
     ]
    },
    {
     "name": "stdout",
     "output_type": "stream",
     "text": [
      "[CV] ................. C=100, max_iter=1000, tol=0.0001, total=   3.4s\n",
      "[CV] C=100, max_iter=1000, tol=0.0001 ................................\n"
     ]
    },
    {
     "name": "stderr",
     "output_type": "stream",
     "text": [
      "/home/marina/anaconda3/lib/python3.7/site-packages/sklearn/svm/_base.py:947: ConvergenceWarning: Liblinear failed to converge, increase the number of iterations.\n",
      "  \"the number of iterations.\", ConvergenceWarning)\n"
     ]
    },
    {
     "name": "stdout",
     "output_type": "stream",
     "text": [
      "[CV] ................. C=100, max_iter=1000, tol=0.0001, total=   3.6s\n",
      "[CV] C=100, max_iter=1000, tol=0.0001 ................................\n"
     ]
    },
    {
     "name": "stderr",
     "output_type": "stream",
     "text": [
      "/home/marina/anaconda3/lib/python3.7/site-packages/sklearn/svm/_base.py:947: ConvergenceWarning: Liblinear failed to converge, increase the number of iterations.\n",
      "  \"the number of iterations.\", ConvergenceWarning)\n"
     ]
    },
    {
     "name": "stdout",
     "output_type": "stream",
     "text": [
      "[CV] ................. C=100, max_iter=1000, tol=0.0001, total=   3.5s\n",
      "[CV] C=100, max_iter=1000, tol=0.001 .................................\n"
     ]
    },
    {
     "name": "stderr",
     "output_type": "stream",
     "text": [
      "/home/marina/anaconda3/lib/python3.7/site-packages/sklearn/svm/_base.py:947: ConvergenceWarning: Liblinear failed to converge, increase the number of iterations.\n",
      "  \"the number of iterations.\", ConvergenceWarning)\n"
     ]
    },
    {
     "name": "stdout",
     "output_type": "stream",
     "text": [
      "[CV] .................. C=100, max_iter=1000, tol=0.001, total=   3.5s\n",
      "[CV] C=100, max_iter=1000, tol=0.001 .................................\n"
     ]
    },
    {
     "name": "stderr",
     "output_type": "stream",
     "text": [
      "/home/marina/anaconda3/lib/python3.7/site-packages/sklearn/svm/_base.py:947: ConvergenceWarning: Liblinear failed to converge, increase the number of iterations.\n",
      "  \"the number of iterations.\", ConvergenceWarning)\n"
     ]
    },
    {
     "name": "stdout",
     "output_type": "stream",
     "text": [
      "[CV] .................. C=100, max_iter=1000, tol=0.001, total=   3.5s\n",
      "[CV] C=100, max_iter=1000, tol=0.001 .................................\n"
     ]
    },
    {
     "name": "stderr",
     "output_type": "stream",
     "text": [
      "/home/marina/anaconda3/lib/python3.7/site-packages/sklearn/svm/_base.py:947: ConvergenceWarning: Liblinear failed to converge, increase the number of iterations.\n",
      "  \"the number of iterations.\", ConvergenceWarning)\n"
     ]
    },
    {
     "name": "stdout",
     "output_type": "stream",
     "text": [
      "[CV] .................. C=100, max_iter=1000, tol=0.001, total=   3.6s\n",
      "[CV] C=100, max_iter=1000, tol=0.001 .................................\n"
     ]
    },
    {
     "name": "stderr",
     "output_type": "stream",
     "text": [
      "/home/marina/anaconda3/lib/python3.7/site-packages/sklearn/svm/_base.py:947: ConvergenceWarning: Liblinear failed to converge, increase the number of iterations.\n",
      "  \"the number of iterations.\", ConvergenceWarning)\n"
     ]
    },
    {
     "name": "stdout",
     "output_type": "stream",
     "text": [
      "[CV] .................. C=100, max_iter=1000, tol=0.001, total=   3.5s\n",
      "[CV] C=100, max_iter=1000, tol=0.001 .................................\n"
     ]
    },
    {
     "name": "stderr",
     "output_type": "stream",
     "text": [
      "/home/marina/anaconda3/lib/python3.7/site-packages/sklearn/svm/_base.py:947: ConvergenceWarning: Liblinear failed to converge, increase the number of iterations.\n",
      "  \"the number of iterations.\", ConvergenceWarning)\n",
      "[Parallel(n_jobs=1)]: Done 210 out of 210 | elapsed: 18.3min finished\n"
     ]
    },
    {
     "name": "stdout",
     "output_type": "stream",
     "text": [
      "[CV] .................. C=100, max_iter=1000, tol=0.001, total=   3.5s\n",
      "Fitting 5 folds for each of 42 candidates, totalling 210 fits\n",
      "[CV] C=1, max_iter=2000, tol=0.0001 ..................................\n"
     ]
    },
    {
     "name": "stderr",
     "output_type": "stream",
     "text": [
      "[Parallel(n_jobs=1)]: Using backend SequentialBackend with 1 concurrent workers.\n",
      "/home/marina/anaconda3/lib/python3.7/site-packages/sklearn/svm/_base.py:947: ConvergenceWarning: Liblinear failed to converge, increase the number of iterations.\n",
      "  \"the number of iterations.\", ConvergenceWarning)\n",
      "[Parallel(n_jobs=1)]: Done   1 out of   1 | elapsed:    7.6s remaining:    0.0s\n"
     ]
    },
    {
     "name": "stdout",
     "output_type": "stream",
     "text": [
      "[CV] ................... C=1, max_iter=2000, tol=0.0001, total=   7.6s\n",
      "[CV] C=1, max_iter=2000, tol=0.0001 ..................................\n"
     ]
    },
    {
     "name": "stderr",
     "output_type": "stream",
     "text": [
      "/home/marina/anaconda3/lib/python3.7/site-packages/sklearn/svm/_base.py:947: ConvergenceWarning: Liblinear failed to converge, increase the number of iterations.\n",
      "  \"the number of iterations.\", ConvergenceWarning)\n"
     ]
    },
    {
     "name": "stdout",
     "output_type": "stream",
     "text": [
      "[CV] ................... C=1, max_iter=2000, tol=0.0001, total=   7.6s\n",
      "[CV] C=1, max_iter=2000, tol=0.0001 ..................................\n"
     ]
    },
    {
     "name": "stderr",
     "output_type": "stream",
     "text": [
      "/home/marina/anaconda3/lib/python3.7/site-packages/sklearn/svm/_base.py:947: ConvergenceWarning: Liblinear failed to converge, increase the number of iterations.\n",
      "  \"the number of iterations.\", ConvergenceWarning)\n"
     ]
    },
    {
     "name": "stdout",
     "output_type": "stream",
     "text": [
      "[CV] ................... C=1, max_iter=2000, tol=0.0001, total=   7.7s\n",
      "[CV] C=1, max_iter=2000, tol=0.0001 ..................................\n"
     ]
    },
    {
     "name": "stderr",
     "output_type": "stream",
     "text": [
      "/home/marina/anaconda3/lib/python3.7/site-packages/sklearn/svm/_base.py:947: ConvergenceWarning: Liblinear failed to converge, increase the number of iterations.\n",
      "  \"the number of iterations.\", ConvergenceWarning)\n"
     ]
    },
    {
     "name": "stdout",
     "output_type": "stream",
     "text": [
      "[CV] ................... C=1, max_iter=2000, tol=0.0001, total=   7.4s\n",
      "[CV] C=1, max_iter=2000, tol=0.0001 ..................................\n"
     ]
    },
    {
     "name": "stderr",
     "output_type": "stream",
     "text": [
      "/home/marina/anaconda3/lib/python3.7/site-packages/sklearn/svm/_base.py:947: ConvergenceWarning: Liblinear failed to converge, increase the number of iterations.\n",
      "  \"the number of iterations.\", ConvergenceWarning)\n"
     ]
    },
    {
     "name": "stdout",
     "output_type": "stream",
     "text": [
      "[CV] ................... C=1, max_iter=2000, tol=0.0001, total=   7.2s\n",
      "[CV] C=1, max_iter=2000, tol=0.001 ...................................\n"
     ]
    },
    {
     "name": "stderr",
     "output_type": "stream",
     "text": [
      "/home/marina/anaconda3/lib/python3.7/site-packages/sklearn/svm/_base.py:947: ConvergenceWarning: Liblinear failed to converge, increase the number of iterations.\n",
      "  \"the number of iterations.\", ConvergenceWarning)\n"
     ]
    },
    {
     "name": "stdout",
     "output_type": "stream",
     "text": [
      "[CV] .................... C=1, max_iter=2000, tol=0.001, total=   7.1s\n",
      "[CV] C=1, max_iter=2000, tol=0.001 ...................................\n"
     ]
    },
    {
     "name": "stderr",
     "output_type": "stream",
     "text": [
      "/home/marina/anaconda3/lib/python3.7/site-packages/sklearn/svm/_base.py:947: ConvergenceWarning: Liblinear failed to converge, increase the number of iterations.\n",
      "  \"the number of iterations.\", ConvergenceWarning)\n"
     ]
    },
    {
     "name": "stdout",
     "output_type": "stream",
     "text": [
      "[CV] .................... C=1, max_iter=2000, tol=0.001, total=   6.8s\n",
      "[CV] C=1, max_iter=2000, tol=0.001 ...................................\n"
     ]
    },
    {
     "name": "stderr",
     "output_type": "stream",
     "text": [
      "/home/marina/anaconda3/lib/python3.7/site-packages/sklearn/svm/_base.py:947: ConvergenceWarning: Liblinear failed to converge, increase the number of iterations.\n",
      "  \"the number of iterations.\", ConvergenceWarning)\n"
     ]
    },
    {
     "name": "stdout",
     "output_type": "stream",
     "text": [
      "[CV] .................... C=1, max_iter=2000, tol=0.001, total=   7.6s\n",
      "[CV] C=1, max_iter=2000, tol=0.001 ...................................\n"
     ]
    },
    {
     "name": "stderr",
     "output_type": "stream",
     "text": [
      "/home/marina/anaconda3/lib/python3.7/site-packages/sklearn/svm/_base.py:947: ConvergenceWarning: Liblinear failed to converge, increase the number of iterations.\n",
      "  \"the number of iterations.\", ConvergenceWarning)\n"
     ]
    },
    {
     "name": "stdout",
     "output_type": "stream",
     "text": [
      "[CV] .................... C=1, max_iter=2000, tol=0.001, total=   8.2s\n",
      "[CV] C=1, max_iter=2000, tol=0.001 ...................................\n"
     ]
    },
    {
     "name": "stderr",
     "output_type": "stream",
     "text": [
      "/home/marina/anaconda3/lib/python3.7/site-packages/sklearn/svm/_base.py:947: ConvergenceWarning: Liblinear failed to converge, increase the number of iterations.\n",
      "  \"the number of iterations.\", ConvergenceWarning)\n"
     ]
    },
    {
     "name": "stdout",
     "output_type": "stream",
     "text": [
      "[CV] .................... C=1, max_iter=2000, tol=0.001, total=   7.6s\n",
      "[CV] C=1, max_iter=3000, tol=0.0001 ..................................\n"
     ]
    },
    {
     "name": "stderr",
     "output_type": "stream",
     "text": [
      "/home/marina/anaconda3/lib/python3.7/site-packages/sklearn/svm/_base.py:947: ConvergenceWarning: Liblinear failed to converge, increase the number of iterations.\n",
      "  \"the number of iterations.\", ConvergenceWarning)\n"
     ]
    },
    {
     "name": "stdout",
     "output_type": "stream",
     "text": [
      "[CV] ................... C=1, max_iter=3000, tol=0.0001, total=  11.3s\n",
      "[CV] C=1, max_iter=3000, tol=0.0001 ..................................\n"
     ]
    },
    {
     "name": "stderr",
     "output_type": "stream",
     "text": [
      "/home/marina/anaconda3/lib/python3.7/site-packages/sklearn/svm/_base.py:947: ConvergenceWarning: Liblinear failed to converge, increase the number of iterations.\n",
      "  \"the number of iterations.\", ConvergenceWarning)\n"
     ]
    },
    {
     "name": "stdout",
     "output_type": "stream",
     "text": [
      "[CV] ................... C=1, max_iter=3000, tol=0.0001, total=  11.8s\n",
      "[CV] C=1, max_iter=3000, tol=0.0001 ..................................\n"
     ]
    },
    {
     "name": "stderr",
     "output_type": "stream",
     "text": [
      "/home/marina/anaconda3/lib/python3.7/site-packages/sklearn/svm/_base.py:947: ConvergenceWarning: Liblinear failed to converge, increase the number of iterations.\n",
      "  \"the number of iterations.\", ConvergenceWarning)\n"
     ]
    },
    {
     "name": "stdout",
     "output_type": "stream",
     "text": [
      "[CV] ................... C=1, max_iter=3000, tol=0.0001, total=  12.2s\n",
      "[CV] C=1, max_iter=3000, tol=0.0001 ..................................\n"
     ]
    },
    {
     "name": "stderr",
     "output_type": "stream",
     "text": [
      "/home/marina/anaconda3/lib/python3.7/site-packages/sklearn/svm/_base.py:947: ConvergenceWarning: Liblinear failed to converge, increase the number of iterations.\n",
      "  \"the number of iterations.\", ConvergenceWarning)\n"
     ]
    },
    {
     "name": "stdout",
     "output_type": "stream",
     "text": [
      "[CV] ................... C=1, max_iter=3000, tol=0.0001, total=   8.8s\n",
      "[CV] C=1, max_iter=3000, tol=0.0001 ..................................\n"
     ]
    },
    {
     "name": "stderr",
     "output_type": "stream",
     "text": [
      "/home/marina/anaconda3/lib/python3.7/site-packages/sklearn/svm/_base.py:947: ConvergenceWarning: Liblinear failed to converge, increase the number of iterations.\n",
      "  \"the number of iterations.\", ConvergenceWarning)\n"
     ]
    },
    {
     "name": "stdout",
     "output_type": "stream",
     "text": [
      "[CV] ................... C=1, max_iter=3000, tol=0.0001, total=   7.6s\n",
      "[CV] C=1, max_iter=3000, tol=0.001 ...................................\n"
     ]
    },
    {
     "name": "stderr",
     "output_type": "stream",
     "text": [
      "/home/marina/anaconda3/lib/python3.7/site-packages/sklearn/svm/_base.py:947: ConvergenceWarning: Liblinear failed to converge, increase the number of iterations.\n",
      "  \"the number of iterations.\", ConvergenceWarning)\n"
     ]
    },
    {
     "name": "stdout",
     "output_type": "stream",
     "text": [
      "[CV] ................... C=1, max_iter=3000, tol=0.001, total=584.6min\n",
      "[CV] C=1, max_iter=3000, tol=0.001 ...................................\n"
     ]
    },
    {
     "name": "stderr",
     "output_type": "stream",
     "text": [
      "/home/marina/anaconda3/lib/python3.7/site-packages/sklearn/svm/_base.py:947: ConvergenceWarning: Liblinear failed to converge, increase the number of iterations.\n",
      "  \"the number of iterations.\", ConvergenceWarning)\n"
     ]
    },
    {
     "name": "stdout",
     "output_type": "stream",
     "text": [
      "[CV] .................... C=1, max_iter=3000, tol=0.001, total=  11.2s\n",
      "[CV] C=1, max_iter=3000, tol=0.001 ...................................\n"
     ]
    },
    {
     "name": "stderr",
     "output_type": "stream",
     "text": [
      "/home/marina/anaconda3/lib/python3.7/site-packages/sklearn/svm/_base.py:947: ConvergenceWarning: Liblinear failed to converge, increase the number of iterations.\n",
      "  \"the number of iterations.\", ConvergenceWarning)\n"
     ]
    },
    {
     "name": "stdout",
     "output_type": "stream",
     "text": [
      "[CV] .................... C=1, max_iter=3000, tol=0.001, total=  10.2s\n",
      "[CV] C=1, max_iter=3000, tol=0.001 ...................................\n"
     ]
    },
    {
     "name": "stderr",
     "output_type": "stream",
     "text": [
      "/home/marina/anaconda3/lib/python3.7/site-packages/sklearn/svm/_base.py:947: ConvergenceWarning: Liblinear failed to converge, increase the number of iterations.\n",
      "  \"the number of iterations.\", ConvergenceWarning)\n"
     ]
    },
    {
     "name": "stdout",
     "output_type": "stream",
     "text": [
      "[CV] .................... C=1, max_iter=3000, tol=0.001, total=  10.5s\n",
      "[CV] C=1, max_iter=3000, tol=0.001 ...................................\n"
     ]
    },
    {
     "name": "stderr",
     "output_type": "stream",
     "text": [
      "/home/marina/anaconda3/lib/python3.7/site-packages/sklearn/svm/_base.py:947: ConvergenceWarning: Liblinear failed to converge, increase the number of iterations.\n",
      "  \"the number of iterations.\", ConvergenceWarning)\n"
     ]
    },
    {
     "name": "stdout",
     "output_type": "stream",
     "text": [
      "[CV] .................... C=1, max_iter=3000, tol=0.001, total=  10.5s\n",
      "[CV] C=1, max_iter=1000, tol=0.0001 ..................................\n"
     ]
    },
    {
     "name": "stderr",
     "output_type": "stream",
     "text": [
      "/home/marina/anaconda3/lib/python3.7/site-packages/sklearn/svm/_base.py:947: ConvergenceWarning: Liblinear failed to converge, increase the number of iterations.\n",
      "  \"the number of iterations.\", ConvergenceWarning)\n"
     ]
    },
    {
     "name": "stdout",
     "output_type": "stream",
     "text": [
      "[CV] ................... C=1, max_iter=1000, tol=0.0001, total=   4.6s\n",
      "[CV] C=1, max_iter=1000, tol=0.0001 ..................................\n"
     ]
    },
    {
     "name": "stderr",
     "output_type": "stream",
     "text": [
      "/home/marina/anaconda3/lib/python3.7/site-packages/sklearn/svm/_base.py:947: ConvergenceWarning: Liblinear failed to converge, increase the number of iterations.\n",
      "  \"the number of iterations.\", ConvergenceWarning)\n"
     ]
    },
    {
     "name": "stdout",
     "output_type": "stream",
     "text": [
      "[CV] ................... C=1, max_iter=1000, tol=0.0001, total=   3.5s\n",
      "[CV] C=1, max_iter=1000, tol=0.0001 ..................................\n"
     ]
    },
    {
     "name": "stderr",
     "output_type": "stream",
     "text": [
      "/home/marina/anaconda3/lib/python3.7/site-packages/sklearn/svm/_base.py:947: ConvergenceWarning: Liblinear failed to converge, increase the number of iterations.\n",
      "  \"the number of iterations.\", ConvergenceWarning)\n"
     ]
    },
    {
     "name": "stdout",
     "output_type": "stream",
     "text": [
      "[CV] ................... C=1, max_iter=1000, tol=0.0001, total=   3.3s\n",
      "[CV] C=1, max_iter=1000, tol=0.0001 ..................................\n"
     ]
    },
    {
     "name": "stderr",
     "output_type": "stream",
     "text": [
      "/home/marina/anaconda3/lib/python3.7/site-packages/sklearn/svm/_base.py:947: ConvergenceWarning: Liblinear failed to converge, increase the number of iterations.\n",
      "  \"the number of iterations.\", ConvergenceWarning)\n"
     ]
    },
    {
     "name": "stdout",
     "output_type": "stream",
     "text": [
      "[CV] ................... C=1, max_iter=1000, tol=0.0001, total=   3.0s\n",
      "[CV] C=1, max_iter=1000, tol=0.0001 ..................................\n"
     ]
    },
    {
     "name": "stderr",
     "output_type": "stream",
     "text": [
      "/home/marina/anaconda3/lib/python3.7/site-packages/sklearn/svm/_base.py:947: ConvergenceWarning: Liblinear failed to converge, increase the number of iterations.\n",
      "  \"the number of iterations.\", ConvergenceWarning)\n"
     ]
    },
    {
     "name": "stdout",
     "output_type": "stream",
     "text": [
      "[CV] ................... C=1, max_iter=1000, tol=0.0001, total=   3.4s\n",
      "[CV] C=1, max_iter=1000, tol=0.001 ...................................\n"
     ]
    },
    {
     "name": "stderr",
     "output_type": "stream",
     "text": [
      "/home/marina/anaconda3/lib/python3.7/site-packages/sklearn/svm/_base.py:947: ConvergenceWarning: Liblinear failed to converge, increase the number of iterations.\n",
      "  \"the number of iterations.\", ConvergenceWarning)\n"
     ]
    },
    {
     "name": "stdout",
     "output_type": "stream",
     "text": [
      "[CV] .................... C=1, max_iter=1000, tol=0.001, total=   3.4s\n",
      "[CV] C=1, max_iter=1000, tol=0.001 ...................................\n"
     ]
    },
    {
     "name": "stderr",
     "output_type": "stream",
     "text": [
      "/home/marina/anaconda3/lib/python3.7/site-packages/sklearn/svm/_base.py:947: ConvergenceWarning: Liblinear failed to converge, increase the number of iterations.\n",
      "  \"the number of iterations.\", ConvergenceWarning)\n"
     ]
    },
    {
     "name": "stdout",
     "output_type": "stream",
     "text": [
      "[CV] .................... C=1, max_iter=1000, tol=0.001, total=   3.9s\n",
      "[CV] C=1, max_iter=1000, tol=0.001 ...................................\n"
     ]
    },
    {
     "name": "stderr",
     "output_type": "stream",
     "text": [
      "/home/marina/anaconda3/lib/python3.7/site-packages/sklearn/svm/_base.py:947: ConvergenceWarning: Liblinear failed to converge, increase the number of iterations.\n",
      "  \"the number of iterations.\", ConvergenceWarning)\n"
     ]
    },
    {
     "name": "stdout",
     "output_type": "stream",
     "text": [
      "[CV] .................... C=1, max_iter=1000, tol=0.001, total=   3.8s\n",
      "[CV] C=1, max_iter=1000, tol=0.001 ...................................\n"
     ]
    },
    {
     "name": "stderr",
     "output_type": "stream",
     "text": [
      "/home/marina/anaconda3/lib/python3.7/site-packages/sklearn/svm/_base.py:947: ConvergenceWarning: Liblinear failed to converge, increase the number of iterations.\n",
      "  \"the number of iterations.\", ConvergenceWarning)\n"
     ]
    },
    {
     "name": "stdout",
     "output_type": "stream",
     "text": [
      "[CV] .................... C=1, max_iter=1000, tol=0.001, total=   3.2s\n",
      "[CV] C=1, max_iter=1000, tol=0.001 ...................................\n"
     ]
    },
    {
     "name": "stderr",
     "output_type": "stream",
     "text": [
      "/home/marina/anaconda3/lib/python3.7/site-packages/sklearn/svm/_base.py:947: ConvergenceWarning: Liblinear failed to converge, increase the number of iterations.\n",
      "  \"the number of iterations.\", ConvergenceWarning)\n"
     ]
    },
    {
     "name": "stdout",
     "output_type": "stream",
     "text": [
      "[CV] .................... C=1, max_iter=1000, tol=0.001, total=   3.4s\n",
      "[CV] C=0.1, max_iter=2000, tol=0.0001 ................................\n"
     ]
    },
    {
     "name": "stderr",
     "output_type": "stream",
     "text": [
      "/home/marina/anaconda3/lib/python3.7/site-packages/sklearn/svm/_base.py:947: ConvergenceWarning: Liblinear failed to converge, increase the number of iterations.\n",
      "  \"the number of iterations.\", ConvergenceWarning)\n"
     ]
    },
    {
     "name": "stdout",
     "output_type": "stream",
     "text": [
      "[CV] ................. C=0.1, max_iter=2000, tol=0.0001, total=   6.7s\n",
      "[CV] C=0.1, max_iter=2000, tol=0.0001 ................................\n"
     ]
    },
    {
     "name": "stderr",
     "output_type": "stream",
     "text": [
      "/home/marina/anaconda3/lib/python3.7/site-packages/sklearn/svm/_base.py:947: ConvergenceWarning: Liblinear failed to converge, increase the number of iterations.\n",
      "  \"the number of iterations.\", ConvergenceWarning)\n"
     ]
    },
    {
     "name": "stdout",
     "output_type": "stream",
     "text": [
      "[CV] ................. C=0.1, max_iter=2000, tol=0.0001, total=   6.9s\n",
      "[CV] C=0.1, max_iter=2000, tol=0.0001 ................................\n"
     ]
    },
    {
     "name": "stderr",
     "output_type": "stream",
     "text": [
      "/home/marina/anaconda3/lib/python3.7/site-packages/sklearn/svm/_base.py:947: ConvergenceWarning: Liblinear failed to converge, increase the number of iterations.\n",
      "  \"the number of iterations.\", ConvergenceWarning)\n"
     ]
    },
    {
     "name": "stdout",
     "output_type": "stream",
     "text": [
      "[CV] ................. C=0.1, max_iter=2000, tol=0.0001, total=   5.8s\n",
      "[CV] C=0.1, max_iter=2000, tol=0.0001 ................................\n"
     ]
    },
    {
     "name": "stderr",
     "output_type": "stream",
     "text": [
      "/home/marina/anaconda3/lib/python3.7/site-packages/sklearn/svm/_base.py:947: ConvergenceWarning: Liblinear failed to converge, increase the number of iterations.\n",
      "  \"the number of iterations.\", ConvergenceWarning)\n"
     ]
    },
    {
     "name": "stdout",
     "output_type": "stream",
     "text": [
      "[CV] ................. C=0.1, max_iter=2000, tol=0.0001, total=   8.2s\n",
      "[CV] C=0.1, max_iter=2000, tol=0.0001 ................................\n"
     ]
    },
    {
     "name": "stderr",
     "output_type": "stream",
     "text": [
      "/home/marina/anaconda3/lib/python3.7/site-packages/sklearn/svm/_base.py:947: ConvergenceWarning: Liblinear failed to converge, increase the number of iterations.\n",
      "  \"the number of iterations.\", ConvergenceWarning)\n"
     ]
    },
    {
     "name": "stdout",
     "output_type": "stream",
     "text": [
      "[CV] ................. C=0.1, max_iter=2000, tol=0.0001, total=   6.2s\n",
      "[CV] C=0.1, max_iter=2000, tol=0.001 .................................\n"
     ]
    },
    {
     "name": "stderr",
     "output_type": "stream",
     "text": [
      "/home/marina/anaconda3/lib/python3.7/site-packages/sklearn/svm/_base.py:947: ConvergenceWarning: Liblinear failed to converge, increase the number of iterations.\n",
      "  \"the number of iterations.\", ConvergenceWarning)\n"
     ]
    },
    {
     "name": "stdout",
     "output_type": "stream",
     "text": [
      "[CV] .................. C=0.1, max_iter=2000, tol=0.001, total=   4.7s\n",
      "[CV] C=0.1, max_iter=2000, tol=0.001 .................................\n"
     ]
    },
    {
     "name": "stderr",
     "output_type": "stream",
     "text": [
      "/home/marina/anaconda3/lib/python3.7/site-packages/sklearn/svm/_base.py:947: ConvergenceWarning: Liblinear failed to converge, increase the number of iterations.\n",
      "  \"the number of iterations.\", ConvergenceWarning)\n"
     ]
    },
    {
     "name": "stdout",
     "output_type": "stream",
     "text": [
      "[CV] .................. C=0.1, max_iter=2000, tol=0.001, total=   5.0s\n",
      "[CV] C=0.1, max_iter=2000, tol=0.001 .................................\n"
     ]
    },
    {
     "name": "stderr",
     "output_type": "stream",
     "text": [
      "/home/marina/anaconda3/lib/python3.7/site-packages/sklearn/svm/_base.py:947: ConvergenceWarning: Liblinear failed to converge, increase the number of iterations.\n",
      "  \"the number of iterations.\", ConvergenceWarning)\n"
     ]
    },
    {
     "name": "stdout",
     "output_type": "stream",
     "text": [
      "[CV] .................. C=0.1, max_iter=2000, tol=0.001, total=   4.7s\n",
      "[CV] C=0.1, max_iter=2000, tol=0.001 .................................\n"
     ]
    },
    {
     "name": "stderr",
     "output_type": "stream",
     "text": [
      "/home/marina/anaconda3/lib/python3.7/site-packages/sklearn/svm/_base.py:947: ConvergenceWarning: Liblinear failed to converge, increase the number of iterations.\n",
      "  \"the number of iterations.\", ConvergenceWarning)\n"
     ]
    },
    {
     "name": "stdout",
     "output_type": "stream",
     "text": [
      "[CV] .................. C=0.1, max_iter=2000, tol=0.001, total=   5.0s\n",
      "[CV] C=0.1, max_iter=2000, tol=0.001 .................................\n"
     ]
    },
    {
     "name": "stderr",
     "output_type": "stream",
     "text": [
      "/home/marina/anaconda3/lib/python3.7/site-packages/sklearn/svm/_base.py:947: ConvergenceWarning: Liblinear failed to converge, increase the number of iterations.\n",
      "  \"the number of iterations.\", ConvergenceWarning)\n"
     ]
    },
    {
     "name": "stdout",
     "output_type": "stream",
     "text": [
      "[CV] .................. C=0.1, max_iter=2000, tol=0.001, total=   5.4s\n",
      "[CV] C=0.1, max_iter=3000, tol=0.0001 ................................\n"
     ]
    },
    {
     "name": "stderr",
     "output_type": "stream",
     "text": [
      "/home/marina/anaconda3/lib/python3.7/site-packages/sklearn/svm/_base.py:947: ConvergenceWarning: Liblinear failed to converge, increase the number of iterations.\n",
      "  \"the number of iterations.\", ConvergenceWarning)\n"
     ]
    },
    {
     "name": "stdout",
     "output_type": "stream",
     "text": [
      "[CV] ................. C=0.1, max_iter=3000, tol=0.0001, total=   7.5s\n",
      "[CV] C=0.1, max_iter=3000, tol=0.0001 ................................\n"
     ]
    },
    {
     "name": "stderr",
     "output_type": "stream",
     "text": [
      "/home/marina/anaconda3/lib/python3.7/site-packages/sklearn/svm/_base.py:947: ConvergenceWarning: Liblinear failed to converge, increase the number of iterations.\n",
      "  \"the number of iterations.\", ConvergenceWarning)\n"
     ]
    },
    {
     "name": "stdout",
     "output_type": "stream",
     "text": [
      "[CV] ................. C=0.1, max_iter=3000, tol=0.0001, total=   7.2s\n",
      "[CV] C=0.1, max_iter=3000, tol=0.0001 ................................\n"
     ]
    },
    {
     "name": "stderr",
     "output_type": "stream",
     "text": [
      "/home/marina/anaconda3/lib/python3.7/site-packages/sklearn/svm/_base.py:947: ConvergenceWarning: Liblinear failed to converge, increase the number of iterations.\n",
      "  \"the number of iterations.\", ConvergenceWarning)\n"
     ]
    },
    {
     "name": "stdout",
     "output_type": "stream",
     "text": [
      "[CV] ................. C=0.1, max_iter=3000, tol=0.0001, total=   7.5s\n",
      "[CV] C=0.1, max_iter=3000, tol=0.0001 ................................\n"
     ]
    },
    {
     "name": "stderr",
     "output_type": "stream",
     "text": [
      "/home/marina/anaconda3/lib/python3.7/site-packages/sklearn/svm/_base.py:947: ConvergenceWarning: Liblinear failed to converge, increase the number of iterations.\n",
      "  \"the number of iterations.\", ConvergenceWarning)\n"
     ]
    },
    {
     "name": "stdout",
     "output_type": "stream",
     "text": [
      "[CV] ................. C=0.1, max_iter=3000, tol=0.0001, total=   8.3s\n",
      "[CV] C=0.1, max_iter=3000, tol=0.0001 ................................\n"
     ]
    },
    {
     "name": "stderr",
     "output_type": "stream",
     "text": [
      "/home/marina/anaconda3/lib/python3.7/site-packages/sklearn/svm/_base.py:947: ConvergenceWarning: Liblinear failed to converge, increase the number of iterations.\n",
      "  \"the number of iterations.\", ConvergenceWarning)\n"
     ]
    },
    {
     "name": "stdout",
     "output_type": "stream",
     "text": [
      "[CV] ................. C=0.1, max_iter=3000, tol=0.0001, total=   7.8s\n",
      "[CV] C=0.1, max_iter=3000, tol=0.001 .................................\n"
     ]
    },
    {
     "name": "stderr",
     "output_type": "stream",
     "text": [
      "/home/marina/anaconda3/lib/python3.7/site-packages/sklearn/svm/_base.py:947: ConvergenceWarning: Liblinear failed to converge, increase the number of iterations.\n",
      "  \"the number of iterations.\", ConvergenceWarning)\n"
     ]
    },
    {
     "name": "stdout",
     "output_type": "stream",
     "text": [
      "[CV] .................. C=0.1, max_iter=3000, tol=0.001, total=   8.4s\n",
      "[CV] C=0.1, max_iter=3000, tol=0.001 .................................\n"
     ]
    },
    {
     "name": "stderr",
     "output_type": "stream",
     "text": [
      "/home/marina/anaconda3/lib/python3.7/site-packages/sklearn/svm/_base.py:947: ConvergenceWarning: Liblinear failed to converge, increase the number of iterations.\n",
      "  \"the number of iterations.\", ConvergenceWarning)\n"
     ]
    },
    {
     "name": "stdout",
     "output_type": "stream",
     "text": [
      "[CV] .................. C=0.1, max_iter=3000, tol=0.001, total=   7.6s\n",
      "[CV] C=0.1, max_iter=3000, tol=0.001 .................................\n"
     ]
    },
    {
     "name": "stderr",
     "output_type": "stream",
     "text": [
      "/home/marina/anaconda3/lib/python3.7/site-packages/sklearn/svm/_base.py:947: ConvergenceWarning: Liblinear failed to converge, increase the number of iterations.\n",
      "  \"the number of iterations.\", ConvergenceWarning)\n"
     ]
    },
    {
     "name": "stdout",
     "output_type": "stream",
     "text": [
      "[CV] .................. C=0.1, max_iter=3000, tol=0.001, total=   8.7s\n",
      "[CV] C=0.1, max_iter=3000, tol=0.001 .................................\n"
     ]
    },
    {
     "name": "stderr",
     "output_type": "stream",
     "text": [
      "/home/marina/anaconda3/lib/python3.7/site-packages/sklearn/svm/_base.py:947: ConvergenceWarning: Liblinear failed to converge, increase the number of iterations.\n",
      "  \"the number of iterations.\", ConvergenceWarning)\n"
     ]
    },
    {
     "name": "stdout",
     "output_type": "stream",
     "text": [
      "[CV] .................. C=0.1, max_iter=3000, tol=0.001, total=   8.1s\n",
      "[CV] C=0.1, max_iter=3000, tol=0.001 .................................\n"
     ]
    },
    {
     "name": "stderr",
     "output_type": "stream",
     "text": [
      "/home/marina/anaconda3/lib/python3.7/site-packages/sklearn/svm/_base.py:947: ConvergenceWarning: Liblinear failed to converge, increase the number of iterations.\n",
      "  \"the number of iterations.\", ConvergenceWarning)\n"
     ]
    },
    {
     "name": "stdout",
     "output_type": "stream",
     "text": [
      "[CV] .................. C=0.1, max_iter=3000, tol=0.001, total=   7.3s\n",
      "[CV] C=0.1, max_iter=1000, tol=0.0001 ................................\n"
     ]
    },
    {
     "name": "stderr",
     "output_type": "stream",
     "text": [
      "/home/marina/anaconda3/lib/python3.7/site-packages/sklearn/svm/_base.py:947: ConvergenceWarning: Liblinear failed to converge, increase the number of iterations.\n",
      "  \"the number of iterations.\", ConvergenceWarning)\n"
     ]
    },
    {
     "name": "stdout",
     "output_type": "stream",
     "text": [
      "[CV] ................. C=0.1, max_iter=1000, tol=0.0001, total=   2.7s\n",
      "[CV] C=0.1, max_iter=1000, tol=0.0001 ................................\n"
     ]
    },
    {
     "name": "stderr",
     "output_type": "stream",
     "text": [
      "/home/marina/anaconda3/lib/python3.7/site-packages/sklearn/svm/_base.py:947: ConvergenceWarning: Liblinear failed to converge, increase the number of iterations.\n",
      "  \"the number of iterations.\", ConvergenceWarning)\n"
     ]
    },
    {
     "name": "stdout",
     "output_type": "stream",
     "text": [
      "[CV] ................. C=0.1, max_iter=1000, tol=0.0001, total=   2.6s\n",
      "[CV] C=0.1, max_iter=1000, tol=0.0001 ................................\n"
     ]
    },
    {
     "name": "stderr",
     "output_type": "stream",
     "text": [
      "/home/marina/anaconda3/lib/python3.7/site-packages/sklearn/svm/_base.py:947: ConvergenceWarning: Liblinear failed to converge, increase the number of iterations.\n",
      "  \"the number of iterations.\", ConvergenceWarning)\n"
     ]
    },
    {
     "name": "stdout",
     "output_type": "stream",
     "text": [
      "[CV] ................. C=0.1, max_iter=1000, tol=0.0001, total=   3.1s\n",
      "[CV] C=0.1, max_iter=1000, tol=0.0001 ................................\n"
     ]
    },
    {
     "name": "stderr",
     "output_type": "stream",
     "text": [
      "/home/marina/anaconda3/lib/python3.7/site-packages/sklearn/svm/_base.py:947: ConvergenceWarning: Liblinear failed to converge, increase the number of iterations.\n",
      "  \"the number of iterations.\", ConvergenceWarning)\n"
     ]
    },
    {
     "name": "stdout",
     "output_type": "stream",
     "text": [
      "[CV] ................. C=0.1, max_iter=1000, tol=0.0001, total=   4.0s\n",
      "[CV] C=0.1, max_iter=1000, tol=0.0001 ................................\n"
     ]
    },
    {
     "name": "stderr",
     "output_type": "stream",
     "text": [
      "/home/marina/anaconda3/lib/python3.7/site-packages/sklearn/svm/_base.py:947: ConvergenceWarning: Liblinear failed to converge, increase the number of iterations.\n",
      "  \"the number of iterations.\", ConvergenceWarning)\n"
     ]
    },
    {
     "name": "stdout",
     "output_type": "stream",
     "text": [
      "[CV] ................. C=0.1, max_iter=1000, tol=0.0001, total=   4.4s\n",
      "[CV] C=0.1, max_iter=1000, tol=0.001 .................................\n"
     ]
    },
    {
     "name": "stderr",
     "output_type": "stream",
     "text": [
      "/home/marina/anaconda3/lib/python3.7/site-packages/sklearn/svm/_base.py:947: ConvergenceWarning: Liblinear failed to converge, increase the number of iterations.\n",
      "  \"the number of iterations.\", ConvergenceWarning)\n"
     ]
    },
    {
     "name": "stdout",
     "output_type": "stream",
     "text": [
      "[CV] .................. C=0.1, max_iter=1000, tol=0.001, total=   3.2s\n",
      "[CV] C=0.1, max_iter=1000, tol=0.001 .................................\n"
     ]
    },
    {
     "name": "stderr",
     "output_type": "stream",
     "text": [
      "/home/marina/anaconda3/lib/python3.7/site-packages/sklearn/svm/_base.py:947: ConvergenceWarning: Liblinear failed to converge, increase the number of iterations.\n",
      "  \"the number of iterations.\", ConvergenceWarning)\n"
     ]
    },
    {
     "name": "stdout",
     "output_type": "stream",
     "text": [
      "[CV] .................. C=0.1, max_iter=1000, tol=0.001, total=   2.5s\n",
      "[CV] C=0.1, max_iter=1000, tol=0.001 .................................\n"
     ]
    },
    {
     "name": "stderr",
     "output_type": "stream",
     "text": [
      "/home/marina/anaconda3/lib/python3.7/site-packages/sklearn/svm/_base.py:947: ConvergenceWarning: Liblinear failed to converge, increase the number of iterations.\n",
      "  \"the number of iterations.\", ConvergenceWarning)\n"
     ]
    },
    {
     "name": "stdout",
     "output_type": "stream",
     "text": [
      "[CV] .................. C=0.1, max_iter=1000, tol=0.001, total=   2.5s\n",
      "[CV] C=0.1, max_iter=1000, tol=0.001 .................................\n"
     ]
    },
    {
     "name": "stderr",
     "output_type": "stream",
     "text": [
      "/home/marina/anaconda3/lib/python3.7/site-packages/sklearn/svm/_base.py:947: ConvergenceWarning: Liblinear failed to converge, increase the number of iterations.\n",
      "  \"the number of iterations.\", ConvergenceWarning)\n"
     ]
    },
    {
     "name": "stdout",
     "output_type": "stream",
     "text": [
      "[CV] .................. C=0.1, max_iter=1000, tol=0.001, total=   2.6s\n",
      "[CV] C=0.1, max_iter=1000, tol=0.001 .................................\n"
     ]
    },
    {
     "name": "stderr",
     "output_type": "stream",
     "text": [
      "/home/marina/anaconda3/lib/python3.7/site-packages/sklearn/svm/_base.py:947: ConvergenceWarning: Liblinear failed to converge, increase the number of iterations.\n",
      "  \"the number of iterations.\", ConvergenceWarning)\n"
     ]
    },
    {
     "name": "stdout",
     "output_type": "stream",
     "text": [
      "[CV] .................. C=0.1, max_iter=1000, tol=0.001, total=   3.0s\n",
      "[CV] C=0.01, max_iter=2000, tol=0.0001 ...............................\n"
     ]
    },
    {
     "name": "stderr",
     "output_type": "stream",
     "text": [
      "/home/marina/anaconda3/lib/python3.7/site-packages/sklearn/svm/_base.py:947: ConvergenceWarning: Liblinear failed to converge, increase the number of iterations.\n",
      "  \"the number of iterations.\", ConvergenceWarning)\n"
     ]
    },
    {
     "name": "stdout",
     "output_type": "stream",
     "text": [
      "[CV] ................ C=0.01, max_iter=2000, tol=0.0001, total=   4.0s\n",
      "[CV] C=0.01, max_iter=2000, tol=0.0001 ...............................\n"
     ]
    },
    {
     "name": "stderr",
     "output_type": "stream",
     "text": [
      "/home/marina/anaconda3/lib/python3.7/site-packages/sklearn/svm/_base.py:947: ConvergenceWarning: Liblinear failed to converge, increase the number of iterations.\n",
      "  \"the number of iterations.\", ConvergenceWarning)\n"
     ]
    },
    {
     "name": "stdout",
     "output_type": "stream",
     "text": [
      "[CV] ................ C=0.01, max_iter=2000, tol=0.0001, total=   4.3s\n",
      "[CV] C=0.01, max_iter=2000, tol=0.0001 ...............................\n"
     ]
    },
    {
     "name": "stderr",
     "output_type": "stream",
     "text": [
      "/home/marina/anaconda3/lib/python3.7/site-packages/sklearn/svm/_base.py:947: ConvergenceWarning: Liblinear failed to converge, increase the number of iterations.\n",
      "  \"the number of iterations.\", ConvergenceWarning)\n"
     ]
    },
    {
     "name": "stdout",
     "output_type": "stream",
     "text": [
      "[CV] ................ C=0.01, max_iter=2000, tol=0.0001, total=   4.4s\n",
      "[CV] C=0.01, max_iter=2000, tol=0.0001 ...............................\n"
     ]
    },
    {
     "name": "stderr",
     "output_type": "stream",
     "text": [
      "/home/marina/anaconda3/lib/python3.7/site-packages/sklearn/svm/_base.py:947: ConvergenceWarning: Liblinear failed to converge, increase the number of iterations.\n",
      "  \"the number of iterations.\", ConvergenceWarning)\n"
     ]
    },
    {
     "name": "stdout",
     "output_type": "stream",
     "text": [
      "[CV] ................ C=0.01, max_iter=2000, tol=0.0001, total=   5.5s\n",
      "[CV] C=0.01, max_iter=2000, tol=0.0001 ...............................\n"
     ]
    },
    {
     "name": "stderr",
     "output_type": "stream",
     "text": [
      "/home/marina/anaconda3/lib/python3.7/site-packages/sklearn/svm/_base.py:947: ConvergenceWarning: Liblinear failed to converge, increase the number of iterations.\n",
      "  \"the number of iterations.\", ConvergenceWarning)\n"
     ]
    },
    {
     "name": "stdout",
     "output_type": "stream",
     "text": [
      "[CV] ................ C=0.01, max_iter=2000, tol=0.0001, total=   4.2s\n",
      "[CV] C=0.01, max_iter=2000, tol=0.001 ................................\n"
     ]
    },
    {
     "name": "stderr",
     "output_type": "stream",
     "text": [
      "/home/marina/anaconda3/lib/python3.7/site-packages/sklearn/svm/_base.py:947: ConvergenceWarning: Liblinear failed to converge, increase the number of iterations.\n",
      "  \"the number of iterations.\", ConvergenceWarning)\n"
     ]
    },
    {
     "name": "stdout",
     "output_type": "stream",
     "text": [
      "[CV] ................. C=0.01, max_iter=2000, tol=0.001, total=   4.5s\n",
      "[CV] C=0.01, max_iter=2000, tol=0.001 ................................\n"
     ]
    },
    {
     "name": "stderr",
     "output_type": "stream",
     "text": [
      "/home/marina/anaconda3/lib/python3.7/site-packages/sklearn/svm/_base.py:947: ConvergenceWarning: Liblinear failed to converge, increase the number of iterations.\n",
      "  \"the number of iterations.\", ConvergenceWarning)\n"
     ]
    },
    {
     "name": "stdout",
     "output_type": "stream",
     "text": [
      "[CV] ................. C=0.01, max_iter=2000, tol=0.001, total=   4.1s\n",
      "[CV] C=0.01, max_iter=2000, tol=0.001 ................................\n"
     ]
    },
    {
     "name": "stderr",
     "output_type": "stream",
     "text": [
      "/home/marina/anaconda3/lib/python3.7/site-packages/sklearn/svm/_base.py:947: ConvergenceWarning: Liblinear failed to converge, increase the number of iterations.\n",
      "  \"the number of iterations.\", ConvergenceWarning)\n"
     ]
    },
    {
     "name": "stdout",
     "output_type": "stream",
     "text": [
      "[CV] ................. C=0.01, max_iter=2000, tol=0.001, total=   4.3s\n",
      "[CV] C=0.01, max_iter=2000, tol=0.001 ................................\n"
     ]
    },
    {
     "name": "stderr",
     "output_type": "stream",
     "text": [
      "/home/marina/anaconda3/lib/python3.7/site-packages/sklearn/svm/_base.py:947: ConvergenceWarning: Liblinear failed to converge, increase the number of iterations.\n",
      "  \"the number of iterations.\", ConvergenceWarning)\n"
     ]
    },
    {
     "name": "stdout",
     "output_type": "stream",
     "text": [
      "[CV] ................. C=0.01, max_iter=2000, tol=0.001, total=   4.9s\n",
      "[CV] C=0.01, max_iter=2000, tol=0.001 ................................\n"
     ]
    },
    {
     "name": "stderr",
     "output_type": "stream",
     "text": [
      "/home/marina/anaconda3/lib/python3.7/site-packages/sklearn/svm/_base.py:947: ConvergenceWarning: Liblinear failed to converge, increase the number of iterations.\n",
      "  \"the number of iterations.\", ConvergenceWarning)\n"
     ]
    },
    {
     "name": "stdout",
     "output_type": "stream",
     "text": [
      "[CV] ................. C=0.01, max_iter=2000, tol=0.001, total=   4.7s\n",
      "[CV] C=0.01, max_iter=3000, tol=0.0001 ...............................\n"
     ]
    },
    {
     "name": "stderr",
     "output_type": "stream",
     "text": [
      "/home/marina/anaconda3/lib/python3.7/site-packages/sklearn/svm/_base.py:947: ConvergenceWarning: Liblinear failed to converge, increase the number of iterations.\n",
      "  \"the number of iterations.\", ConvergenceWarning)\n"
     ]
    },
    {
     "name": "stdout",
     "output_type": "stream",
     "text": [
      "[CV] ................ C=0.01, max_iter=3000, tol=0.0001, total=   6.8s\n",
      "[CV] C=0.01, max_iter=3000, tol=0.0001 ...............................\n"
     ]
    },
    {
     "name": "stderr",
     "output_type": "stream",
     "text": [
      "/home/marina/anaconda3/lib/python3.7/site-packages/sklearn/svm/_base.py:947: ConvergenceWarning: Liblinear failed to converge, increase the number of iterations.\n",
      "  \"the number of iterations.\", ConvergenceWarning)\n"
     ]
    },
    {
     "name": "stdout",
     "output_type": "stream",
     "text": [
      "[CV] ................ C=0.01, max_iter=3000, tol=0.0001, total=   5.7s\n",
      "[CV] C=0.01, max_iter=3000, tol=0.0001 ...............................\n"
     ]
    },
    {
     "name": "stderr",
     "output_type": "stream",
     "text": [
      "/home/marina/anaconda3/lib/python3.7/site-packages/sklearn/svm/_base.py:947: ConvergenceWarning: Liblinear failed to converge, increase the number of iterations.\n",
      "  \"the number of iterations.\", ConvergenceWarning)\n"
     ]
    },
    {
     "name": "stdout",
     "output_type": "stream",
     "text": [
      "[CV] ................ C=0.01, max_iter=3000, tol=0.0001, total=   6.0s\n",
      "[CV] C=0.01, max_iter=3000, tol=0.0001 ...............................\n"
     ]
    },
    {
     "name": "stderr",
     "output_type": "stream",
     "text": [
      "/home/marina/anaconda3/lib/python3.7/site-packages/sklearn/svm/_base.py:947: ConvergenceWarning: Liblinear failed to converge, increase the number of iterations.\n",
      "  \"the number of iterations.\", ConvergenceWarning)\n"
     ]
    },
    {
     "name": "stdout",
     "output_type": "stream",
     "text": [
      "[CV] ................ C=0.01, max_iter=3000, tol=0.0001, total=   6.4s\n",
      "[CV] C=0.01, max_iter=3000, tol=0.0001 ...............................\n"
     ]
    },
    {
     "name": "stderr",
     "output_type": "stream",
     "text": [
      "/home/marina/anaconda3/lib/python3.7/site-packages/sklearn/svm/_base.py:947: ConvergenceWarning: Liblinear failed to converge, increase the number of iterations.\n",
      "  \"the number of iterations.\", ConvergenceWarning)\n"
     ]
    },
    {
     "name": "stdout",
     "output_type": "stream",
     "text": [
      "[CV] ................ C=0.01, max_iter=3000, tol=0.0001, total=   6.2s\n",
      "[CV] C=0.01, max_iter=3000, tol=0.001 ................................\n"
     ]
    },
    {
     "name": "stderr",
     "output_type": "stream",
     "text": [
      "/home/marina/anaconda3/lib/python3.7/site-packages/sklearn/svm/_base.py:947: ConvergenceWarning: Liblinear failed to converge, increase the number of iterations.\n",
      "  \"the number of iterations.\", ConvergenceWarning)\n"
     ]
    },
    {
     "name": "stdout",
     "output_type": "stream",
     "text": [
      "[CV] ................. C=0.01, max_iter=3000, tol=0.001, total=   6.5s\n",
      "[CV] C=0.01, max_iter=3000, tol=0.001 ................................\n"
     ]
    },
    {
     "name": "stderr",
     "output_type": "stream",
     "text": [
      "/home/marina/anaconda3/lib/python3.7/site-packages/sklearn/svm/_base.py:947: ConvergenceWarning: Liblinear failed to converge, increase the number of iterations.\n",
      "  \"the number of iterations.\", ConvergenceWarning)\n"
     ]
    },
    {
     "name": "stdout",
     "output_type": "stream",
     "text": [
      "[CV] ................. C=0.01, max_iter=3000, tol=0.001, total=   6.7s\n",
      "[CV] C=0.01, max_iter=3000, tol=0.001 ................................\n"
     ]
    },
    {
     "name": "stderr",
     "output_type": "stream",
     "text": [
      "/home/marina/anaconda3/lib/python3.7/site-packages/sklearn/svm/_base.py:947: ConvergenceWarning: Liblinear failed to converge, increase the number of iterations.\n",
      "  \"the number of iterations.\", ConvergenceWarning)\n"
     ]
    },
    {
     "name": "stdout",
     "output_type": "stream",
     "text": [
      "[CV] ................. C=0.01, max_iter=3000, tol=0.001, total=   6.0s\n",
      "[CV] C=0.01, max_iter=3000, tol=0.001 ................................\n"
     ]
    },
    {
     "name": "stderr",
     "output_type": "stream",
     "text": [
      "/home/marina/anaconda3/lib/python3.7/site-packages/sklearn/svm/_base.py:947: ConvergenceWarning: Liblinear failed to converge, increase the number of iterations.\n",
      "  \"the number of iterations.\", ConvergenceWarning)\n"
     ]
    },
    {
     "name": "stdout",
     "output_type": "stream",
     "text": [
      "[CV] ................. C=0.01, max_iter=3000, tol=0.001, total=   5.8s\n",
      "[CV] C=0.01, max_iter=3000, tol=0.001 ................................\n"
     ]
    },
    {
     "name": "stderr",
     "output_type": "stream",
     "text": [
      "/home/marina/anaconda3/lib/python3.7/site-packages/sklearn/svm/_base.py:947: ConvergenceWarning: Liblinear failed to converge, increase the number of iterations.\n",
      "  \"the number of iterations.\", ConvergenceWarning)\n"
     ]
    },
    {
     "name": "stdout",
     "output_type": "stream",
     "text": [
      "[CV] ................. C=0.01, max_iter=3000, tol=0.001, total=   7.9s\n",
      "[CV] C=0.01, max_iter=1000, tol=0.0001 ...............................\n"
     ]
    },
    {
     "name": "stderr",
     "output_type": "stream",
     "text": [
      "/home/marina/anaconda3/lib/python3.7/site-packages/sklearn/svm/_base.py:947: ConvergenceWarning: Liblinear failed to converge, increase the number of iterations.\n",
      "  \"the number of iterations.\", ConvergenceWarning)\n"
     ]
    },
    {
     "name": "stdout",
     "output_type": "stream",
     "text": [
      "[CV] ................ C=0.01, max_iter=1000, tol=0.0001, total=   2.3s\n",
      "[CV] C=0.01, max_iter=1000, tol=0.0001 ...............................\n"
     ]
    },
    {
     "name": "stderr",
     "output_type": "stream",
     "text": [
      "/home/marina/anaconda3/lib/python3.7/site-packages/sklearn/svm/_base.py:947: ConvergenceWarning: Liblinear failed to converge, increase the number of iterations.\n",
      "  \"the number of iterations.\", ConvergenceWarning)\n"
     ]
    },
    {
     "name": "stdout",
     "output_type": "stream",
     "text": [
      "[CV] ................ C=0.01, max_iter=1000, tol=0.0001, total=   2.2s\n",
      "[CV] C=0.01, max_iter=1000, tol=0.0001 ...............................\n"
     ]
    },
    {
     "name": "stderr",
     "output_type": "stream",
     "text": [
      "/home/marina/anaconda3/lib/python3.7/site-packages/sklearn/svm/_base.py:947: ConvergenceWarning: Liblinear failed to converge, increase the number of iterations.\n",
      "  \"the number of iterations.\", ConvergenceWarning)\n"
     ]
    },
    {
     "name": "stdout",
     "output_type": "stream",
     "text": [
      "[CV] ................ C=0.01, max_iter=1000, tol=0.0001, total=   2.2s\n",
      "[CV] C=0.01, max_iter=1000, tol=0.0001 ...............................\n"
     ]
    },
    {
     "name": "stderr",
     "output_type": "stream",
     "text": [
      "/home/marina/anaconda3/lib/python3.7/site-packages/sklearn/svm/_base.py:947: ConvergenceWarning: Liblinear failed to converge, increase the number of iterations.\n",
      "  \"the number of iterations.\", ConvergenceWarning)\n"
     ]
    },
    {
     "name": "stdout",
     "output_type": "stream",
     "text": [
      "[CV] ................ C=0.01, max_iter=1000, tol=0.0001, total=   2.4s\n",
      "[CV] C=0.01, max_iter=1000, tol=0.0001 ...............................\n"
     ]
    },
    {
     "name": "stderr",
     "output_type": "stream",
     "text": [
      "/home/marina/anaconda3/lib/python3.7/site-packages/sklearn/svm/_base.py:947: ConvergenceWarning: Liblinear failed to converge, increase the number of iterations.\n",
      "  \"the number of iterations.\", ConvergenceWarning)\n"
     ]
    },
    {
     "name": "stdout",
     "output_type": "stream",
     "text": [
      "[CV] ................ C=0.01, max_iter=1000, tol=0.0001, total=   2.3s\n",
      "[CV] C=0.01, max_iter=1000, tol=0.001 ................................\n"
     ]
    },
    {
     "name": "stderr",
     "output_type": "stream",
     "text": [
      "/home/marina/anaconda3/lib/python3.7/site-packages/sklearn/svm/_base.py:947: ConvergenceWarning: Liblinear failed to converge, increase the number of iterations.\n",
      "  \"the number of iterations.\", ConvergenceWarning)\n"
     ]
    },
    {
     "name": "stdout",
     "output_type": "stream",
     "text": [
      "[CV] ................. C=0.01, max_iter=1000, tol=0.001, total=   2.5s\n",
      "[CV] C=0.01, max_iter=1000, tol=0.001 ................................\n"
     ]
    },
    {
     "name": "stderr",
     "output_type": "stream",
     "text": [
      "/home/marina/anaconda3/lib/python3.7/site-packages/sklearn/svm/_base.py:947: ConvergenceWarning: Liblinear failed to converge, increase the number of iterations.\n",
      "  \"the number of iterations.\", ConvergenceWarning)\n"
     ]
    },
    {
     "name": "stdout",
     "output_type": "stream",
     "text": [
      "[CV] ................. C=0.01, max_iter=1000, tol=0.001, total=   2.7s\n",
      "[CV] C=0.01, max_iter=1000, tol=0.001 ................................\n"
     ]
    },
    {
     "name": "stderr",
     "output_type": "stream",
     "text": [
      "/home/marina/anaconda3/lib/python3.7/site-packages/sklearn/svm/_base.py:947: ConvergenceWarning: Liblinear failed to converge, increase the number of iterations.\n",
      "  \"the number of iterations.\", ConvergenceWarning)\n"
     ]
    },
    {
     "name": "stdout",
     "output_type": "stream",
     "text": [
      "[CV] ................. C=0.01, max_iter=1000, tol=0.001, total=   2.7s\n",
      "[CV] C=0.01, max_iter=1000, tol=0.001 ................................\n"
     ]
    },
    {
     "name": "stderr",
     "output_type": "stream",
     "text": [
      "/home/marina/anaconda3/lib/python3.7/site-packages/sklearn/svm/_base.py:947: ConvergenceWarning: Liblinear failed to converge, increase the number of iterations.\n",
      "  \"the number of iterations.\", ConvergenceWarning)\n"
     ]
    },
    {
     "name": "stdout",
     "output_type": "stream",
     "text": [
      "[CV] ................. C=0.01, max_iter=1000, tol=0.001, total=   2.9s\n",
      "[CV] C=0.01, max_iter=1000, tol=0.001 ................................\n"
     ]
    },
    {
     "name": "stderr",
     "output_type": "stream",
     "text": [
      "/home/marina/anaconda3/lib/python3.7/site-packages/sklearn/svm/_base.py:947: ConvergenceWarning: Liblinear failed to converge, increase the number of iterations.\n",
      "  \"the number of iterations.\", ConvergenceWarning)\n"
     ]
    },
    {
     "name": "stdout",
     "output_type": "stream",
     "text": [
      "[CV] ................. C=0.01, max_iter=1000, tol=0.001, total=   2.3s\n",
      "[CV] C=0.001, max_iter=2000, tol=0.0001 ..............................\n",
      "[CV] ............... C=0.001, max_iter=2000, tol=0.0001, total=   1.1s\n",
      "[CV] C=0.001, max_iter=2000, tol=0.0001 ..............................\n",
      "[CV] ............... C=0.001, max_iter=2000, tol=0.0001, total=   1.1s\n",
      "[CV] C=0.001, max_iter=2000, tol=0.0001 ..............................\n",
      "[CV] ............... C=0.001, max_iter=2000, tol=0.0001, total=   1.1s\n",
      "[CV] C=0.001, max_iter=2000, tol=0.0001 ..............................\n",
      "[CV] ............... C=0.001, max_iter=2000, tol=0.0001, total=   1.1s\n",
      "[CV] C=0.001, max_iter=2000, tol=0.0001 ..............................\n",
      "[CV] ............... C=0.001, max_iter=2000, tol=0.0001, total=   1.1s\n",
      "[CV] C=0.001, max_iter=2000, tol=0.001 ...............................\n",
      "[CV] ................ C=0.001, max_iter=2000, tol=0.001, total=   0.9s\n",
      "[CV] C=0.001, max_iter=2000, tol=0.001 ...............................\n",
      "[CV] ................ C=0.001, max_iter=2000, tol=0.001, total=   0.9s\n",
      "[CV] C=0.001, max_iter=2000, tol=0.001 ...............................\n",
      "[CV] ................ C=0.001, max_iter=2000, tol=0.001, total=   0.9s\n",
      "[CV] C=0.001, max_iter=2000, tol=0.001 ...............................\n",
      "[CV] ................ C=0.001, max_iter=2000, tol=0.001, total=   1.2s\n",
      "[CV] C=0.001, max_iter=2000, tol=0.001 ...............................\n",
      "[CV] ................ C=0.001, max_iter=2000, tol=0.001, total=   0.9s\n",
      "[CV] C=0.001, max_iter=3000, tol=0.0001 ..............................\n",
      "[CV] ............... C=0.001, max_iter=3000, tol=0.0001, total=   1.1s\n",
      "[CV] C=0.001, max_iter=3000, tol=0.0001 ..............................\n",
      "[CV] ............... C=0.001, max_iter=3000, tol=0.0001, total=   1.2s\n",
      "[CV] C=0.001, max_iter=3000, tol=0.0001 ..............................\n",
      "[CV] ............... C=0.001, max_iter=3000, tol=0.0001, total=   1.1s\n",
      "[CV] C=0.001, max_iter=3000, tol=0.0001 ..............................\n",
      "[CV] ............... C=0.001, max_iter=3000, tol=0.0001, total=   1.0s\n",
      "[CV] C=0.001, max_iter=3000, tol=0.0001 ..............................\n",
      "[CV] ............... C=0.001, max_iter=3000, tol=0.0001, total=   1.1s\n",
      "[CV] C=0.001, max_iter=3000, tol=0.001 ...............................\n",
      "[CV] ................ C=0.001, max_iter=3000, tol=0.001, total=   1.4s\n",
      "[CV] C=0.001, max_iter=3000, tol=0.001 ...............................\n",
      "[CV] ................ C=0.001, max_iter=3000, tol=0.001, total=   0.8s\n",
      "[CV] C=0.001, max_iter=3000, tol=0.001 ...............................\n",
      "[CV] ................ C=0.001, max_iter=3000, tol=0.001, total=   1.2s\n",
      "[CV] C=0.001, max_iter=3000, tol=0.001 ...............................\n",
      "[CV] ................ C=0.001, max_iter=3000, tol=0.001, total=   0.9s\n",
      "[CV] C=0.001, max_iter=3000, tol=0.001 ...............................\n",
      "[CV] ................ C=0.001, max_iter=3000, tol=0.001, total=   0.8s\n",
      "[CV] C=0.001, max_iter=1000, tol=0.0001 ..............................\n",
      "[CV] ............... C=0.001, max_iter=1000, tol=0.0001, total=   1.1s\n",
      "[CV] C=0.001, max_iter=1000, tol=0.0001 ..............................\n",
      "[CV] ............... C=0.001, max_iter=1000, tol=0.0001, total=   1.2s\n",
      "[CV] C=0.001, max_iter=1000, tol=0.0001 ..............................\n",
      "[CV] ............... C=0.001, max_iter=1000, tol=0.0001, total=   1.5s\n",
      "[CV] C=0.001, max_iter=1000, tol=0.0001 ..............................\n",
      "[CV] ............... C=0.001, max_iter=1000, tol=0.0001, total=   1.3s\n",
      "[CV] C=0.001, max_iter=1000, tol=0.0001 ..............................\n",
      "[CV] ............... C=0.001, max_iter=1000, tol=0.0001, total=   1.2s\n",
      "[CV] C=0.001, max_iter=1000, tol=0.001 ...............................\n",
      "[CV] ................ C=0.001, max_iter=1000, tol=0.001, total=   0.9s\n",
      "[CV] C=0.001, max_iter=1000, tol=0.001 ...............................\n",
      "[CV] ................ C=0.001, max_iter=1000, tol=0.001, total=   0.9s\n",
      "[CV] C=0.001, max_iter=1000, tol=0.001 ...............................\n",
      "[CV] ................ C=0.001, max_iter=1000, tol=0.001, total=   0.9s\n",
      "[CV] C=0.001, max_iter=1000, tol=0.001 ...............................\n",
      "[CV] ................ C=0.001, max_iter=1000, tol=0.001, total=   0.9s\n",
      "[CV] C=0.001, max_iter=1000, tol=0.001 ...............................\n",
      "[CV] ................ C=0.001, max_iter=1000, tol=0.001, total=   1.7s\n",
      "[CV] C=0.0001, max_iter=2000, tol=0.0001 .............................\n",
      "[CV] .............. C=0.0001, max_iter=2000, tol=0.0001, total=   0.2s\n",
      "[CV] C=0.0001, max_iter=2000, tol=0.0001 .............................\n",
      "[CV] .............. C=0.0001, max_iter=2000, tol=0.0001, total=   0.2s\n",
      "[CV] C=0.0001, max_iter=2000, tol=0.0001 .............................\n",
      "[CV] .............. C=0.0001, max_iter=2000, tol=0.0001, total=   0.2s\n",
      "[CV] C=0.0001, max_iter=2000, tol=0.0001 .............................\n",
      "[CV] .............. C=0.0001, max_iter=2000, tol=0.0001, total=   0.2s\n",
      "[CV] C=0.0001, max_iter=2000, tol=0.0001 .............................\n",
      "[CV] .............. C=0.0001, max_iter=2000, tol=0.0001, total=   0.2s\n",
      "[CV] C=0.0001, max_iter=2000, tol=0.001 ..............................\n",
      "[CV] ............... C=0.0001, max_iter=2000, tol=0.001, total=   0.1s\n",
      "[CV] C=0.0001, max_iter=2000, tol=0.001 ..............................\n",
      "[CV] ............... C=0.0001, max_iter=2000, tol=0.001, total=   0.1s\n",
      "[CV] C=0.0001, max_iter=2000, tol=0.001 ..............................\n",
      "[CV] ............... C=0.0001, max_iter=2000, tol=0.001, total=   0.1s\n",
      "[CV] C=0.0001, max_iter=2000, tol=0.001 ..............................\n",
      "[CV] ............... C=0.0001, max_iter=2000, tol=0.001, total=   0.1s\n",
      "[CV] C=0.0001, max_iter=2000, tol=0.001 ..............................\n",
      "[CV] ............... C=0.0001, max_iter=2000, tol=0.001, total=   0.1s\n",
      "[CV] C=0.0001, max_iter=3000, tol=0.0001 .............................\n",
      "[CV] .............. C=0.0001, max_iter=3000, tol=0.0001, total=   0.2s\n",
      "[CV] C=0.0001, max_iter=3000, tol=0.0001 .............................\n",
      "[CV] .............. C=0.0001, max_iter=3000, tol=0.0001, total=   0.2s\n",
      "[CV] C=0.0001, max_iter=3000, tol=0.0001 .............................\n",
      "[CV] .............. C=0.0001, max_iter=3000, tol=0.0001, total=   0.2s\n",
      "[CV] C=0.0001, max_iter=3000, tol=0.0001 .............................\n",
      "[CV] .............. C=0.0001, max_iter=3000, tol=0.0001, total=   0.2s\n",
      "[CV] C=0.0001, max_iter=3000, tol=0.0001 .............................\n",
      "[CV] .............. C=0.0001, max_iter=3000, tol=0.0001, total=   0.2s\n",
      "[CV] C=0.0001, max_iter=3000, tol=0.001 ..............................\n",
      "[CV] ............... C=0.0001, max_iter=3000, tol=0.001, total=   0.2s\n",
      "[CV] C=0.0001, max_iter=3000, tol=0.001 ..............................\n",
      "[CV] ............... C=0.0001, max_iter=3000, tol=0.001, total=   0.1s\n",
      "[CV] C=0.0001, max_iter=3000, tol=0.001 ..............................\n",
      "[CV] ............... C=0.0001, max_iter=3000, tol=0.001, total=   0.1s\n",
      "[CV] C=0.0001, max_iter=3000, tol=0.001 ..............................\n",
      "[CV] ............... C=0.0001, max_iter=3000, tol=0.001, total=   0.1s\n",
      "[CV] C=0.0001, max_iter=3000, tol=0.001 ..............................\n",
      "[CV] ............... C=0.0001, max_iter=3000, tol=0.001, total=   0.1s\n",
      "[CV] C=0.0001, max_iter=1000, tol=0.0001 .............................\n",
      "[CV] .............. C=0.0001, max_iter=1000, tol=0.0001, total=   0.2s\n",
      "[CV] C=0.0001, max_iter=1000, tol=0.0001 .............................\n",
      "[CV] .............. C=0.0001, max_iter=1000, tol=0.0001, total=   0.2s\n",
      "[CV] C=0.0001, max_iter=1000, tol=0.0001 .............................\n",
      "[CV] .............. C=0.0001, max_iter=1000, tol=0.0001, total=   0.2s\n",
      "[CV] C=0.0001, max_iter=1000, tol=0.0001 .............................\n",
      "[CV] .............. C=0.0001, max_iter=1000, tol=0.0001, total=   0.2s\n",
      "[CV] C=0.0001, max_iter=1000, tol=0.0001 .............................\n",
      "[CV] .............. C=0.0001, max_iter=1000, tol=0.0001, total=   0.2s\n",
      "[CV] C=0.0001, max_iter=1000, tol=0.001 ..............................\n",
      "[CV] ............... C=0.0001, max_iter=1000, tol=0.001, total=   0.1s\n",
      "[CV] C=0.0001, max_iter=1000, tol=0.001 ..............................\n",
      "[CV] ............... C=0.0001, max_iter=1000, tol=0.001, total=   0.1s\n",
      "[CV] C=0.0001, max_iter=1000, tol=0.001 ..............................\n"
     ]
    },
    {
     "name": "stdout",
     "output_type": "stream",
     "text": [
      "[CV] ............... C=0.0001, max_iter=1000, tol=0.001, total=   0.1s\n",
      "[CV] C=0.0001, max_iter=1000, tol=0.001 ..............................\n",
      "[CV] ............... C=0.0001, max_iter=1000, tol=0.001, total=   0.1s\n",
      "[CV] C=0.0001, max_iter=1000, tol=0.001 ..............................\n",
      "[CV] ............... C=0.0001, max_iter=1000, tol=0.001, total=   0.1s\n",
      "[CV] C=10, max_iter=2000, tol=0.0001 .................................\n"
     ]
    },
    {
     "name": "stderr",
     "output_type": "stream",
     "text": [
      "/home/marina/anaconda3/lib/python3.7/site-packages/sklearn/svm/_base.py:947: ConvergenceWarning: Liblinear failed to converge, increase the number of iterations.\n",
      "  \"the number of iterations.\", ConvergenceWarning)\n"
     ]
    },
    {
     "name": "stdout",
     "output_type": "stream",
     "text": [
      "[CV] .................. C=10, max_iter=2000, tol=0.0001, total=   5.5s\n",
      "[CV] C=10, max_iter=2000, tol=0.0001 .................................\n"
     ]
    },
    {
     "name": "stderr",
     "output_type": "stream",
     "text": [
      "/home/marina/anaconda3/lib/python3.7/site-packages/sklearn/svm/_base.py:947: ConvergenceWarning: Liblinear failed to converge, increase the number of iterations.\n",
      "  \"the number of iterations.\", ConvergenceWarning)\n"
     ]
    },
    {
     "name": "stdout",
     "output_type": "stream",
     "text": [
      "[CV] .................. C=10, max_iter=2000, tol=0.0001, total=   7.1s\n",
      "[CV] C=10, max_iter=2000, tol=0.0001 .................................\n"
     ]
    },
    {
     "name": "stderr",
     "output_type": "stream",
     "text": [
      "/home/marina/anaconda3/lib/python3.7/site-packages/sklearn/svm/_base.py:947: ConvergenceWarning: Liblinear failed to converge, increase the number of iterations.\n",
      "  \"the number of iterations.\", ConvergenceWarning)\n"
     ]
    },
    {
     "name": "stdout",
     "output_type": "stream",
     "text": [
      "[CV] .................. C=10, max_iter=2000, tol=0.0001, total=   7.4s\n",
      "[CV] C=10, max_iter=2000, tol=0.0001 .................................\n"
     ]
    },
    {
     "name": "stderr",
     "output_type": "stream",
     "text": [
      "/home/marina/anaconda3/lib/python3.7/site-packages/sklearn/svm/_base.py:947: ConvergenceWarning: Liblinear failed to converge, increase the number of iterations.\n",
      "  \"the number of iterations.\", ConvergenceWarning)\n"
     ]
    },
    {
     "name": "stdout",
     "output_type": "stream",
     "text": [
      "[CV] .................. C=10, max_iter=2000, tol=0.0001, total=   5.7s\n",
      "[CV] C=10, max_iter=2000, tol=0.0001 .................................\n"
     ]
    },
    {
     "name": "stderr",
     "output_type": "stream",
     "text": [
      "/home/marina/anaconda3/lib/python3.7/site-packages/sklearn/svm/_base.py:947: ConvergenceWarning: Liblinear failed to converge, increase the number of iterations.\n",
      "  \"the number of iterations.\", ConvergenceWarning)\n"
     ]
    },
    {
     "name": "stdout",
     "output_type": "stream",
     "text": [
      "[CV] .................. C=10, max_iter=2000, tol=0.0001, total=   5.6s\n",
      "[CV] C=10, max_iter=2000, tol=0.001 ..................................\n"
     ]
    },
    {
     "name": "stderr",
     "output_type": "stream",
     "text": [
      "/home/marina/anaconda3/lib/python3.7/site-packages/sklearn/svm/_base.py:947: ConvergenceWarning: Liblinear failed to converge, increase the number of iterations.\n",
      "  \"the number of iterations.\", ConvergenceWarning)\n"
     ]
    },
    {
     "name": "stdout",
     "output_type": "stream",
     "text": [
      "[CV] ................... C=10, max_iter=2000, tol=0.001, total=   8.2s\n",
      "[CV] C=10, max_iter=2000, tol=0.001 ..................................\n"
     ]
    },
    {
     "name": "stderr",
     "output_type": "stream",
     "text": [
      "/home/marina/anaconda3/lib/python3.7/site-packages/sklearn/svm/_base.py:947: ConvergenceWarning: Liblinear failed to converge, increase the number of iterations.\n",
      "  \"the number of iterations.\", ConvergenceWarning)\n"
     ]
    },
    {
     "name": "stdout",
     "output_type": "stream",
     "text": [
      "[CV] ................... C=10, max_iter=2000, tol=0.001, total=   5.9s\n",
      "[CV] C=10, max_iter=2000, tol=0.001 ..................................\n"
     ]
    },
    {
     "name": "stderr",
     "output_type": "stream",
     "text": [
      "/home/marina/anaconda3/lib/python3.7/site-packages/sklearn/svm/_base.py:947: ConvergenceWarning: Liblinear failed to converge, increase the number of iterations.\n",
      "  \"the number of iterations.\", ConvergenceWarning)\n"
     ]
    },
    {
     "name": "stdout",
     "output_type": "stream",
     "text": [
      "[CV] ................... C=10, max_iter=2000, tol=0.001, total=   5.7s\n",
      "[CV] C=10, max_iter=2000, tol=0.001 ..................................\n"
     ]
    },
    {
     "name": "stderr",
     "output_type": "stream",
     "text": [
      "/home/marina/anaconda3/lib/python3.7/site-packages/sklearn/svm/_base.py:947: ConvergenceWarning: Liblinear failed to converge, increase the number of iterations.\n",
      "  \"the number of iterations.\", ConvergenceWarning)\n"
     ]
    },
    {
     "name": "stdout",
     "output_type": "stream",
     "text": [
      "[CV] ................... C=10, max_iter=2000, tol=0.001, total=   8.1s\n",
      "[CV] C=10, max_iter=2000, tol=0.001 ..................................\n"
     ]
    },
    {
     "name": "stderr",
     "output_type": "stream",
     "text": [
      "/home/marina/anaconda3/lib/python3.7/site-packages/sklearn/svm/_base.py:947: ConvergenceWarning: Liblinear failed to converge, increase the number of iterations.\n",
      "  \"the number of iterations.\", ConvergenceWarning)\n"
     ]
    },
    {
     "name": "stdout",
     "output_type": "stream",
     "text": [
      "[CV] ................... C=10, max_iter=2000, tol=0.001, total=   8.3s\n",
      "[CV] C=10, max_iter=3000, tol=0.0001 .................................\n"
     ]
    },
    {
     "name": "stderr",
     "output_type": "stream",
     "text": [
      "/home/marina/anaconda3/lib/python3.7/site-packages/sklearn/svm/_base.py:947: ConvergenceWarning: Liblinear failed to converge, increase the number of iterations.\n",
      "  \"the number of iterations.\", ConvergenceWarning)\n"
     ]
    },
    {
     "name": "stdout",
     "output_type": "stream",
     "text": [
      "[CV] .................. C=10, max_iter=3000, tol=0.0001, total=   8.7s\n",
      "[CV] C=10, max_iter=3000, tol=0.0001 .................................\n"
     ]
    },
    {
     "name": "stderr",
     "output_type": "stream",
     "text": [
      "/home/marina/anaconda3/lib/python3.7/site-packages/sklearn/svm/_base.py:947: ConvergenceWarning: Liblinear failed to converge, increase the number of iterations.\n",
      "  \"the number of iterations.\", ConvergenceWarning)\n"
     ]
    },
    {
     "name": "stdout",
     "output_type": "stream",
     "text": [
      "[CV] .................. C=10, max_iter=3000, tol=0.0001, total=   9.6s\n",
      "[CV] C=10, max_iter=3000, tol=0.0001 .................................\n"
     ]
    },
    {
     "name": "stderr",
     "output_type": "stream",
     "text": [
      "/home/marina/anaconda3/lib/python3.7/site-packages/sklearn/svm/_base.py:947: ConvergenceWarning: Liblinear failed to converge, increase the number of iterations.\n",
      "  \"the number of iterations.\", ConvergenceWarning)\n"
     ]
    },
    {
     "name": "stdout",
     "output_type": "stream",
     "text": [
      "[CV] .................. C=10, max_iter=3000, tol=0.0001, total=  11.7s\n",
      "[CV] C=10, max_iter=3000, tol=0.0001 .................................\n"
     ]
    },
    {
     "name": "stderr",
     "output_type": "stream",
     "text": [
      "/home/marina/anaconda3/lib/python3.7/site-packages/sklearn/svm/_base.py:947: ConvergenceWarning: Liblinear failed to converge, increase the number of iterations.\n",
      "  \"the number of iterations.\", ConvergenceWarning)\n"
     ]
    },
    {
     "name": "stdout",
     "output_type": "stream",
     "text": [
      "[CV] .................. C=10, max_iter=3000, tol=0.0001, total=   8.3s\n",
      "[CV] C=10, max_iter=3000, tol=0.0001 .................................\n"
     ]
    },
    {
     "name": "stderr",
     "output_type": "stream",
     "text": [
      "/home/marina/anaconda3/lib/python3.7/site-packages/sklearn/svm/_base.py:947: ConvergenceWarning: Liblinear failed to converge, increase the number of iterations.\n",
      "  \"the number of iterations.\", ConvergenceWarning)\n"
     ]
    },
    {
     "name": "stdout",
     "output_type": "stream",
     "text": [
      "[CV] .................. C=10, max_iter=3000, tol=0.0001, total=   9.0s\n",
      "[CV] C=10, max_iter=3000, tol=0.001 ..................................\n"
     ]
    },
    {
     "name": "stderr",
     "output_type": "stream",
     "text": [
      "/home/marina/anaconda3/lib/python3.7/site-packages/sklearn/svm/_base.py:947: ConvergenceWarning: Liblinear failed to converge, increase the number of iterations.\n",
      "  \"the number of iterations.\", ConvergenceWarning)\n"
     ]
    },
    {
     "name": "stdout",
     "output_type": "stream",
     "text": [
      "[CV] ................... C=10, max_iter=3000, tol=0.001, total=   8.8s\n",
      "[CV] C=10, max_iter=3000, tol=0.001 ..................................\n"
     ]
    },
    {
     "name": "stderr",
     "output_type": "stream",
     "text": [
      "/home/marina/anaconda3/lib/python3.7/site-packages/sklearn/svm/_base.py:947: ConvergenceWarning: Liblinear failed to converge, increase the number of iterations.\n",
      "  \"the number of iterations.\", ConvergenceWarning)\n"
     ]
    },
    {
     "name": "stdout",
     "output_type": "stream",
     "text": [
      "[CV] ................... C=10, max_iter=3000, tol=0.001, total=   8.4s\n",
      "[CV] C=10, max_iter=3000, tol=0.001 ..................................\n"
     ]
    },
    {
     "name": "stderr",
     "output_type": "stream",
     "text": [
      "/home/marina/anaconda3/lib/python3.7/site-packages/sklearn/svm/_base.py:947: ConvergenceWarning: Liblinear failed to converge, increase the number of iterations.\n",
      "  \"the number of iterations.\", ConvergenceWarning)\n"
     ]
    },
    {
     "name": "stdout",
     "output_type": "stream",
     "text": [
      "[CV] ................... C=10, max_iter=3000, tol=0.001, total=   7.9s\n",
      "[CV] C=10, max_iter=3000, tol=0.001 ..................................\n"
     ]
    },
    {
     "name": "stderr",
     "output_type": "stream",
     "text": [
      "/home/marina/anaconda3/lib/python3.7/site-packages/sklearn/svm/_base.py:947: ConvergenceWarning: Liblinear failed to converge, increase the number of iterations.\n",
      "  \"the number of iterations.\", ConvergenceWarning)\n"
     ]
    },
    {
     "name": "stdout",
     "output_type": "stream",
     "text": [
      "[CV] ................... C=10, max_iter=3000, tol=0.001, total=   9.3s\n",
      "[CV] C=10, max_iter=3000, tol=0.001 ..................................\n"
     ]
    },
    {
     "name": "stderr",
     "output_type": "stream",
     "text": [
      "/home/marina/anaconda3/lib/python3.7/site-packages/sklearn/svm/_base.py:947: ConvergenceWarning: Liblinear failed to converge, increase the number of iterations.\n",
      "  \"the number of iterations.\", ConvergenceWarning)\n"
     ]
    },
    {
     "name": "stdout",
     "output_type": "stream",
     "text": [
      "[CV] ................... C=10, max_iter=3000, tol=0.001, total=  11.1s\n",
      "[CV] C=10, max_iter=1000, tol=0.0001 .................................\n"
     ]
    },
    {
     "name": "stderr",
     "output_type": "stream",
     "text": [
      "/home/marina/anaconda3/lib/python3.7/site-packages/sklearn/svm/_base.py:947: ConvergenceWarning: Liblinear failed to converge, increase the number of iterations.\n",
      "  \"the number of iterations.\", ConvergenceWarning)\n"
     ]
    },
    {
     "name": "stdout",
     "output_type": "stream",
     "text": [
      "[CV] .................. C=10, max_iter=1000, tol=0.0001, total=   4.2s\n",
      "[CV] C=10, max_iter=1000, tol=0.0001 .................................\n"
     ]
    },
    {
     "name": "stderr",
     "output_type": "stream",
     "text": [
      "/home/marina/anaconda3/lib/python3.7/site-packages/sklearn/svm/_base.py:947: ConvergenceWarning: Liblinear failed to converge, increase the number of iterations.\n",
      "  \"the number of iterations.\", ConvergenceWarning)\n"
     ]
    },
    {
     "name": "stdout",
     "output_type": "stream",
     "text": [
      "[CV] .................. C=10, max_iter=1000, tol=0.0001, total=   3.0s\n",
      "[CV] C=10, max_iter=1000, tol=0.0001 .................................\n"
     ]
    },
    {
     "name": "stderr",
     "output_type": "stream",
     "text": [
      "/home/marina/anaconda3/lib/python3.7/site-packages/sklearn/svm/_base.py:947: ConvergenceWarning: Liblinear failed to converge, increase the number of iterations.\n",
      "  \"the number of iterations.\", ConvergenceWarning)\n"
     ]
    },
    {
     "name": "stdout",
     "output_type": "stream",
     "text": [
      "[CV] .................. C=10, max_iter=1000, tol=0.0001, total=   3.1s\n",
      "[CV] C=10, max_iter=1000, tol=0.0001 .................................\n"
     ]
    },
    {
     "name": "stderr",
     "output_type": "stream",
     "text": [
      "/home/marina/anaconda3/lib/python3.7/site-packages/sklearn/svm/_base.py:947: ConvergenceWarning: Liblinear failed to converge, increase the number of iterations.\n",
      "  \"the number of iterations.\", ConvergenceWarning)\n"
     ]
    },
    {
     "name": "stdout",
     "output_type": "stream",
     "text": [
      "[CV] .................. C=10, max_iter=1000, tol=0.0001, total=   2.9s\n",
      "[CV] C=10, max_iter=1000, tol=0.0001 .................................\n"
     ]
    },
    {
     "name": "stderr",
     "output_type": "stream",
     "text": [
      "/home/marina/anaconda3/lib/python3.7/site-packages/sklearn/svm/_base.py:947: ConvergenceWarning: Liblinear failed to converge, increase the number of iterations.\n",
      "  \"the number of iterations.\", ConvergenceWarning)\n"
     ]
    },
    {
     "name": "stdout",
     "output_type": "stream",
     "text": [
      "[CV] .................. C=10, max_iter=1000, tol=0.0001, total=   4.7s\n",
      "[CV] C=10, max_iter=1000, tol=0.001 ..................................\n"
     ]
    },
    {
     "name": "stderr",
     "output_type": "stream",
     "text": [
      "/home/marina/anaconda3/lib/python3.7/site-packages/sklearn/svm/_base.py:947: ConvergenceWarning: Liblinear failed to converge, increase the number of iterations.\n",
      "  \"the number of iterations.\", ConvergenceWarning)\n"
     ]
    },
    {
     "name": "stdout",
     "output_type": "stream",
     "text": [
      "[CV] ................... C=10, max_iter=1000, tol=0.001, total=   3.1s\n",
      "[CV] C=10, max_iter=1000, tol=0.001 ..................................\n"
     ]
    },
    {
     "name": "stderr",
     "output_type": "stream",
     "text": [
      "/home/marina/anaconda3/lib/python3.7/site-packages/sklearn/svm/_base.py:947: ConvergenceWarning: Liblinear failed to converge, increase the number of iterations.\n",
      "  \"the number of iterations.\", ConvergenceWarning)\n"
     ]
    },
    {
     "name": "stdout",
     "output_type": "stream",
     "text": [
      "[CV] ................... C=10, max_iter=1000, tol=0.001, total=   3.3s\n",
      "[CV] C=10, max_iter=1000, tol=0.001 ..................................\n"
     ]
    },
    {
     "name": "stderr",
     "output_type": "stream",
     "text": [
      "/home/marina/anaconda3/lib/python3.7/site-packages/sklearn/svm/_base.py:947: ConvergenceWarning: Liblinear failed to converge, increase the number of iterations.\n",
      "  \"the number of iterations.\", ConvergenceWarning)\n"
     ]
    },
    {
     "name": "stdout",
     "output_type": "stream",
     "text": [
      "[CV] ................... C=10, max_iter=1000, tol=0.001, total=   2.7s\n",
      "[CV] C=10, max_iter=1000, tol=0.001 ..................................\n"
     ]
    },
    {
     "name": "stderr",
     "output_type": "stream",
     "text": [
      "/home/marina/anaconda3/lib/python3.7/site-packages/sklearn/svm/_base.py:947: ConvergenceWarning: Liblinear failed to converge, increase the number of iterations.\n",
      "  \"the number of iterations.\", ConvergenceWarning)\n"
     ]
    },
    {
     "name": "stdout",
     "output_type": "stream",
     "text": [
      "[CV] ................... C=10, max_iter=1000, tol=0.001, total=   2.6s\n",
      "[CV] C=10, max_iter=1000, tol=0.001 ..................................\n"
     ]
    },
    {
     "name": "stderr",
     "output_type": "stream",
     "text": [
      "/home/marina/anaconda3/lib/python3.7/site-packages/sklearn/svm/_base.py:947: ConvergenceWarning: Liblinear failed to converge, increase the number of iterations.\n",
      "  \"the number of iterations.\", ConvergenceWarning)\n"
     ]
    },
    {
     "name": "stdout",
     "output_type": "stream",
     "text": [
      "[CV] ................... C=10, max_iter=1000, tol=0.001, total=   2.9s\n",
      "[CV] C=100, max_iter=2000, tol=0.0001 ................................\n"
     ]
    },
    {
     "name": "stderr",
     "output_type": "stream",
     "text": [
      "/home/marina/anaconda3/lib/python3.7/site-packages/sklearn/svm/_base.py:947: ConvergenceWarning: Liblinear failed to converge, increase the number of iterations.\n",
      "  \"the number of iterations.\", ConvergenceWarning)\n"
     ]
    },
    {
     "name": "stdout",
     "output_type": "stream",
     "text": [
      "[CV] ................. C=100, max_iter=2000, tol=0.0001, total=   6.2s\n",
      "[CV] C=100, max_iter=2000, tol=0.0001 ................................\n"
     ]
    },
    {
     "name": "stderr",
     "output_type": "stream",
     "text": [
      "/home/marina/anaconda3/lib/python3.7/site-packages/sklearn/svm/_base.py:947: ConvergenceWarning: Liblinear failed to converge, increase the number of iterations.\n",
      "  \"the number of iterations.\", ConvergenceWarning)\n"
     ]
    },
    {
     "name": "stdout",
     "output_type": "stream",
     "text": [
      "[CV] ................. C=100, max_iter=2000, tol=0.0001, total=   5.5s\n",
      "[CV] C=100, max_iter=2000, tol=0.0001 ................................\n"
     ]
    },
    {
     "name": "stderr",
     "output_type": "stream",
     "text": [
      "/home/marina/anaconda3/lib/python3.7/site-packages/sklearn/svm/_base.py:947: ConvergenceWarning: Liblinear failed to converge, increase the number of iterations.\n",
      "  \"the number of iterations.\", ConvergenceWarning)\n"
     ]
    },
    {
     "name": "stdout",
     "output_type": "stream",
     "text": [
      "[CV] ................. C=100, max_iter=2000, tol=0.0001, total=   6.1s\n",
      "[CV] C=100, max_iter=2000, tol=0.0001 ................................\n"
     ]
    },
    {
     "name": "stderr",
     "output_type": "stream",
     "text": [
      "/home/marina/anaconda3/lib/python3.7/site-packages/sklearn/svm/_base.py:947: ConvergenceWarning: Liblinear failed to converge, increase the number of iterations.\n",
      "  \"the number of iterations.\", ConvergenceWarning)\n"
     ]
    },
    {
     "name": "stdout",
     "output_type": "stream",
     "text": [
      "[CV] ................. C=100, max_iter=2000, tol=0.0001, total=   6.2s\n",
      "[CV] C=100, max_iter=2000, tol=0.0001 ................................\n"
     ]
    },
    {
     "name": "stderr",
     "output_type": "stream",
     "text": [
      "/home/marina/anaconda3/lib/python3.7/site-packages/sklearn/svm/_base.py:947: ConvergenceWarning: Liblinear failed to converge, increase the number of iterations.\n",
      "  \"the number of iterations.\", ConvergenceWarning)\n"
     ]
    },
    {
     "name": "stdout",
     "output_type": "stream",
     "text": [
      "[CV] ................. C=100, max_iter=2000, tol=0.0001, total=   6.8s\n",
      "[CV] C=100, max_iter=2000, tol=0.001 .................................\n"
     ]
    },
    {
     "name": "stderr",
     "output_type": "stream",
     "text": [
      "/home/marina/anaconda3/lib/python3.7/site-packages/sklearn/svm/_base.py:947: ConvergenceWarning: Liblinear failed to converge, increase the number of iterations.\n",
      "  \"the number of iterations.\", ConvergenceWarning)\n"
     ]
    },
    {
     "name": "stdout",
     "output_type": "stream",
     "text": [
      "[CV] .................. C=100, max_iter=2000, tol=0.001, total=   6.5s\n",
      "[CV] C=100, max_iter=2000, tol=0.001 .................................\n"
     ]
    },
    {
     "name": "stderr",
     "output_type": "stream",
     "text": [
      "/home/marina/anaconda3/lib/python3.7/site-packages/sklearn/svm/_base.py:947: ConvergenceWarning: Liblinear failed to converge, increase the number of iterations.\n",
      "  \"the number of iterations.\", ConvergenceWarning)\n"
     ]
    },
    {
     "name": "stdout",
     "output_type": "stream",
     "text": [
      "[CV] .................. C=100, max_iter=2000, tol=0.001, total=   6.8s\n",
      "[CV] C=100, max_iter=2000, tol=0.001 .................................\n"
     ]
    },
    {
     "name": "stderr",
     "output_type": "stream",
     "text": [
      "/home/marina/anaconda3/lib/python3.7/site-packages/sklearn/svm/_base.py:947: ConvergenceWarning: Liblinear failed to converge, increase the number of iterations.\n",
      "  \"the number of iterations.\", ConvergenceWarning)\n"
     ]
    },
    {
     "name": "stdout",
     "output_type": "stream",
     "text": [
      "[CV] .................. C=100, max_iter=2000, tol=0.001, total=   5.2s\n",
      "[CV] C=100, max_iter=2000, tol=0.001 .................................\n"
     ]
    },
    {
     "name": "stderr",
     "output_type": "stream",
     "text": [
      "/home/marina/anaconda3/lib/python3.7/site-packages/sklearn/svm/_base.py:947: ConvergenceWarning: Liblinear failed to converge, increase the number of iterations.\n",
      "  \"the number of iterations.\", ConvergenceWarning)\n"
     ]
    },
    {
     "name": "stdout",
     "output_type": "stream",
     "text": [
      "[CV] .................. C=100, max_iter=2000, tol=0.001, total=   5.8s\n",
      "[CV] C=100, max_iter=2000, tol=0.001 .................................\n"
     ]
    },
    {
     "name": "stderr",
     "output_type": "stream",
     "text": [
      "/home/marina/anaconda3/lib/python3.7/site-packages/sklearn/svm/_base.py:947: ConvergenceWarning: Liblinear failed to converge, increase the number of iterations.\n",
      "  \"the number of iterations.\", ConvergenceWarning)\n"
     ]
    },
    {
     "name": "stdout",
     "output_type": "stream",
     "text": [
      "[CV] .................. C=100, max_iter=2000, tol=0.001, total=   5.3s\n",
      "[CV] C=100, max_iter=3000, tol=0.0001 ................................\n"
     ]
    },
    {
     "name": "stderr",
     "output_type": "stream",
     "text": [
      "/home/marina/anaconda3/lib/python3.7/site-packages/sklearn/svm/_base.py:947: ConvergenceWarning: Liblinear failed to converge, increase the number of iterations.\n",
      "  \"the number of iterations.\", ConvergenceWarning)\n"
     ]
    },
    {
     "name": "stdout",
     "output_type": "stream",
     "text": [
      "[CV] ................. C=100, max_iter=3000, tol=0.0001, total=   9.1s\n",
      "[CV] C=100, max_iter=3000, tol=0.0001 ................................\n"
     ]
    },
    {
     "name": "stderr",
     "output_type": "stream",
     "text": [
      "/home/marina/anaconda3/lib/python3.7/site-packages/sklearn/svm/_base.py:947: ConvergenceWarning: Liblinear failed to converge, increase the number of iterations.\n",
      "  \"the number of iterations.\", ConvergenceWarning)\n"
     ]
    },
    {
     "name": "stdout",
     "output_type": "stream",
     "text": [
      "[CV] ................. C=100, max_iter=3000, tol=0.0001, total=   9.7s\n",
      "[CV] C=100, max_iter=3000, tol=0.0001 ................................\n"
     ]
    },
    {
     "name": "stderr",
     "output_type": "stream",
     "text": [
      "/home/marina/anaconda3/lib/python3.7/site-packages/sklearn/svm/_base.py:947: ConvergenceWarning: Liblinear failed to converge, increase the number of iterations.\n",
      "  \"the number of iterations.\", ConvergenceWarning)\n"
     ]
    },
    {
     "name": "stdout",
     "output_type": "stream",
     "text": [
      "[CV] ................. C=100, max_iter=3000, tol=0.0001, total=   8.5s\n",
      "[CV] C=100, max_iter=3000, tol=0.0001 ................................\n"
     ]
    },
    {
     "name": "stderr",
     "output_type": "stream",
     "text": [
      "/home/marina/anaconda3/lib/python3.7/site-packages/sklearn/svm/_base.py:947: ConvergenceWarning: Liblinear failed to converge, increase the number of iterations.\n",
      "  \"the number of iterations.\", ConvergenceWarning)\n"
     ]
    },
    {
     "name": "stdout",
     "output_type": "stream",
     "text": [
      "[CV] ................. C=100, max_iter=3000, tol=0.0001, total=   9.4s\n",
      "[CV] C=100, max_iter=3000, tol=0.0001 ................................\n"
     ]
    },
    {
     "name": "stderr",
     "output_type": "stream",
     "text": [
      "/home/marina/anaconda3/lib/python3.7/site-packages/sklearn/svm/_base.py:947: ConvergenceWarning: Liblinear failed to converge, increase the number of iterations.\n",
      "  \"the number of iterations.\", ConvergenceWarning)\n"
     ]
    },
    {
     "name": "stdout",
     "output_type": "stream",
     "text": [
      "[CV] ................. C=100, max_iter=3000, tol=0.0001, total=   8.5s\n",
      "[CV] C=100, max_iter=3000, tol=0.001 .................................\n"
     ]
    },
    {
     "name": "stderr",
     "output_type": "stream",
     "text": [
      "/home/marina/anaconda3/lib/python3.7/site-packages/sklearn/svm/_base.py:947: ConvergenceWarning: Liblinear failed to converge, increase the number of iterations.\n",
      "  \"the number of iterations.\", ConvergenceWarning)\n"
     ]
    },
    {
     "name": "stdout",
     "output_type": "stream",
     "text": [
      "[CV] .................. C=100, max_iter=3000, tol=0.001, total=   8.8s\n",
      "[CV] C=100, max_iter=3000, tol=0.001 .................................\n"
     ]
    },
    {
     "name": "stderr",
     "output_type": "stream",
     "text": [
      "/home/marina/anaconda3/lib/python3.7/site-packages/sklearn/svm/_base.py:947: ConvergenceWarning: Liblinear failed to converge, increase the number of iterations.\n",
      "  \"the number of iterations.\", ConvergenceWarning)\n"
     ]
    },
    {
     "name": "stdout",
     "output_type": "stream",
     "text": [
      "[CV] .................. C=100, max_iter=3000, tol=0.001, total=   8.5s\n",
      "[CV] C=100, max_iter=3000, tol=0.001 .................................\n"
     ]
    },
    {
     "name": "stderr",
     "output_type": "stream",
     "text": [
      "/home/marina/anaconda3/lib/python3.7/site-packages/sklearn/svm/_base.py:947: ConvergenceWarning: Liblinear failed to converge, increase the number of iterations.\n",
      "  \"the number of iterations.\", ConvergenceWarning)\n"
     ]
    },
    {
     "name": "stdout",
     "output_type": "stream",
     "text": [
      "[CV] .................. C=100, max_iter=3000, tol=0.001, total=   7.8s\n",
      "[CV] C=100, max_iter=3000, tol=0.001 .................................\n"
     ]
    },
    {
     "name": "stderr",
     "output_type": "stream",
     "text": [
      "/home/marina/anaconda3/lib/python3.7/site-packages/sklearn/svm/_base.py:947: ConvergenceWarning: Liblinear failed to converge, increase the number of iterations.\n",
      "  \"the number of iterations.\", ConvergenceWarning)\n"
     ]
    },
    {
     "name": "stdout",
     "output_type": "stream",
     "text": [
      "[CV] .................. C=100, max_iter=3000, tol=0.001, total=   8.5s\n",
      "[CV] C=100, max_iter=3000, tol=0.001 .................................\n"
     ]
    },
    {
     "name": "stderr",
     "output_type": "stream",
     "text": [
      "/home/marina/anaconda3/lib/python3.7/site-packages/sklearn/svm/_base.py:947: ConvergenceWarning: Liblinear failed to converge, increase the number of iterations.\n",
      "  \"the number of iterations.\", ConvergenceWarning)\n"
     ]
    },
    {
     "name": "stdout",
     "output_type": "stream",
     "text": [
      "[CV] .................. C=100, max_iter=3000, tol=0.001, total=   8.0s\n",
      "[CV] C=100, max_iter=1000, tol=0.0001 ................................\n"
     ]
    },
    {
     "name": "stderr",
     "output_type": "stream",
     "text": [
      "/home/marina/anaconda3/lib/python3.7/site-packages/sklearn/svm/_base.py:947: ConvergenceWarning: Liblinear failed to converge, increase the number of iterations.\n",
      "  \"the number of iterations.\", ConvergenceWarning)\n"
     ]
    },
    {
     "name": "stdout",
     "output_type": "stream",
     "text": [
      "[CV] ................. C=100, max_iter=1000, tol=0.0001, total=   2.6s\n",
      "[CV] C=100, max_iter=1000, tol=0.0001 ................................\n"
     ]
    },
    {
     "name": "stderr",
     "output_type": "stream",
     "text": [
      "/home/marina/anaconda3/lib/python3.7/site-packages/sklearn/svm/_base.py:947: ConvergenceWarning: Liblinear failed to converge, increase the number of iterations.\n",
      "  \"the number of iterations.\", ConvergenceWarning)\n"
     ]
    },
    {
     "name": "stdout",
     "output_type": "stream",
     "text": [
      "[CV] ................. C=100, max_iter=1000, tol=0.0001, total=   3.1s\n",
      "[CV] C=100, max_iter=1000, tol=0.0001 ................................\n"
     ]
    },
    {
     "name": "stderr",
     "output_type": "stream",
     "text": [
      "/home/marina/anaconda3/lib/python3.7/site-packages/sklearn/svm/_base.py:947: ConvergenceWarning: Liblinear failed to converge, increase the number of iterations.\n",
      "  \"the number of iterations.\", ConvergenceWarning)\n"
     ]
    },
    {
     "name": "stdout",
     "output_type": "stream",
     "text": [
      "[CV] ................. C=100, max_iter=1000, tol=0.0001, total=   2.9s\n",
      "[CV] C=100, max_iter=1000, tol=0.0001 ................................\n"
     ]
    },
    {
     "name": "stderr",
     "output_type": "stream",
     "text": [
      "/home/marina/anaconda3/lib/python3.7/site-packages/sklearn/svm/_base.py:947: ConvergenceWarning: Liblinear failed to converge, increase the number of iterations.\n",
      "  \"the number of iterations.\", ConvergenceWarning)\n"
     ]
    },
    {
     "name": "stdout",
     "output_type": "stream",
     "text": [
      "[CV] ................. C=100, max_iter=1000, tol=0.0001, total=   3.3s\n",
      "[CV] C=100, max_iter=1000, tol=0.0001 ................................\n"
     ]
    },
    {
     "name": "stderr",
     "output_type": "stream",
     "text": [
      "/home/marina/anaconda3/lib/python3.7/site-packages/sklearn/svm/_base.py:947: ConvergenceWarning: Liblinear failed to converge, increase the number of iterations.\n",
      "  \"the number of iterations.\", ConvergenceWarning)\n"
     ]
    },
    {
     "name": "stdout",
     "output_type": "stream",
     "text": [
      "[CV] ................. C=100, max_iter=1000, tol=0.0001, total=   3.1s\n",
      "[CV] C=100, max_iter=1000, tol=0.001 .................................\n"
     ]
    },
    {
     "name": "stderr",
     "output_type": "stream",
     "text": [
      "/home/marina/anaconda3/lib/python3.7/site-packages/sklearn/svm/_base.py:947: ConvergenceWarning: Liblinear failed to converge, increase the number of iterations.\n",
      "  \"the number of iterations.\", ConvergenceWarning)\n"
     ]
    },
    {
     "name": "stdout",
     "output_type": "stream",
     "text": [
      "[CV] .................. C=100, max_iter=1000, tol=0.001, total=   3.0s\n",
      "[CV] C=100, max_iter=1000, tol=0.001 .................................\n"
     ]
    },
    {
     "name": "stderr",
     "output_type": "stream",
     "text": [
      "/home/marina/anaconda3/lib/python3.7/site-packages/sklearn/svm/_base.py:947: ConvergenceWarning: Liblinear failed to converge, increase the number of iterations.\n",
      "  \"the number of iterations.\", ConvergenceWarning)\n"
     ]
    },
    {
     "name": "stdout",
     "output_type": "stream",
     "text": [
      "[CV] .................. C=100, max_iter=1000, tol=0.001, total=   2.8s\n",
      "[CV] C=100, max_iter=1000, tol=0.001 .................................\n"
     ]
    },
    {
     "name": "stderr",
     "output_type": "stream",
     "text": [
      "/home/marina/anaconda3/lib/python3.7/site-packages/sklearn/svm/_base.py:947: ConvergenceWarning: Liblinear failed to converge, increase the number of iterations.\n",
      "  \"the number of iterations.\", ConvergenceWarning)\n"
     ]
    },
    {
     "name": "stdout",
     "output_type": "stream",
     "text": [
      "[CV] .................. C=100, max_iter=1000, tol=0.001, total=   2.9s\n",
      "[CV] C=100, max_iter=1000, tol=0.001 .................................\n"
     ]
    },
    {
     "name": "stderr",
     "output_type": "stream",
     "text": [
      "/home/marina/anaconda3/lib/python3.7/site-packages/sklearn/svm/_base.py:947: ConvergenceWarning: Liblinear failed to converge, increase the number of iterations.\n",
      "  \"the number of iterations.\", ConvergenceWarning)\n"
     ]
    },
    {
     "name": "stdout",
     "output_type": "stream",
     "text": [
      "[CV] .................. C=100, max_iter=1000, tol=0.001, total=   2.8s\n",
      "[CV] C=100, max_iter=1000, tol=0.001 .................................\n"
     ]
    },
    {
     "name": "stderr",
     "output_type": "stream",
     "text": [
      "/home/marina/anaconda3/lib/python3.7/site-packages/sklearn/svm/_base.py:947: ConvergenceWarning: Liblinear failed to converge, increase the number of iterations.\n",
      "  \"the number of iterations.\", ConvergenceWarning)\n",
      "[Parallel(n_jobs=1)]: Done 210 out of 210 | elapsed: 599.8min finished\n"
     ]
    },
    {
     "name": "stdout",
     "output_type": "stream",
     "text": [
      "[CV] .................. C=100, max_iter=1000, tol=0.001, total=   2.7s\n"
     ]
    },
    {
     "name": "stderr",
     "output_type": "stream",
     "text": [
      "/home/marina/anaconda3/lib/python3.7/site-packages/sklearn/svm/_base.py:947: ConvergenceWarning: Liblinear failed to converge, increase the number of iterations.\n",
      "  \"the number of iterations.\", ConvergenceWarning)\n",
      "[Parallel(n_jobs=1)]: Using backend SequentialBackend with 1 concurrent workers.\n",
      "[Parallel(n_jobs=1)]: Done   1 out of   1 | elapsed:    0.1s remaining:    0.0s\n"
     ]
    },
    {
     "name": "stdout",
     "output_type": "stream",
     "text": [
      "Fitting 5 folds for each of 10 candidates, totalling 50 fits\n",
      "[CV] alpha=1, normalize=True .........................................\n",
      "[CV] .......................... alpha=1, normalize=True, total=   0.1s\n",
      "[CV] alpha=1, normalize=True .........................................\n",
      "[CV] .......................... alpha=1, normalize=True, total=   0.0s\n",
      "[CV] alpha=1, normalize=True .........................................\n",
      "[CV] .......................... alpha=1, normalize=True, total=   0.0s\n",
      "[CV] alpha=1, normalize=True .........................................\n",
      "[CV] .......................... alpha=1, normalize=True, total=   0.0s\n",
      "[CV] alpha=1, normalize=True .........................................\n",
      "[CV] .......................... alpha=1, normalize=True, total=   0.0s\n",
      "[CV] alpha=1, normalize=False ........................................\n",
      "[CV] ......................... alpha=1, normalize=False, total=   0.0s\n",
      "[CV] alpha=1, normalize=False ........................................\n",
      "[CV] ......................... alpha=1, normalize=False, total=   0.0s\n",
      "[CV] alpha=1, normalize=False ........................................\n",
      "[CV] ......................... alpha=1, normalize=False, total=   0.0s\n",
      "[CV] alpha=1, normalize=False ........................................\n",
      "[CV] ......................... alpha=1, normalize=False, total=   0.0s\n",
      "[CV] alpha=1, normalize=False ........................................\n",
      "[CV] ......................... alpha=1, normalize=False, total=   0.0s\n",
      "[CV] alpha=0.9, normalize=True .......................................\n",
      "[CV] ........................ alpha=0.9, normalize=True, total=   0.0s\n",
      "[CV] alpha=0.9, normalize=True .......................................\n",
      "[CV] ........................ alpha=0.9, normalize=True, total=   0.0s\n",
      "[CV] alpha=0.9, normalize=True .......................................\n",
      "[CV] ........................ alpha=0.9, normalize=True, total=   0.0s\n",
      "[CV] alpha=0.9, normalize=True .......................................\n",
      "[CV] ........................ alpha=0.9, normalize=True, total=   0.0s\n",
      "[CV] alpha=0.9, normalize=True .......................................\n",
      "[CV] ........................ alpha=0.9, normalize=True, total=   0.0s\n",
      "[CV] alpha=0.9, normalize=False ......................................\n",
      "[CV] ....................... alpha=0.9, normalize=False, total=   0.0s\n",
      "[CV] alpha=0.9, normalize=False ......................................\n",
      "[CV] ....................... alpha=0.9, normalize=False, total=   0.0s\n",
      "[CV] alpha=0.9, normalize=False ......................................\n",
      "[CV] ....................... alpha=0.9, normalize=False, total=   0.0s\n",
      "[CV] alpha=0.9, normalize=False ......................................\n",
      "[CV] ....................... alpha=0.9, normalize=False, total=   0.0s\n",
      "[CV] alpha=0.9, normalize=False ......................................\n",
      "[CV] ....................... alpha=0.9, normalize=False, total=   0.0s\n",
      "[CV] alpha=0.8, normalize=True .......................................\n",
      "[CV] ........................ alpha=0.8, normalize=True, total=   0.0s\n",
      "[CV] alpha=0.8, normalize=True .......................................\n",
      "[CV] ........................ alpha=0.8, normalize=True, total=   0.0s\n",
      "[CV] alpha=0.8, normalize=True .......................................\n",
      "[CV] ........................ alpha=0.8, normalize=True, total=   0.0s\n",
      "[CV] alpha=0.8, normalize=True .......................................\n",
      "[CV] ........................ alpha=0.8, normalize=True, total=   0.0s\n",
      "[CV] alpha=0.8, normalize=True .......................................\n",
      "[CV] ........................ alpha=0.8, normalize=True, total=   0.0s\n",
      "[CV] alpha=0.8, normalize=False ......................................\n",
      "[CV] ....................... alpha=0.8, normalize=False, total=   0.0s\n",
      "[CV] alpha=0.8, normalize=False ......................................\n",
      "[CV] ....................... alpha=0.8, normalize=False, total=   0.0s\n",
      "[CV] alpha=0.8, normalize=False ......................................\n",
      "[CV] ....................... alpha=0.8, normalize=False, total=   0.0s\n",
      "[CV] alpha=0.8, normalize=False ......................................\n",
      "[CV] ....................... alpha=0.8, normalize=False, total=   0.0s\n",
      "[CV] alpha=0.8, normalize=False ......................................\n",
      "[CV] ....................... alpha=0.8, normalize=False, total=   0.0s\n",
      "[CV] alpha=0.7, normalize=True .......................................\n",
      "[CV] ........................ alpha=0.7, normalize=True, total=   0.0s\n",
      "[CV] alpha=0.7, normalize=True .......................................\n",
      "[CV] ........................ alpha=0.7, normalize=True, total=   0.0s\n",
      "[CV] alpha=0.7, normalize=True .......................................\n",
      "[CV] ........................ alpha=0.7, normalize=True, total=   0.0s\n",
      "[CV] alpha=0.7, normalize=True .......................................\n",
      "[CV] ........................ alpha=0.7, normalize=True, total=   0.0s\n",
      "[CV] alpha=0.7, normalize=True .......................................\n",
      "[CV] ........................ alpha=0.7, normalize=True, total=   0.0s\n",
      "[CV] alpha=0.7, normalize=False ......................................\n",
      "[CV] ....................... alpha=0.7, normalize=False, total=   0.0s\n",
      "[CV] alpha=0.7, normalize=False ......................................\n",
      "[CV] ....................... alpha=0.7, normalize=False, total=   0.0s\n",
      "[CV] alpha=0.7, normalize=False ......................................\n",
      "[CV] ....................... alpha=0.7, normalize=False, total=   0.0s\n",
      "[CV] alpha=0.7, normalize=False ......................................\n",
      "[CV] ....................... alpha=0.7, normalize=False, total=   0.0s\n",
      "[CV] alpha=0.7, normalize=False ......................................\n",
      "[CV] ....................... alpha=0.7, normalize=False, total=   0.0s\n",
      "[CV] alpha=0.6, normalize=True .......................................\n",
      "[CV] ........................ alpha=0.6, normalize=True, total=   0.0s\n",
      "[CV] alpha=0.6, normalize=True .......................................\n",
      "[CV] ........................ alpha=0.6, normalize=True, total=   0.0s\n",
      "[CV] alpha=0.6, normalize=True .......................................\n",
      "[CV] ........................ alpha=0.6, normalize=True, total=   0.0s\n",
      "[CV] alpha=0.6, normalize=True .......................................\n",
      "[CV] ........................ alpha=0.6, normalize=True, total=   0.0s\n",
      "[CV] alpha=0.6, normalize=True .......................................\n",
      "[CV] ........................ alpha=0.6, normalize=True, total=   0.0s\n",
      "[CV] alpha=0.6, normalize=False ......................................\n",
      "[CV] ....................... alpha=0.6, normalize=False, total=   0.0s\n",
      "[CV] alpha=0.6, normalize=False ......................................\n",
      "[CV] ....................... alpha=0.6, normalize=False, total=   0.0s\n",
      "[CV] alpha=0.6, normalize=False ......................................\n",
      "[CV] ....................... alpha=0.6, normalize=False, total=   0.0s\n",
      "[CV] alpha=0.6, normalize=False ......................................\n",
      "[CV] ....................... alpha=0.6, normalize=False, total=   0.0s\n",
      "[CV] alpha=0.6, normalize=False ......................................\n",
      "[CV] ....................... alpha=0.6, normalize=False, total=   0.0s\n",
      "Fitting 5 folds for each of 10 candidates, totalling 50 fits\n",
      "[CV] alpha=1, normalize=True .........................................\n",
      "[CV] .......................... alpha=1, normalize=True, total=   0.0s\n",
      "[CV] alpha=1, normalize=True .........................................\n"
     ]
    },
    {
     "name": "stderr",
     "output_type": "stream",
     "text": [
      "[Parallel(n_jobs=1)]: Done  50 out of  50 | elapsed:    1.4s finished\n",
      "[Parallel(n_jobs=1)]: Using backend SequentialBackend with 1 concurrent workers.\n",
      "[Parallel(n_jobs=1)]: Done   1 out of   1 | elapsed:    0.0s remaining:    0.0s\n"
     ]
    },
    {
     "name": "stdout",
     "output_type": "stream",
     "text": [
      "[CV] .......................... alpha=1, normalize=True, total=   0.0s\n",
      "[CV] alpha=1, normalize=True .........................................\n",
      "[CV] .......................... alpha=1, normalize=True, total=   0.0s\n",
      "[CV] alpha=1, normalize=True .........................................\n",
      "[CV] .......................... alpha=1, normalize=True, total=   0.0s\n",
      "[CV] alpha=1, normalize=True .........................................\n",
      "[CV] .......................... alpha=1, normalize=True, total=   0.0s\n",
      "[CV] alpha=1, normalize=False ........................................\n",
      "[CV] ......................... alpha=1, normalize=False, total=   0.0s\n",
      "[CV] alpha=1, normalize=False ........................................\n",
      "[CV] ......................... alpha=1, normalize=False, total=   0.0s\n",
      "[CV] alpha=1, normalize=False ........................................\n",
      "[CV] ......................... alpha=1, normalize=False, total=   0.0s\n",
      "[CV] alpha=1, normalize=False ........................................\n",
      "[CV] ......................... alpha=1, normalize=False, total=   0.0s\n",
      "[CV] alpha=1, normalize=False ........................................\n",
      "[CV] ......................... alpha=1, normalize=False, total=   0.0s\n",
      "[CV] alpha=0.9, normalize=True .......................................\n",
      "[CV] ........................ alpha=0.9, normalize=True, total=   0.0s\n",
      "[CV] alpha=0.9, normalize=True .......................................\n",
      "[CV] ........................ alpha=0.9, normalize=True, total=   0.0s\n",
      "[CV] alpha=0.9, normalize=True .......................................\n",
      "[CV] ........................ alpha=0.9, normalize=True, total=   0.0s\n",
      "[CV] alpha=0.9, normalize=True .......................................\n",
      "[CV] ........................ alpha=0.9, normalize=True, total=   0.0s\n",
      "[CV] alpha=0.9, normalize=True .......................................\n",
      "[CV] ........................ alpha=0.9, normalize=True, total=   0.0s\n",
      "[CV] alpha=0.9, normalize=False ......................................\n",
      "[CV] ....................... alpha=0.9, normalize=False, total=   0.0s\n",
      "[CV] alpha=0.9, normalize=False ......................................\n",
      "[CV] ....................... alpha=0.9, normalize=False, total=   0.0s\n",
      "[CV] alpha=0.9, normalize=False ......................................\n",
      "[CV] ....................... alpha=0.9, normalize=False, total=   0.0s\n",
      "[CV] alpha=0.9, normalize=False ......................................\n",
      "[CV] ....................... alpha=0.9, normalize=False, total=   0.0s\n",
      "[CV] alpha=0.9, normalize=False ......................................\n",
      "[CV] ....................... alpha=0.9, normalize=False, total=   0.0s\n",
      "[CV] alpha=0.8, normalize=True .......................................\n",
      "[CV] ........................ alpha=0.8, normalize=True, total=   0.0s\n",
      "[CV] alpha=0.8, normalize=True .......................................\n",
      "[CV] ........................ alpha=0.8, normalize=True, total=   0.0s\n",
      "[CV] alpha=0.8, normalize=True .......................................\n",
      "[CV] ........................ alpha=0.8, normalize=True, total=   0.0s\n",
      "[CV] alpha=0.8, normalize=True .......................................\n",
      "[CV] ........................ alpha=0.8, normalize=True, total=   0.0s\n",
      "[CV] alpha=0.8, normalize=True .......................................\n",
      "[CV] ........................ alpha=0.8, normalize=True, total=   0.0s\n",
      "[CV] alpha=0.8, normalize=False ......................................\n",
      "[CV] ....................... alpha=0.8, normalize=False, total=   0.0s\n",
      "[CV] alpha=0.8, normalize=False ......................................\n",
      "[CV] ....................... alpha=0.8, normalize=False, total=   0.0s\n",
      "[CV] alpha=0.8, normalize=False ......................................\n",
      "[CV] ....................... alpha=0.8, normalize=False, total=   0.0s\n",
      "[CV] alpha=0.8, normalize=False ......................................\n",
      "[CV] ....................... alpha=0.8, normalize=False, total=   0.0s\n",
      "[CV] alpha=0.8, normalize=False ......................................\n",
      "[CV] ....................... alpha=0.8, normalize=False, total=   0.0s\n",
      "[CV] alpha=0.7, normalize=True .......................................\n",
      "[CV] ........................ alpha=0.7, normalize=True, total=   0.0s\n",
      "[CV] alpha=0.7, normalize=True .......................................\n",
      "[CV] ........................ alpha=0.7, normalize=True, total=   0.0s\n",
      "[CV] alpha=0.7, normalize=True .......................................\n",
      "[CV] ........................ alpha=0.7, normalize=True, total=   0.0s\n",
      "[CV] alpha=0.7, normalize=True .......................................\n",
      "[CV] ........................ alpha=0.7, normalize=True, total=   0.0s\n",
      "[CV] alpha=0.7, normalize=True .......................................\n",
      "[CV] ........................ alpha=0.7, normalize=True, total=   0.0s\n",
      "[CV] alpha=0.7, normalize=False ......................................\n",
      "[CV] ....................... alpha=0.7, normalize=False, total=   0.0s\n",
      "[CV] alpha=0.7, normalize=False ......................................\n",
      "[CV] ....................... alpha=0.7, normalize=False, total=   0.0s\n",
      "[CV] alpha=0.7, normalize=False ......................................\n",
      "[CV] ....................... alpha=0.7, normalize=False, total=   0.0s\n",
      "[CV] alpha=0.7, normalize=False ......................................\n",
      "[CV] ....................... alpha=0.7, normalize=False, total=   0.0s\n",
      "[CV] alpha=0.7, normalize=False ......................................\n",
      "[CV] ....................... alpha=0.7, normalize=False, total=   0.0s\n",
      "[CV] alpha=0.6, normalize=True .......................................\n",
      "[CV] ........................ alpha=0.6, normalize=True, total=   0.1s\n",
      "[CV] alpha=0.6, normalize=True .......................................\n",
      "[CV] ........................ alpha=0.6, normalize=True, total=   0.1s\n",
      "[CV] alpha=0.6, normalize=True .......................................\n",
      "[CV] ........................ alpha=0.6, normalize=True, total=   0.1s\n",
      "[CV] alpha=0.6, normalize=True .......................................\n",
      "[CV] ........................ alpha=0.6, normalize=True, total=   0.0s\n",
      "[CV] alpha=0.6, normalize=True .......................................\n",
      "[CV] ........................ alpha=0.6, normalize=True, total=   0.1s\n",
      "[CV] alpha=0.6, normalize=False ......................................\n",
      "[CV] ....................... alpha=0.6, normalize=False, total=   0.0s\n",
      "[CV] alpha=0.6, normalize=False ......................................\n",
      "[CV] ....................... alpha=0.6, normalize=False, total=   0.1s\n",
      "[CV] alpha=0.6, normalize=False ......................................\n",
      "[CV] ....................... alpha=0.6, normalize=False, total=   0.1s\n",
      "[CV] alpha=0.6, normalize=False ......................................\n",
      "[CV] ....................... alpha=0.6, normalize=False, total=   0.1s\n",
      "[CV] alpha=0.6, normalize=False ......................................\n",
      "[CV] ....................... alpha=0.6, normalize=False, total=   0.1s\n",
      "Fitting 5 folds for each of 10 candidates, totalling 50 fits\n",
      "[CV] alpha=1, normalize=True .........................................\n"
     ]
    },
    {
     "name": "stderr",
     "output_type": "stream",
     "text": [
      "[Parallel(n_jobs=1)]: Done  50 out of  50 | elapsed:    1.7s finished\n",
      "[Parallel(n_jobs=1)]: Using backend SequentialBackend with 1 concurrent workers.\n",
      "[Parallel(n_jobs=1)]: Done   1 out of   1 | elapsed:    0.1s remaining:    0.0s\n"
     ]
    },
    {
     "name": "stdout",
     "output_type": "stream",
     "text": [
      "[CV] .......................... alpha=1, normalize=True, total=   0.1s\n",
      "[CV] alpha=1, normalize=True .........................................\n",
      "[CV] .......................... alpha=1, normalize=True, total=   0.1s\n",
      "[CV] alpha=1, normalize=True .........................................\n",
      "[CV] .......................... alpha=1, normalize=True, total=   0.1s\n",
      "[CV] alpha=1, normalize=True .........................................\n",
      "[CV] .......................... alpha=1, normalize=True, total=   0.1s\n",
      "[CV] alpha=1, normalize=True .........................................\n",
      "[CV] .......................... alpha=1, normalize=True, total=   0.1s\n",
      "[CV] alpha=1, normalize=False ........................................\n",
      "[CV] ......................... alpha=1, normalize=False, total=   0.0s\n",
      "[CV] alpha=1, normalize=False ........................................\n",
      "[CV] ......................... alpha=1, normalize=False, total=   0.0s\n",
      "[CV] alpha=1, normalize=False ........................................\n",
      "[CV] ......................... alpha=1, normalize=False, total=   0.0s\n",
      "[CV] alpha=1, normalize=False ........................................\n",
      "[CV] ......................... alpha=1, normalize=False, total=   0.1s\n",
      "[CV] alpha=1, normalize=False ........................................\n",
      "[CV] ......................... alpha=1, normalize=False, total=   0.1s\n",
      "[CV] alpha=0.9, normalize=True .......................................\n",
      "[CV] ........................ alpha=0.9, normalize=True, total=   0.1s\n",
      "[CV] alpha=0.9, normalize=True .......................................\n",
      "[CV] ........................ alpha=0.9, normalize=True, total=   0.1s\n",
      "[CV] alpha=0.9, normalize=True .......................................\n",
      "[CV] ........................ alpha=0.9, normalize=True, total=   0.1s\n",
      "[CV] alpha=0.9, normalize=True .......................................\n",
      "[CV] ........................ alpha=0.9, normalize=True, total=   0.1s\n",
      "[CV] alpha=0.9, normalize=True .......................................\n",
      "[CV] ........................ alpha=0.9, normalize=True, total=   0.1s\n",
      "[CV] alpha=0.9, normalize=False ......................................\n",
      "[CV] ....................... alpha=0.9, normalize=False, total=   0.1s\n",
      "[CV] alpha=0.9, normalize=False ......................................\n",
      "[CV] ....................... alpha=0.9, normalize=False, total=   0.1s\n",
      "[CV] alpha=0.9, normalize=False ......................................\n",
      "[CV] ....................... alpha=0.9, normalize=False, total=   0.1s\n",
      "[CV] alpha=0.9, normalize=False ......................................\n",
      "[CV] ....................... alpha=0.9, normalize=False, total=   0.1s\n",
      "[CV] alpha=0.9, normalize=False ......................................\n",
      "[CV] ....................... alpha=0.9, normalize=False, total=   0.1s\n",
      "[CV] alpha=0.8, normalize=True .......................................\n",
      "[CV] ........................ alpha=0.8, normalize=True, total=   0.1s\n",
      "[CV] alpha=0.8, normalize=True .......................................\n",
      "[CV] ........................ alpha=0.8, normalize=True, total=   0.1s\n",
      "[CV] alpha=0.8, normalize=True .......................................\n",
      "[CV] ........................ alpha=0.8, normalize=True, total=   0.1s\n",
      "[CV] alpha=0.8, normalize=True .......................................\n",
      "[CV] ........................ alpha=0.8, normalize=True, total=   0.1s\n",
      "[CV] alpha=0.8, normalize=True .......................................\n",
      "[CV] ........................ alpha=0.8, normalize=True, total=   0.1s\n",
      "[CV] alpha=0.8, normalize=False ......................................\n",
      "[CV] ....................... alpha=0.8, normalize=False, total=   0.1s\n",
      "[CV] alpha=0.8, normalize=False ......................................\n",
      "[CV] ....................... alpha=0.8, normalize=False, total=   0.1s\n",
      "[CV] alpha=0.8, normalize=False ......................................\n",
      "[CV] ....................... alpha=0.8, normalize=False, total=   0.1s\n",
      "[CV] alpha=0.8, normalize=False ......................................\n",
      "[CV] ....................... alpha=0.8, normalize=False, total=   0.1s\n",
      "[CV] alpha=0.8, normalize=False ......................................\n",
      "[CV] ....................... alpha=0.8, normalize=False, total=   0.1s\n",
      "[CV] alpha=0.7, normalize=True .......................................\n",
      "[CV] ........................ alpha=0.7, normalize=True, total=   0.1s\n",
      "[CV] alpha=0.7, normalize=True .......................................\n",
      "[CV] ........................ alpha=0.7, normalize=True, total=   0.1s\n",
      "[CV] alpha=0.7, normalize=True .......................................\n",
      "[CV] ........................ alpha=0.7, normalize=True, total=   0.1s\n",
      "[CV] alpha=0.7, normalize=True .......................................\n",
      "[CV] ........................ alpha=0.7, normalize=True, total=   0.1s\n",
      "[CV] alpha=0.7, normalize=True .......................................\n",
      "[CV] ........................ alpha=0.7, normalize=True, total=   0.1s\n",
      "[CV] alpha=0.7, normalize=False ......................................\n",
      "[CV] ....................... alpha=0.7, normalize=False, total=   0.1s\n",
      "[CV] alpha=0.7, normalize=False ......................................\n",
      "[CV] ....................... alpha=0.7, normalize=False, total=   0.1s\n",
      "[CV] alpha=0.7, normalize=False ......................................\n",
      "[CV] ....................... alpha=0.7, normalize=False, total=   0.1s\n",
      "[CV] alpha=0.7, normalize=False ......................................\n",
      "[CV] ....................... alpha=0.7, normalize=False, total=   0.1s\n",
      "[CV] alpha=0.7, normalize=False ......................................\n",
      "[CV] ....................... alpha=0.7, normalize=False, total=   0.1s\n",
      "[CV] alpha=0.6, normalize=True .......................................\n",
      "[CV] ........................ alpha=0.6, normalize=True, total=   0.1s\n",
      "[CV] alpha=0.6, normalize=True .......................................\n",
      "[CV] ........................ alpha=0.6, normalize=True, total=   0.1s\n",
      "[CV] alpha=0.6, normalize=True .......................................\n",
      "[CV] ........................ alpha=0.6, normalize=True, total=   0.1s\n",
      "[CV] alpha=0.6, normalize=True .......................................\n",
      "[CV] ........................ alpha=0.6, normalize=True, total=   0.1s\n",
      "[CV] alpha=0.6, normalize=True .......................................\n",
      "[CV] ........................ alpha=0.6, normalize=True, total=   0.1s\n",
      "[CV] alpha=0.6, normalize=False ......................................\n",
      "[CV] ....................... alpha=0.6, normalize=False, total=   0.1s\n",
      "[CV] alpha=0.6, normalize=False ......................................\n",
      "[CV] ....................... alpha=0.6, normalize=False, total=   0.1s\n",
      "[CV] alpha=0.6, normalize=False ......................................\n",
      "[CV] ....................... alpha=0.6, normalize=False, total=   0.1s\n",
      "[CV] alpha=0.6, normalize=False ......................................\n",
      "[CV] ....................... alpha=0.6, normalize=False, total=   0.1s\n",
      "[CV] alpha=0.6, normalize=False ......................................\n",
      "[CV] ....................... alpha=0.6, normalize=False, total=   0.1s\n",
      "Fitting 5 folds for each of 10 candidates, totalling 50 fits\n",
      "[CV] alpha=1, normalize=True .........................................\n",
      "[CV] .......................... alpha=1, normalize=True, total=   0.0s\n",
      "[CV] alpha=1, normalize=True .........................................\n",
      "[CV] .......................... alpha=1, normalize=True, total=   0.0s\n",
      "[CV] alpha=1, normalize=True ........................................."
     ]
    },
    {
     "name": "stderr",
     "output_type": "stream",
     "text": [
      "[Parallel(n_jobs=1)]: Done  50 out of  50 | elapsed:    2.9s finished\n",
      "[Parallel(n_jobs=1)]: Using backend SequentialBackend with 1 concurrent workers.\n",
      "[Parallel(n_jobs=1)]: Done   1 out of   1 | elapsed:    0.0s remaining:    0.0s\n"
     ]
    },
    {
     "name": "stdout",
     "output_type": "stream",
     "text": [
      "\n",
      "[CV] .......................... alpha=1, normalize=True, total=   0.0s\n",
      "[CV] alpha=1, normalize=True .........................................\n",
      "[CV] .......................... alpha=1, normalize=True, total=   0.0s\n",
      "[CV] alpha=1, normalize=True .........................................\n",
      "[CV] .......................... alpha=1, normalize=True, total=   0.0s\n",
      "[CV] alpha=1, normalize=False ........................................\n",
      "[CV] ......................... alpha=1, normalize=False, total=   0.0s\n",
      "[CV] alpha=1, normalize=False ........................................\n",
      "[CV] ......................... alpha=1, normalize=False, total=   0.0s\n",
      "[CV] alpha=1, normalize=False ........................................\n",
      "[CV] ......................... alpha=1, normalize=False, total=   0.0s\n",
      "[CV] alpha=1, normalize=False ........................................\n",
      "[CV] ......................... alpha=1, normalize=False, total=   0.0s\n",
      "[CV] alpha=1, normalize=False ........................................\n",
      "[CV] ......................... alpha=1, normalize=False, total=   0.0s\n",
      "[CV] alpha=0.9, normalize=True .......................................\n",
      "[CV] ........................ alpha=0.9, normalize=True, total=   0.0s\n",
      "[CV] alpha=0.9, normalize=True .......................................\n",
      "[CV] ........................ alpha=0.9, normalize=True, total=   0.0s\n",
      "[CV] alpha=0.9, normalize=True .......................................\n",
      "[CV] ........................ alpha=0.9, normalize=True, total=   0.0s\n",
      "[CV] alpha=0.9, normalize=True .......................................\n",
      "[CV] ........................ alpha=0.9, normalize=True, total=   0.0s\n",
      "[CV] alpha=0.9, normalize=True .......................................\n",
      "[CV] ........................ alpha=0.9, normalize=True, total=   0.0s\n",
      "[CV] alpha=0.9, normalize=False ......................................\n",
      "[CV] ....................... alpha=0.9, normalize=False, total=   0.0s\n",
      "[CV] alpha=0.9, normalize=False ......................................\n",
      "[CV] ....................... alpha=0.9, normalize=False, total=   0.0s\n",
      "[CV] alpha=0.9, normalize=False ......................................\n",
      "[CV] ....................... alpha=0.9, normalize=False, total=   0.0s\n",
      "[CV] alpha=0.9, normalize=False ......................................\n",
      "[CV] ....................... alpha=0.9, normalize=False, total=   0.0s\n",
      "[CV] alpha=0.9, normalize=False ......................................\n",
      "[CV] ....................... alpha=0.9, normalize=False, total=   0.0s\n",
      "[CV] alpha=0.8, normalize=True .......................................\n",
      "[CV] ........................ alpha=0.8, normalize=True, total=   0.0s\n",
      "[CV] alpha=0.8, normalize=True .......................................\n",
      "[CV] ........................ alpha=0.8, normalize=True, total=   0.0s\n",
      "[CV] alpha=0.8, normalize=True .......................................\n",
      "[CV] ........................ alpha=0.8, normalize=True, total=   0.0s\n",
      "[CV] alpha=0.8, normalize=True .......................................\n",
      "[CV] ........................ alpha=0.8, normalize=True, total=   0.0s\n",
      "[CV] alpha=0.8, normalize=True .......................................\n",
      "[CV] ........................ alpha=0.8, normalize=True, total=   0.0s\n",
      "[CV] alpha=0.8, normalize=False ......................................\n",
      "[CV] ....................... alpha=0.8, normalize=False, total=   0.0s\n",
      "[CV] alpha=0.8, normalize=False ......................................\n",
      "[CV] ....................... alpha=0.8, normalize=False, total=   0.0s\n",
      "[CV] alpha=0.8, normalize=False ......................................\n",
      "[CV] ....................... alpha=0.8, normalize=False, total=   0.0s\n",
      "[CV] alpha=0.8, normalize=False ......................................\n",
      "[CV] ....................... alpha=0.8, normalize=False, total=   0.0s\n",
      "[CV] alpha=0.8, normalize=False ......................................\n",
      "[CV] ....................... alpha=0.8, normalize=False, total=   0.0s\n",
      "[CV] alpha=0.7, normalize=True .......................................\n",
      "[CV] ........................ alpha=0.7, normalize=True, total=   0.0s\n",
      "[CV] alpha=0.7, normalize=True .......................................\n",
      "[CV] ........................ alpha=0.7, normalize=True, total=   0.0s\n",
      "[CV] alpha=0.7, normalize=True .......................................\n",
      "[CV] ........................ alpha=0.7, normalize=True, total=   0.0s\n",
      "[CV] alpha=0.7, normalize=True .......................................\n",
      "[CV] ........................ alpha=0.7, normalize=True, total=   0.0s\n",
      "[CV] alpha=0.7, normalize=True .......................................\n",
      "[CV] ........................ alpha=0.7, normalize=True, total=   0.0s\n",
      "[CV] alpha=0.7, normalize=False ......................................\n",
      "[CV] ....................... alpha=0.7, normalize=False, total=   0.0s\n",
      "[CV] alpha=0.7, normalize=False ......................................\n",
      "[CV] ....................... alpha=0.7, normalize=False, total=   0.0s\n",
      "[CV] alpha=0.7, normalize=False ......................................\n",
      "[CV] ....................... alpha=0.7, normalize=False, total=   0.0s\n",
      "[CV] alpha=0.7, normalize=False ......................................\n",
      "[CV] ....................... alpha=0.7, normalize=False, total=   0.0s\n",
      "[CV] alpha=0.7, normalize=False ......................................\n",
      "[CV] ....................... alpha=0.7, normalize=False, total=   0.0s\n",
      "[CV] alpha=0.6, normalize=True .......................................\n",
      "[CV] ........................ alpha=0.6, normalize=True, total=   0.0s\n",
      "[CV] alpha=0.6, normalize=True .......................................\n",
      "[CV] ........................ alpha=0.6, normalize=True, total=   0.0s\n",
      "[CV] alpha=0.6, normalize=True .......................................\n",
      "[CV] ........................ alpha=0.6, normalize=True, total=   0.0s\n",
      "[CV] alpha=0.6, normalize=True .......................................\n",
      "[CV] ........................ alpha=0.6, normalize=True, total=   0.0s\n",
      "[CV] alpha=0.6, normalize=True .......................................\n",
      "[CV] ........................ alpha=0.6, normalize=True, total=   0.0s\n",
      "[CV] alpha=0.6, normalize=False ......................................\n",
      "[CV] ....................... alpha=0.6, normalize=False, total=   0.0s\n",
      "[CV] alpha=0.6, normalize=False ......................................\n",
      "[CV] ....................... alpha=0.6, normalize=False, total=   0.0s\n",
      "[CV] alpha=0.6, normalize=False ......................................\n",
      "[CV] ....................... alpha=0.6, normalize=False, total=   0.0s\n",
      "[CV] alpha=0.6, normalize=False ......................................\n",
      "[CV] ....................... alpha=0.6, normalize=False, total=   0.0s\n",
      "[CV] alpha=0.6, normalize=False ......................................\n",
      "[CV] ....................... alpha=0.6, normalize=False, total=   0.0s\n",
      "Fitting 5 folds for each of 6 candidates, totalling 30 fits\n",
      "[CV] n_neighbors=3 ...................................................\n"
     ]
    },
    {
     "name": "stderr",
     "output_type": "stream",
     "text": [
      "[Parallel(n_jobs=1)]: Done  50 out of  50 | elapsed:    1.5s finished\n",
      "[Parallel(n_jobs=1)]: Using backend SequentialBackend with 1 concurrent workers.\n"
     ]
    },
    {
     "name": "stdout",
     "output_type": "stream",
     "text": [
      "[CV] .................................... n_neighbors=3, total=   1.5s\n",
      "[CV] n_neighbors=3 ...................................................\n"
     ]
    },
    {
     "name": "stderr",
     "output_type": "stream",
     "text": [
      "[Parallel(n_jobs=1)]: Done   1 out of   1 | elapsed:    1.5s remaining:    0.0s\n"
     ]
    },
    {
     "name": "stdout",
     "output_type": "stream",
     "text": [
      "[CV] .................................... n_neighbors=3, total=   1.0s\n",
      "[CV] n_neighbors=3 ...................................................\n",
      "[CV] .................................... n_neighbors=3, total=   1.1s\n",
      "[CV] n_neighbors=3 ...................................................\n",
      "[CV] .................................... n_neighbors=3, total=   1.1s\n",
      "[CV] n_neighbors=3 ...................................................\n",
      "[CV] .................................... n_neighbors=3, total=   1.1s\n",
      "[CV] n_neighbors=5 ...................................................\n",
      "[CV] .................................... n_neighbors=5, total=   0.9s\n",
      "[CV] n_neighbors=5 ...................................................\n",
      "[CV] .................................... n_neighbors=5, total=   0.8s\n",
      "[CV] n_neighbors=5 ...................................................\n",
      "[CV] .................................... n_neighbors=5, total=   0.9s\n",
      "[CV] n_neighbors=5 ...................................................\n",
      "[CV] .................................... n_neighbors=5, total=   0.9s\n",
      "[CV] n_neighbors=5 ...................................................\n",
      "[CV] .................................... n_neighbors=5, total=   0.9s\n",
      "[CV] n_neighbors=7 ...................................................\n",
      "[CV] .................................... n_neighbors=7, total=   1.0s\n",
      "[CV] n_neighbors=7 ...................................................\n",
      "[CV] .................................... n_neighbors=7, total=   0.9s\n",
      "[CV] n_neighbors=7 ...................................................\n",
      "[CV] .................................... n_neighbors=7, total=   1.4s\n",
      "[CV] n_neighbors=7 ...................................................\n",
      "[CV] .................................... n_neighbors=7, total=   1.6s\n",
      "[CV] n_neighbors=7 ...................................................\n",
      "[CV] .................................... n_neighbors=7, total=   1.7s\n",
      "[CV] n_neighbors=9 ...................................................\n",
      "[CV] .................................... n_neighbors=9, total=   1.5s\n",
      "[CV] n_neighbors=9 ...................................................\n",
      "[CV] .................................... n_neighbors=9, total=   1.2s\n",
      "[CV] n_neighbors=9 ...................................................\n",
      "[CV] .................................... n_neighbors=9, total=   0.9s\n",
      "[CV] n_neighbors=9 ...................................................\n",
      "[CV] .................................... n_neighbors=9, total=   1.0s\n",
      "[CV] n_neighbors=9 ...................................................\n",
      "[CV] .................................... n_neighbors=9, total=   1.0s\n",
      "[CV] n_neighbors=11 ..................................................\n",
      "[CV] ................................... n_neighbors=11, total=   1.1s\n",
      "[CV] n_neighbors=11 ..................................................\n",
      "[CV] ................................... n_neighbors=11, total=   0.9s\n",
      "[CV] n_neighbors=11 ..................................................\n",
      "[CV] ................................... n_neighbors=11, total=   0.9s\n",
      "[CV] n_neighbors=11 ..................................................\n",
      "[CV] ................................... n_neighbors=11, total=   0.9s\n",
      "[CV] n_neighbors=11 ..................................................\n",
      "[CV] ................................... n_neighbors=11, total=   0.9s\n",
      "[CV] n_neighbors=21 ..................................................\n",
      "[CV] ................................... n_neighbors=21, total=   1.0s\n",
      "[CV] n_neighbors=21 ..................................................\n",
      "[CV] ................................... n_neighbors=21, total=   0.9s\n",
      "[CV] n_neighbors=21 ..................................................\n",
      "[CV] ................................... n_neighbors=21, total=   1.2s\n",
      "[CV] n_neighbors=21 ..................................................\n",
      "[CV] ................................... n_neighbors=21, total=   1.0s\n",
      "[CV] n_neighbors=21 ..................................................\n",
      "[CV] ................................... n_neighbors=21, total=   1.0s\n",
      "Fitting 5 folds for each of 6 candidates, totalling 30 fits\n",
      "[CV] n_neighbors=3 ...................................................\n"
     ]
    },
    {
     "name": "stderr",
     "output_type": "stream",
     "text": [
      "[Parallel(n_jobs=1)]: Done  30 out of  30 | elapsed:   32.4s finished\n",
      "[Parallel(n_jobs=1)]: Using backend SequentialBackend with 1 concurrent workers.\n"
     ]
    },
    {
     "name": "stdout",
     "output_type": "stream",
     "text": [
      "[CV] .................................... n_neighbors=3, total=   1.2s\n",
      "[CV] n_neighbors=3 ...................................................\n"
     ]
    },
    {
     "name": "stderr",
     "output_type": "stream",
     "text": [
      "[Parallel(n_jobs=1)]: Done   1 out of   1 | elapsed:    1.2s remaining:    0.0s\n"
     ]
    },
    {
     "name": "stdout",
     "output_type": "stream",
     "text": [
      "[CV] .................................... n_neighbors=3, total=   0.9s\n",
      "[CV] n_neighbors=3 ...................................................\n",
      "[CV] .................................... n_neighbors=3, total=   0.8s\n",
      "[CV] n_neighbors=3 ...................................................\n",
      "[CV] .................................... n_neighbors=3, total=   0.8s\n",
      "[CV] n_neighbors=3 ...................................................\n",
      "[CV] .................................... n_neighbors=3, total=   0.8s\n",
      "[CV] n_neighbors=5 ...................................................\n",
      "[CV] .................................... n_neighbors=5, total=   0.9s\n",
      "[CV] n_neighbors=5 ...................................................\n",
      "[CV] .................................... n_neighbors=5, total=   0.8s\n",
      "[CV] n_neighbors=5 ...................................................\n",
      "[CV] .................................... n_neighbors=5, total=   0.8s\n",
      "[CV] n_neighbors=5 ...................................................\n",
      "[CV] .................................... n_neighbors=5, total=   0.8s\n",
      "[CV] n_neighbors=5 ...................................................\n",
      "[CV] .................................... n_neighbors=5, total=   0.9s\n",
      "[CV] n_neighbors=7 ...................................................\n",
      "[CV] .................................... n_neighbors=7, total=   1.0s\n",
      "[CV] n_neighbors=7 ...................................................\n",
      "[CV] .................................... n_neighbors=7, total=   1.0s\n",
      "[CV] n_neighbors=7 ...................................................\n",
      "[CV] .................................... n_neighbors=7, total=   0.8s\n",
      "[CV] n_neighbors=7 ...................................................\n",
      "[CV] .................................... n_neighbors=7, total=   0.8s\n",
      "[CV] n_neighbors=7 ...................................................\n",
      "[CV] .................................... n_neighbors=7, total=   0.9s\n",
      "[CV] n_neighbors=9 ...................................................\n",
      "[CV] .................................... n_neighbors=9, total=   1.0s\n",
      "[CV] n_neighbors=9 ...................................................\n",
      "[CV] .................................... n_neighbors=9, total=   0.9s\n",
      "[CV] n_neighbors=9 ...................................................\n",
      "[CV] .................................... n_neighbors=9, total=   0.9s\n",
      "[CV] n_neighbors=9 ...................................................\n",
      "[CV] .................................... n_neighbors=9, total=   0.9s\n",
      "[CV] n_neighbors=9 ...................................................\n",
      "[CV] .................................... n_neighbors=9, total=   0.9s\n",
      "[CV] n_neighbors=11 ..................................................\n",
      "[CV] ................................... n_neighbors=11, total=   1.0s\n",
      "[CV] n_neighbors=11 ..................................................\n",
      "[CV] ................................... n_neighbors=11, total=   1.0s\n",
      "[CV] n_neighbors=11 ..................................................\n",
      "[CV] ................................... n_neighbors=11, total=   0.9s\n",
      "[CV] n_neighbors=11 ..................................................\n",
      "[CV] ................................... n_neighbors=11, total=   0.9s\n",
      "[CV] n_neighbors=11 ..................................................\n",
      "[CV] ................................... n_neighbors=11, total=   0.9s\n",
      "[CV] n_neighbors=21 ..................................................\n",
      "[CV] ................................... n_neighbors=21, total=   1.0s\n",
      "[CV] n_neighbors=21 ..................................................\n",
      "[CV] ................................... n_neighbors=21, total=   1.1s\n",
      "[CV] n_neighbors=21 ..................................................\n",
      "[CV] ................................... n_neighbors=21, total=   1.1s\n",
      "[CV] n_neighbors=21 ..................................................\n",
      "[CV] ................................... n_neighbors=21, total=   1.2s\n",
      "[CV] n_neighbors=21 ..................................................\n",
      "[CV] ................................... n_neighbors=21, total=   1.1s\n",
      "Fitting 5 folds for each of 6 candidates, totalling 30 fits\n",
      "[CV] n_neighbors=3 ...................................................\n"
     ]
    },
    {
     "name": "stderr",
     "output_type": "stream",
     "text": [
      "[Parallel(n_jobs=1)]: Done  30 out of  30 | elapsed:   27.9s finished\n",
      "[Parallel(n_jobs=1)]: Using backend SequentialBackend with 1 concurrent workers.\n"
     ]
    },
    {
     "name": "stdout",
     "output_type": "stream",
     "text": [
      "[CV] .................................... n_neighbors=3, total=   1.0s\n",
      "[CV] n_neighbors=3 ...................................................\n"
     ]
    },
    {
     "name": "stderr",
     "output_type": "stream",
     "text": [
      "[Parallel(n_jobs=1)]: Done   1 out of   1 | elapsed:    1.0s remaining:    0.0s\n"
     ]
    },
    {
     "name": "stdout",
     "output_type": "stream",
     "text": [
      "[CV] .................................... n_neighbors=3, total=   0.8s\n",
      "[CV] n_neighbors=3 ...................................................\n",
      "[CV] .................................... n_neighbors=3, total=   0.9s\n",
      "[CV] n_neighbors=3 ...................................................\n",
      "[CV] .................................... n_neighbors=3, total=   1.0s\n",
      "[CV] n_neighbors=3 ...................................................\n",
      "[CV] .................................... n_neighbors=3, total=   0.9s\n",
      "[CV] n_neighbors=5 ...................................................\n",
      "[CV] .................................... n_neighbors=5, total=   1.0s\n",
      "[CV] n_neighbors=5 ...................................................\n",
      "[CV] .................................... n_neighbors=5, total=   0.8s\n",
      "[CV] n_neighbors=5 ...................................................\n",
      "[CV] .................................... n_neighbors=5, total=   0.8s\n",
      "[CV] n_neighbors=5 ...................................................\n",
      "[CV] .................................... n_neighbors=5, total=   1.1s\n",
      "[CV] n_neighbors=5 ...................................................\n",
      "[CV] .................................... n_neighbors=5, total=   0.9s\n",
      "[CV] n_neighbors=7 ...................................................\n",
      "[CV] .................................... n_neighbors=7, total=   1.0s\n",
      "[CV] n_neighbors=7 ...................................................\n",
      "[CV] .................................... n_neighbors=7, total=   0.9s\n",
      "[CV] n_neighbors=7 ...................................................\n",
      "[CV] .................................... n_neighbors=7, total=   0.8s\n",
      "[CV] n_neighbors=7 ...................................................\n",
      "[CV] .................................... n_neighbors=7, total=   0.9s\n",
      "[CV] n_neighbors=7 ...................................................\n",
      "[CV] .................................... n_neighbors=7, total=   1.0s\n",
      "[CV] n_neighbors=9 ...................................................\n",
      "[CV] .................................... n_neighbors=9, total=   1.0s\n",
      "[CV] n_neighbors=9 ...................................................\n",
      "[CV] .................................... n_neighbors=9, total=   0.9s\n",
      "[CV] n_neighbors=9 ...................................................\n",
      "[CV] .................................... n_neighbors=9, total=   0.9s\n",
      "[CV] n_neighbors=9 ...................................................\n",
      "[CV] .................................... n_neighbors=9, total=   1.0s\n",
      "[CV] n_neighbors=9 ...................................................\n",
      "[CV] .................................... n_neighbors=9, total=   1.1s\n",
      "[CV] n_neighbors=11 ..................................................\n",
      "[CV] ................................... n_neighbors=11, total=   1.2s\n",
      "[CV] n_neighbors=11 ..................................................\n",
      "[CV] ................................... n_neighbors=11, total=   1.1s\n",
      "[CV] n_neighbors=11 ..................................................\n",
      "[CV] ................................... n_neighbors=11, total=   1.0s\n",
      "[CV] n_neighbors=11 ..................................................\n",
      "[CV] ................................... n_neighbors=11, total=   1.0s\n",
      "[CV] n_neighbors=11 ..................................................\n",
      "[CV] ................................... n_neighbors=11, total=   0.9s\n",
      "[CV] n_neighbors=21 ..................................................\n",
      "[CV] ................................... n_neighbors=21, total=   1.0s\n",
      "[CV] n_neighbors=21 ..................................................\n",
      "[CV] ................................... n_neighbors=21, total=   0.9s\n",
      "[CV] n_neighbors=21 ..................................................\n",
      "[CV] ................................... n_neighbors=21, total=   0.9s\n",
      "[CV] n_neighbors=21 ..................................................\n",
      "[CV] ................................... n_neighbors=21, total=   1.2s\n",
      "[CV] n_neighbors=21 ..................................................\n",
      "[CV] ................................... n_neighbors=21, total=   0.9s\n",
      "Fitting 5 folds for each of 6 candidates, totalling 30 fits\n",
      "[CV] n_neighbors=3 ...................................................\n"
     ]
    },
    {
     "name": "stderr",
     "output_type": "stream",
     "text": [
      "[Parallel(n_jobs=1)]: Done  30 out of  30 | elapsed:   28.9s finished\n",
      "[Parallel(n_jobs=1)]: Using backend SequentialBackend with 1 concurrent workers.\n"
     ]
    },
    {
     "name": "stdout",
     "output_type": "stream",
     "text": [
      "[CV] .................................... n_neighbors=3, total=   0.8s\n",
      "[CV] n_neighbors=3 ...................................................\n"
     ]
    },
    {
     "name": "stderr",
     "output_type": "stream",
     "text": [
      "[Parallel(n_jobs=1)]: Done   1 out of   1 | elapsed:    0.8s remaining:    0.0s\n"
     ]
    },
    {
     "name": "stdout",
     "output_type": "stream",
     "text": [
      "[CV] .................................... n_neighbors=3, total=   0.8s\n",
      "[CV] n_neighbors=3 ...................................................\n",
      "[CV] .................................... n_neighbors=3, total=   0.8s\n",
      "[CV] n_neighbors=3 ...................................................\n",
      "[CV] .................................... n_neighbors=3, total=   0.7s\n",
      "[CV] n_neighbors=3 ...................................................\n",
      "[CV] .................................... n_neighbors=3, total=   0.8s\n",
      "[CV] n_neighbors=5 ...................................................\n",
      "[CV] .................................... n_neighbors=5, total=   0.9s\n",
      "[CV] n_neighbors=5 ...................................................\n",
      "[CV] .................................... n_neighbors=5, total=   0.9s\n",
      "[CV] n_neighbors=5 ...................................................\n",
      "[CV] .................................... n_neighbors=5, total=   0.8s\n",
      "[CV] n_neighbors=5 ...................................................\n",
      "[CV] .................................... n_neighbors=5, total=   0.8s\n",
      "[CV] n_neighbors=5 ...................................................\n",
      "[CV] .................................... n_neighbors=5, total=   0.9s\n",
      "[CV] n_neighbors=7 ...................................................\n",
      "[CV] .................................... n_neighbors=7, total=   0.9s\n",
      "[CV] n_neighbors=7 ...................................................\n",
      "[CV] .................................... n_neighbors=7, total=   0.8s\n",
      "[CV] n_neighbors=7 ...................................................\n",
      "[CV] .................................... n_neighbors=7, total=   0.8s\n",
      "[CV] n_neighbors=7 ...................................................\n",
      "[CV] .................................... n_neighbors=7, total=   0.8s\n",
      "[CV] n_neighbors=7 ...................................................\n",
      "[CV] .................................... n_neighbors=7, total=   0.8s\n",
      "[CV] n_neighbors=9 ...................................................\n",
      "[CV] .................................... n_neighbors=9, total=   0.9s\n",
      "[CV] n_neighbors=9 ...................................................\n",
      "[CV] .................................... n_neighbors=9, total=   0.8s\n",
      "[CV] n_neighbors=9 ...................................................\n",
      "[CV] .................................... n_neighbors=9, total=   0.8s\n",
      "[CV] n_neighbors=9 ...................................................\n",
      "[CV] .................................... n_neighbors=9, total=   1.2s\n",
      "[CV] n_neighbors=9 ...................................................\n",
      "[CV] .................................... n_neighbors=9, total=   0.8s\n",
      "[CV] n_neighbors=11 ..................................................\n",
      "[CV] ................................... n_neighbors=11, total=   0.9s\n",
      "[CV] n_neighbors=11 ..................................................\n",
      "[CV] ................................... n_neighbors=11, total=   0.9s\n",
      "[CV] n_neighbors=11 ..................................................\n",
      "[CV] ................................... n_neighbors=11, total=   0.9s\n",
      "[CV] n_neighbors=11 ..................................................\n",
      "[CV] ................................... n_neighbors=11, total=   0.8s\n",
      "[CV] n_neighbors=11 ..................................................\n",
      "[CV] ................................... n_neighbors=11, total=   0.8s\n",
      "[CV] n_neighbors=21 ..................................................\n",
      "[CV] ................................... n_neighbors=21, total=   0.9s\n",
      "[CV] n_neighbors=21 ..................................................\n",
      "[CV] ................................... n_neighbors=21, total=   0.9s\n",
      "[CV] n_neighbors=21 ..................................................\n",
      "[CV] ................................... n_neighbors=21, total=   0.9s\n",
      "[CV] n_neighbors=21 ..................................................\n",
      "[CV] ................................... n_neighbors=21, total=   0.9s\n",
      "[CV] n_neighbors=21 ..................................................\n",
      "[CV] ................................... n_neighbors=21, total=   1.0s\n",
      "Fitting 5 folds for each of 5 candidates, totalling 25 fits\n",
      "[CV] n_estimators=100 ................................................\n"
     ]
    },
    {
     "name": "stderr",
     "output_type": "stream",
     "text": [
      "[Parallel(n_jobs=1)]: Done  30 out of  30 | elapsed:   25.8s finished\n",
      "[Parallel(n_jobs=1)]: Using backend SequentialBackend with 1 concurrent workers.\n"
     ]
    },
    {
     "name": "stdout",
     "output_type": "stream",
     "text": [
      "[CV] ................................. n_estimators=100, total=   1.4s\n",
      "[CV] n_estimators=100 ................................................\n"
     ]
    },
    {
     "name": "stderr",
     "output_type": "stream",
     "text": [
      "[Parallel(n_jobs=1)]: Done   1 out of   1 | elapsed:    1.4s remaining:    0.0s\n"
     ]
    },
    {
     "name": "stdout",
     "output_type": "stream",
     "text": [
      "[CV] ................................. n_estimators=100, total=   1.4s\n",
      "[CV] n_estimators=100 ................................................\n",
      "[CV] ................................. n_estimators=100, total=   1.6s\n",
      "[CV] n_estimators=100 ................................................\n",
      "[CV] ................................. n_estimators=100, total=   1.4s\n",
      "[CV] n_estimators=100 ................................................\n",
      "[CV] ................................. n_estimators=100, total=   1.4s\n",
      "[CV] n_estimators=200 ................................................\n",
      "[CV] ................................. n_estimators=200, total=   3.5s\n",
      "[CV] n_estimators=200 ................................................\n",
      "[CV] ................................. n_estimators=200, total=   3.8s\n",
      "[CV] n_estimators=200 ................................................\n",
      "[CV] ................................. n_estimators=200, total=   3.3s\n",
      "[CV] n_estimators=200 ................................................\n",
      "[CV] ................................. n_estimators=200, total=   2.8s\n",
      "[CV] n_estimators=200 ................................................\n",
      "[CV] ................................. n_estimators=200, total=   2.8s\n",
      "[CV] n_estimators=150 ................................................\n",
      "[CV] ................................. n_estimators=150, total=   2.0s\n",
      "[CV] n_estimators=150 ................................................\n",
      "[CV] ................................. n_estimators=150, total=   1.9s\n",
      "[CV] n_estimators=150 ................................................\n",
      "[CV] ................................. n_estimators=150, total=   2.0s\n",
      "[CV] n_estimators=150 ................................................\n",
      "[CV] ................................. n_estimators=150, total=   2.0s\n",
      "[CV] n_estimators=150 ................................................\n",
      "[CV] ................................. n_estimators=150, total=   2.2s\n",
      "[CV] n_estimators=170 ................................................\n",
      "[CV] ................................. n_estimators=170, total=   2.5s\n",
      "[CV] n_estimators=170 ................................................\n",
      "[CV] ................................. n_estimators=170, total=   2.4s\n",
      "[CV] n_estimators=170 ................................................\n",
      "[CV] ................................. n_estimators=170, total=   2.5s\n",
      "[CV] n_estimators=170 ................................................\n",
      "[CV] ................................. n_estimators=170, total=   2.5s\n",
      "[CV] n_estimators=170 ................................................\n",
      "[CV] ................................. n_estimators=170, total=   2.2s\n",
      "[CV] n_estimators=250 ................................................\n",
      "[CV] ................................. n_estimators=250, total=   3.3s\n",
      "[CV] n_estimators=250 ................................................\n",
      "[CV] ................................. n_estimators=250, total=   3.5s\n",
      "[CV] n_estimators=250 ................................................\n",
      "[CV] ................................. n_estimators=250, total=   3.5s\n",
      "[CV] n_estimators=250 ................................................\n",
      "[CV] ................................. n_estimators=250, total=   3.4s\n",
      "[CV] n_estimators=250 ................................................\n",
      "[CV] ................................. n_estimators=250, total=   3.3s\n"
     ]
    },
    {
     "name": "stderr",
     "output_type": "stream",
     "text": [
      "[Parallel(n_jobs=1)]: Done  25 out of  25 | elapsed:  1.0min finished\n"
     ]
    },
    {
     "name": "stdout",
     "output_type": "stream",
     "text": [
      "Fitting 5 folds for each of 5 candidates, totalling 25 fits\n",
      "[CV] n_estimators=100 ................................................\n"
     ]
    },
    {
     "name": "stderr",
     "output_type": "stream",
     "text": [
      "[Parallel(n_jobs=1)]: Using backend SequentialBackend with 1 concurrent workers.\n"
     ]
    },
    {
     "name": "stdout",
     "output_type": "stream",
     "text": [
      "[CV] ................................. n_estimators=100, total=   1.5s\n",
      "[CV] n_estimators=100 ................................................\n"
     ]
    },
    {
     "name": "stderr",
     "output_type": "stream",
     "text": [
      "[Parallel(n_jobs=1)]: Done   1 out of   1 | elapsed:    1.5s remaining:    0.0s\n"
     ]
    },
    {
     "name": "stdout",
     "output_type": "stream",
     "text": [
      "[CV] ................................. n_estimators=100, total=   1.4s\n",
      "[CV] n_estimators=100 ................................................\n",
      "[CV] ................................. n_estimators=100, total=   1.4s\n",
      "[CV] n_estimators=100 ................................................\n",
      "[CV] ................................. n_estimators=100, total=   1.4s\n",
      "[CV] n_estimators=100 ................................................\n",
      "[CV] ................................. n_estimators=100, total=   1.3s\n",
      "[CV] n_estimators=200 ................................................\n",
      "[CV] ................................. n_estimators=200, total=   2.7s\n",
      "[CV] n_estimators=200 ................................................\n",
      "[CV] ................................. n_estimators=200, total=   2.8s\n",
      "[CV] n_estimators=200 ................................................\n",
      "[CV] ................................. n_estimators=200, total=   2.8s\n",
      "[CV] n_estimators=200 ................................................\n",
      "[CV] ................................. n_estimators=200, total=   3.0s\n",
      "[CV] n_estimators=200 ................................................\n",
      "[CV] ................................. n_estimators=200, total=   2.9s\n",
      "[CV] n_estimators=150 ................................................\n",
      "[CV] ................................. n_estimators=150, total=   2.4s\n",
      "[CV] n_estimators=150 ................................................\n",
      "[CV] ................................. n_estimators=150, total=   2.0s\n",
      "[CV] n_estimators=150 ................................................\n",
      "[CV] ................................. n_estimators=150, total=   2.0s\n",
      "[CV] n_estimators=150 ................................................\n",
      "[CV] ................................. n_estimators=150, total=   2.0s\n",
      "[CV] n_estimators=150 ................................................\n",
      "[CV] ................................. n_estimators=150, total=   2.2s\n",
      "[CV] n_estimators=170 ................................................\n",
      "[CV] ................................. n_estimators=170, total=   2.4s\n",
      "[CV] n_estimators=170 ................................................\n",
      "[CV] ................................. n_estimators=170, total=   2.6s\n",
      "[CV] n_estimators=170 ................................................\n",
      "[CV] ................................. n_estimators=170, total=   2.3s\n",
      "[CV] n_estimators=170 ................................................\n",
      "[CV] ................................. n_estimators=170, total=   2.3s\n",
      "[CV] n_estimators=170 ................................................\n",
      "[CV] ................................. n_estimators=170, total=   2.3s\n",
      "[CV] n_estimators=250 ................................................\n",
      "[CV] ................................. n_estimators=250, total=   3.9s\n",
      "[CV] n_estimators=250 ................................................\n",
      "[CV] ................................. n_estimators=250, total=   3.7s\n",
      "[CV] n_estimators=250 ................................................\n",
      "[CV] ................................. n_estimators=250, total=   3.5s\n",
      "[CV] n_estimators=250 ................................................\n",
      "[CV] ................................. n_estimators=250, total=   3.4s\n",
      "[CV] n_estimators=250 ................................................\n",
      "[CV] ................................. n_estimators=250, total=   3.8s\n"
     ]
    },
    {
     "name": "stderr",
     "output_type": "stream",
     "text": [
      "[Parallel(n_jobs=1)]: Done  25 out of  25 | elapsed:  1.0min finished\n"
     ]
    },
    {
     "name": "stdout",
     "output_type": "stream",
     "text": [
      "Fitting 5 folds for each of 5 candidates, totalling 25 fits\n",
      "[CV] n_estimators=100 ................................................\n"
     ]
    },
    {
     "name": "stderr",
     "output_type": "stream",
     "text": [
      "[Parallel(n_jobs=1)]: Using backend SequentialBackend with 1 concurrent workers.\n"
     ]
    },
    {
     "name": "stdout",
     "output_type": "stream",
     "text": [
      "[CV] ................................. n_estimators=100, total=   1.7s\n",
      "[CV] n_estimators=100 ................................................\n"
     ]
    },
    {
     "name": "stderr",
     "output_type": "stream",
     "text": [
      "[Parallel(n_jobs=1)]: Done   1 out of   1 | elapsed:    1.7s remaining:    0.0s\n"
     ]
    },
    {
     "name": "stdout",
     "output_type": "stream",
     "text": [
      "[CV] ................................. n_estimators=100, total=   2.1s\n",
      "[CV] n_estimators=100 ................................................\n",
      "[CV] ................................. n_estimators=100, total=   1.8s\n",
      "[CV] n_estimators=100 ................................................\n",
      "[CV] ................................. n_estimators=100, total=   1.9s\n",
      "[CV] n_estimators=100 ................................................\n",
      "[CV] ................................. n_estimators=100, total=   1.8s\n",
      "[CV] n_estimators=200 ................................................\n",
      "[CV] ................................. n_estimators=200, total=   2.6s\n",
      "[CV] n_estimators=200 ................................................\n",
      "[CV] ................................. n_estimators=200, total=   2.9s\n",
      "[CV] n_estimators=200 ................................................\n",
      "[CV] ................................. n_estimators=200, total=   3.8s\n",
      "[CV] n_estimators=200 ................................................\n",
      "[CV] ................................. n_estimators=200, total=   3.3s\n",
      "[CV] n_estimators=200 ................................................\n",
      "[CV] ................................. n_estimators=200, total=   2.7s\n",
      "[CV] n_estimators=150 ................................................\n",
      "[CV] ................................. n_estimators=150, total=   2.1s\n",
      "[CV] n_estimators=150 ................................................\n",
      "[CV] ................................. n_estimators=150, total=   2.2s\n",
      "[CV] n_estimators=150 ................................................\n",
      "[CV] ................................. n_estimators=150, total=   2.3s\n",
      "[CV] n_estimators=150 ................................................\n",
      "[CV] ................................. n_estimators=150, total=   2.7s\n",
      "[CV] n_estimators=150 ................................................\n",
      "[CV] ................................. n_estimators=150, total=   2.2s\n",
      "[CV] n_estimators=170 ................................................\n",
      "[CV] ................................. n_estimators=170, total=   2.1s\n",
      "[CV] n_estimators=170 ................................................\n",
      "[CV] ................................. n_estimators=170, total=   2.1s\n",
      "[CV] n_estimators=170 ................................................\n",
      "[CV] ................................. n_estimators=170, total=   2.4s\n",
      "[CV] n_estimators=170 ................................................\n",
      "[CV] ................................. n_estimators=170, total=   2.4s\n",
      "[CV] n_estimators=170 ................................................\n",
      "[CV] ................................. n_estimators=170, total=   2.6s\n",
      "[CV] n_estimators=250 ................................................\n",
      "[CV] ................................. n_estimators=250, total=   3.3s\n",
      "[CV] n_estimators=250 ................................................\n",
      "[CV] ................................. n_estimators=250, total=   3.1s\n",
      "[CV] n_estimators=250 ................................................\n",
      "[CV] ................................. n_estimators=250, total=   3.2s\n",
      "[CV] n_estimators=250 ................................................\n",
      "[CV] ................................. n_estimators=250, total=   3.2s\n",
      "[CV] n_estimators=250 ................................................\n",
      "[CV] ................................. n_estimators=250, total=   3.2s\n"
     ]
    },
    {
     "name": "stderr",
     "output_type": "stream",
     "text": [
      "[Parallel(n_jobs=1)]: Done  25 out of  25 | elapsed:  1.1min finished\n"
     ]
    },
    {
     "name": "stdout",
     "output_type": "stream",
     "text": [
      "Fitting 5 folds for each of 5 candidates, totalling 25 fits\n",
      "[CV] n_estimators=100 ................................................\n"
     ]
    },
    {
     "name": "stderr",
     "output_type": "stream",
     "text": [
      "[Parallel(n_jobs=1)]: Using backend SequentialBackend with 1 concurrent workers.\n"
     ]
    },
    {
     "name": "stdout",
     "output_type": "stream",
     "text": [
      "[CV] ................................. n_estimators=100, total=   6.8s\n",
      "[CV] n_estimators=100 ................................................\n"
     ]
    },
    {
     "name": "stderr",
     "output_type": "stream",
     "text": [
      "[Parallel(n_jobs=1)]: Done   1 out of   1 | elapsed:    6.8s remaining:    0.0s\n"
     ]
    },
    {
     "name": "stdout",
     "output_type": "stream",
     "text": [
      "[CV] ................................. n_estimators=100, total=   7.7s\n",
      "[CV] n_estimators=100 ................................................\n",
      "[CV] ................................. n_estimators=100, total=   7.2s\n",
      "[CV] n_estimators=100 ................................................\n",
      "[CV] ................................. n_estimators=100, total=   6.6s\n",
      "[CV] n_estimators=100 ................................................\n",
      "[CV] ................................. n_estimators=100, total=   7.4s\n",
      "[CV] n_estimators=200 ................................................\n",
      "[CV] ................................. n_estimators=200, total=  12.5s\n",
      "[CV] n_estimators=200 ................................................\n",
      "[CV] ................................. n_estimators=200, total=  12.9s\n",
      "[CV] n_estimators=200 ................................................\n",
      "[CV] ................................. n_estimators=200, total=  12.4s\n",
      "[CV] n_estimators=200 ................................................\n",
      "[CV] ................................. n_estimators=200, total=  12.7s\n",
      "[CV] n_estimators=200 ................................................\n",
      "[CV] ................................. n_estimators=200, total=  12.7s\n",
      "[CV] n_estimators=150 ................................................\n",
      "[CV] ................................. n_estimators=150, total=   9.5s\n",
      "[CV] n_estimators=150 ................................................\n",
      "[CV] ................................. n_estimators=150, total=   9.9s\n",
      "[CV] n_estimators=150 ................................................\n",
      "[CV] ................................. n_estimators=150, total=  10.3s\n",
      "[CV] n_estimators=150 ................................................\n",
      "[CV] ................................. n_estimators=150, total=   9.5s\n",
      "[CV] n_estimators=150 ................................................\n",
      "[CV] ................................. n_estimators=150, total=   9.9s\n",
      "[CV] n_estimators=170 ................................................\n",
      "[CV] ................................. n_estimators=170, total=  10.8s\n",
      "[CV] n_estimators=170 ................................................\n",
      "[CV] ................................. n_estimators=170, total=  10.3s\n",
      "[CV] n_estimators=170 ................................................\n",
      "[CV] ................................. n_estimators=170, total=  11.7s\n",
      "[CV] n_estimators=170 ................................................\n",
      "[CV] ................................. n_estimators=170, total=  11.8s\n",
      "[CV] n_estimators=170 ................................................\n",
      "[CV] ................................. n_estimators=170, total=  11.3s\n",
      "[CV] n_estimators=250 ................................................\n",
      "[CV] ................................. n_estimators=250, total=  18.1s\n",
      "[CV] n_estimators=250 ................................................\n",
      "[CV] ................................. n_estimators=250, total=  18.0s\n",
      "[CV] n_estimators=250 ................................................\n",
      "[CV] ................................. n_estimators=250, total=  18.6s\n",
      "[CV] n_estimators=250 ................................................\n",
      "[CV] ................................. n_estimators=250, total=  16.4s\n",
      "[CV] n_estimators=250 ................................................\n",
      "[CV] ................................. n_estimators=250, total=  16.9s\n"
     ]
    },
    {
     "name": "stderr",
     "output_type": "stream",
     "text": [
      "[Parallel(n_jobs=1)]: Done  25 out of  25 | elapsed:  4.9min finished\n"
     ]
    }
   ],
   "source": [
    "# selecting best classifiers\n",
    "best_cls = best_models(datasets, labels, models_cls, parameters_cls)"
   ]
  },
  {
   "cell_type": "code",
   "execution_count": 50,
   "metadata": {},
   "outputs": [
    {
     "name": "stdout",
     "output_type": "stream",
     "text": [
      "Fitting 5 folds for each of 10 candidates, totalling 50 fits\n",
      "[CV] alpha=1, normalize=True .........................................\n",
      "[CV] .......................... alpha=1, normalize=True, total=   0.0s\n",
      "[CV] alpha=1, normalize=True .........................................\n",
      "[CV] .......................... alpha=1, normalize=True, total=   0.0s\n",
      "[CV] alpha=1, normalize=True .........................................\n",
      "[CV] .......................... alpha=1, normalize=True, total=   0.0s\n",
      "[CV] alpha=1, normalize=True .........................................\n",
      "[CV] .......................... alpha=1, normalize=True, total=   0.0s\n",
      "[CV] alpha=1, normalize=True .........................................\n",
      "[CV] .......................... alpha=1, normalize=True, total=   0.0s\n",
      "[CV] alpha=1, normalize=False ........................................\n",
      "[CV] ......................... alpha=1, normalize=False, total=   0.0s\n",
      "[CV] alpha=1, normalize=False ........................................\n",
      "[CV] ......................... alpha=1, normalize=False, total=   0.0s\n",
      "[CV] alpha=1, normalize=False ........................................\n",
      "[CV] ......................... alpha=1, normalize=False, total=   0.0s\n",
      "[CV] alpha=1, normalize=False ........................................\n",
      "[CV] ......................... alpha=1, normalize=False, total=   0.0s\n",
      "[CV] alpha=1, normalize=False ........................................\n",
      "[CV] ......................... alpha=1, normalize=False, total=   0.0s\n",
      "[CV] alpha=0.9, normalize=True .......................................\n"
     ]
    },
    {
     "name": "stderr",
     "output_type": "stream",
     "text": [
      "[Parallel(n_jobs=1)]: Using backend SequentialBackend with 1 concurrent workers.\n",
      "[Parallel(n_jobs=1)]: Done   1 out of   1 | elapsed:    0.0s remaining:    0.0s\n"
     ]
    },
    {
     "name": "stdout",
     "output_type": "stream",
     "text": [
      "[CV] ........................ alpha=0.9, normalize=True, total=   0.0s\n",
      "[CV] alpha=0.9, normalize=True .......................................\n",
      "[CV] ........................ alpha=0.9, normalize=True, total=   0.0s\n",
      "[CV] alpha=0.9, normalize=True .......................................\n",
      "[CV] ........................ alpha=0.9, normalize=True, total=   0.0s\n",
      "[CV] alpha=0.9, normalize=True .......................................\n",
      "[CV] ........................ alpha=0.9, normalize=True, total=   0.0s\n",
      "[CV] alpha=0.9, normalize=True .......................................\n",
      "[CV] ........................ alpha=0.9, normalize=True, total=   0.0s\n",
      "[CV] alpha=0.9, normalize=False ......................................\n",
      "[CV] ....................... alpha=0.9, normalize=False, total=   0.0s\n",
      "[CV] alpha=0.9, normalize=False ......................................\n",
      "[CV] ....................... alpha=0.9, normalize=False, total=   0.0s\n",
      "[CV] alpha=0.9, normalize=False ......................................\n",
      "[CV] ....................... alpha=0.9, normalize=False, total=   0.0s\n",
      "[CV] alpha=0.9, normalize=False ......................................\n",
      "[CV] ....................... alpha=0.9, normalize=False, total=   0.0s\n",
      "[CV] alpha=0.9, normalize=False ......................................\n",
      "[CV] ....................... alpha=0.9, normalize=False, total=   0.0s\n",
      "[CV] alpha=0.8, normalize=True .......................................\n",
      "[CV] ........................ alpha=0.8, normalize=True, total=   0.0s\n",
      "[CV] alpha=0.8, normalize=True .......................................\n",
      "[CV] ........................ alpha=0.8, normalize=True, total=   0.0s\n",
      "[CV] alpha=0.8, normalize=True .......................................\n",
      "[CV] ........................ alpha=0.8, normalize=True, total=   0.0s\n",
      "[CV] alpha=0.8, normalize=True .......................................\n",
      "[CV] ........................ alpha=0.8, normalize=True, total=   0.0s\n",
      "[CV] alpha=0.8, normalize=True .......................................\n",
      "[CV] ........................ alpha=0.8, normalize=True, total=   0.0s\n",
      "[CV] alpha=0.8, normalize=False ......................................\n",
      "[CV] ....................... alpha=0.8, normalize=False, total=   0.0s\n",
      "[CV] alpha=0.8, normalize=False ......................................\n",
      "[CV] ....................... alpha=0.8, normalize=False, total=   0.0s\n",
      "[CV] alpha=0.8, normalize=False ......................................\n",
      "[CV] ....................... alpha=0.8, normalize=False, total=   0.0s\n",
      "[CV] alpha=0.8, normalize=False ......................................\n",
      "[CV] ....................... alpha=0.8, normalize=False, total=   0.0s\n",
      "[CV] alpha=0.8, normalize=False ......................................\n",
      "[CV] ....................... alpha=0.8, normalize=False, total=   0.0s\n",
      "[CV] alpha=0.7, normalize=True .......................................\n",
      "[CV] ........................ alpha=0.7, normalize=True, total=   0.0s\n",
      "[CV] alpha=0.7, normalize=True .......................................\n",
      "[CV] ........................ alpha=0.7, normalize=True, total=   0.0s\n",
      "[CV] alpha=0.7, normalize=True .......................................\n",
      "[CV] ........................ alpha=0.7, normalize=True, total=   0.0s\n",
      "[CV] alpha=0.7, normalize=True .......................................\n",
      "[CV] ........................ alpha=0.7, normalize=True, total=   0.0s\n",
      "[CV] alpha=0.7, normalize=True .......................................\n",
      "[CV] ........................ alpha=0.7, normalize=True, total=   0.0s\n",
      "[CV] alpha=0.7, normalize=False ......................................\n",
      "[CV] ....................... alpha=0.7, normalize=False, total=   0.0s\n",
      "[CV] alpha=0.7, normalize=False ......................................\n",
      "[CV] ....................... alpha=0.7, normalize=False, total=   0.0s\n",
      "[CV] alpha=0.7, normalize=False ......................................\n",
      "[CV] ....................... alpha=0.7, normalize=False, total=   0.0s\n",
      "[CV] alpha=0.7, normalize=False ......................................\n",
      "[CV] ....................... alpha=0.7, normalize=False, total=   0.0s\n",
      "[CV] alpha=0.7, normalize=False ......................................\n",
      "[CV] ....................... alpha=0.7, normalize=False, total=   0.0s\n",
      "[CV] alpha=0.6, normalize=True .......................................\n",
      "[CV] ........................ alpha=0.6, normalize=True, total=   0.0s\n",
      "[CV] alpha=0.6, normalize=True .......................................\n",
      "[CV] ........................ alpha=0.6, normalize=True, total=   0.0s\n",
      "[CV] alpha=0.6, normalize=True .......................................\n",
      "[CV] ........................ alpha=0.6, normalize=True, total=   0.0s\n",
      "[CV] alpha=0.6, normalize=True .......................................\n",
      "[CV] ........................ alpha=0.6, normalize=True, total=   0.0s\n",
      "[CV] alpha=0.6, normalize=True .......................................\n",
      "[CV] ........................ alpha=0.6, normalize=True, total=   0.0s\n",
      "[CV] alpha=0.6, normalize=False ......................................\n",
      "[CV] ....................... alpha=0.6, normalize=False, total=   0.0s\n",
      "[CV] alpha=0.6, normalize=False ......................................\n",
      "[CV] ....................... alpha=0.6, normalize=False, total=   0.0s\n",
      "[CV] alpha=0.6, normalize=False ......................................\n",
      "[CV] ....................... alpha=0.6, normalize=False, total=   0.0s\n",
      "[CV] alpha=0.6, normalize=False ......................................\n",
      "[CV] ....................... alpha=0.6, normalize=False, total=   0.0s\n",
      "[CV] alpha=0.6, normalize=False ......................................\n",
      "[CV] ....................... alpha=0.6, normalize=False, total=   0.0s\n",
      "Fitting 5 folds for each of 10 candidates, totalling 50 fits\n",
      "[CV] alpha=1, normalize=True .........................................\n"
     ]
    },
    {
     "name": "stderr",
     "output_type": "stream",
     "text": [
      "[Parallel(n_jobs=1)]: Done  50 out of  50 | elapsed:    1.1s finished\n",
      "[Parallel(n_jobs=1)]: Using backend SequentialBackend with 1 concurrent workers.\n",
      "[Parallel(n_jobs=1)]: Done   1 out of   1 | elapsed:    0.0s remaining:    0.0s\n"
     ]
    },
    {
     "name": "stdout",
     "output_type": "stream",
     "text": [
      "[CV] .......................... alpha=1, normalize=True, total=   0.0s\n",
      "[CV] alpha=1, normalize=True .........................................\n",
      "[CV] .......................... alpha=1, normalize=True, total=   0.0s\n",
      "[CV] alpha=1, normalize=True .........................................\n",
      "[CV] .......................... alpha=1, normalize=True, total=   0.0s\n",
      "[CV] alpha=1, normalize=True .........................................\n",
      "[CV] .......................... alpha=1, normalize=True, total=   0.0s\n",
      "[CV] alpha=1, normalize=True .........................................\n",
      "[CV] .......................... alpha=1, normalize=True, total=   0.0s\n",
      "[CV] alpha=1, normalize=False ........................................\n",
      "[CV] ......................... alpha=1, normalize=False, total=   0.0s\n",
      "[CV] alpha=1, normalize=False ........................................\n",
      "[CV] ......................... alpha=1, normalize=False, total=   0.0s\n",
      "[CV] alpha=1, normalize=False ........................................\n",
      "[CV] ......................... alpha=1, normalize=False, total=   0.0s\n",
      "[CV] alpha=1, normalize=False ........................................\n",
      "[CV] ......................... alpha=1, normalize=False, total=   0.0s\n",
      "[CV] alpha=1, normalize=False ........................................\n",
      "[CV] ......................... alpha=1, normalize=False, total=   0.0s\n",
      "[CV] alpha=0.9, normalize=True .......................................\n",
      "[CV] ........................ alpha=0.9, normalize=True, total=   0.0s\n",
      "[CV] alpha=0.9, normalize=True .......................................\n",
      "[CV] ........................ alpha=0.9, normalize=True, total=   0.0s\n",
      "[CV] alpha=0.9, normalize=True .......................................\n",
      "[CV] ........................ alpha=0.9, normalize=True, total=   0.0s\n",
      "[CV] alpha=0.9, normalize=True .......................................\n",
      "[CV] ........................ alpha=0.9, normalize=True, total=   0.0s\n",
      "[CV] alpha=0.9, normalize=True .......................................\n",
      "[CV] ........................ alpha=0.9, normalize=True, total=   0.0s\n",
      "[CV] alpha=0.9, normalize=False ......................................\n",
      "[CV] ....................... alpha=0.9, normalize=False, total=   0.0s\n",
      "[CV] alpha=0.9, normalize=False ......................................\n",
      "[CV] ....................... alpha=0.9, normalize=False, total=   0.0s\n",
      "[CV] alpha=0.9, normalize=False ......................................\n",
      "[CV] ....................... alpha=0.9, normalize=False, total=   0.0s\n",
      "[CV] alpha=0.9, normalize=False ......................................\n",
      "[CV] ....................... alpha=0.9, normalize=False, total=   0.0s\n",
      "[CV] alpha=0.9, normalize=False ......................................\n",
      "[CV] ....................... alpha=0.9, normalize=False, total=   0.0s\n",
      "[CV] alpha=0.8, normalize=True .......................................\n",
      "[CV] ........................ alpha=0.8, normalize=True, total=   0.0s\n",
      "[CV] alpha=0.8, normalize=True .......................................\n",
      "[CV] ........................ alpha=0.8, normalize=True, total=   0.0s\n",
      "[CV] alpha=0.8, normalize=True .......................................\n",
      "[CV] ........................ alpha=0.8, normalize=True, total=   0.0s\n",
      "[CV] alpha=0.8, normalize=True .......................................\n",
      "[CV] ........................ alpha=0.8, normalize=True, total=   0.0s\n",
      "[CV] alpha=0.8, normalize=True .......................................\n",
      "[CV] ........................ alpha=0.8, normalize=True, total=   0.0s\n",
      "[CV] alpha=0.8, normalize=False ......................................\n",
      "[CV] ....................... alpha=0.8, normalize=False, total=   0.0s\n",
      "[CV] alpha=0.8, normalize=False ......................................\n",
      "[CV] ....................... alpha=0.8, normalize=False, total=   0.0s\n",
      "[CV] alpha=0.8, normalize=False ......................................\n",
      "[CV] ....................... alpha=0.8, normalize=False, total=   0.0s\n",
      "[CV] alpha=0.8, normalize=False ......................................\n",
      "[CV] ....................... alpha=0.8, normalize=False, total=   0.0s\n",
      "[CV] alpha=0.8, normalize=False ......................................\n",
      "[CV] ....................... alpha=0.8, normalize=False, total=   0.0s\n",
      "[CV] alpha=0.7, normalize=True .......................................\n",
      "[CV] ........................ alpha=0.7, normalize=True, total=   0.0s\n",
      "[CV] alpha=0.7, normalize=True .......................................\n",
      "[CV] ........................ alpha=0.7, normalize=True, total=   0.0s\n",
      "[CV] alpha=0.7, normalize=True .......................................\n",
      "[CV] ........................ alpha=0.7, normalize=True, total=   0.0s\n",
      "[CV] alpha=0.7, normalize=True .......................................\n",
      "[CV] ........................ alpha=0.7, normalize=True, total=   0.0s\n",
      "[CV] alpha=0.7, normalize=True .......................................\n",
      "[CV] ........................ alpha=0.7, normalize=True, total=   0.0s\n",
      "[CV] alpha=0.7, normalize=False ......................................\n",
      "[CV] ....................... alpha=0.7, normalize=False, total=   0.0s\n",
      "[CV] alpha=0.7, normalize=False ......................................\n",
      "[CV] ....................... alpha=0.7, normalize=False, total=   0.0s\n",
      "[CV] alpha=0.7, normalize=False ......................................\n",
      "[CV] ....................... alpha=0.7, normalize=False, total=   0.0s\n",
      "[CV] alpha=0.7, normalize=False ......................................\n",
      "[CV] ....................... alpha=0.7, normalize=False, total=   0.0s\n",
      "[CV] alpha=0.7, normalize=False ......................................\n",
      "[CV] ....................... alpha=0.7, normalize=False, total=   0.0s\n",
      "[CV] alpha=0.6, normalize=True .......................................\n",
      "[CV] ........................ alpha=0.6, normalize=True, total=   0.0s\n",
      "[CV] alpha=0.6, normalize=True .......................................\n",
      "[CV] ........................ alpha=0.6, normalize=True, total=   0.0s\n",
      "[CV] alpha=0.6, normalize=True .......................................\n",
      "[CV] ........................ alpha=0.6, normalize=True, total=   0.0s\n",
      "[CV] alpha=0.6, normalize=True .......................................\n",
      "[CV] ........................ alpha=0.6, normalize=True, total=   0.0s\n",
      "[CV] alpha=0.6, normalize=True .......................................\n",
      "[CV] ........................ alpha=0.6, normalize=True, total=   0.0s\n",
      "[CV] alpha=0.6, normalize=False ......................................\n",
      "[CV] ....................... alpha=0.6, normalize=False, total=   0.0s\n",
      "[CV] alpha=0.6, normalize=False ......................................\n",
      "[CV] ....................... alpha=0.6, normalize=False, total=   0.0s\n",
      "[CV] alpha=0.6, normalize=False ......................................\n",
      "[CV] ....................... alpha=0.6, normalize=False, total=   0.0s\n",
      "[CV] alpha=0.6, normalize=False ......................................\n",
      "[CV] ....................... alpha=0.6, normalize=False, total=   0.0s\n",
      "[CV] alpha=0.6, normalize=False ......................................\n",
      "[CV] ....................... alpha=0.6, normalize=False, total=   0.0s\n",
      "Fitting 5 folds for each of 10 candidates, totalling 50 fits\n",
      "[CV] alpha=1, normalize=True .........................................\n",
      "[CV] .......................... alpha=1, normalize=True, total=   0.0s\n",
      "[CV] alpha=1, normalize=True .........................................\n",
      "[CV] .......................... alpha=1, normalize=True, total=   0.0s\n",
      "[CV] alpha=1, normalize=True .........................................\n"
     ]
    },
    {
     "name": "stderr",
     "output_type": "stream",
     "text": [
      "[Parallel(n_jobs=1)]: Done  50 out of  50 | elapsed:    0.8s finished\n",
      "[Parallel(n_jobs=1)]: Using backend SequentialBackend with 1 concurrent workers.\n",
      "[Parallel(n_jobs=1)]: Done   1 out of   1 | elapsed:    0.0s remaining:    0.0s\n"
     ]
    },
    {
     "name": "stdout",
     "output_type": "stream",
     "text": [
      "[CV] .......................... alpha=1, normalize=True, total=   0.0s\n",
      "[CV] alpha=1, normalize=True .........................................\n",
      "[CV] .......................... alpha=1, normalize=True, total=   0.0s\n",
      "[CV] alpha=1, normalize=True .........................................\n",
      "[CV] .......................... alpha=1, normalize=True, total=   0.0s\n",
      "[CV] alpha=1, normalize=False ........................................\n",
      "[CV] ......................... alpha=1, normalize=False, total=   0.0s\n",
      "[CV] alpha=1, normalize=False ........................................\n",
      "[CV] ......................... alpha=1, normalize=False, total=   0.0s\n",
      "[CV] alpha=1, normalize=False ........................................\n",
      "[CV] ......................... alpha=1, normalize=False, total=   0.0s\n",
      "[CV] alpha=1, normalize=False ........................................\n",
      "[CV] ......................... alpha=1, normalize=False, total=   0.0s\n",
      "[CV] alpha=1, normalize=False ........................................\n",
      "[CV] ......................... alpha=1, normalize=False, total=   0.0s\n",
      "[CV] alpha=0.9, normalize=True .......................................\n",
      "[CV] ........................ alpha=0.9, normalize=True, total=   0.0s\n",
      "[CV] alpha=0.9, normalize=True .......................................\n",
      "[CV] ........................ alpha=0.9, normalize=True, total=   0.0s\n",
      "[CV] alpha=0.9, normalize=True .......................................\n",
      "[CV] ........................ alpha=0.9, normalize=True, total=   0.0s\n",
      "[CV] alpha=0.9, normalize=True .......................................\n",
      "[CV] ........................ alpha=0.9, normalize=True, total=   0.0s\n",
      "[CV] alpha=0.9, normalize=True .......................................\n",
      "[CV] ........................ alpha=0.9, normalize=True, total=   0.0s\n",
      "[CV] alpha=0.9, normalize=False ......................................\n",
      "[CV] ....................... alpha=0.9, normalize=False, total=   0.0s\n",
      "[CV] alpha=0.9, normalize=False ......................................\n",
      "[CV] ....................... alpha=0.9, normalize=False, total=   0.0s\n",
      "[CV] alpha=0.9, normalize=False ......................................\n",
      "[CV] ....................... alpha=0.9, normalize=False, total=   0.0s\n",
      "[CV] alpha=0.9, normalize=False ......................................\n",
      "[CV] ....................... alpha=0.9, normalize=False, total=   0.0s\n",
      "[CV] alpha=0.9, normalize=False ......................................\n",
      "[CV] ....................... alpha=0.9, normalize=False, total=   0.0s\n",
      "[CV] alpha=0.8, normalize=True .......................................\n",
      "[CV] ........................ alpha=0.8, normalize=True, total=   0.0s\n",
      "[CV] alpha=0.8, normalize=True .......................................\n",
      "[CV] ........................ alpha=0.8, normalize=True, total=   0.0s\n",
      "[CV] alpha=0.8, normalize=True .......................................\n",
      "[CV] ........................ alpha=0.8, normalize=True, total=   0.0s\n",
      "[CV] alpha=0.8, normalize=True .......................................\n",
      "[CV] ........................ alpha=0.8, normalize=True, total=   0.0s\n",
      "[CV] alpha=0.8, normalize=True .......................................\n",
      "[CV] ........................ alpha=0.8, normalize=True, total=   0.0s\n",
      "[CV] alpha=0.8, normalize=False ......................................\n",
      "[CV] ....................... alpha=0.8, normalize=False, total=   0.0s\n",
      "[CV] alpha=0.8, normalize=False ......................................\n",
      "[CV] ....................... alpha=0.8, normalize=False, total=   0.0s\n",
      "[CV] alpha=0.8, normalize=False ......................................\n",
      "[CV] ....................... alpha=0.8, normalize=False, total=   0.0s\n",
      "[CV] alpha=0.8, normalize=False ......................................\n",
      "[CV] ....................... alpha=0.8, normalize=False, total=   0.0s\n",
      "[CV] alpha=0.8, normalize=False ......................................\n",
      "[CV] ....................... alpha=0.8, normalize=False, total=   0.0s\n",
      "[CV] alpha=0.7, normalize=True .......................................\n",
      "[CV] ........................ alpha=0.7, normalize=True, total=   0.0s\n",
      "[CV] alpha=0.7, normalize=True .......................................\n",
      "[CV] ........................ alpha=0.7, normalize=True, total=   0.0s\n",
      "[CV] alpha=0.7, normalize=True .......................................\n",
      "[CV] ........................ alpha=0.7, normalize=True, total=   0.0s\n",
      "[CV] alpha=0.7, normalize=True .......................................\n",
      "[CV] ........................ alpha=0.7, normalize=True, total=   0.0s\n",
      "[CV] alpha=0.7, normalize=True .......................................\n",
      "[CV] ........................ alpha=0.7, normalize=True, total=   0.0s\n",
      "[CV] alpha=0.7, normalize=False ......................................\n",
      "[CV] ....................... alpha=0.7, normalize=False, total=   0.0s\n",
      "[CV] alpha=0.7, normalize=False ......................................\n",
      "[CV] ....................... alpha=0.7, normalize=False, total=   0.0s\n",
      "[CV] alpha=0.7, normalize=False ......................................\n",
      "[CV] ....................... alpha=0.7, normalize=False, total=   0.0s\n",
      "[CV] alpha=0.7, normalize=False ......................................\n",
      "[CV] ....................... alpha=0.7, normalize=False, total=   0.0s\n",
      "[CV] alpha=0.7, normalize=False ......................................\n",
      "[CV] ....................... alpha=0.7, normalize=False, total=   0.0s\n",
      "[CV] alpha=0.6, normalize=True .......................................\n",
      "[CV] ........................ alpha=0.6, normalize=True, total=   0.0s\n",
      "[CV] alpha=0.6, normalize=True .......................................\n",
      "[CV] ........................ alpha=0.6, normalize=True, total=   0.0s\n",
      "[CV] alpha=0.6, normalize=True .......................................\n",
      "[CV] ........................ alpha=0.6, normalize=True, total=   0.0s\n",
      "[CV] alpha=0.6, normalize=True .......................................\n",
      "[CV] ........................ alpha=0.6, normalize=True, total=   0.0s\n",
      "[CV] alpha=0.6, normalize=True .......................................\n",
      "[CV] ........................ alpha=0.6, normalize=True, total=   0.0s\n",
      "[CV] alpha=0.6, normalize=False ......................................\n",
      "[CV] ....................... alpha=0.6, normalize=False, total=   0.0s\n",
      "[CV] alpha=0.6, normalize=False ......................................\n",
      "[CV] ....................... alpha=0.6, normalize=False, total=   0.0s\n",
      "[CV] alpha=0.6, normalize=False ......................................\n",
      "[CV] ....................... alpha=0.6, normalize=False, total=   0.0s\n",
      "[CV] alpha=0.6, normalize=False ......................................\n",
      "[CV] ....................... alpha=0.6, normalize=False, total=   0.0s\n",
      "[CV] alpha=0.6, normalize=False ......................................\n",
      "[CV] ....................... alpha=0.6, normalize=False, total=   0.0s\n",
      "Fitting 5 folds for each of 10 candidates, totalling 50 fits\n",
      "[CV] alpha=1, normalize=True .........................................\n",
      "[CV] .......................... alpha=1, normalize=True, total=   0.0s\n",
      "[CV] alpha=1, normalize=True .........................................\n",
      "[CV] .......................... alpha=1, normalize=True, total=   0.0s\n",
      "[CV] alpha=1, normalize=True .........................................\n",
      "[CV] .......................... alpha=1, normalize=True, total=   0.0s\n",
      "[CV] alpha=1, normalize=True .........................................\n",
      "[CV] .......................... alpha=1, normalize=True, total=   0.0s\n",
      "[CV] alpha=1, normalize=True .........................................\n",
      "[CV] .......................... alpha=1, normalize=True, total=   0.0s\n",
      "[CV] alpha=1, normalize=False ........................................\n"
     ]
    },
    {
     "name": "stderr",
     "output_type": "stream",
     "text": [
      "[Parallel(n_jobs=1)]: Done  50 out of  50 | elapsed:    0.8s finished\n",
      "[Parallel(n_jobs=1)]: Using backend SequentialBackend with 1 concurrent workers.\n",
      "[Parallel(n_jobs=1)]: Done   1 out of   1 | elapsed:    0.0s remaining:    0.0s\n"
     ]
    },
    {
     "name": "stdout",
     "output_type": "stream",
     "text": [
      "[CV] ......................... alpha=1, normalize=False, total=   0.0s\n",
      "[CV] alpha=1, normalize=False ........................................\n",
      "[CV] ......................... alpha=1, normalize=False, total=   0.0s\n",
      "[CV] alpha=1, normalize=False ........................................\n",
      "[CV] ......................... alpha=1, normalize=False, total=   0.0s\n",
      "[CV] alpha=1, normalize=False ........................................\n",
      "[CV] ......................... alpha=1, normalize=False, total=   0.0s\n",
      "[CV] alpha=1, normalize=False ........................................\n",
      "[CV] ......................... alpha=1, normalize=False, total=   0.0s\n",
      "[CV] alpha=0.9, normalize=True .......................................\n",
      "[CV] ........................ alpha=0.9, normalize=True, total=   0.0s\n",
      "[CV] alpha=0.9, normalize=True .......................................\n",
      "[CV] ........................ alpha=0.9, normalize=True, total=   0.0s\n",
      "[CV] alpha=0.9, normalize=True .......................................\n",
      "[CV] ........................ alpha=0.9, normalize=True, total=   0.0s\n",
      "[CV] alpha=0.9, normalize=True .......................................\n",
      "[CV] ........................ alpha=0.9, normalize=True, total=   0.0s\n",
      "[CV] alpha=0.9, normalize=True .......................................\n",
      "[CV] ........................ alpha=0.9, normalize=True, total=   0.0s\n",
      "[CV] alpha=0.9, normalize=False ......................................\n",
      "[CV] ....................... alpha=0.9, normalize=False, total=   0.0s\n",
      "[CV] alpha=0.9, normalize=False ......................................\n",
      "[CV] ....................... alpha=0.9, normalize=False, total=   0.0s\n",
      "[CV] alpha=0.9, normalize=False ......................................\n",
      "[CV] ....................... alpha=0.9, normalize=False, total=   0.0s\n",
      "[CV] alpha=0.9, normalize=False ......................................\n",
      "[CV] ....................... alpha=0.9, normalize=False, total=   0.0s\n",
      "[CV] alpha=0.9, normalize=False ......................................\n",
      "[CV] ....................... alpha=0.9, normalize=False, total=   0.0s\n",
      "[CV] alpha=0.8, normalize=True .......................................\n",
      "[CV] ........................ alpha=0.8, normalize=True, total=   0.0s\n",
      "[CV] alpha=0.8, normalize=True .......................................\n",
      "[CV] ........................ alpha=0.8, normalize=True, total=   0.0s\n",
      "[CV] alpha=0.8, normalize=True .......................................\n",
      "[CV] ........................ alpha=0.8, normalize=True, total=   0.0s\n",
      "[CV] alpha=0.8, normalize=True .......................................\n",
      "[CV] ........................ alpha=0.8, normalize=True, total=   0.0s\n",
      "[CV] alpha=0.8, normalize=True .......................................\n",
      "[CV] ........................ alpha=0.8, normalize=True, total=   0.0s\n",
      "[CV] alpha=0.8, normalize=False ......................................\n",
      "[CV] ....................... alpha=0.8, normalize=False, total=   0.0s\n",
      "[CV] alpha=0.8, normalize=False ......................................\n",
      "[CV] ....................... alpha=0.8, normalize=False, total=   0.0s\n",
      "[CV] alpha=0.8, normalize=False ......................................\n",
      "[CV] ....................... alpha=0.8, normalize=False, total=   0.0s\n",
      "[CV] alpha=0.8, normalize=False ......................................\n",
      "[CV] ....................... alpha=0.8, normalize=False, total=   0.0s\n",
      "[CV] alpha=0.8, normalize=False ......................................\n",
      "[CV] ....................... alpha=0.8, normalize=False, total=   0.0s\n",
      "[CV] alpha=0.7, normalize=True .......................................\n",
      "[CV] ........................ alpha=0.7, normalize=True, total=   0.0s\n",
      "[CV] alpha=0.7, normalize=True .......................................\n",
      "[CV] ........................ alpha=0.7, normalize=True, total=   0.0s\n",
      "[CV] alpha=0.7, normalize=True .......................................\n",
      "[CV] ........................ alpha=0.7, normalize=True, total=   0.0s\n",
      "[CV] alpha=0.7, normalize=True .......................................\n",
      "[CV] ........................ alpha=0.7, normalize=True, total=   0.0s\n",
      "[CV] alpha=0.7, normalize=True .......................................\n",
      "[CV] ........................ alpha=0.7, normalize=True, total=   0.0s\n",
      "[CV] alpha=0.7, normalize=False ......................................\n",
      "[CV] ....................... alpha=0.7, normalize=False, total=   0.0s\n",
      "[CV] alpha=0.7, normalize=False ......................................\n",
      "[CV] ....................... alpha=0.7, normalize=False, total=   0.0s\n",
      "[CV] alpha=0.7, normalize=False ......................................\n",
      "[CV] ....................... alpha=0.7, normalize=False, total=   0.0s\n",
      "[CV] alpha=0.7, normalize=False ......................................\n",
      "[CV] ....................... alpha=0.7, normalize=False, total=   0.0s\n",
      "[CV] alpha=0.7, normalize=False ......................................\n",
      "[CV] ....................... alpha=0.7, normalize=False, total=   0.0s\n",
      "[CV] alpha=0.6, normalize=True .......................................\n",
      "[CV] ........................ alpha=0.6, normalize=True, total=   0.0s\n",
      "[CV] alpha=0.6, normalize=True .......................................\n",
      "[CV] ........................ alpha=0.6, normalize=True, total=   0.0s\n",
      "[CV] alpha=0.6, normalize=True .......................................\n",
      "[CV] ........................ alpha=0.6, normalize=True, total=   0.0s\n",
      "[CV] alpha=0.6, normalize=True .......................................\n",
      "[CV] ........................ alpha=0.6, normalize=True, total=   0.0s\n",
      "[CV] alpha=0.6, normalize=True .......................................\n",
      "[CV] ........................ alpha=0.6, normalize=True, total=   0.0s\n",
      "[CV] alpha=0.6, normalize=False ......................................\n",
      "[CV] ....................... alpha=0.6, normalize=False, total=   0.0s\n",
      "[CV] alpha=0.6, normalize=False ......................................\n",
      "[CV] ....................... alpha=0.6, normalize=False, total=   0.0s\n",
      "[CV] alpha=0.6, normalize=False ......................................\n",
      "[CV] ....................... alpha=0.6, normalize=False, total=   0.0s\n",
      "[CV] alpha=0.6, normalize=False ......................................\n",
      "[CV] ....................... alpha=0.6, normalize=False, total=   0.0s\n",
      "[CV] alpha=0.6, normalize=False ......................................\n",
      "[CV] ....................... alpha=0.6, normalize=False, total=   0.0s\n",
      "Fitting 5 folds for each of 2 candidates, totalling 10 fits\n",
      "[CV] normalize=True ..................................................\n",
      "[CV] ................................... normalize=True, total=   0.1s\n",
      "[CV] normalize=True ..................................................\n",
      "[CV] ................................... normalize=True, total=   0.0s\n",
      "[CV] normalize=True ..................................................\n"
     ]
    },
    {
     "name": "stderr",
     "output_type": "stream",
     "text": [
      "[Parallel(n_jobs=1)]: Done  50 out of  50 | elapsed:    0.6s finished\n",
      "[Parallel(n_jobs=1)]: Using backend SequentialBackend with 1 concurrent workers.\n",
      "[Parallel(n_jobs=1)]: Done   1 out of   1 | elapsed:    0.1s remaining:    0.0s\n"
     ]
    },
    {
     "name": "stdout",
     "output_type": "stream",
     "text": [
      "[CV] ................................... normalize=True, total=   0.0s\n",
      "[CV] normalize=True ..................................................\n",
      "[CV] ................................... normalize=True, total=   0.0s\n",
      "[CV] normalize=True ..................................................\n",
      "[CV] ................................... normalize=True, total=   0.0s\n",
      "[CV] normalize=False .................................................\n",
      "[CV] .................................. normalize=False, total=   0.0s\n",
      "[CV] normalize=False .................................................\n",
      "[CV] .................................. normalize=False, total=   0.0s\n",
      "[CV] normalize=False .................................................\n",
      "[CV] .................................. normalize=False, total=   0.0s\n",
      "[CV] normalize=False .................................................\n",
      "[CV] .................................. normalize=False, total=   0.0s\n",
      "[CV] normalize=False .................................................\n",
      "[CV] .................................. normalize=False, total=   0.0s\n"
     ]
    },
    {
     "name": "stderr",
     "output_type": "stream",
     "text": [
      "[Parallel(n_jobs=1)]: Done  10 out of  10 | elapsed:    0.3s finished\n",
      "[Parallel(n_jobs=1)]: Using backend SequentialBackend with 1 concurrent workers.\n",
      "[Parallel(n_jobs=1)]: Done   1 out of   1 | elapsed:    0.0s remaining:    0.0s\n"
     ]
    },
    {
     "name": "stdout",
     "output_type": "stream",
     "text": [
      "Fitting 5 folds for each of 2 candidates, totalling 10 fits\n",
      "[CV] normalize=True ..................................................\n",
      "[CV] ................................... normalize=True, total=   0.0s\n",
      "[CV] normalize=True ..................................................\n",
      "[CV] ................................... normalize=True, total=   0.0s\n",
      "[CV] normalize=True ..................................................\n",
      "[CV] ................................... normalize=True, total=   0.0s\n",
      "[CV] normalize=True ..................................................\n",
      "[CV] ................................... normalize=True, total=   0.0s\n",
      "[CV] normalize=True ..................................................\n",
      "[CV] ................................... normalize=True, total=   0.0s\n",
      "[CV] normalize=False .................................................\n",
      "[CV] .................................. normalize=False, total=   0.0s\n",
      "[CV] normalize=False .................................................\n",
      "[CV] .................................. normalize=False, total=   0.0s\n",
      "[CV] normalize=False .................................................\n",
      "[CV] .................................. normalize=False, total=   0.0s\n",
      "[CV] normalize=False .................................................\n",
      "[CV] .................................. normalize=False, total=   0.0s\n",
      "[CV] normalize=False .................................................\n",
      "[CV] .................................. normalize=False, total=   0.0s\n",
      "Fitting 5 folds for each of 2 candidates, totalling 10 fits\n",
      "[CV] normalize=True ..................................................\n",
      "[CV] ................................... normalize=True, total=   0.0s\n",
      "[CV] normalize=True ..................................................\n",
      "[CV] ................................... normalize=True, total=   0.0s\n",
      "[CV] normalize=True ..................................................\n",
      "[CV] ................................... normalize=True, total=   0.0s\n",
      "[CV] normalize=True ..................................................\n",
      "[CV] ................................... normalize=True, total=   0.0s\n",
      "[CV] normalize=True ..................................................\n"
     ]
    },
    {
     "name": "stderr",
     "output_type": "stream",
     "text": [
      "[Parallel(n_jobs=1)]: Done  10 out of  10 | elapsed:    0.3s finished\n",
      "[Parallel(n_jobs=1)]: Using backend SequentialBackend with 1 concurrent workers.\n",
      "[Parallel(n_jobs=1)]: Done   1 out of   1 | elapsed:    0.0s remaining:    0.0s\n"
     ]
    },
    {
     "name": "stdout",
     "output_type": "stream",
     "text": [
      "[CV] ................................... normalize=True, total=   0.0s\n",
      "[CV] normalize=False .................................................\n",
      "[CV] .................................. normalize=False, total=   0.0s\n",
      "[CV] normalize=False .................................................\n",
      "[CV] .................................. normalize=False, total=   0.0s\n",
      "[CV] normalize=False .................................................\n",
      "[CV] .................................. normalize=False, total=   0.0s\n",
      "[CV] normalize=False .................................................\n",
      "[CV] .................................. normalize=False, total=   0.0s\n",
      "[CV] normalize=False .................................................\n",
      "[CV] .................................. normalize=False, total=   0.0s\n",
      "Fitting 5 folds for each of 2 candidates, totalling 10 fits\n",
      "[CV] normalize=True ..................................................\n",
      "[CV] ................................... normalize=True, total=   0.0s\n",
      "[CV] normalize=True ..................................................\n"
     ]
    },
    {
     "name": "stderr",
     "output_type": "stream",
     "text": [
      "[Parallel(n_jobs=1)]: Done  10 out of  10 | elapsed:    0.3s finished\n",
      "[Parallel(n_jobs=1)]: Using backend SequentialBackend with 1 concurrent workers.\n",
      "[Parallel(n_jobs=1)]: Done   1 out of   1 | elapsed:    0.0s remaining:    0.0s\n"
     ]
    },
    {
     "name": "stdout",
     "output_type": "stream",
     "text": [
      "[CV] ................................... normalize=True, total=   0.0s\n",
      "[CV] normalize=True ..................................................\n",
      "[CV] ................................... normalize=True, total=   0.0s\n",
      "[CV] normalize=True ..................................................\n",
      "[CV] ................................... normalize=True, total=   0.0s\n",
      "[CV] normalize=True ..................................................\n",
      "[CV] ................................... normalize=True, total=   0.0s\n",
      "[CV] normalize=False .................................................\n",
      "[CV] .................................. normalize=False, total=   0.0s\n",
      "[CV] normalize=False .................................................\n",
      "[CV] .................................. normalize=False, total=   0.0s\n",
      "[CV] normalize=False .................................................\n",
      "[CV] .................................. normalize=False, total=   0.0s\n",
      "[CV] normalize=False .................................................\n",
      "[CV] .................................. normalize=False, total=   0.0s\n",
      "[CV] normalize=False .................................................\n",
      "[CV] .................................. normalize=False, total=   0.0s\n"
     ]
    },
    {
     "name": "stderr",
     "output_type": "stream",
     "text": [
      "[Parallel(n_jobs=1)]: Done  10 out of  10 | elapsed:    0.2s finished\n"
     ]
    }
   ],
   "source": [
    "# selecting best regressors\n",
    "best_reg = best_models(datasets, labels, models_reg, parameters_reg)"
   ]
  },
  {
   "cell_type": "markdown",
   "metadata": {},
   "source": [
    "### 7. Results"
   ]
  },
  {
   "cell_type": "code",
   "execution_count": 51,
   "metadata": {},
   "outputs": [
    {
     "name": "stdout",
     "output_type": "stream",
     "text": [
      "For model Linear SVC, Initial dataset, we got the following results:\n",
      "Accuracy: 0.8568019093078759\n",
      "F1-score: 0.2682926829268293\n",
      "\n",
      "For model Linear SVC, Forward Selection dataset, we got the following results:\n",
      "Accuracy: 0.8568019093078759\n",
      "F1-score: 0.2682926829268293\n",
      "\n",
      "For model Linear SVC, Backward Selection dataset, we got the following results:\n",
      "Accuracy: 0.8568019093078759\n",
      "F1-score: 0.2682926829268293\n",
      "\n"
     ]
    },
    {
     "name": "stderr",
     "output_type": "stream",
     "text": [
      "/home/marina/anaconda3/lib/python3.7/site-packages/sklearn/svm/_base.py:947: ConvergenceWarning: Liblinear failed to converge, increase the number of iterations.\n",
      "  \"the number of iterations.\", ConvergenceWarning)\n"
     ]
    },
    {
     "name": "stdout",
     "output_type": "stream",
     "text": [
      "For model Linear SVC, PCA dataset, we got the following results:\n",
      "Accuracy: 0.8562052505966588\n",
      "F1-score: 0.370757180156658\n",
      "\n",
      "For model Ridge Classifier, Initial dataset, we got the following results:\n",
      "Accuracy: 0.8526252983293556\n",
      "F1-score: 0.15699658703071673\n",
      "\n",
      "For model Ridge Classifier, Forward Selection dataset, we got the following results:\n",
      "Accuracy: 0.8526252983293556\n",
      "F1-score: 0.15699658703071673\n",
      "\n",
      "For model Ridge Classifier, Backward Selection dataset, we got the following results:\n",
      "Accuracy: 0.8526252983293556\n",
      "F1-score: 0.15699658703071673\n",
      "\n",
      "For model Ridge Classifier, PCA dataset, we got the following results:\n",
      "Accuracy: 0.8562052505966588\n",
      "F1-score: 0.2538699690402477\n",
      "\n",
      "For model KNN, Initial dataset, we got the following results:\n",
      "Accuracy: 0.8406921241050119\n",
      "F1-score: 0.0\n",
      "\n",
      "For model KNN, Forward Selection dataset, we got the following results:\n",
      "Accuracy: 0.8406921241050119\n",
      "F1-score: 0.0\n",
      "\n",
      "For model KNN, Backward Selection dataset, we got the following results:\n",
      "Accuracy: 0.8406921241050119\n",
      "F1-score: 0.0\n",
      "\n",
      "For model KNN, PCA dataset, we got the following results:\n",
      "Accuracy: 0.8406921241050119\n",
      "F1-score: 0.0\n",
      "\n",
      "For model Random Forest, Initial dataset, we got the following results:\n",
      "Accuracy: 0.8675417661097852\n",
      "F1-score: 0.3546511627906977\n",
      "\n",
      "For model Random Forest, Forward Selection dataset, we got the following results:\n",
      "Accuracy: 0.8705250596658711\n",
      "F1-score: 0.3817663817663818\n",
      "\n",
      "For model Random Forest, Backward Selection dataset, we got the following results:\n",
      "Accuracy: 0.8705250596658711\n",
      "F1-score: 0.3746397694524496\n",
      "\n",
      "For model Random Forest, PCA dataset, we got the following results:\n",
      "Accuracy: 0.8478520286396182\n",
      "F1-score: 0.07272727272727274\n",
      "\n"
     ]
    },
    {
     "data": {
      "image/png": "[encoded data removed]",
      "text/plain": [
       "<Figure size 432x288 with 2 Axes>"
      ]
     },
     "metadata": {
      "needs_background": "light"
     },
     "output_type": "display_data"
    },
    {
     "data": {
      "image/png": "[encoded data removed]",
      "text/plain": [
       "<Figure size 432x288 with 2 Axes>"
      ]
     },
     "metadata": {
      "needs_background": "light"
     },
     "output_type": "display_data"
    },
    {
     "data": {
      "image/png": "[encoded data removed]",
      "text/plain": [
       "<Figure size 432x288 with 2 Axes>"
      ]
     },
     "metadata": {
      "needs_background": "light"
     },
     "output_type": "display_data"
    },
    {
     "data": {
      "image/png": "[encoded data removed]",
      "text/plain": [
       "<Figure size 432x288 with 2 Axes>"
      ]
     },
     "metadata": {
      "needs_background": "light"
     },
     "output_type": "display_data"
    },
    {
     "data": {
      "image/png": "[encoded data removed]",
      "text/plain": [
       "<Figure size 432x288 with 2 Axes>"
      ]
     },
     "metadata": {
      "needs_background": "light"
     },
     "output_type": "display_data"
    },
    {
     "data": {
      "image/png": "[encoded data removed]",
      "text/plain": [
       "<Figure size 432x288 with 2 Axes>"
      ]
     },
     "metadata": {
      "needs_background": "light"
     },
     "output_type": "display_data"
    },
    {
     "data": {
      "image/png": "[encoded data removed]",
      "text/plain": [
       "<Figure size 432x288 with 2 Axes>"
      ]
     },
     "metadata": {
      "needs_background": "light"
     },
     "output_type": "display_data"
    },
    {
     "data": {
      "image/png": "[encoded data removed]",
      "text/plain": [
       "<Figure size 432x288 with 2 Axes>"
      ]
     },
     "metadata": {
      "needs_background": "light"
     },
     "output_type": "display_data"
    },
    {
     "data": {
      "image/png": "[encoded data removed]",
      "text/plain": [
       "<Figure size 432x288 with 2 Axes>"
      ]
     },
     "metadata": {
      "needs_background": "light"
     },
     "output_type": "display_data"
    },
    {
     "data": {
      "image/png": "[encoded data removed]",
      "text/plain": [
       "<Figure size 432x288 with 2 Axes>"
      ]
     },
     "metadata": {
      "needs_background": "light"
     },
     "output_type": "display_data"
    },
    {
     "data": {
      "image/png": "[encoded data removed]",
      "text/plain": [
       "<Figure size 432x288 with 2 Axes>"
      ]
     },
     "metadata": {
      "needs_background": "light"
     },
     "output_type": "display_data"
    },
    {
     "data": {
      "image/png": "[encoded data removed]",
      "text/plain": [
       "<Figure size 432x288 with 2 Axes>"
      ]
     },
     "metadata": {
      "needs_background": "light"
     },
     "output_type": "display_data"
    },
    {
     "data": {
      "image/png": "[encoded data removed]",
      "text/plain": [
       "<Figure size 432x288 with 2 Axes>"
      ]
     },
     "metadata": {
      "needs_background": "light"
     },
     "output_type": "display_data"
    },
    {
     "data": {
      "image/png": "[encoded data removed]",
      "text/plain": [
       "<Figure size 432x288 with 2 Axes>"
      ]
     },
     "metadata": {
      "needs_background": "light"
     },
     "output_type": "display_data"
    },
    {
     "data": {
      "image/png": "[encoded data removed]",
      "text/plain": [
       "<Figure size 432x288 with 2 Axes>"
      ]
     },
     "metadata": {
      "needs_background": "light"
     },
     "output_type": "display_data"
    },
    {
     "data": {
      "image/png": "[encoded data removed]",
      "text/plain": [
       "<Figure size 432x288 with 2 Axes>"
      ]
     },
     "metadata": {
      "needs_background": "light"
     },
     "output_type": "display_data"
    }
   ],
   "source": [
    "# classification results\n",
    "idx = -1\n",
    "all_results = []\n",
    "\n",
    "for model_name in models_names_cls.values():\n",
    "    for dataset_name, dataset in zip(datasets_names.values(), datasets):\n",
    "        idx += 1\n",
    "        all_results.append(train_cls_model(dataset, labels, best_cls[idx], show_results=True, name= model_name + ', ' + dataset_name))"
   ]
  },
  {
   "cell_type": "code",
   "execution_count": 52,
   "metadata": {},
   "outputs": [
    {
     "name": "stdout",
     "output_type": "stream",
     "text": [
      "+-------------------------------------------+--------+--------+\n",
      "|                   Model                   |  ACC   |   F1   |\n",
      "+-------------------------------------------+--------+--------+\n",
      "|             LinearSVC Initial             | 0.8568 | 0.2683 |\n",
      "|        LinearSVC Forward Selection        | 0.8568 | 0.2683 |\n",
      "|        LinearSVC Backward Selection       | 0.8568 | 0.2683 |\n",
      "|               LinearSVC PCA               | 0.8562 | 0.3708 |\n",
      "|          RidgeClassifier Initial          | 0.8526 | 0.157  |\n",
      "|     RidgeClassifier Forward Selection     | 0.8526 | 0.157  |\n",
      "|     RidgeClassifier Backward Selection    | 0.8526 | 0.157  |\n",
      "|            RidgeClassifier PCA            | 0.8562 | 0.2539 |\n",
      "|        KNeighborsClassifier Initial       | 0.8407 |  0.0   |\n",
      "|   KNeighborsClassifier Forward Selection  | 0.8407 |  0.0   |\n",
      "|  KNeighborsClassifier Backward Selection  | 0.8407 |  0.0   |\n",
      "|          KNeighborsClassifier PCA         | 0.8407 |  0.0   |\n",
      "|       RandomForestClassifier Initial      | 0.8675 | 0.3547 |\n",
      "|  RandomForestClassifier Forward Selection | 0.8705 | 0.3818 |\n",
      "| RandomForestClassifier Backward Selection | 0.8705 | 0.3746 |\n",
      "|         RandomForestClassifier PCA        | 0.8479 | 0.0727 |\n",
      "+-------------------------------------------+--------+--------+\n"
     ]
    }
   ],
   "source": [
    "x = PrettyTable([\"Model\", \"ACC\", \"F1\"])\n",
    "\n",
    "for i, model in enumerate(best_cls):\n",
    "    \n",
    "    x.add_row([type(model).__name__ + ' ' + datasets_names[i%4], round(all_results[i][0], 4),\n",
    "               round(all_results[i][1], 4)])\n",
    "print(x)"
   ]
  },
  {
   "cell_type": "code",
   "execution_count": 53,
   "metadata": {},
   "outputs": [
    {
     "name": "stdout",
     "output_type": "stream",
     "text": [
      "For model Ridge Regression, Initial dataset we got the following results:\n",
      "MAE: 0.2368232266228858\n",
      "MSE: 0.10609859429676842\n",
      "R2-score: 0.20049895641965154\n",
      "RMSE: 0.32572779171690036\n",
      "For model Ridge Regression, Forward Selection dataset we got the following results:\n",
      "MAE: 0.2368232266228858\n",
      "MSE: 0.10609859429676842\n",
      "R2-score: 0.20049895641965154\n",
      "RMSE: 0.32572779171690036\n",
      "For model Ridge Regression, Backward Selection dataset we got the following results:\n",
      "MAE: 0.23681210199914207\n",
      "MSE: 0.10610154870762939\n",
      "R2-score: 0.20047669359343623\n",
      "RMSE: 0.3257323267771091\n",
      "For model Ridge Regression, PCA dataset we got the following results:\n",
      "MAE: 0.23967691411322226\n",
      "MSE: 0.10512069832493935\n",
      "R2-score: 0.20786784622608478\n",
      "RMSE: 0.32422322298832845\n",
      "For model Linear Regression, Initial dataset we got the following results:\n",
      "MAE: 0.240308184859978\n",
      "MSE: 0.10538315548620057\n",
      "R2-score: 0.20589011244257627\n",
      "RMSE: 0.3246277182962055\n",
      "For model Linear Regression, Forward Selection dataset we got the following results:\n",
      "MAE: 0.24030818485997799\n",
      "MSE: 0.10538315548620063\n",
      "R2-score: 0.20589011244257582\n",
      "RMSE: 0.3246277182962056\n",
      "For model Linear Regression, Backward Selection dataset we got the following results:\n",
      "MAE: 0.24031526979097542\n",
      "MSE: 0.10538208004342604\n",
      "R2-score: 0.20589821639179673\n",
      "RMSE: 0.3246260618672291\n",
      "For model Linear Regression, PCA dataset we got the following results:\n",
      "MAE: 0.2396798024228047\n",
      "MSE: 0.10512201574880986\n",
      "R2-score: 0.20785791883952232\n",
      "RMSE: 0.32422525464375823\n"
     ]
    }
   ],
   "source": [
    "# regression results\n",
    "idx = -1\n",
    "all_results_reg = []\n",
    "\n",
    "for model_name in models_names_reg.values():\n",
    "    for dataset_name, dataset in zip(datasets_names.values(), datasets):\n",
    "        idx += 1\n",
    "        all_results_reg.append(train_reg_model(dataset, labels, best_reg[idx], show_results=True, name= model_name + ', ' + dataset_name))"
   ]
  },
  {
   "cell_type": "code",
   "execution_count": 54,
   "metadata": {},
   "outputs": [
    {
     "name": "stdout",
     "output_type": "stream",
     "text": [
      "+-------------------------------------+--------+--------+----------+---------+\n",
      "|                Model                |  MAE   |  MSE   | R2-score |   RMSE  |\n",
      "+-------------------------------------+--------+--------+----------+---------+\n",
      "|            Ridge Initial            | 0.2368 | 0.1061 |  0.2005  | 0.32573 |\n",
      "|       Ridge Forward Selection       | 0.2368 | 0.1061 |  0.2005  | 0.32573 |\n",
      "|       Ridge Backward Selection      | 0.2368 | 0.1061 |  0.2005  | 0.32573 |\n",
      "|              Ridge PCA              | 0.2397 | 0.1051 |  0.2079  | 0.32422 |\n",
      "|       LinearRegression Initial      | 0.2403 | 0.1054 |  0.2059  | 0.32463 |\n",
      "|  LinearRegression Forward Selection | 0.2403 | 0.1054 |  0.2059  | 0.32463 |\n",
      "| LinearRegression Backward Selection | 0.2403 | 0.1054 |  0.2059  | 0.32463 |\n",
      "|         LinearRegression PCA        | 0.2397 | 0.1051 |  0.2079  | 0.32423 |\n",
      "+-------------------------------------+--------+--------+----------+---------+\n"
     ]
    }
   ],
   "source": [
    "x = PrettyTable([\"Model\", \"MAE\", \"MSE\", \"R2-score\", \"RMSE\"])\n",
    "\n",
    "for i, model in enumerate(best_reg):\n",
    "    \n",
    "    x.add_row([type(model).__name__ + ' ' + datasets_names[i%4], \n",
    "               round(all_results_reg[i][0], 4),\n",
    "               round(all_results_reg[i][1], 4), round(all_results_reg[i][2], 4), round(all_results_reg[i][3], 5)])\n",
    "print(x)"
   ]
  },
  {
   "cell_type": "code",
   "execution_count": null,
   "metadata": {},
   "outputs": [],
   "source": []
  },
  {
   "cell_type": "code",
   "execution_count": null,
   "metadata": {},
   "outputs": [],
   "source": []
  },
  {
   "cell_type": "code",
   "execution_count": null,
   "metadata": {},
   "outputs": [],
   "source": []
  }
 ],
 "metadata": {
  "kernelspec": {
   "display_name": "Python 3",
   "language": "python",
   "name": "python3"
  },
  "language_info": {
   "codemirror_mode": {
    "name": "ipython",
    "version": 3
   },
   "file_extension": ".py",
   "mimetype": "text/x-python",
   "name": "python",
   "nbconvert_exporter": "python",
   "pygments_lexer": "ipython3",
   "version": "3.7.3"
  }
 },
 "nbformat": 4,
 "nbformat_minor": 2
}
